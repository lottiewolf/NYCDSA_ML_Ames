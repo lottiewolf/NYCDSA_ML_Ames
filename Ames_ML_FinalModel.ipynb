{
 "cells": [
  {
   "cell_type": "markdown",
   "id": "41aa43e4-8797-46a9-b2aa-d8454981bc21",
   "metadata": {},
   "source": [
    "# Ames Modeling"
   ]
  },
  {
   "cell_type": "markdown",
   "id": "11fe8f2d-f336-4e7b-8338-81e5638f1929",
   "metadata": {},
   "source": [
    "Load the dataset, begin modeling."
   ]
  },
  {
   "cell_type": "code",
   "execution_count": 1,
   "id": "b7bda3f3-afa2-4ba5-807a-81a69cd0f94a",
   "metadata": {},
   "outputs": [],
   "source": [
    "import pandas as pd\n",
    "import numpy as np\n",
    "import matplotlib.pyplot as plt\n",
    "import seaborn as sns\n",
    "from sklearn.model_selection import train_test_split\n",
    "from sklearn.model_selection import KFold\n",
    "from sklearn.model_selection import cross_val_score\n",
    "from sklearn.metrics import mean_absolute_error, mean_squared_error, r2_score\n",
    "from sklearn.model_selection import GridSearchCV\n",
    "from sklearn.ensemble import RandomForestRegressor, GradientBoostingRegressor\n",
    "from sklearn.preprocessing import StandardScaler, OneHotEncoder\n",
    "from sklearn.impute import SimpleImputer\n",
    "from sklearn.compose import ColumnTransformer\n",
    "from sklearn.pipeline import Pipeline\n",
    "import xgboost as xgb\n",
    "from itertools import combinations"
   ]
  },
  {
   "cell_type": "code",
   "execution_count": 2,
   "id": "d7abe5ee",
   "metadata": {
    "scrolled": true
   },
   "outputs": [],
   "source": [
    "housing_na = pd.read_csv('data/housing_final_na.csv')\n",
    "housing_nick = pd.read_csv('data/NH_DF.csv')\n",
    "\n",
    "#housing.count()\n",
    "#housing.info()\n",
    "#housing.describe()"
   ]
  },
  {
   "cell_type": "markdown",
   "id": "7922c85c-0085-4488-90dc-3acfded733a3",
   "metadata": {},
   "source": [
    "# Feature Selection"
   ]
  },
  {
   "cell_type": "code",
   "execution_count": 3,
   "id": "a76adb06-83c5-4fb3-9567-07402ddbdf15",
   "metadata": {},
   "outputs": [
    {
     "name": "stdout",
     "output_type": "stream",
     "text": [
      "Number of numerical feat:  26\n",
      "Number of ord feat:  23\n",
      "Number of nom feat:  34\n"
     ]
    }
   ],
   "source": [
    "numerical_features=['GrLivArea','LotFrontage','LotArea','YearBuilt','YearRemodAdd','MasVnrArea',\n",
    " 'BsmtFinSF1','BsmtFinSF2','BsmtUnfSF','TotalBsmtSF','1stFlrSF','2ndFlrSF','LowQualFinSF',\n",
    " 'GarageYrBlt','GarageArea','WoodDeckSF','OpenPorchSF','EnclosedPorch','3SsnPorch','YrSold', \n",
    " 'ScreenPorch','PoolArea','MiscVal','DistanceToISU','YearsSinceRemod','TotalSF'] #'DateSold'\n",
    "cat_ord_features=['LandSlope','OverallQual','OverallCond','ExterQual','ExterCond','BsmtQual',\n",
    " 'BsmtCond','HeatingQC','BsmtFullBath','BsmtHalfBath','FullBath','HalfBath','BedroomAbvGr',\n",
    " 'KitchenAbvGr','KitchenQual','TotRmsAbvGrd','Fireplaces','FireplaceQu','GarageCars',\n",
    " 'GarageQual','GarageCond','PoolQC','DistanceCategory']\n",
    "cat_nom_features=['MSSubClass','MSZoning','Street','Alley','LotShape','LandContour','Utilities',\n",
    " 'LotConfig','Neighborhood','Condition1','Condition2','BldgType','HouseStyle','RoofStyle',\n",
    " 'RoofMatl','Exterior1st','Exterior2nd','MasVnrType','Foundation','BsmtExposure','BsmtFinType1',\n",
    " 'BsmtFinType2','Heating','CentralAir','Electrical','Functional','GarageType','GarageFinish',\n",
    " 'PavedDrive','Fence','MiscFeature','MoSold','SaleType','SaleCondition']\n",
    "all_features = numerical_features + cat_ord_features + cat_nom_features\n",
    "best_features = ['GrLivArea', 'MSSubClass', 'LotFrontage', 'LotArea', 'OverallQual', 'OverallCond', \n",
    "            'YearBuilt', 'YearRemodAdd', 'MasVnrArea', 'BsmtFinSF1', 'BsmtFinSF2', 'BsmtUnfSF', 'TotalBsmtSF', \n",
    "            'LowQualFinSF', 'BedroomAbvGr'] #top 15 from one of the combinatorics run\n",
    "print(\"Number of numerical feat: \",len(numerical_features))\n",
    "print(\"Number of ord feat: \",len(cat_ord_features))\n",
    "print(\"Number of nom feat: \",len(cat_nom_features))"
   ]
  },
  {
   "cell_type": "markdown",
   "id": "ab670454-25f5-464d-85e8-b31f700de192",
   "metadata": {},
   "source": [
    "# Running the models"
   ]
  },
  {
   "cell_type": "markdown",
   "id": "eed72c40-5239-4ca5-aa83-8d1b56b9b899",
   "metadata": {},
   "source": [
    "# LazyPredict Results"
   ]
  },
  {
   "cell_type": "code",
   "execution_count": 4,
   "id": "7755fde0-83c4-4430-9e2e-3a58e5456203",
   "metadata": {},
   "outputs": [
    {
     "name": "stderr",
     "output_type": "stream",
     "text": [
      "  5%|██                                          | 2/42 [00:00<00:04,  8.14it/s]"
     ]
    },
    {
     "name": "stdout",
     "output_type": "stream",
     "text": [
      "{'Model': 'AdaBoostRegressor', 'R-Squared': 0.8204411721003655, 'Adjusted R-Squared': 0.8150544072633764, 'RMSE': 33097.006537307854, 'Time taken': 0.13225078582763672}\n",
      "{'Model': 'BaggingRegressor', 'R-Squared': 0.868068678882781, 'Adjusted R-Squared': 0.8641107392492645, 'RMSE': 28369.99704127657, 'Time taken': 0.11559820175170898}\n",
      "{'Model': 'BayesianRidge', 'R-Squared': 0.8652794282304375, 'Adjusted R-Squared': 0.8612378110773506, 'RMSE': 28668.32330225615, 'Time taken': 0.020534753799438477}\n",
      "{'Model': 'DecisionTreeRegressor', 'R-Squared': 0.7352380317019209, 'Adjusted R-Squared': 0.7272951726529786, 'RMSE': 40189.549251872566, 'Time taken': 0.023481369018554688}\n",
      "{'Model': 'DummyRegressor', 'R-Squared': -0.004594622264182835, 'Adjusted R-Squared': -0.034732460932108244, 'RMSE': 78285.39718401998, 'Time taken': 0.004890918731689453}\n",
      "{'Model': 'ElasticNet', 'R-Squared': 0.8200887445795295, 'Adjusted R-Squared': 0.8146914069169153, 'RMSE': 33129.47104548229, 'Time taken': 0.00627899169921875}\n"
     ]
    },
    {
     "name": "stderr",
     "output_type": "stream",
     "text": [
      " 17%|███████▎                                    | 7/42 [00:00<00:01, 23.54it/s]"
     ]
    },
    {
     "name": "stdout",
     "output_type": "stream",
     "text": [
      "{'Model': 'ElasticNetCV', 'R-Squared': 0.08012820987117275, 'Adjusted R-Squared': 0.05253205616730794, 'RMSE': 74911.58482385911, 'Time taken': 0.06089615821838379}\n",
      "{'Model': 'ExtraTreeRegressor', 'R-Squared': 0.7786419905115494, 'Adjusted R-Squared': 0.7720012502268958, 'RMSE': 36747.936331735116, 'Time taken': 0.012374639511108398}\n",
      "{'Model': 'ExtraTreesRegressor', 'R-Squared': 0.8955917445126147, 'Adjusted R-Squared': 0.8924594968479931, 'RMSE': 25237.873227966324, 'Time taken': 0.4803428649902344}\n"
     ]
    },
    {
     "name": "stderr",
     "output_type": "stream",
     "text": [
      " 24%|██████████▏                                | 10/42 [00:01<00:04,  7.22it/s]"
     ]
    },
    {
     "name": "stdout",
     "output_type": "stream",
     "text": [
      "{'Model': 'GammaRegressor', 'R-Squared': 0.8075500116728933, 'Adjusted R-Squared': 0.8017765120230801, 'RMSE': 34264.49057645015, 'Time taken': 0.33784031867980957}\n",
      "{'Model': 'GaussianProcessRegressor', 'R-Squared': -0.37399060064214473, 'Adjusted R-Squared': -0.4152103186614091, 'RMSE': 91553.97729701397, 'Time taken': 0.27338385581970215}\n"
     ]
    },
    {
     "name": "stderr",
     "output_type": "stream",
     "text": [
      " 33%|██████████████▎                            | 14/42 [00:02<00:04,  6.22it/s]"
     ]
    },
    {
     "name": "stdout",
     "output_type": "stream",
     "text": [
      "{'Model': 'GradientBoostingRegressor', 'R-Squared': 0.9030253005580384, 'Adjusted R-Squared': 0.9001160595747796, 'RMSE': 24322.8552897652, 'Time taken': 0.3517744541168213}\n",
      "{'Model': 'HistGradientBoostingRegressor', 'R-Squared': 0.895799911607881, 'Adjusted R-Squared': 0.8926739089561174, 'RMSE': 25212.701290997593, 'Time taken': 0.15629792213439941}\n",
      "{'Model': 'HuberRegressor', 'R-Squared': 0.8552113479259001, 'Adjusted R-Squared': 0.8508676883636772, 'RMSE': 29720.259515699614, 'Time taken': 0.03168368339538574}\n"
     ]
    },
    {
     "name": "stderr",
     "output_type": "stream",
     "text": [
      " 38%|████████████████▍                          | 16/42 [00:02<00:03,  7.28it/s]"
     ]
    },
    {
     "name": "stdout",
     "output_type": "stream",
     "text": [
      "{'Model': 'KNeighborsRegressor', 'R-Squared': 0.8554225881433632, 'Adjusted R-Squared': 0.8510852657876642, 'RMSE': 29698.571332483658, 'Time taken': 0.028003931045532227}\n",
      "{'Model': 'KernelRidge', 'R-Squared': -4.265642915141499, 'Adjusted R-Squared': -4.423612202595744, 'RMSE': 179230.1371293558, 'Time taken': 0.13073158264160156}\n",
      "{'Model': 'Lars', 'R-Squared': 0.865461603305608, 'Adjusted R-Squared': 0.8614254514047762, 'RMSE': 28648.933462032586, 'Time taken': 0.01328277587890625}\n",
      "{'Model': 'LarsCV', 'R-Squared': 0.865461603305608, 'Adjusted R-Squared': 0.8614254514047762, 'RMSE': 28648.933462032586, 'Time taken': 0.01945781707763672}\n",
      "{'Model': 'Lasso', 'R-Squared': 0.8654588240483535, 'Adjusted R-Squared': 0.8614225887698042, 'RMSE': 28649.2293714046, 'Time taken': 0.0071871280670166016}\n"
     ]
    },
    {
     "name": "stderr",
     "output_type": "stream",
     "text": [
      " 48%|████████████████████▍                      | 20/42 [00:02<00:01, 11.57it/s]"
     ]
    },
    {
     "name": "stdout",
     "output_type": "stream",
     "text": [
      "{'Model': 'LassoCV', 'R-Squared': 0.8652105831304475, 'Adjusted R-Squared': 0.861166900624361, 'RMSE': 28675.647430544042, 'Time taken': 0.0595400333404541}\n",
      "{'Model': 'LassoLars', 'R-Squared': 0.8654574069028226, 'Adjusted R-Squared': 0.8614211291099072, 'RMSE': 28649.38025465713, 'Time taken': 0.008432388305664062}\n",
      "{'Model': 'LassoLarsCV', 'R-Squared': 0.865461603305608, 'Adjusted R-Squared': 0.8614254514047762, 'RMSE': 28648.933462032586, 'Time taken': 0.021676301956176758}\n",
      "{'Model': 'LassoLarsIC', 'R-Squared': 0.865461603305608, 'Adjusted R-Squared': 0.8614254514047762, 'RMSE': 28648.933462032586, 'Time taken': 0.01331949234008789}\n",
      "{'Model': 'LinearRegression', 'R-Squared': 0.8648539663146706, 'Adjusted R-Squared': 0.8607995853041107, 'RMSE': 28713.55642698685, 'Time taken': 0.009623050689697266}\n",
      "{'Model': 'LinearSVR', 'R-Squared': -5.324290614214017, 'Adjusted R-Squared': -5.514019332640437, 'RMSE': 196422.5044133675, 'Time taken': 0.008313179016113281}\n"
     ]
    },
    {
     "name": "stderr",
     "output_type": "stream",
     "text": [
      " 67%|████████████████████████████▋              | 28/42 [00:03<00:01,  9.75it/s]"
     ]
    },
    {
     "name": "stdout",
     "output_type": "stream",
     "text": [
      "{'Model': 'MLPRegressor', 'R-Squared': -5.2326584223732695, 'Adjusted R-Squared': -5.419638175044468, 'RMSE': 194994.33661340296, 'Time taken': 0.7608675956726074}\n",
      "{'Model': 'NuSVR', 'R-Squared': -0.0306303578030378, 'Adjusted R-Squared': -0.061549268537129054, 'RMSE': 79293.35616967897, 'Time taken': 0.1224973201751709}\n",
      "{'Model': 'OrthogonalMatchingPursuit', 'R-Squared': 0.6201582397185916, 'Adjusted R-Squared': 0.6087629869101494, 'RMSE': 48137.85005332148, 'Time taken': 0.0061266422271728516}\n",
      "{'Model': 'OrthogonalMatchingPursuitCV', 'R-Squared': 0.8297349237551761, 'Adjusted R-Squared': 0.8246269714678314, 'RMSE': 32229.095952513613, 'Time taken': 0.014094829559326172}\n",
      "{'Model': 'PassiveAggressiveRegressor', 'R-Squared': 0.8511391886154488, 'Adjusted R-Squared': 0.8466733642739123, 'RMSE': 30135.300449601295, 'Time taken': 0.0410158634185791}\n"
     ]
    },
    {
     "name": "stderr",
     "output_type": "stream",
     "text": [
      " 74%|███████████████████████████████▋           | 31/42 [00:04<00:01,  6.47it/s]"
     ]
    },
    {
     "name": "stdout",
     "output_type": "stream",
     "text": [
      "{'Model': 'PoissonRegressor', 'R-Squared': 0.9091646135012315, 'Adjusted R-Squared': 0.9064395519062685, 'RMSE': 23540.347471941794, 'Time taken': 0.7918415069580078}\n",
      "QuantileRegressor model failed to execute\n",
      "Solver interior-point is not anymore available in SciPy >= 1.11.0.\n",
      "{'Model': 'RANSACRegressor', 'R-Squared': 0.8457644971252284, 'Adjusted R-Squared': 0.8411374320389853, 'RMSE': 30674.501366759432, 'Time taken': 0.06555438041687012}\n"
     ]
    },
    {
     "name": "stderr",
     "output_type": "stream",
     "text": [
      " 90%|██████████████████████████████████████▉    | 38/42 [00:05<00:00,  6.49it/s]"
     ]
    },
    {
     "name": "stdout",
     "output_type": "stream",
     "text": [
      "{'Model': 'RandomForestRegressor', 'R-Squared': 0.8965712156801915, 'Adjusted R-Squared': 0.8934683521505973, 'RMSE': 25119.21394356461, 'Time taken': 0.9863998889923096}\n",
      "{'Model': 'Ridge', 'R-Squared': 0.8654261091219766, 'Adjusted R-Squared': 0.8613888923956359, 'RMSE': 28652.7123217142, 'Time taken': 0.007214546203613281}\n",
      "{'Model': 'RidgeCV', 'R-Squared': 0.8651014802989498, 'Adjusted R-Squared': 0.8610545247079183, 'RMSE': 28687.250572550878, 'Time taken': 0.008709907531738281}\n",
      "{'Model': 'SGDRegressor', 'R-Squared': 0.8549913248691959, 'Adjusted R-Squared': 0.8506410646152718, 'RMSE': 29742.832624474206, 'Time taken': 0.009090662002563477}\n",
      "{'Model': 'SVR', 'R-Squared': -0.0865111145014501, 'Adjusted R-Squared': -0.11910644793649361, 'RMSE': 81414.62399750759, 'Time taken': 0.17154669761657715}\n",
      "{'Model': 'TransformedTargetRegressor', 'R-Squared': 0.8648539663146706, 'Adjusted R-Squared': 0.8607995853041107, 'RMSE': 28713.55642698685, 'Time taken': 0.012918949127197266}\n"
     ]
    },
    {
     "name": "stderr",
     "output_type": "stream",
     "text": [
      "100%|███████████████████████████████████████████| 42/42 [00:06<00:00,  6.81it/s]"
     ]
    },
    {
     "name": "stdout",
     "output_type": "stream",
     "text": [
      "{'Model': 'TweedieRegressor', 'R-Squared': 0.7756747727673801, 'Adjusted R-Squared': 0.7689450159504014, 'RMSE': 36993.41231652724, 'Time taken': 0.6509044170379639}\n",
      "{'Model': 'XGBRegressor', 'R-Squared': 0.8956136499372515, 'Adjusted R-Squared': 0.892482059435369, 'RMSE': 25235.225566974397, 'Time taken': 0.10083436965942383}\n",
      "[LightGBM] [Info] Auto-choosing col-wise multi-threading, the overhead of testing was 0.000112 seconds.\n",
      "You can set `force_col_wise=true` to remove the overhead.\n",
      "[LightGBM] [Info] Total Bins 1934\n",
      "[LightGBM] [Info] Number of data points in the train set: 2063, number of used features: 15\n",
      "[LightGBM] [Info] Start training from score 176994.167717\n",
      "{'Model': 'LGBMRegressor', 'R-Squared': 0.9018723827187081, 'Adjusted R-Squared': 0.8989285542002693, 'RMSE': 24467.013498966535, 'Time taken': 0.07429671287536621}\n",
      "                               Adjusted R-Squared  R-Squared      RMSE  \\\n",
      "Model                                                                    \n",
      "PoissonRegressor                             0.91       0.91  23540.35   \n",
      "GradientBoostingRegressor                    0.90       0.90  24322.86   \n",
      "LGBMRegressor                                0.90       0.90  24467.01   \n",
      "RandomForestRegressor                        0.89       0.90  25119.21   \n",
      "HistGradientBoostingRegressor                0.89       0.90  25212.70   \n",
      "XGBRegressor                                 0.89       0.90  25235.23   \n",
      "ExtraTreesRegressor                          0.89       0.90  25237.87   \n",
      "BaggingRegressor                             0.86       0.87  28370.00   \n",
      "Lars                                         0.86       0.87  28648.93   \n",
      "LassoLarsIC                                  0.86       0.87  28648.93   \n",
      "LassoLarsCV                                  0.86       0.87  28648.93   \n",
      "LarsCV                                       0.86       0.87  28648.93   \n",
      "Lasso                                        0.86       0.87  28649.23   \n",
      "LassoLars                                    0.86       0.87  28649.38   \n",
      "Ridge                                        0.86       0.87  28652.71   \n",
      "BayesianRidge                                0.86       0.87  28668.32   \n",
      "LassoCV                                      0.86       0.87  28675.65   \n",
      "RidgeCV                                      0.86       0.87  28687.25   \n",
      "TransformedTargetRegressor                   0.86       0.86  28713.56   \n",
      "LinearRegression                             0.86       0.86  28713.56   \n",
      "KNeighborsRegressor                          0.85       0.86  29698.57   \n",
      "HuberRegressor                               0.85       0.86  29720.26   \n",
      "SGDRegressor                                 0.85       0.85  29742.83   \n",
      "PassiveAggressiveRegressor                   0.85       0.85  30135.30   \n",
      "RANSACRegressor                              0.84       0.85  30674.50   \n",
      "OrthogonalMatchingPursuitCV                  0.82       0.83  32229.10   \n",
      "AdaBoostRegressor                            0.82       0.82  33097.01   \n",
      "ElasticNet                                   0.81       0.82  33129.47   \n",
      "GammaRegressor                               0.80       0.81  34264.49   \n",
      "ExtraTreeRegressor                           0.77       0.78  36747.94   \n",
      "TweedieRegressor                             0.77       0.78  36993.41   \n",
      "DecisionTreeRegressor                        0.73       0.74  40189.55   \n",
      "OrthogonalMatchingPursuit                    0.61       0.62  48137.85   \n",
      "ElasticNetCV                                 0.05       0.08  74911.58   \n",
      "DummyRegressor                              -0.03      -0.00  78285.40   \n",
      "NuSVR                                       -0.06      -0.03  79293.36   \n",
      "SVR                                         -0.12      -0.09  81414.62   \n",
      "GaussianProcessRegressor                    -0.42      -0.37  91553.98   \n",
      "KernelRidge                                 -4.42      -4.27 179230.14   \n",
      "MLPRegressor                                -5.42      -5.23 194994.34   \n",
      "LinearSVR                                   -5.51      -5.32 196422.50   \n",
      "\n",
      "                               Time Taken  \n",
      "Model                                      \n",
      "PoissonRegressor                     0.79  \n",
      "GradientBoostingRegressor            0.35  \n",
      "LGBMRegressor                        0.07  \n",
      "RandomForestRegressor                0.99  \n",
      "HistGradientBoostingRegressor        0.16  \n",
      "XGBRegressor                         0.10  \n",
      "ExtraTreesRegressor                  0.48  \n",
      "BaggingRegressor                     0.12  \n",
      "Lars                                 0.01  \n",
      "LassoLarsIC                          0.01  \n",
      "LassoLarsCV                          0.02  \n",
      "LarsCV                               0.02  \n",
      "Lasso                                0.01  \n",
      "LassoLars                            0.01  \n",
      "Ridge                                0.01  \n",
      "BayesianRidge                        0.02  \n",
      "LassoCV                              0.06  \n",
      "RidgeCV                              0.01  \n",
      "TransformedTargetRegressor           0.01  \n",
      "LinearRegression                     0.01  \n",
      "KNeighborsRegressor                  0.03  \n",
      "HuberRegressor                       0.03  \n",
      "SGDRegressor                         0.01  \n",
      "PassiveAggressiveRegressor           0.04  \n",
      "RANSACRegressor                      0.07  \n",
      "OrthogonalMatchingPursuitCV          0.01  \n",
      "AdaBoostRegressor                    0.13  \n",
      "ElasticNet                           0.01  \n",
      "GammaRegressor                       0.34  \n",
      "ExtraTreeRegressor                   0.01  \n",
      "TweedieRegressor                     0.65  \n",
      "DecisionTreeRegressor                0.02  \n",
      "OrthogonalMatchingPursuit            0.01  \n",
      "ElasticNetCV                         0.06  \n",
      "DummyRegressor                       0.00  \n",
      "NuSVR                                0.12  \n",
      "SVR                                  0.17  \n",
      "GaussianProcessRegressor             0.27  \n",
      "KernelRidge                          0.13  \n",
      "MLPRegressor                         0.76  \n",
      "LinearSVR                            0.01  \n"
     ]
    },
    {
     "name": "stderr",
     "output_type": "stream",
     "text": [
      "\n"
     ]
    }
   ],
   "source": [
    "from lazypredict.Supervised import LazyRegressor\n",
    "\n",
    "features = ['GrLivArea', 'MSSubClass', 'LotFrontage', 'LotArea', 'OverallQual', 'OverallCond', \n",
    "            'YearBuilt', 'YearRemodAdd', 'MasVnrArea', 'BsmtFinSF1', 'BsmtFinSF2', 'BsmtUnfSF', 'TotalBsmtSF', \n",
    "            'LowQualFinSF', 'BedroomAbvGr']\n",
    "X = housing_na[features]  # Features\n",
    "y = housing_na['SalePrice']  # Target variable\n",
    "\n",
    "X_train, X_test, y_train, y_test = train_test_split(X, y, test_size=0.2, random_state=42)  # 80% train, 20% test\n",
    "\n",
    "reg = LazyRegressor(verbose=1, ignore_warnings=False, custom_metric=None)\n",
    "models, predictions = reg.fit(X_train, X_test, y_train, y_test)\n",
    "\n",
    "print(models)\n"
   ]
  },
  {
   "cell_type": "markdown",
   "id": "024b4b5e-25e6-4123-9374-29b543784b26",
   "metadata": {},
   "source": [
    "# RandomForestRegressor"
   ]
  },
  {
   "cell_type": "code",
   "execution_count": 5,
   "id": "fe1fecfd",
   "metadata": {},
   "outputs": [
    {
     "name": "stdout",
     "output_type": "stream",
     "text": [
      "R^2 Score: 0.8864118923486186\n",
      "RMSE: 26323.993022727576\n"
     ]
    }
   ],
   "source": [
    "X = housing_na[all_features] # Features\n",
    "y = housing_na['SalePrice']  # Target variable\n",
    "\n",
    "# Split the data\n",
    "X_train, X_test, y_train, y_test = train_test_split(X, y, test_size=0.2, random_state=42)\n",
    "\n",
    "# Create transformers\n",
    "numeric_transformer = Pipeline(steps=[\n",
    "    ('imputer', SimpleImputer(strategy='median')),\n",
    "    ('scaler', StandardScaler())])\n",
    "\n",
    "categorical_transformer = Pipeline(steps=[\n",
    "    ('imputer', SimpleImputer(strategy='constant', fill_value='missing')),\n",
    "    ('onehot', OneHotEncoder(handle_unknown='ignore'))])\n",
    "\n",
    "preprocessor = ColumnTransformer(\n",
    "    transformers=[\n",
    "        ('num', numeric_transformer, numerical_features),\n",
    "        ('cat', categorical_transformer, cat_nom_features)])\n",
    "\n",
    "# Append classifier to preprocessing pipeline.\n",
    "pipeline = Pipeline(steps=[('preprocessor', preprocessor),\n",
    "                           ('classifier', RandomForestRegressor(n_estimators=100, random_state=42))])\n",
    "\n",
    "# Preprocessing of training data and train model\n",
    "pipeline.fit(X_train, y_train)\n",
    "\n",
    "# Predict on test data\n",
    "y_pred = pipeline.predict(X_test)\n",
    "\n",
    "# Evaluate the model\n",
    "print(f'R^2 Score: {r2_score(y_test, y_pred)}')\n",
    "print(f'RMSE: {mean_squared_error(y_test, y_pred, squared=False)}')\n"
   ]
  },
  {
   "cell_type": "code",
   "execution_count": 6,
   "id": "9856c52d",
   "metadata": {},
   "outputs": [
    {
     "name": "stdout",
     "output_type": "stream",
     "text": [
      "R^2 Score for fold 1: 0.8310\n",
      "R^2 Score for fold 2: 0.8828\n",
      "R^2 Score for fold 3: 0.8502\n",
      "R^2 Score for fold 4: 0.8748\n",
      "R^2 Score for fold 5: 0.8523\n",
      "\n",
      "Average R^2 Score across the 5 folds: 0.8582\n"
     ]
    }
   ],
   "source": [
    "# Compute the R^2 scores\n",
    "scores = cross_val_score(pipeline, X_train, y_train, cv=5, scoring='r2')\n",
    "\n",
    "# Print R^2 score for each fold\n",
    "for i, score in enumerate(scores, 1):\n",
    "    print(f\"R^2 Score for fold {i}: {score:.4f}\")\n",
    "\n",
    "# Print average R^2 score\n",
    "print(f\"\\nAverage R^2 Score across the 5 folds: {scores.mean():.4f}\")\n"
   ]
  },
  {
   "cell_type": "code",
   "execution_count": 7,
   "id": "3f6671bf",
   "metadata": {},
   "outputs": [
    {
     "name": "stdout",
     "output_type": "stream",
     "text": [
      "MiscFeature_TenC: 0.0\n",
      "Condition2_Artery: 9.294415070962265e-10\n",
      "Exterior1st_ImStucc: 1.4835509560285517e-09\n",
      "MSZoning_I (all): 3.2395205538657427e-09\n",
      "Exterior1st_AsphShn: 5.18171641155553e-09\n",
      "Exterior1st_PreCast: 5.643280497335994e-09\n",
      "SaleCondition_Alloca: 6.236190525722215e-09\n",
      "Functional_Sal: 1.0199554955841963e-08\n",
      "Exterior2nd_AsphShn: 2.9393445595916623e-08\n",
      "RoofMatl_Metal: 3.045007574219109e-08\n",
      "SaleCondition_AdjLand: 5.543733708929058e-08\n",
      "Condition2_RRNn: 1.0975563115355044e-07\n",
      "Heating_Grav: 1.1694682592677292e-07\n",
      "Exterior1st_CBlock: 1.5615421486430574e-07\n",
      "Condition1_RRNe: 1.8724564616523886e-07\n",
      "RoofMatl_Roll: 3.004631763435668e-07\n",
      "Condition2_PosA: 3.092099765642183e-07\n",
      "SaleType_VWD: 3.68826385004499e-07\n",
      "Exterior2nd_CBlock: 4.650351234472378e-07\n",
      "Fence_MnWw: 4.943861205651911e-07\n",
      "Utilities_NoSewr: 5.517849988151421e-07\n",
      "Street_Pave: 7.266116463779013e-07\n",
      "GarageType_CarPort: 1.051558170201836e-06\n",
      "Exterior2nd_Stone: 1.0634074423782391e-06\n",
      "Condition2_RRAn: 1.0883438499571902e-06\n",
      "Street_Grvl: 1.1030792932157158e-06\n",
      "HouseStyle_1.5Unf: 1.1088869033801242e-06\n",
      "Heating_Wall: 1.396065902872385e-06\n",
      "Electrical_FuseP: 1.4564597791155135e-06\n",
      "RoofStyle_Shed: 1.6779300979735687e-06\n",
      "RoofMatl_WdShake: 1.7897004607361737e-06\n",
      "MiscFeature_Othr: 1.827734512479811e-06\n",
      "Utilities_AllPub: 2.0251101191206648e-06\n",
      "Foundation_Wood: 2.1203514603660556e-06\n",
      "Neighborhood_MeadowV: 2.1838255418545258e-06\n",
      "Exterior2nd_Brk Cmn: 3.0547529947708363e-06\n",
      "MiscFeature_Gar2: 3.359250865172783e-06\n",
      "SaleType_ConLI: 3.470021937366025e-06\n",
      "Exterior1st_BrkComm: 5.391785969127775e-06\n",
      "Neighborhood_Blmngtn: 5.642864081583074e-06\n",
      "Neighborhood_NPkVill: 5.694816679577222e-06\n",
      "Neighborhood_BrDale: 6.024381243308651e-06\n",
      "Condition2_Feedr: 6.42335753702217e-06\n",
      "BldgType_2fmCon: 7.741730540584768e-06\n",
      "Condition1_RRNn: 7.810625303936107e-06\n",
      "PoolArea: 7.99750596672349e-06\n",
      "Exterior2nd_ImStucc: 8.097679931555412e-06\n",
      "GarageType_Basment: 8.344708576819913e-06\n",
      "Neighborhood_Greens: 8.436729098350652e-06\n",
      "SaleType_ConLw: 9.101023766560419e-06\n",
      "GarageType_2Types: 9.258865950327043e-06\n",
      "MasVnrType_BrkCmn: 1.0792199529730176e-05\n",
      "HouseStyle_2.5Fin: 1.1282941891286328e-05\n",
      "LotShape_IR3: 1.1834081224992443e-05\n",
      "BsmtFinType2_GLQ: 1.208460464019434e-05\n",
      "Exterior1st_AsbShng: 1.2462346716178251e-05\n",
      "Condition1_RRAe: 1.2903901986485189e-05\n",
      "Exterior2nd_PreCast: 1.2952943702223295e-05\n",
      "Foundation_Stone: 1.3591287843678894e-05\n",
      "MiscFeature_Shed: 1.3988113469195312e-05\n",
      "Condition1_PosA: 1.4406107764442724e-05\n",
      "MSZoning_RH: 1.4424654561735757e-05\n",
      "Foundation_Slab: 1.4646576540075294e-05\n",
      "LotConfig_FR3: 1.5261830905009434e-05\n",
      "SaleType_CWD: 1.773698139167591e-05\n",
      "Neighborhood_Blueste: 1.7897006821737763e-05\n",
      "Heating_GasW: 1.814520880547531e-05\n",
      "SaleType_ConLD: 1.8570054725940698e-05\n",
      "Functional_Maj2: 1.9386094047600715e-05\n",
      "SaleType_Con: 1.9535976028052198e-05\n",
      "BldgType_Twnhs: 2.0292785511064653e-05\n",
      "Exterior2nd_AsbShng: 2.0741678025234336e-05\n",
      "Exterior1st_Stucco: 2.2519290561483266e-05\n",
      "RoofStyle_Gambrel: 2.4538498198093285e-05\n",
      "Neighborhood_Mitchel: 2.4710820887960633e-05\n",
      "BsmtFinType2_BLQ: 2.4786502856069975e-05\n",
      "Electrical_FuseF: 2.510038552520834e-05\n",
      "BldgType_TwnhsE: 2.530702896952783e-05\n",
      "Exterior1st_WdShing: 2.5447217146109215e-05\n",
      "MiscVal: 2.579800513342246e-05\n",
      "3SsnPorch: 2.6285687696730816e-05\n",
      "HouseStyle_SFoyer: 2.639868054800189e-05\n",
      "PoolQC: 2.6844732777879028e-05\n",
      "Functional_Min1: 3.155572140192355e-05\n",
      "Heating_OthW: 3.326839252263674e-05\n",
      "Functional_Min2: 3.602382544217593e-05\n",
      "Condition1_RRAn: 3.7144287902807316e-05\n",
      "Neighborhood_BrkSide: 3.722022851201832e-05\n",
      "Neighborhood_SWISU: 3.876896862402021e-05\n",
      "LowQualFinSF: 3.963685044659578e-05\n",
      "SaleType_New: 4.1493799821490746e-05\n",
      "RoofStyle_Flat: 4.1595307555541125e-05\n",
      "Exterior2nd_Wd Shng: 4.178523708985147e-05\n",
      "RoofMatl_Tar&Grv: 4.1899899644151743e-05\n",
      "SaleType_COD: 4.289618694415384e-05\n",
      "Neighborhood_Timber: 4.3079639338999296e-05\n",
      "BsmtFinType2_LwQ: 4.311027544258053e-05\n",
      "RoofMatl_CompShg: 4.597386987544362e-05\n",
      "BsmtFinType2_Rec: 4.610367241370284e-05\n",
      "HouseStyle_SLvl: 4.684633814818781e-05\n",
      "Fence_GdWo: 4.7610418363369196e-05\n",
      "Exterior2nd_Stucco: 4.7869653784282874e-05\n",
      "LotShape_IR2: 4.855120676321724e-05\n",
      "Functional_Mod: 5.384248174901574e-05\n",
      "LotConfig_FR2: 5.44802883515e-05\n",
      "Neighborhood_Gilbert: 5.638648950714482e-05\n",
      "MSZoning_FV: 5.869292211132948e-05\n",
      "BsmtFinType2_ALQ: 5.886576100277042e-05\n",
      "Condition2_PosN: 5.966748395203794e-05\n",
      "HouseStyle_2.5Unf: 6.14555491510678e-05\n",
      "Alley_Grvl: 6.146399282346112e-05\n",
      "Neighborhood_StoneBr: 6.215386320763964e-05\n",
      "Alley_Pave: 6.248122226500164e-05\n",
      "BldgType_Duplex: 6.336963604999369e-05\n",
      "Electrical_FuseA: 6.765214398278805e-05\n",
      "Neighborhood_NridgHt: 6.85926391054187e-05\n",
      "MSZoning_C (all): 6.876122404170766e-05\n",
      "GarageType_BuiltIn: 7.303032733251736e-05\n",
      "Exterior1st_CemntBd: 7.32733219760205e-05\n",
      "Exterior1st_Plywood: 7.583734142559296e-05\n",
      "Neighborhood_IDOTRR: 7.714284975880384e-05\n",
      "Condition1_Feedr: 7.772482233880304e-05\n",
      "SaleType_Oth: 8.100674170393078e-05\n",
      "Neighborhood_ClearCr: 8.243359598424255e-05\n",
      "Neighborhood_Veenker: 8.522629729110654e-05\n",
      "Exterior2nd_Plywood: 8.614460040894947e-05\n",
      "PavedDrive_P: 9.66567708536997e-05\n",
      "Functional_Maj1: 9.943146372922771e-05\n",
      "Condition1_PosN: 9.963537738127451e-05\n",
      "Condition2_Norm: 0.00010127888102787383\n",
      "BsmtFinType1_LwQ: 0.00010281010887083578\n",
      "Exterior2nd_CmentBd: 0.00010335086675751937\n",
      "Electrical_SBrkr: 0.00010475533693362978\n",
      "Neighborhood_CollgCr: 0.00010702153033987085\n",
      "LandContour_Low: 0.00010791055972425363\n",
      "BsmtFinType1_BLQ: 0.00010799234560719808\n",
      "BsmtFinType1_Rec: 0.00010920714445052146\n",
      "Neighborhood_Sawyer: 0.00011022437825337186\n",
      "SaleCondition_Partial: 0.00011036636715155558\n",
      "MasVnrType_None: 0.00011256428174124035\n",
      "Neighborhood_NAmes: 0.00011400714111969993\n",
      "Neighborhood_SawyerW: 0.00011590713239608508\n",
      "RoofMatl_WdShngl: 0.00011672410292749937\n",
      "Exterior1st_HdBoard: 0.00011729284266916596\n",
      "Exterior1st_MetalSd: 0.00012005933788800395\n",
      "Fence_MnPrv: 0.00012548708718396906\n",
      "Neighborhood_Somerst: 0.00012616243321156992\n",
      "Neighborhood_GrnHill: 0.00012988761390450766\n",
      "PavedDrive_N: 0.0001336566865781772\n",
      "RoofStyle_Hip: 0.00014908295577375588\n",
      "Exterior2nd_VinylSd: 0.00015349490282405714\n",
      "Exterior2nd_HdBoard: 0.00015358470612298063\n",
      "Heating_GasA: 0.00015442732616440937\n",
      "Condition1_Artery: 0.0001576255435329086\n",
      "LotConfig_CulDSac: 0.00016745706637249968\n",
      "BsmtFinType1_Unf: 0.0001722564336286252\n",
      "Neighborhood_NWAmes: 0.00017270023986296366\n",
      "HouseStyle_1.5Fin: 0.0001754803876896069\n",
      "MasVnrType_BrkFace: 0.0001767194110493606\n",
      "RoofStyle_Gable: 0.00018924137305661868\n",
      "HouseStyle_2Story: 0.00019452922364854096\n",
      "Fence_GdPrv: 0.0001964933112028793\n",
      "Foundation_BrkTil: 0.00019863544224100509\n",
      "HouseStyle_1Story: 0.00020170177288733273\n",
      "Neighborhood_OldTown: 0.00020237663374756028\n",
      "Exterior2nd_BrkFace: 0.00020744309516996357\n",
      "BldgType_1Fam: 0.0002077051753840691\n",
      "LandContour_HLS: 0.0002109337582352859\n",
      "RoofStyle_Mansard: 0.00021200693257910876\n",
      "BsmtExposure_Mn: 0.0002164925137734025\n",
      "SaleCondition_Abnorml: 0.00021881484381865122\n",
      "Exterior2nd_MetalSd: 0.0002210686306275516\n",
      "LandContour_Lvl: 0.00022337495068270647\n",
      "BsmtFinType2_Unf: 0.00023777374269624136\n",
      "LotConfig_Corner: 0.0002378175983430968\n",
      "GarageFinish_Unf: 0.00023986712291318522\n",
      "MasVnrType_Stone: 0.0002441842751174048\n",
      "Exterior1st_BrkFace: 0.0002506762713011608\n",
      "Exterior2nd_Wd Sdng: 0.00025283375536981097\n",
      "Exterior1st_Wd Sdng: 0.00025527516271641495\n",
      "GarageCond: 0.0002596710209809339\n",
      "BsmtExposure_Av: 0.0002688746435280886\n",
      "Exterior1st_VinylSd: 0.00027315406518506926\n",
      "GarageFinish_RFn: 0.00028004686256787644\n",
      "PavedDrive_Y: 0.0002860222062327728\n",
      "GarageFinish_Fin: 0.00028948153235136705\n",
      "Foundation_PConc: 0.0002920019872195732\n",
      "SaleType_WD : 0.00029254897376175694\n",
      "BsmtFinType1_ALQ: 0.00030501460492721286\n",
      "Foundation_CBlock: 0.0003105158471756313\n",
      "LotShape_IR1: 0.0003185399962328518\n",
      "LandContour_Bnk: 0.00034883827617317626\n",
      "BsmtCond: 0.0003520648396441552\n",
      "Condition1_Norm: 0.0003612889351023314\n",
      "LotShape_Reg: 0.00036325480297239124\n",
      "BsmtFinSF2: 0.0003902634648344785\n",
      "BsmtExposure_No: 0.00039878635087437983\n",
      "DistanceCategory: 0.0004007162577384139\n",
      "LotConfig_Inside: 0.00040364347107267736\n",
      "SaleCondition_Family: 0.0004154681687655573\n",
      "Neighborhood_NoRidge: 0.000418020942729979\n",
      "ExterCond: 0.00044946963782830496\n",
      "GarageQual: 0.0004556183584638979\n",
      "Functional_Typ: 0.00047990618221069813\n",
      "LandSlope: 0.0004979029498373604\n",
      "GarageType_Detchd: 0.000510227193895115\n",
      "BsmtHalfBath: 0.0005550745932689854\n",
      "Neighborhood_Edwards: 0.0005725517410047691\n",
      "CentralAir_N: 0.0005879101313192642\n",
      "EnclosedPorch: 0.0006002144993503974\n",
      "MSZoning_RL: 0.0006439374338018601\n",
      "Neighborhood_Crawfor: 0.0006459893572982178\n",
      "CentralAir_Y: 0.0006590307058723557\n",
      "BedroomAbvGr: 0.0006817025954500863\n",
      "HalfBath: 0.0007429861898926204\n",
      "BsmtFinType1_GLQ: 0.0008576660680010101\n",
      "BsmtExposure_Gd: 0.0008840698139264028\n",
      "GarageType_Attchd: 0.0009023393660311893\n",
      "SaleCondition_Normal: 0.0009315719311443518\n",
      "HeatingQC: 0.0009409286808277978\n",
      "FireplaceQu: 0.0009516285361286598\n",
      "KitchenAbvGr: 0.001048096902500054\n",
      "TotRmsAbvGrd: 0.001059446618944373\n",
      "YearsSinceRemod: 0.0011836879244287574\n",
      "YrSold: 0.0011905829679912168\n",
      "MSZoning_RM: 0.001442571171063783\n",
      "MSSubClass: 0.001465261974109229\n",
      "FullBath: 0.002149104018457493\n",
      "ExterQual: 0.0022859839758421234\n",
      "BsmtFullBath: 0.0023702684561435084\n",
      "WoodDeckSF: 0.002672649670895216\n",
      "GarageCars: 0.003068967704307522\n",
      "GarageYrBlt: 0.0031315965251333486\n",
      "MoSold: 0.003224990349241642\n",
      "OpenPorchSF: 0.0034545576067422003\n",
      "LotFrontage: 0.0035703502634800216\n",
      "MasVnrArea: 0.004163881939504458\n",
      "ScreenPorch: 0.004505980429289018\n",
      "TotalBsmtSF: 0.004785358759207678\n",
      "OverallCond: 0.005023695119221378\n",
      "1stFlrSF: 0.0053596364640136705\n",
      "DistanceToISU: 0.005671070907317959\n",
      "BsmtFinSF1: 0.006018171090197949\n",
      "Fireplaces: 0.007047044526004491\n",
      "2ndFlrSF: 0.007698707056142368\n",
      "BsmtUnfSF: 0.007902021056724077\n",
      "BsmtQual: 0.008581379242015465\n",
      "KitchenQual: 0.00881059663524798\n",
      "GarageArea: 0.009842001712151646\n",
      "YearRemodAdd: 0.00999596572088327\n",
      "LotArea: 0.010656688233580616\n",
      "GrLivArea: 0.012794630980384681\n",
      "YearBuilt: 0.025599521718370755\n",
      "OverallQual: 0.3911789414080009\n",
      "TotalSF: 0.39851071253777726\n"
     ]
    }
   ],
   "source": [
    "# Convert categorical columns to one-hot encoding\n",
    "X_train = pd.get_dummies(X_train)\n",
    "\n",
    "# Handle missing data by filling with the mean value of each column\n",
    "X_train.fillna(X_train.mean(), inplace=True)\n",
    "\n",
    "# Now, try training the model again\n",
    "model = RandomForestRegressor()\n",
    "model.fit(X_train, y_train)\n",
    "\n",
    "# Get feature importances\n",
    "importances = model.feature_importances_\n",
    "\n",
    "# To sort features by importance\n",
    "sorted_idx = importances.argsort()\n",
    "for idx in sorted_idx:\n",
    "    print(f\"{X_train.columns[idx]}: {importances[idx]}\")\n"
   ]
  },
  {
   "cell_type": "code",
   "execution_count": 8,
   "id": "b2a7593c",
   "metadata": {},
   "outputs": [
    {
     "data": {
      "image/png": "[encoded data removed]",
      "text/plain": [
       "<Figure size 1200x800 with 1 Axes>"
      ]
     },
     "metadata": {},
     "output_type": "display_data"
    }
   ],
   "source": [
    "# Map importances to the column names\n",
    "feature_importances = pd.Series(importances, index=X_train.columns)\n",
    "top_10 = feature_importances.sort_values(ascending=False).head(10)\n",
    "\n",
    "# Plot\n",
    "plt.figure(figsize=(12, 8))\n",
    "top_10.plot(kind='barh', color='skyblue')\n",
    "plt.title('Top 10 Most Important Features from RandomForestRegressor')\n",
    "plt.xlabel('Importance')\n",
    "plt.ylabel('Feature Name')\n",
    "plt.gca().invert_yaxis()  # to have the most important feature at the top\n",
    "plt.show()\n"
   ]
  },
  {
   "cell_type": "markdown",
   "id": "52053fde-74af-48f8-abee-4c6e1770644a",
   "metadata": {},
   "source": [
    "# XGBoost Regressor"
   ]
  },
  {
   "cell_type": "code",
   "execution_count": 9,
   "id": "f64a446d",
   "metadata": {
    "scrolled": true
   },
   "outputs": [
    {
     "name": "stdout",
     "output_type": "stream",
     "text": [
      "Fold 1: RMSE = 22733.5276, R2 = 0.9153\n",
      "Fold 2: RMSE = 30030.8191, R2 = 0.8556\n",
      "Fold 3: RMSE = 26045.9317, R2 = 0.8940\n",
      "Fold 4: RMSE = 21878.0690, R2 = 0.9077\n",
      "Fold 5: RMSE = 19761.0580, R2 = 0.9053\n",
      "Mean RMSE: 24089.8811\n",
      "Mean R2: 0.8956\n"
     ]
    }
   ],
   "source": [
    "# Define your feature matrix and target variable, with dummy variables for categorical columns\n",
    "X = pd.get_dummies(housing_na[all_features], columns=cat_nom_features, drop_first=True)\n",
    "y = housing_na['SalePrice']\n",
    "\n",
    "# Initialize the KFold cross-validator\n",
    "kf = KFold(n_splits=5, shuffle=True, random_state=42)\n",
    "\n",
    "# Lists to store RMSE and R2 scores for each fold\n",
    "rmse_scores = []\n",
    "r2_scores = []\n",
    "\n",
    "# Perform k-fold cross-validation\n",
    "fold = 1\n",
    "for train_index, test_index in kf.split(X):\n",
    "    X_train, X_test = X.iloc[train_index], X.iloc[test_index]\n",
    "    y_train, y_test = y.iloc[train_index], y.iloc[test_index]\n",
    "    \n",
    "    # Create an XGBoost regressor model\n",
    "    model = xgb.XGBRegressor(objective=\"reg:squarederror\")\n",
    "    model.fit(X_train, y_train)\n",
    "    y_pred = model.predict(X_test)\n",
    "    \n",
    "    # Calculate RMSE for this fold\n",
    "    rmse = np.sqrt(mean_squared_error(y_test, y_pred))\n",
    "    rmse_scores.append(rmse)\n",
    "    \n",
    "    # Calculate R2 for this fold\n",
    "    r2 = r2_score(y_test, y_pred)\n",
    "    r2_scores.append(r2)\n",
    "    \n",
    "    # Display RMSE and R2 for this fold\n",
    "    print(f\"Fold {fold}: RMSE = {rmse:.4f}, R2 = {r2:.4f}\")\n",
    "    fold += 1\n",
    "\n",
    "# Calculate and print the mean RMSE and R2 across all folds\n",
    "mean_rmse = np.mean(rmse_scores)\n",
    "mean_r2 = np.mean(r2_scores)\n",
    "print(f\"Mean RMSE: {mean_rmse:.4f}\")\n",
    "print(f\"Mean R2: {mean_r2:.4f}\")\n"
   ]
  },
  {
   "cell_type": "code",
   "execution_count": 10,
   "id": "e27527d0-8832-452f-9629-839f859d5de8",
   "metadata": {},
   "outputs": [
    {
     "name": "stdout",
     "output_type": "stream",
     "text": [
      "Fitting 3 folds for each of 2916 candidates, totalling 8748 fits\n",
      "Best hyperparameters: {'alpha': 1, 'colsample_bytree': 0.8, 'gamma': 0.0, 'lambda': 0.5, 'max_depth': 3, 'min_child_weight': 1, 'subsample': 0.8}\n"
     ]
    }
   ],
   "source": [
    "param_grid = {\n",
    "    'max_depth': [3, 5, 7, 9],\n",
    "    'min_child_weight': [1, 3, 5],\n",
    "    'gamma': [0.0, 0.1, 0.2],\n",
    "    'subsample': [0.6, 0.8, 1.0],\n",
    "    'colsample_bytree': [0.6, 0.8, 1.0],\n",
    "    'lambda': [0, 0.5, 1],\n",
    "    'alpha': [0, 0.5, 1]\n",
    "}\n",
    "\n",
    "xgb_model = xgb.XGBRegressor(objective ='reg:squarederror')\n",
    "grid_search = GridSearchCV(xgb_model, param_grid, cv=3, scoring='r2', verbose=1, n_jobs=-1)\n",
    "grid_search.fit(X, y)\n",
    "print(f\"Best hyperparameters: {grid_search.best_params_}\")"
   ]
  },
  {
   "cell_type": "code",
   "execution_count": 11,
   "id": "6eeaeb3b",
   "metadata": {},
   "outputs": [
    {
     "name": "stdout",
     "output_type": "stream",
     "text": [
      "MSE for each fold: [426452987.5767549, 838501370.6313115, 350728204.3105679, 370588147.5562529, 626044963.9505055]\n",
      "R^2 for each fold: [0.9302332737122428, 0.8176371247184612, 0.9417214175416545, 0.9238547250735907, 0.9042583741434815]\n",
      "Average MSE: 522463134.8050785\n",
      "Average R^2: 0.903540983037886\n"
     ]
    }
   ],
   "source": [
    "best_params = {\n",
    "    'alpha': 1, \n",
    "    'colsample_bytree': 0.8, \n",
    "    'gamma': 0.0, \n",
    "    'lambda': 0.5, \n",
    "    'max_depth': 3, \n",
    "    'min_child_weight': 1, \n",
    "    'subsample': 0.8,\n",
    "    'objective': 'reg:squarederror'  # This is the default for regression tasks in XGBoost\n",
    "}\n",
    "\n",
    "#grid_search.best_params_\n",
    "model = xgb.XGBRegressor(**grid_search.best_params_)\n",
    "\n",
    "kf = KFold(n_splits=5, shuffle=True, random_state=0)\n",
    "mse_scores = []\n",
    "r2_scores = []\n",
    "for train_index, test_index in kf.split(X):\n",
    "    X_train, X_test = X.iloc[train_index], X.iloc[test_index]\n",
    "    y_train, y_test = y.iloc[train_index], y.iloc[test_index]\n",
    "    \n",
    "    model.fit(X_train, y_train)\n",
    "    y_pred = model.predict(X_test)\n",
    "    \n",
    "    mse_scores.append(mean_squared_error(y_test, y_pred))\n",
    "    r2_scores.append(r2_score(y_test, y_pred))\n",
    "    \n",
    "\n",
    "print(\"MSE for each fold:\", mse_scores)\n",
    "print(\"R^2 for each fold:\", r2_scores)\n",
    "print(\"Average MSE:\", sum(mse_scores) / len(mse_scores))\n",
    "print(\"Average R^2:\", sum(r2_scores) / len(r2_scores))\n",
    "\n"
   ]
  },
  {
   "cell_type": "code",
   "execution_count": 12,
   "id": "c35096da",
   "metadata": {},
   "outputs": [
    {
     "name": "stdout",
     "output_type": "stream",
     "text": [
      "                  Feature  Importance\n",
      "27            OverallQual        0.38\n",
      "25                TotalSF        0.14\n",
      "44             GarageCars        0.05\n",
      "202          CentralAir_Y        0.04\n",
      "69            MSZoning_RM        0.03\n",
      "40            KitchenQual        0.02\n",
      "29              ExterQual        0.02\n",
      "165   Exterior2nd_CmentBd        0.02\n",
      "31               BsmtQual        0.02\n",
      "214    GarageType_BuiltIn        0.02\n",
      "39           KitchenAbvGr        0.01\n",
      "42             Fireplaces        0.01\n",
      "88   Neighborhood_Crawfor        0.01\n",
      "3               YearBuilt        0.01\n",
      "219          PavedDrive_P        0.01\n",
      "68            MSZoning_RL        0.01\n",
      "46             GarageCond        0.01\n",
      "12           LowQualFinSF        0.01\n",
      "34           BsmtFullBath        0.01\n",
      "246          SaleType_WD         0.01\n",
      "43            FireplaceQu        0.01\n",
      "243          SaleType_New        0.01\n",
      "4            YearRemodAdd        0.01\n",
      "28            OverallCond        0.00\n",
      "149   Exterior1st_BrkFace        0.00\n"
     ]
    }
   ],
   "source": [
    "# Create an XGBoost regressor model (if you haven't already)\n",
    "model = xgb.XGBRegressor(objective=\"reg:squarederror\")\n",
    "model.fit(X, y)\n",
    "feature_importances = model.feature_importances_\n",
    "\n",
    "# Create a DataFrame to display feature names and their importances\n",
    "feature_importance_df = pd.DataFrame({'Feature': X.columns, 'Importance': feature_importances})\n",
    "\n",
    "# Sort the features by importance in descending order\n",
    "feature_importance_df = feature_importance_df.sort_values(by='Importance', ascending=False)\n",
    "print(feature_importance_df.head(25))\n"
   ]
  },
  {
   "cell_type": "markdown",
   "id": "00791d53-9945-4861-b4ce-cf874da4efcc",
   "metadata": {},
   "source": [
    "# Gradient Boosting Regressor"
   ]
  },
  {
   "cell_type": "markdown",
   "id": "42680b5c-dcb7-4a8f-bc64-f60a7dbd5ab1",
   "metadata": {},
   "source": [
    "## First run with no tuning"
   ]
  },
  {
   "cell_type": "code",
   "execution_count": 13,
   "id": "b8e43354-dc2c-464f-8c9e-97ab7bfed7f0",
   "metadata": {},
   "outputs": [
    {
     "ename": "KeyError",
     "evalue": "\"['YearBuilt', 'YearsSinceRemod', 'LandSlope', 'ExterQual', 'ExterCond', 'BsmtQual', 'BsmtCond', 'HeatingQC', 'BsmtFullBath', 'BsmtHalfBath', 'FullBath', 'HalfBath', 'KitchenQual', 'TotRmsAbvGrd', 'FireplaceQu', 'GarageQual', 'GarageCond', 'PoolQC', 'DistanceCategory', 'MSSubClass', 'MSZoning', 'Street', 'Alley', 'LotShape', 'LandContour', 'Utilities', 'LotConfig', 'Neighborhood', 'Condition1', 'Condition2', 'BldgType', 'HouseStyle', 'RoofStyle', 'RoofMatl', 'Exterior1st', 'Exterior2nd', 'MasVnrType', 'Foundation', 'BsmtExposure', 'BsmtFinType1', 'BsmtFinType2', 'Heating', 'CentralAir', 'Electrical', 'Functional', 'GarageType', 'GarageFinish', 'PavedDrive', 'Fence', 'MiscFeature', 'SaleType', 'SaleCondition'] not in index\"",
     "output_type": "error",
     "traceback": [
      "\u001b[0;31m---------------------------------------------------------------------------\u001b[0m",
      "\u001b[0;31mKeyError\u001b[0m                                  Traceback (most recent call last)",
      "Cell \u001b[0;32mIn[13], line 1\u001b[0m\n\u001b[0;32m----> 1\u001b[0m X \u001b[38;5;241m=\u001b[39m \u001b[43mhousing_nick\u001b[49m\u001b[43m[\u001b[49m\u001b[43mall_features\u001b[49m\u001b[43m]\u001b[49m\n\u001b[1;32m      2\u001b[0m y \u001b[38;5;241m=\u001b[39m housing_nick[\u001b[38;5;124m'\u001b[39m\u001b[38;5;124mSalePrice\u001b[39m\u001b[38;5;124m'\u001b[39m]\n\u001b[1;32m      4\u001b[0m \u001b[38;5;66;03m# Split the data\u001b[39;00m\n",
      "File \u001b[0;32m/usr/lib64/python3.12/site-packages/pandas/core/frame.py:3813\u001b[0m, in \u001b[0;36mDataFrame.__getitem__\u001b[0;34m(self, key)\u001b[0m\n\u001b[1;32m   3811\u001b[0m     \u001b[38;5;28;01mif\u001b[39;00m is_iterator(key):\n\u001b[1;32m   3812\u001b[0m         key \u001b[38;5;241m=\u001b[39m \u001b[38;5;28mlist\u001b[39m(key)\n\u001b[0;32m-> 3813\u001b[0m     indexer \u001b[38;5;241m=\u001b[39m \u001b[38;5;28;43mself\u001b[39;49m\u001b[38;5;241;43m.\u001b[39;49m\u001b[43mcolumns\u001b[49m\u001b[38;5;241;43m.\u001b[39;49m\u001b[43m_get_indexer_strict\u001b[49m\u001b[43m(\u001b[49m\u001b[43mkey\u001b[49m\u001b[43m,\u001b[49m\u001b[43m \u001b[49m\u001b[38;5;124;43m\"\u001b[39;49m\u001b[38;5;124;43mcolumns\u001b[39;49m\u001b[38;5;124;43m\"\u001b[39;49m\u001b[43m)\u001b[49m[\u001b[38;5;241m1\u001b[39m]\n\u001b[1;32m   3815\u001b[0m \u001b[38;5;66;03m# take() does not accept boolean indexers\u001b[39;00m\n\u001b[1;32m   3816\u001b[0m \u001b[38;5;28;01mif\u001b[39;00m \u001b[38;5;28mgetattr\u001b[39m(indexer, \u001b[38;5;124m\"\u001b[39m\u001b[38;5;124mdtype\u001b[39m\u001b[38;5;124m\"\u001b[39m, \u001b[38;5;28;01mNone\u001b[39;00m) \u001b[38;5;241m==\u001b[39m \u001b[38;5;28mbool\u001b[39m:\n",
      "File \u001b[0;32m/usr/lib64/python3.12/site-packages/pandas/core/indexes/base.py:6070\u001b[0m, in \u001b[0;36mIndex._get_indexer_strict\u001b[0;34m(self, key, axis_name)\u001b[0m\n\u001b[1;32m   6067\u001b[0m \u001b[38;5;28;01melse\u001b[39;00m:\n\u001b[1;32m   6068\u001b[0m     keyarr, indexer, new_indexer \u001b[38;5;241m=\u001b[39m \u001b[38;5;28mself\u001b[39m\u001b[38;5;241m.\u001b[39m_reindex_non_unique(keyarr)\n\u001b[0;32m-> 6070\u001b[0m \u001b[38;5;28;43mself\u001b[39;49m\u001b[38;5;241;43m.\u001b[39;49m\u001b[43m_raise_if_missing\u001b[49m\u001b[43m(\u001b[49m\u001b[43mkeyarr\u001b[49m\u001b[43m,\u001b[49m\u001b[43m \u001b[49m\u001b[43mindexer\u001b[49m\u001b[43m,\u001b[49m\u001b[43m \u001b[49m\u001b[43maxis_name\u001b[49m\u001b[43m)\u001b[49m\n\u001b[1;32m   6072\u001b[0m keyarr \u001b[38;5;241m=\u001b[39m \u001b[38;5;28mself\u001b[39m\u001b[38;5;241m.\u001b[39mtake(indexer)\n\u001b[1;32m   6073\u001b[0m \u001b[38;5;28;01mif\u001b[39;00m \u001b[38;5;28misinstance\u001b[39m(key, Index):\n\u001b[1;32m   6074\u001b[0m     \u001b[38;5;66;03m# GH 42790 - Preserve name from an Index\u001b[39;00m\n",
      "File \u001b[0;32m/usr/lib64/python3.12/site-packages/pandas/core/indexes/base.py:6133\u001b[0m, in \u001b[0;36mIndex._raise_if_missing\u001b[0;34m(self, key, indexer, axis_name)\u001b[0m\n\u001b[1;32m   6130\u001b[0m     \u001b[38;5;28;01mraise\u001b[39;00m \u001b[38;5;167;01mKeyError\u001b[39;00m(\u001b[38;5;124mf\u001b[39m\u001b[38;5;124m\"\u001b[39m\u001b[38;5;124mNone of [\u001b[39m\u001b[38;5;132;01m{\u001b[39;00mkey\u001b[38;5;132;01m}\u001b[39;00m\u001b[38;5;124m] are in the [\u001b[39m\u001b[38;5;132;01m{\u001b[39;00maxis_name\u001b[38;5;132;01m}\u001b[39;00m\u001b[38;5;124m]\u001b[39m\u001b[38;5;124m\"\u001b[39m)\n\u001b[1;32m   6132\u001b[0m not_found \u001b[38;5;241m=\u001b[39m \u001b[38;5;28mlist\u001b[39m(ensure_index(key)[missing_mask\u001b[38;5;241m.\u001b[39mnonzero()[\u001b[38;5;241m0\u001b[39m]]\u001b[38;5;241m.\u001b[39munique())\n\u001b[0;32m-> 6133\u001b[0m \u001b[38;5;28;01mraise\u001b[39;00m \u001b[38;5;167;01mKeyError\u001b[39;00m(\u001b[38;5;124mf\u001b[39m\u001b[38;5;124m\"\u001b[39m\u001b[38;5;132;01m{\u001b[39;00mnot_found\u001b[38;5;132;01m}\u001b[39;00m\u001b[38;5;124m not in index\u001b[39m\u001b[38;5;124m\"\u001b[39m)\n",
      "\u001b[0;31mKeyError\u001b[0m: \"['YearBuilt', 'YearsSinceRemod', 'LandSlope', 'ExterQual', 'ExterCond', 'BsmtQual', 'BsmtCond', 'HeatingQC', 'BsmtFullBath', 'BsmtHalfBath', 'FullBath', 'HalfBath', 'KitchenQual', 'TotRmsAbvGrd', 'FireplaceQu', 'GarageQual', 'GarageCond', 'PoolQC', 'DistanceCategory', 'MSSubClass', 'MSZoning', 'Street', 'Alley', 'LotShape', 'LandContour', 'Utilities', 'LotConfig', 'Neighborhood', 'Condition1', 'Condition2', 'BldgType', 'HouseStyle', 'RoofStyle', 'RoofMatl', 'Exterior1st', 'Exterior2nd', 'MasVnrType', 'Foundation', 'BsmtExposure', 'BsmtFinType1', 'BsmtFinType2', 'Heating', 'CentralAir', 'Electrical', 'Functional', 'GarageType', 'GarageFinish', 'PavedDrive', 'Fence', 'MiscFeature', 'SaleType', 'SaleCondition'] not in index\""
     ]
    }
   ],
   "source": [
    "X = housing_nick[all_features]\n",
    "y = housing_nick['SalePrice']\n",
    "\n",
    "# Split the data\n",
    "X_train, X_test, y_train, y_test = train_test_split(X, y, test_size=0.2, random_state=42)\n",
    "\n",
    "# Create transformers\n",
    "numeric_transformer = Pipeline(steps=[\n",
    "    ('imputer', SimpleImputer(strategy='median')),\n",
    "    ('scaler', StandardScaler())])\n",
    "\n",
    "categorical_transformer = Pipeline(steps=[\n",
    "    ('imputer', SimpleImputer(strategy='constant', fill_value='missing')),\n",
    "    ('onehot', OneHotEncoder(handle_unknown='ignore'))])\n",
    "\n",
    "preprocessor = ColumnTransformer(\n",
    "    transformers=[\n",
    "        ('num', numeric_transformer, numerical_features),\n",
    "        ('cat', categorical_transformer, cat_nom_features)])\n",
    "\n",
    "# Append classifier to preprocessing pipeline.\n",
    "pipeline = Pipeline(steps=[('preprocessor', preprocessor),\n",
    "                           ('classifier', GradientBoostingRegressor(random_state=42))])\n",
    "\n",
    "# Preprocessing of training data and train model\n",
    "pipeline.fit(X_train, y_train)\n",
    "# Predict on test data\n",
    "y_pred = pipeline.predict(X_test)\n",
    "   \n",
    "# Calculate RMSE for this fold\n",
    "rmse = np.sqrt(mean_squared_error(y_test, y_pred))\n",
    "r2 = r2_score(y_test, y_pred)\n",
    "\n",
    "#print(r2)\n",
    "# Compute the R^2 scores\n",
    "scores = cross_val_score(pipeline, X_train, y_train, cv=5, scoring='r2')\n",
    "# Print average R^2 score\n",
    "print(f\"\\nAverage R^2 Score across the 5 folds: {scores.mean():.4f}\")"
   ]
  },
  {
   "cell_type": "code",
   "execution_count": 207,
   "id": "7042259e-c7b6-435d-aeb6-c518bb2264c4",
   "metadata": {},
   "outputs": [
    {
     "name": "stdout",
     "output_type": "stream",
     "text": [
      "Fitting 3 folds for each of 23328 candidates, totalling 69984 fits\n",
      "Best hyperparameters: {'alpha': 0.5, 'learning_rate': 0.05, 'max_depth': 3, 'min_samples_leaf': 1, 'min_samples_split': 10, 'min_weight_fraction_leaf': 0, 'n_estimators': 600, 'subsample': 0.7}\n"
     ]
    }
   ],
   "source": [
    "param_grid = {\n",
    "    'max_depth': [3, 5, 6, 7],\n",
    "    'min_weight_fraction_leaf': [0, 0.25, 0.5],\n",
    "    'n_estimators': [100, 200, 300, 400, 500, 600],\n",
    "    'min_samples_split': [2, 5, 10],\n",
    "    'min_samples_leaf': [1, 2, 4],\n",
    "    'learning_rate': [0.1, 0.05, 0.01, 0.001],\n",
    "    'subsample': [0.7, 0.8, 0.9],\n",
    "    'alpha': [0, 0.5, 0.9]\n",
    "}\n",
    "#['alpha', 'ccp_alpha', 'criterion', 'init', 'learning_rate', 'loss', 'max_depth', 'max_features', \n",
    "# 'max_leaf_nodes', 'min_impurity_decrease', 'min_samples_leaf', 'min_samples_split', \n",
    "# 'min_weight_fraction_leaf', 'n_estimators', 'n_iter_no_change', 'random_state', 'subsample', \n",
    "# 'tol', 'validation_fraction', 'verbose', 'warm_start']\n",
    "\n",
    "# Define your feature matrix and target variable, with dummy variables for categorical columns\n",
    "X = pd.get_dummies(housing[all_features], columns=cat_nom_features, drop_first=False)\n",
    "y = housing['SalePrice']\n",
    "\n",
    "model = GradientBoostingRegressor(random_state=42)\n",
    "grid_search = GridSearchCV(model, param_grid, cv=3, scoring='r2', verbose=1, n_jobs=-1)\n",
    "grid_search.fit(X, y)\n",
    "print(f\"Best hyperparameters: {grid_search.best_params_}\")\n",
    "\n"
   ]
  },
  {
   "cell_type": "code",
   "execution_count": 254,
   "id": "b4b6b95b-7f6d-4774-a908-754af5404f2b",
   "metadata": {},
   "outputs": [],
   "source": [
    "#X.to_csv('data/CharlotteX.csv', index=False)\n",
    "#y.to_csv('data/y.csv', index=False)"
   ]
  },
  {
   "cell_type": "code",
   "execution_count": 257,
   "id": "1d595a45-6f84-44dd-96f8-041fb4bd3feb",
   "metadata": {},
   "outputs": [
    {
     "name": "stdout",
     "output_type": "stream",
     "text": [
      "0.9482111693987879\n",
      "\n",
      "Average R^2 Score across the 5 folds: 0.9410\n"
     ]
    }
   ],
   "source": [
    "#My best hyperparameters: {'alpha': 0.5, 'max_depth': 5, 'min_weight_fraction_leaf': 0, 'subsample': 0.8}\n",
    "#0.9219231402135216\n",
    "#Best hyperparameters: {'alpha': 0.5, 'learning_rate': 0.05, 'max_depth': 3, 'min_samples_leaf': 1, \n",
    "#'min_samples_split': 10, 'min_weight_fraction_leaf': 0, 'n_estimators': 600, 'subsample': 0.7}\n",
    "#0.9279361418087255\n",
    "new_param = {\n",
    "    'max_depth': 3,\n",
    "    'min_weight_fraction_leaf': 0,\n",
    "    'n_estimators': 4000,\n",
    "    'min_samples_split': 10,\n",
    "    'min_samples_leaf': 1,\n",
    "    'learning_rate': 0.05,\n",
    "    'subsample': 0.7,\n",
    "    'alpha': 0.5\n",
    "}\n",
    "\n",
    "nick_param = {\n",
    "    'max_depth': 3,\n",
    "    'n_estimators': 6000,\n",
    "    'min_samples_split': 5,\n",
    "    'learning_rate': 0.008,\n",
    "    'subsample': 0.3\n",
    "}\n",
    "#Nicks 1st: n_estimators=10100, max_depth=4, learning_rate=0.01,min_samples_leaf=1, subsample=0.5, random_state=42\n",
    "#Nicks best: learning_rate=0.008, max_depth=3, min_samples_split=5, n_estimators=6000, subsample=0.3\n",
    "\n",
    "# Define your feature matrix and target variable, with dummy variables for categorical columns\n",
    "X = housing2.drop('SalePrice', axis=1)\n",
    "y = housing2['SalePrice']\n",
    "\n",
    "#X = pd.get_dummies(housing[all_features], columns=cat_nom_features, drop_first=True)\n",
    "#y = housing['SalePrice']\n",
    "\n",
    "# Split the data\n",
    "X_train, X_test, y_train, y_test = train_test_split(X, y, test_size=0.2, random_state=42)\n",
    "\n",
    "#model = GradientBoostingRegressor(**grid_search.best_params_)\n",
    "model = GradientBoostingRegressor(**nick_param)\n",
    "model.fit(X_train, y_train)\n",
    "y_pred = model.predict(X_test)\n",
    "\n",
    "r2 = r2_score(y_test, y_pred)\n",
    "\n",
    "print(r2)\n",
    "# Compute the R^2 scores\n",
    "scores = cross_val_score(GradientBoostingRegressor(**nick_param, random_state=42), X_train, y_train, cv=5, scoring='r2')\n",
    "# Print average R^2 score\n",
    "print(f\"\\nAverage R^2 Score across the 5 folds: {scores.mean():.4f}\")"
   ]
  },
  {
   "cell_type": "code",
   "execution_count": 258,
   "id": "3aadd12a-26f1-4596-a4dc-42d025783291",
   "metadata": {},
   "outputs": [
    {
     "name": "stdout",
     "output_type": "stream",
     "text": [
      "                  Feature  Importance\n",
      "36                TotalSF        0.35\n",
      "3             OverallQual        0.26\n",
      "35                    Age        0.03\n",
      "0               GrLivArea        0.02\n",
      "7              BsmtFinSF1        0.02\n",
      "2                 LotArea        0.02\n",
      "6              MasVnrArea        0.02\n",
      "45          KitchenQual_n        0.02\n",
      "38             BsmtQual_n        0.02\n",
      "19             GarageArea        0.02\n",
      "5            YearRemodAdd        0.02\n",
      "18             GarageCars        0.01\n",
      "9               BsmtUnfSF        0.01\n",
      "11               1stFlrSF        0.01\n",
      "41          FireplaceQu_n        0.01\n",
      "4             OverallCond        0.01\n",
      "10            TotalBsmtSF        0.01\n",
      "240  SaleCondition_Family        0.01\n",
      "1             LotFrontage        0.01\n",
      "40            ExterQual_n        0.01\n",
      "29               latitude        0.01\n",
      "46         BsmtExposure_n        0.01\n",
      "12               2ndFlrSF        0.01\n",
      "24            ScreenPorch        0.00\n",
      "50         GarageFinish_n        0.00\n"
     ]
    }
   ],
   "source": [
    "feature_importances = model.feature_importances_\n",
    "\n",
    "# Create a DataFrame to display feature names and their importances\n",
    "feature_importance_df = pd.DataFrame({'Feature': X.columns, 'Importance': feature_importances})\n",
    "\n",
    "# Sort the features by importance in descending order\n",
    "feature_importance_df = feature_importance_df.sort_values(by='Importance', ascending=False)\n",
    "print(feature_importance_df.head(25))"
   ]
  },
  {
   "cell_type": "markdown",
   "id": "afd5fc88-8e1d-4ddb-87aa-5740784d4ae9",
   "metadata": {},
   "source": [
    "Checklist\n",
    "\n",
    "    which missing values to fill, which to leave\n",
    "    how to fill missing\n",
    "    how to do the fold - stratified kfold\n",
    "    to leave dummies/convert to numerical"
   ]
  },
  {
   "cell_type": "code",
   "execution_count": null,
   "id": "fee13340-2f6f-449a-8fd2-79c1301b9dcc",
   "metadata": {},
   "outputs": [],
   "source": []
  }
 ],
 "metadata": {
  "kernelspec": {
   "display_name": "Python 3 (ipykernel)",
   "language": "python",
   "name": "python3"
  },
  "language_info": {
   "codemirror_mode": {
    "name": "ipython",
    "version": 3
   },
   "file_extension": ".py",
   "mimetype": "text/x-python",
   "name": "python",
   "nbconvert_exporter": "python",
   "pygments_lexer": "ipython3",
   "version": "3.12.0"
  }
 },
 "nbformat": 4,
 "nbformat_minor": 5
}
