{
 "cells": [
  {
   "cell_type": "markdown",
   "id": "41aa43e4-8797-46a9-b2aa-d8454981bc21",
   "metadata": {},
   "source": [
    "# Ames Modeling"
   ]
  },
  {
   "cell_type": "markdown",
   "id": "11fe8f2d-f336-4e7b-8338-81e5638f1929",
   "metadata": {},
   "source": [
    "Load the dataset, begin modeling."
   ]
  },
  {
   "cell_type": "code",
   "execution_count": 27,
   "id": "b7bda3f3-afa2-4ba5-807a-81a69cd0f94a",
   "metadata": {},
   "outputs": [],
   "source": [
    "import pandas as pd\n",
    "import numpy as np\n",
    "import matplotlib.pyplot as plt\n",
    "import seaborn as sns\n",
    "from sklearn.feature_selection import f_regression\n",
    "from sklearn.linear_model import LinearRegression\n",
    "from sklearn.model_selection import train_test_split\n",
    "from sklearn.metrics import r2_score\n",
    "from itertools import combinations\n",
    "\n",
    "housing = pd.read_csv('data/housing_final.csv')"
   ]
  },
  {
   "cell_type": "code",
   "execution_count": 28,
   "id": "d7abe5ee",
   "metadata": {
    "scrolled": true
   },
   "outputs": [],
   "source": [
    "#housing.count()\n",
    "#housing.info()\n",
    "#housing.describe()"
   ]
  },
  {
   "cell_type": "markdown",
   "id": "0f6b3320-658f-4a60-b00c-4662c437fa0d",
   "metadata": {},
   "source": [
    "# Simple Linear Regression (SLR)"
   ]
  },
  {
   "cell_type": "code",
   "execution_count": 29,
   "id": "65bbe390-088c-4a07-a067-60bd81a035f6",
   "metadata": {},
   "outputs": [
    {
     "name": "stdout",
     "output_type": "stream",
     "text": [
      "R2 for Simple Linear Regression models: score, feature [[1.0, 'SalePrice'], [0.6703369733121959, 'TotalSF'], [0.6220204113917098, 'OverallQual'], [0.5188062352643753, 'GrLivArea'], [0.4648441528315935, 'ExterQual'], [0.4271723555387249, 'KitchenQual'], [0.42252823034957065, 'TotalBsmtSF'], [0.4108968356381133, '1stFlrSF'], [0.4059227064499761, 'GarageCars'], [0.4043527251340946, 'GarageArea']]\n"
     ]
    }
   ],
   "source": [
    "#Set up the model\n",
    "lm = LinearRegression()\n",
    "\n",
    "#remove categorical non numeric features\n",
    "housing_num = housing.select_dtypes(exclude=[object])\n",
    "features = list(housing_num.columns.values)\n",
    "\n",
    "results = []\n",
    "# Loop through each feature and examine the score\n",
    "for i, feature in enumerate(housing[features]):\n",
    "    if housing[feature].dtype=='object':\n",
    "        print(feature,\" is non-numeric, skipping...\")\n",
    "    else:\n",
    "        lm.fit(housing[[features[i]]], housing['SalePrice'])\n",
    "        score=lm.score(housing[[features[i]]], housing['SalePrice'])\n",
    "        results.append([score,feature])\n",
    "\n",
    "results.sort(reverse=True)\n",
    "print(\"R2 for Simple Linear Regression models: score, feature\", results[:10])\n"
   ]
  },
  {
   "cell_type": "markdown",
   "id": "7922c85c-0085-4488-90dc-3acfded733a3",
   "metadata": {},
   "source": [
    "# Feature Selection"
   ]
  },
  {
   "cell_type": "code",
   "execution_count": 30,
   "id": "a76adb06-83c5-4fb3-9567-07402ddbdf15",
   "metadata": {},
   "outputs": [],
   "source": [
    "numerical_features=['GrLivArea','SalePrice','LotFrontage','LotArea','YearBuilt','YearRemodAdd','MasVnrArea',\n",
    " 'BsmtFinSF1','BsmtFinSF2','BsmtUnfSF','TotalBsmtSF','1stFlrSF','2ndFlrSF','LowQualFinSF',\n",
    " 'GarageYrBlt','GarageArea','WoodDeckSF','OpenPorchSF','EnclosedPorch','3SsnPorch',\n",
    " 'ScreenPorch','PoolArea','MiscVal','DistanceToISU','YearsSinceRemod','TotalSF','DateSold']\n",
    "cat_ord_features=['LandSlope','OverallQual','OverallCond','ExterQual','ExterCond','BsmtQual',\n",
    " 'BsmtCond','HeatingQC','BsmtFullBath','BsmtHalfBath','FullBath','HalfBath','BedroomAbvGr',\n",
    " 'KitchenAbvGr','KitchenQual','TotRmsAbvGrd','Fireplaces','FireplaceQu','GarageCars',\n",
    " 'GarageQual','GarageCond','PoolQC','DistanceCategory']\n",
    "cat_nom_features=['MSSubClass','MSZoning','Street','Alley','LotShape','LandContour','Utilities',\n",
    " 'LotConfig','Neighborhood','Condition1','Condition2','BldgType','HouseStyle','RoofStyle',\n",
    " 'RoofMatl','Exterior1st','Exterior2nd','MasVnrType','Foundation','BsmtExposure','BsmtFinType1',\n",
    " 'BsmtFinType2','Heating','CentralAir','Electrical','Functional','GarageType','GarageFinish',\n",
    " 'PavedDrive','Fence','MiscFeature','MoSold','YrSold','SaleType','SaleCondition']"
   ]
  },
  {
   "cell_type": "code",
   "execution_count": 4,
   "id": "e350d80f-21e7-4632-9671-4e69dd36ce9f",
   "metadata": {},
   "outputs": [],
   "source": [
    "#remove categorical non numeric features\n",
    "housing_num = housing.select_dtypes(exclude=[object])\n",
    "features = list(housing_num.columns.values)\n",
    "#features.remove('PID')\n",
    "#features.remove('SalePrice')\n",
    "#features.remove('PricePerSF')\n",
    "\n",
    "features = ['GrLivArea', 'MSSubClass', 'LotFrontage', 'LotArea', 'OverallQual', 'OverallCond', \n",
    "            'YearBuilt', 'YearRemodAdd', 'MasVnrArea', 'BsmtFinSF1', 'BsmtFinSF2', 'BsmtUnfSF', 'TotalBsmtSF', \n",
    "            'LowQualFinSF', 'BedroomAbvGr']\n",
    "X = housing[features]  # Features\n",
    "y = housing['SalePrice']  # Target variable\n"
   ]
  },
  {
   "cell_type": "markdown",
   "id": "eed72c40-5239-4ca5-aa83-8d1b56b9b899",
   "metadata": {},
   "source": [
    "# LazyPredict Results"
   ]
  },
  {
   "cell_type": "code",
   "execution_count": 5,
   "id": "7755fde0-83c4-4430-9e2e-3a58e5456203",
   "metadata": {},
   "outputs": [
    {
     "name": "stderr",
     "output_type": "stream",
     "text": [
      "  5%|██▌                                                   | 2/42 [00:00<00:04,  8.39it/s]"
     ]
    },
    {
     "name": "stdout",
     "output_type": "stream",
     "text": [
      "{'Model': 'AdaBoostRegressor', 'R-Squared': 0.840176719964536, 'Adjusted R-Squared': 0.8353040589878451, 'RMSE': 33300.179974576655, 'Time taken': 0.13353538513183594}\n",
      "{'Model': 'BaggingRegressor', 'R-Squared': 0.8790156249058609, 'Adjusted R-Squared': 0.8753270768846981, 'RMSE': 28972.849056028055, 'Time taken': 0.10862421989440918}\n",
      "{'Model': 'BayesianRidge', 'R-Squared': 0.8711066359185786, 'Adjusted R-Squared': 0.867176960184389, 'RMSE': 29904.86460050161, 'Time taken': 0.011617898941040039}\n",
      "{'Model': 'DecisionTreeRegressor', 'R-Squared': 0.7813859526675484, 'Adjusted R-Squared': 0.774720890248876, 'RMSE': 38946.24516081087, 'Time taken': 0.02348494529724121}\n",
      "{'Model': 'DummyRegressor', 'R-Squared': -0.011261209566445496, 'Adjusted R-Squared': -0.04209234400444695, 'RMSE': 83764.15955074431, 'Time taken': 0.004528045654296875}\n",
      "{'Model': 'ElasticNet', 'R-Squared': 0.8348934375320087, 'Adjusted R-Squared': 0.8298597008713993, 'RMSE': 33846.10744072745, 'Time taken': 0.009299516677856445}\n"
     ]
    },
    {
     "name": "stderr",
     "output_type": "stream",
     "text": [
      " 17%|█████████                                             | 7/42 [00:00<00:01, 24.77it/s]"
     ]
    },
    {
     "name": "stdout",
     "output_type": "stream",
     "text": [
      "{'Model': 'ElasticNetCV', 'R-Squared': 0.07619794775699962, 'Adjusted R-Squared': 0.04803325104227396, 'RMSE': 80060.08048314229, 'Time taken': 0.05809664726257324}\n",
      "{'Model': 'ExtraTreeRegressor', 'R-Squared': 0.7572159496243138, 'Adjusted R-Squared': 0.7498139968689576, 'RMSE': 41042.76748419642, 'Time taken': 0.013013124465942383}\n",
      "{'Model': 'ExtraTreesRegressor', 'R-Squared': 0.8985214374702439, 'Adjusted R-Squared': 0.8954275788565319, 'RMSE': 26534.671434955497, 'Time taken': 0.44308972358703613}\n"
     ]
    },
    {
     "name": "stderr",
     "output_type": "stream",
     "text": [
      " 24%|████████████▌                                        | 10/42 [00:01<00:04,  7.90it/s]"
     ]
    },
    {
     "name": "stdout",
     "output_type": "stream",
     "text": [
      "{'Model': 'GammaRegressor', 'R-Squared': 0.8003182669830922, 'Adjusted R-Squared': 0.7942304092691621, 'RMSE': 37221.659302119006, 'Time taken': 0.29686975479125977}\n",
      "{'Model': 'GaussianProcessRegressor', 'R-Squared': -0.5011516810415224, 'Adjusted R-Squared': -0.5469185005854713, 'RMSE': 102056.07213130726, 'Time taken': 0.2308948040008545}\n"
     ]
    },
    {
     "name": "stderr",
     "output_type": "stream",
     "text": [
      " 29%|███████████████▏                                     | 12/42 [00:01<00:05,  5.84it/s]"
     ]
    },
    {
     "name": "stdout",
     "output_type": "stream",
     "text": [
      "{'Model': 'GradientBoostingRegressor', 'R-Squared': 0.9197116484859442, 'Adjusted R-Squared': 0.9172638328910034, 'RMSE': 23602.218769285384, 'Time taken': 0.3351771831512451}\n",
      "{'Model': 'HistGradientBoostingRegressor', 'R-Squared': 0.9093581786181475, 'Adjusted R-Squared': 0.9065947084540666, 'RMSE': 25077.88305959222, 'Time taken': 0.16068673133850098}\n"
     ]
    },
    {
     "name": "stderr",
     "output_type": "stream",
     "text": [
      " 38%|████████████████████▏                                | 16/42 [00:02<00:03,  8.01it/s]"
     ]
    },
    {
     "name": "stdout",
     "output_type": "stream",
     "text": [
      "{'Model': 'HuberRegressor', 'R-Squared': 0.8533509566896719, 'Adjusted R-Squared': 0.8488799492716741, 'RMSE': 31898.200099285423, 'Time taken': 0.05841493606567383}\n",
      "{'Model': 'KNeighborsRegressor', 'R-Squared': 0.8583431033613556, 'Adjusted R-Squared': 0.8540242955370067, 'RMSE': 31350.568647100095, 'Time taken': 0.025905609130859375}\n",
      "{'Model': 'KernelRidge', 'R-Squared': -3.658917314126568, 'Adjusted R-Squared': -3.8009574761426217, 'RMSE': 179791.4613396096, 'Time taken': 0.08225512504577637}\n",
      "{'Model': 'Lars', 'R-Squared': 0.871157459329425, 'Adjusted R-Squared': 0.8672293330894685, 'RMSE': 29898.96818727887, 'Time taken': 0.010660648345947266}\n",
      "{'Model': 'LarsCV', 'R-Squared': 0.871157459329425, 'Adjusted R-Squared': 0.8672293330894685, 'RMSE': 29898.96818727887, 'Time taken': 0.01869034767150879}\n",
      "{'Model': 'Lasso', 'R-Squared': 0.871156744863527, 'Adjusted R-Squared': 0.8672285968410736, 'RMSE': 29899.051085999392, 'Time taken': 0.006959438323974609}\n",
      "{'Model': 'LassoCV', 'R-Squared': 0.8710921296738181, 'Adjusted R-Squared': 0.8671620116760687, 'RMSE': 29906.54736781683, 'Time taken': 0.05415010452270508}\n"
     ]
    },
    {
     "name": "stderr",
     "output_type": "stream",
     "text": [
      " 50%|██████████████████████████▌                          | 21/42 [00:02<00:01, 13.91it/s]"
     ]
    },
    {
     "name": "stdout",
     "output_type": "stream",
     "text": [
      "{'Model': 'LassoLars', 'R-Squared': 0.8711564403324127, 'Adjusted R-Squared': 0.8672282830254741, 'RMSE': 29899.0864203518, 'Time taken': 0.01212620735168457}\n",
      "{'Model': 'LassoLarsCV', 'R-Squared': 0.871157459329425, 'Adjusted R-Squared': 0.8672293330894685, 'RMSE': 29898.96818727887, 'Time taken': 0.026903152465820312}\n",
      "{'Model': 'LassoLarsIC', 'R-Squared': 0.871157459329425, 'Adjusted R-Squared': 0.8672293330894685, 'RMSE': 29898.96818727887, 'Time taken': 0.009228944778442383}\n",
      "{'Model': 'LinearRegression', 'R-Squared': 0.8712156589200768, 'Adjusted R-Squared': 0.867289307057884, 'RMSE': 29892.21457837303, 'Time taken': 0.007174491882324219}\n",
      "{'Model': 'LinearSVR', 'R-Squared': -4.839595184981423, 'Adjusted R-Squared': -5.01763162354793, 'RMSE': 201288.0218659635, 'Time taken': 0.006882667541503906}\n"
     ]
    },
    {
     "name": "stderr",
     "output_type": "stream",
     "text": [
      " 67%|███████████████████████████████████▎                 | 28/42 [00:03<00:01,  9.77it/s]"
     ]
    },
    {
     "name": "stdout",
     "output_type": "stream",
     "text": [
      "{'Model': 'MLPRegressor', 'R-Squared': -4.739773003924023, 'Adjusted R-Squared': -4.914766083311951, 'RMSE': 199560.19500739736, 'Time taken': 0.7798864841461182}\n",
      "{'Model': 'NuSVR', 'R-Squared': -0.044102233764996335, 'Adjusted R-Squared': -0.07593461894075837, 'RMSE': 85113.42625346911, 'Time taken': 0.11951017379760742}\n",
      "{'Model': 'OrthogonalMatchingPursuit', 'R-Squared': 0.613240905591911, 'Adjusted R-Squared': 0.6014494697867864, 'RMSE': 51802.03587791513, 'Time taken': 0.006064653396606445}\n",
      "{'Model': 'OrthogonalMatchingPursuitCV', 'R-Squared': 0.8270623303291698, 'Adjusted R-Squared': 0.821789840400181, 'RMSE': 34639.47987478352, 'Time taken': 0.014287710189819336}\n",
      "{'Model': 'PassiveAggressiveRegressor', 'R-Squared': 0.8458193684658855, 'Adjusted R-Squared': 0.841118739455699, 'RMSE': 32707.057249444555, 'Time taken': 0.03545355796813965}\n"
     ]
    },
    {
     "name": "stderr",
     "output_type": "stream",
     "text": [
      " 74%|███████████████████████████████████████              | 31/42 [00:03<00:01,  6.51it/s]"
     ]
    },
    {
     "name": "stdout",
     "output_type": "stream",
     "text": [
      "{'Model': 'PoissonRegressor', 'R-Squared': 0.8926901662498085, 'Adjusted R-Squared': 0.8894185249769367, 'RMSE': 27286.40507172331, 'Time taken': 0.778918981552124}\n",
      "QuantileRegressor model failed to execute\n",
      "Solver interior-point is not anymore available in SciPy >= 1.11.0.\n",
      "{'Model': 'RANSACRegressor', 'R-Squared': 0.8158208988010047, 'Adjusted R-Squared': 0.8102056823010353, 'RMSE': 35747.58731692905, 'Time taken': 0.06908440589904785}\n"
     ]
    },
    {
     "name": "stderr",
     "output_type": "stream",
     "text": [
      " 90%|███████████████████████████████████████████████▉     | 38/42 [00:05<00:00,  6.57it/s]"
     ]
    },
    {
     "name": "stdout",
     "output_type": "stream",
     "text": [
      "{'Model': 'RandomForestRegressor', 'R-Squared': 0.8952866153306547, 'Adjusted R-Squared': 0.8920941340907356, 'RMSE': 26954.2753026478, 'Time taken': 0.959331750869751}\n",
      "{'Model': 'Ridge', 'R-Squared': 0.871145577719244, 'Adjusted R-Squared': 0.8672170892350746, 'RMSE': 29900.346768038286, 'Time taken': 0.010561466217041016}\n",
      "{'Model': 'RidgeCV', 'R-Squared': 0.8711455777185366, 'Adjusted R-Squared': 0.8672170892343456, 'RMSE': 29900.346768120355, 'Time taken': 0.011186361312866211}\n",
      "{'Model': 'SGDRegressor', 'R-Squared': 0.8674864013091077, 'Adjusted R-Squared': 0.8634463525685317, 'RMSE': 30321.926115260787, 'Time taken': 0.008447885513305664}\n",
      "{'Model': 'SVR', 'R-Squared': -0.10598838176681902, 'Adjusted R-Squared': -0.1397075397475147, 'RMSE': 87599.5435873258, 'Time taken': 0.16621732711791992}\n",
      "{'Model': 'TransformedTargetRegressor', 'R-Squared': 0.8712156589200768, 'Adjusted R-Squared': 0.867289307057884, 'RMSE': 29892.21457837303, 'Time taken': 0.013428926467895508}\n"
     ]
    },
    {
     "name": "stderr",
     "output_type": "stream",
     "text": [
      "100%|█████████████████████████████████████████████████████| 42/42 [00:05<00:00,  7.08it/s]"
     ]
    },
    {
     "name": "stdout",
     "output_type": "stream",
     "text": [
      "{'Model': 'TweedieRegressor', 'R-Squared': 0.7937842846792788, 'Adjusted R-Squared': 0.7874972201877933, 'RMSE': 37825.74064877541, 'Time taken': 0.6315264701843262}\n",
      "{'Model': 'XGBRegressor', 'R-Squared': 0.8984975306145924, 'Adjusted R-Squared': 0.8954029431333299, 'RMSE': 26537.79683990232, 'Time taken': 0.08541393280029297}\n",
      "[LightGBM] [Info] Auto-choosing col-wise multi-threading, the overhead of testing was 0.000172 seconds.\n",
      "You can set `force_col_wise=true` to remove the overhead.\n",
      "[LightGBM] [Info] Total Bins 1914\n",
      "[LightGBM] [Info] Number of data points in the train set: 2030, number of used features: 15\n",
      "[LightGBM] [Info] Start training from score 176435.230542\n",
      "{'Model': 'LGBMRegressor', 'R-Squared': 0.9080885071060449, 'Adjusted R-Squared': 0.9052863274446439, 'RMSE': 25252.912338499205, 'Time taken': 0.07158327102661133}\n",
      "                               Adjusted R-Squared  R-Squared      RMSE  \\\n",
      "Model                                                                    \n",
      "GradientBoostingRegressor                    0.92       0.92  23602.22   \n",
      "HistGradientBoostingRegressor                0.91       0.91  25077.88   \n",
      "LGBMRegressor                                0.91       0.91  25252.91   \n",
      "ExtraTreesRegressor                          0.90       0.90  26534.67   \n",
      "XGBRegressor                                 0.90       0.90  26537.80   \n",
      "RandomForestRegressor                        0.89       0.90  26954.28   \n",
      "PoissonRegressor                             0.89       0.89  27286.41   \n",
      "BaggingRegressor                             0.88       0.88  28972.85   \n",
      "TransformedTargetRegressor                   0.87       0.87  29892.21   \n",
      "LinearRegression                             0.87       0.87  29892.21   \n",
      "Lars                                         0.87       0.87  29898.97   \n",
      "LassoLarsIC                                  0.87       0.87  29898.97   \n",
      "LassoLarsCV                                  0.87       0.87  29898.97   \n",
      "LarsCV                                       0.87       0.87  29898.97   \n",
      "Lasso                                        0.87       0.87  29899.05   \n",
      "LassoLars                                    0.87       0.87  29899.09   \n",
      "Ridge                                        0.87       0.87  29900.35   \n",
      "RidgeCV                                      0.87       0.87  29900.35   \n",
      "BayesianRidge                                0.87       0.87  29904.86   \n",
      "LassoCV                                      0.87       0.87  29906.55   \n",
      "SGDRegressor                                 0.86       0.87  30321.93   \n",
      "KNeighborsRegressor                          0.85       0.86  31350.57   \n",
      "HuberRegressor                               0.85       0.85  31898.20   \n",
      "PassiveAggressiveRegressor                   0.84       0.85  32707.06   \n",
      "AdaBoostRegressor                            0.84       0.84  33300.18   \n",
      "ElasticNet                                   0.83       0.83  33846.11   \n",
      "OrthogonalMatchingPursuitCV                  0.82       0.83  34639.48   \n",
      "RANSACRegressor                              0.81       0.82  35747.59   \n",
      "GammaRegressor                               0.79       0.80  37221.66   \n",
      "TweedieRegressor                             0.79       0.79  37825.74   \n",
      "DecisionTreeRegressor                        0.77       0.78  38946.25   \n",
      "ExtraTreeRegressor                           0.75       0.76  41042.77   \n",
      "OrthogonalMatchingPursuit                    0.60       0.61  51802.04   \n",
      "ElasticNetCV                                 0.05       0.08  80060.08   \n",
      "DummyRegressor                              -0.04      -0.01  83764.16   \n",
      "NuSVR                                       -0.08      -0.04  85113.43   \n",
      "SVR                                         -0.14      -0.11  87599.54   \n",
      "GaussianProcessRegressor                    -0.55      -0.50 102056.07   \n",
      "KernelRidge                                 -3.80      -3.66 179791.46   \n",
      "MLPRegressor                                -4.91      -4.74 199560.20   \n",
      "LinearSVR                                   -5.02      -4.84 201288.02   \n",
      "\n",
      "                               Time Taken  \n",
      "Model                                      \n",
      "GradientBoostingRegressor            0.34  \n",
      "HistGradientBoostingRegressor        0.16  \n",
      "LGBMRegressor                        0.07  \n",
      "ExtraTreesRegressor                  0.44  \n",
      "XGBRegressor                         0.09  \n",
      "RandomForestRegressor                0.96  \n",
      "PoissonRegressor                     0.78  \n",
      "BaggingRegressor                     0.11  \n",
      "TransformedTargetRegressor           0.01  \n",
      "LinearRegression                     0.01  \n",
      "Lars                                 0.01  \n",
      "LassoLarsIC                          0.01  \n",
      "LassoLarsCV                          0.03  \n",
      "LarsCV                               0.02  \n",
      "Lasso                                0.01  \n",
      "LassoLars                            0.01  \n",
      "Ridge                                0.01  \n",
      "RidgeCV                              0.01  \n",
      "BayesianRidge                        0.01  \n",
      "LassoCV                              0.05  \n",
      "SGDRegressor                         0.01  \n",
      "KNeighborsRegressor                  0.03  \n",
      "HuberRegressor                       0.06  \n",
      "PassiveAggressiveRegressor           0.04  \n",
      "AdaBoostRegressor                    0.13  \n",
      "ElasticNet                           0.01  \n",
      "OrthogonalMatchingPursuitCV          0.01  \n",
      "RANSACRegressor                      0.07  \n",
      "GammaRegressor                       0.30  \n",
      "TweedieRegressor                     0.63  \n",
      "DecisionTreeRegressor                0.02  \n",
      "ExtraTreeRegressor                   0.01  \n",
      "OrthogonalMatchingPursuit            0.01  \n",
      "ElasticNetCV                         0.06  \n",
      "DummyRegressor                       0.00  \n",
      "NuSVR                                0.12  \n",
      "SVR                                  0.17  \n",
      "GaussianProcessRegressor             0.23  \n",
      "KernelRidge                          0.08  \n",
      "MLPRegressor                         0.78  \n",
      "LinearSVR                            0.01  \n"
     ]
    },
    {
     "name": "stderr",
     "output_type": "stream",
     "text": [
      "\n"
     ]
    }
   ],
   "source": [
    "from lazypredict.Supervised import LazyRegressor\n",
    "\n",
    "X_train, X_test, y_train, y_test = train_test_split(X, y, test_size=0.2, random_state=42)  # 80% train, 20% test\n",
    "\n",
    "reg = LazyRegressor(verbose=1, ignore_warnings=False, custom_metric=None)\n",
    "models, predictions = reg.fit(X_train, X_test, y_train, y_test)\n",
    "\n",
    "print(models)\n"
   ]
  },
  {
   "cell_type": "markdown",
   "id": "208b7cb3-7d6a-4ef9-895d-248e6bef470c",
   "metadata": {},
   "source": [
    "# Multiple Linear Regression (MLR)"
   ]
  },
  {
   "cell_type": "code",
   "execution_count": 6,
   "id": "e7ed548c-0eaa-4611-a74f-c7344c1d5e08",
   "metadata": {},
   "outputs": [
    {
     "name": "stdout",
     "output_type": "stream",
     "text": [
      "['GrLivArea', 'MSSubClass', 'LotFrontage', 'LotArea', 'OverallQual', 'OverallCond', 'YearBuilt', 'YearRemodAdd', 'MasVnrArea', 'BsmtFinSF1', 'BsmtFinSF2', 'BsmtUnfSF', 'TotalBsmtSF', 'LowQualFinSF', 'BedroomAbvGr']\n",
      "R2 for Multiple Linear Regression model:  0.8711574593294273\n"
     ]
    }
   ],
   "source": [
    "\n",
    "def get_results(X, y):\n",
    "    # Split the dataset into a training set and a test set\n",
    "    X_train, X_test, y_train, y_test = train_test_split(X, y, test_size=0.2, random_state=42)  # 80% train, 20% test\n",
    "    lm = LinearRegression()\n",
    "    lm.fit(X_train, y_train)\n",
    "    y_pred = lm.predict(X_test) # Make predictions on the test set\n",
    "    r2_value_calculated = r2_score(y_test, y_pred)\n",
    "    return [r2_value_calculated, X.columns.values]\n",
    "\n",
    "# Get all combinations\n",
    "#n = len(features)\n",
    "#results = []\n",
    "#for i in range(1,n+1,1):\n",
    "    #print(i, \"features\")\n",
    "    #comb = combinations(features, i)\n",
    "    #print(sum(1 for _ in comb))\n",
    "#    for c in comb:\n",
    "        #time.sleep(.01)\n",
    "#        X = housing[list(c)]  # Features\n",
    "#        y = housing['SalePrice']  # Target variable\n",
    "#        r = get_results(X, y)\n",
    "#        if r[0] > 0.8: \n",
    "#            results.append(r)\n",
    "#            print(r)\n",
    "\n",
    "#results.sort(reverse=True)\n",
    "#print(\"R2 for Multiple Linear Regression models: score, features\", results[:20])\n",
    "#results.sort(reverse=True)\n",
    "#for i in range(len(results)):\n",
    "#    print(results[i],sep=\"\\n\")\n",
    "    #calculate tolerance (the R2 between features)\n",
    "    #handle categorical data\n",
    "      \n",
    "r = get_results(X, y)\n",
    "\n",
    "print(features)\n",
    "print(\"R2 for Multiple Linear Regression model: \", r[0])\n",
    "\n",
    "#This was used for Simple Linear Regression, but r2_score for multiple. \n",
    "#What is the difference? Which to use?\n",
    "# Calculate the R-squared score\n",
    "#r2_score = lm.score(X_test, y_test)\n",
    "#print(\"R-squared:\", r2_score)\n",
    "# Calculate the R-squared score\n",
    "#r2_value_calculated = r2_score(y_test, y_pred)\n",
    "#print(\"R-squared:\", r2_value_calculated)"
   ]
  },
  {
   "cell_type": "markdown",
   "id": "545c3de0-2d6b-4aac-acdc-c1d4f42b0955",
   "metadata": {},
   "source": [
    "# MLR with K-fold Cross Validation"
   ]
  },
  {
   "cell_type": "code",
   "execution_count": 7,
   "id": "912de306-e393-462e-8ed8-b7e342b5cc6e",
   "metadata": {},
   "outputs": [
    {
     "name": "stdout",
     "output_type": "stream",
     "text": [
      "MLR with k-fold Cross Validation\n",
      "Features:\n",
      " ['GrLivArea', 'MSSubClass', 'LotFrontage', 'LotArea', 'OverallQual', 'OverallCond', 'YearBuilt', 'YearRemodAdd', 'MasVnrArea', 'BsmtFinSF1', 'BsmtFinSF2', 'BsmtUnfSF', 'TotalBsmtSF', 'LowQualFinSF', 'BedroomAbvGr']\n",
      "0 R-squared: 0.8711574593294258\n",
      "1 R-squared: 0.8705324642231851\n",
      "2 R-squared: 0.8638143350948937\n",
      "3 R-squared: 0.8835724754915262\n",
      "4 R-squared: 0.8758713624200646\n",
      "Average RMSE: 26896.16478586815\n",
      "Average R-squared: 0.872989619311819\n"
     ]
    }
   ],
   "source": [
    "from sklearn.model_selection import KFold\n",
    "from sklearn.metrics import mean_squared_error, r2_score\n",
    "\n",
    "print(\"MLR with k-fold Cross Validation\")\n",
    "print(\"Features:\\n\", features)\n",
    "\n",
    "# Create an instance of KFold with the desired number of folds\n",
    "kf = KFold(n_splits=5, shuffle=True, random_state=42)\n",
    "\n",
    "# Initialize lists to store RMSE and R-squared values for each fold\n",
    "rmse_scores = []\n",
    "r2_scores = []\n",
    "\n",
    "# Iterate over the folds\n",
    "i=0\n",
    "for train_index, test_index in kf.split(X):\n",
    "    X_train, X_test = X.iloc[train_index], X.iloc[test_index]\n",
    "    y_train, y_test = y.iloc[train_index], y.iloc[test_index]\n",
    "    \n",
    "    # 2. Modeling (MLR)\n",
    "    lm = LinearRegression()\n",
    "    lm.fit(X_train, y_train)\n",
    "    y_pred = lm.predict(X_test) # Make predictions on the test set\n",
    "    \n",
    "    # 3. Evaluation\n",
    "    rmse = np.sqrt(mean_squared_error(y_test, y_pred))\n",
    "    r2 = r2_score(y_test, y_pred)\n",
    "    \n",
    "    # Append the scores to the respective lists\n",
    "    rmse_scores.append(rmse)\n",
    "    r2_scores.append(r2)\n",
    "    print(i,\"R-squared:\", r2)\n",
    "    i=i+1\n",
    "\n",
    "# Calculate the average RMSE and R-squared across all folds\n",
    "avg_rmse = np.mean(rmse_scores)\n",
    "avg_r2 = np.mean(r2_scores)\n",
    "\n",
    "print(\"Average RMSE:\", avg_rmse)\n",
    "print(\"Average R-squared:\", avg_r2)\n"
   ]
  },
  {
   "cell_type": "markdown",
   "id": "f01fd337-21b6-4051-b252-bf0eefe9891c",
   "metadata": {},
   "source": [
    "# Ridge, Lasso, and Elastic Net"
   ]
  },
  {
   "cell_type": "code",
   "execution_count": 10,
   "id": "236a6a8b",
   "metadata": {},
   "outputs": [
    {
     "name": "stdout",
     "output_type": "stream",
     "text": [
      "Ridge, Lasso, and Elastic Net with GridSearchCV for alpha\n",
      "Features:\n",
      " ['GrLivArea', 'MSSubClass', 'LotFrontage', 'LotArea', 'OverallQual', 'OverallCond', 'YearBuilt', 'YearRemodAdd', 'MasVnrArea', 'BsmtFinSF1', 'BsmtFinSF2', 'BsmtUnfSF', 'TotalBsmtSF', 'LowQualFinSF', 'BedroomAbvGr']\n",
      "Best alpha for Ridge: 1e-06\n",
      "Best alpha for Lasso: 1e-06\n",
      "Best alpha for ElasticNet: 1e-06\n",
      "R-squared for Ridge model: 0.8711574593324417\n",
      "R-squared for Lasso model: 0.8711574593299067\n",
      "R-squared for ElasticNet model: 0.8711574623917118\n",
      "Best alpha for Ridge: 10.0\n",
      "Best alpha for Lasso: 10.0\n",
      "Best alpha for ElasticNet: 0.01\n",
      "R-squared for Ridge model: 0.8704972500412783\n",
      "R-squared for Lasso model: 0.8705254281374943\n",
      "R-squared for ElasticNet model: 0.8704966870020576\n",
      "Best alpha for Ridge: 1.0\n",
      "Best alpha for Lasso: 1e-06\n",
      "Best alpha for ElasticNet: 0.001\n",
      "R-squared for Ridge model: 0.8638200903364058\n",
      "R-squared for Lasso model: 0.8638143350958488\n",
      "R-squared for ElasticNet model: 0.8638201765057321\n",
      "Best alpha for Ridge: 10.0\n",
      "Best alpha for Lasso: 1e-06\n",
      "Best alpha for ElasticNet: 0.01\n",
      "R-squared for Ridge model: 0.883605230722125\n",
      "R-squared for Lasso model: 0.883572475492129\n",
      "R-squared for ElasticNet model: 0.8836056849318442\n",
      "Best alpha for Ridge: 1.0\n",
      "Best alpha for Lasso: 1e-06\n",
      "Best alpha for ElasticNet: 0.001\n",
      "R-squared for Ridge model: 0.8758647934527388\n",
      "R-squared for Lasso model: 0.875871362418728\n",
      "R-squared for ElasticNet model: 0.875864690732512\n"
     ]
    }
   ],
   "source": [
    "from sklearn.linear_model import Ridge, Lasso\n",
    "from sklearn.metrics import mean_squared_error, r2_score\n",
    "from sklearn.linear_model import ElasticNet\n",
    "from sklearn.model_selection import GridSearchCV\n",
    "\n",
    "print(\"Ridge, Lasso, and Elastic Net with GridSearchCV for alpha\")\n",
    "print(\"Features:\\n\", features)\n",
    "\n",
    "# Initialize lists to store RMSE and R-squared values for each fold\n",
    "#rmse_scores = []\n",
    "#r2_scores = []\n",
    "\n",
    "# Create an instance of KFold with the desired number of folds\n",
    "kf = KFold(n_splits=5, shuffle=True, random_state=42)\n",
    "\n",
    "# Iterate over the folds\n",
    "for train_index, test_index in kf.split(X):\n",
    "    X_train, X_test = X.iloc[train_index], X.iloc[test_index]\n",
    "    y_train, y_test = y.iloc[train_index], y.iloc[test_index]\n",
    "\n",
    "    #################### Use GridSearch to find the best alphas ############################\n",
    "    # Define a range of alpha values to search\n",
    "    params = {'alpha': np.logspace(-6, 6, 13)}\n",
    "    # Create a grid search for Ridge, Lasso, and ElasticNet with cross-validation\n",
    "    ridge_grid = GridSearchCV(Ridge(), params, cv=kf, scoring='neg_mean_squared_error', return_train_score=True)\n",
    "    lasso_grid = GridSearchCV(Lasso(), params, cv=kf, scoring='neg_mean_squared_error', return_train_score=True)\n",
    "    elasticnet_grid = GridSearchCV(ElasticNet(), params, cv=kf, scoring='neg_mean_squared_error', return_train_score=True)\n",
    "\n",
    "    # Fit the grid search on the training data\n",
    "    ridge_grid.fit(X_train, y_train)\n",
    "    lasso_grid.fit(X_train, y_train)\n",
    "    elasticnet_grid.fit(X_train, y_train)\n",
    "\n",
    "    # Get the best alpha value from grid search\n",
    "    best_ridge_alpha = ridge_grid.best_params_['alpha']\n",
    "    best_lasso_alpha = lasso_grid.best_params_['alpha']\n",
    "    best_enet_alpha = elasticnet_grid.best_params_['alpha']\n",
    "\n",
    "    print(\"Best alpha for Ridge:\", best_ridge_alpha)\n",
    "    print(\"Best alpha for Lasso:\", best_lasso_alpha)\n",
    "    print(\"Best alpha for ElasticNet:\", best_enet_alpha)\n",
    "\n",
    "    ############################ Create Models ###########################################\n",
    "    # Initialize models\n",
    "    l1_ratio = 0.5  # Mixing parameter for ElasticNet, controls the balance between Ridge and Lasso\n",
    "    ridge_model = Ridge(alpha=best_ridge_alpha) \n",
    "    lasso_model = Lasso(alpha=best_lasso_alpha)\n",
    "    elasticnet_model = ElasticNet(alpha=best_enet_alpha, l1_ratio=l1_ratio)\n",
    "\n",
    "    # Fit the models on the training data\n",
    "    ridge_model.fit(X_train, y_train)\n",
    "    lasso_model.fit(X_train, y_train)\n",
    "    elasticnet_model.fit(X_train, y_train)\n",
    "\n",
    "    # Make predictions using models\n",
    "    ridge_predictions = ridge_model.predict(X_test)\n",
    "    lasso_predictions = lasso_model.predict(X_test)\n",
    "    elasticnet_predictions = elasticnet_model.predict(X_test)\n",
    "\n",
    "    ############################ Evaluate Models #########################################\n",
    "    # Calculate RMSE for the models\n",
    "    #ridge_rmse = np.sqrt(mean_squared_error(y_test, ridge_predictions))\n",
    "    #lasso_rmse = np.sqrt(mean_squared_error(y_test, lasso_predictions))\n",
    "    #elasticnet_rmse = np.sqrt(mean_squared_error(y_test, elasticnet_predictions))\n",
    "\n",
    "    #print(f\"RMSE (Ridge): {ridge_rmse:.4f}\")\n",
    "    #print(f\"RMSE (Lasso): {lasso_rmse:.4f}\")\n",
    "    #print(f\"RMSE (ElasticNet): {elasticnet_rmse:.4f}\")\n",
    "\n",
    "    # Calculate R-squared for the models\n",
    "    ridge_r2 = r2_score(y_test, ridge_predictions)\n",
    "    lasso_r2 = r2_score(y_test, lasso_predictions)\n",
    "    elasticnet_r2 = r2_score(y_test, elasticnet_predictions)\n",
    "\n",
    "    print(\"R-squared for Ridge model:\", ridge_r2)\n",
    "    print(\"R-squared for Lasso model:\", lasso_r2)\n",
    "    print(\"R-squared for ElasticNet model:\", elasticnet_r2)\n",
    "\n",
    "    # Append the scores to the respective lists\n",
    "    #rmse_scores.append(rmse)\n",
    "    #r2_scores.append(r2)\n",
    "\n",
    " \n",
    "\n",
    "# Calculate the average RMSE and R-squared across all folds\n",
    "#avg_rmse = np.mean(rmse_scores)\n",
    "#avg_r2 = np.mean(r2_scores)\n",
    "\n",
    "#print(\"Average RMSE (ElasticNet):\", avg_rmse)\n",
    "#print(\"Average R-squared (ElasticNet):\", avg_r2)\n"
   ]
  },
  {
   "cell_type": "markdown",
   "id": "1b825dfe-ff16-405c-8c25-f172ef297647",
   "metadata": {},
   "source": [
    "# GridSearch CV"
   ]
  },
  {
   "cell_type": "code",
   "execution_count": 45,
   "id": "900ab3d3",
   "metadata": {},
   "outputs": [
    {
     "name": "stdout",
     "output_type": "stream",
     "text": [
      "Best Alpha: 1e-06\n",
      "Fold R^2: 0.8784\n",
      "Fold R^2: 0.8190\n",
      "Fold R^2: 0.8860\n",
      "Fold R^2: 0.8688\n",
      "Fold R^2: 0.8415\n"
     ]
    }
   ],
   "source": [
    "\n",
    "# 2. Set Up Cross-Validation\n",
    "kf = KFold(n_splits=5, shuffle=True, random_state=42)\n",
    "\n",
    "# Lasso hyperparameters (alpha values, you can adjust this list for finer search if needed)\n",
    "params = {'alpha': np.logspace(-6, 6, 13)}\n",
    "\n",
    "grid_search = GridSearchCV(Lasso(), params, cv=kf, scoring='neg_mean_squared_error', return_train_score=True)\n",
    "\n",
    "# 3. Training and Hyperparameter Optimization\n",
    "grid_search.fit(X, y)\n",
    "\n",
    "# Print the best alpha value from the grid search\n",
    "best_alpha = grid_search.best_params_['alpha']\n",
    "print(f\"Best Alpha: {best_alpha}\")\n",
    "\n",
    "# Initialize a list to store R-squared values for each fold\n",
    "r2_scores = []\n",
    "\n",
    "# Loop over each fold\n",
    "for train_index, test_index in kf.split(X):\n",
    "    X_train, X_test = X.iloc[train_index], X.iloc[test_index]\n",
    "    y_train, y_test = y.iloc[train_index], y.iloc[test_index]\n",
    "    \n",
    "    best_model = grid_search.best_estimator_\n",
    "    best_model.fit(X_train, y_train)\n",
    "    \n",
    "    y_pred = best_model.predict(X_test)\n",
    "    r2 = r2_score(y_test, y_pred)\n",
    "    r2_scores.append(r2)\n",
    "\n",
    "    print(f\"Fold R^2: {r2:.4f}\")\n"
   ]
  },
  {
   "cell_type": "code",
   "execution_count": 46,
   "id": "d3e1e283",
   "metadata": {},
   "outputs": [
    {
     "name": "stdout",
     "output_type": "stream",
     "text": [
      "Best Alpha: 1e-06\n",
      "Fold R^2: 0.8784\n",
      "Fold R^2: 0.8190\n",
      "Fold R^2: 0.8860\n",
      "Fold R^2: 0.8688\n",
      "Fold R^2: 0.8415\n"
     ]
    }
   ],
   "source": [
    "\n",
    "\n",
    "grid_search = GridSearchCV(ElasticNet(), params, cv=kf, scoring='neg_mean_squared_error', return_train_score=True)\n",
    "\n",
    "# 3. Training and Hyperparameter Optimization\n",
    "grid_search.fit(X, y)\n",
    "\n",
    "# Print the best alpha value from the grid search\n",
    "best_alpha = grid_search.best_params_['alpha']\n",
    "print(f\"Best Alpha: {best_alpha}\")\n",
    "\n",
    "# Initialize a list to store R-squared values for each fold\n",
    "r2_scores = []\n",
    "\n",
    "# Loop over each fold\n",
    "for train_index, test_index in kf.split(X):\n",
    "    X_train, X_test = X.iloc[train_index], X.iloc[test_index]\n",
    "    y_train, y_test = y.iloc[train_index], y.iloc[test_index]\n",
    "    \n",
    "    best_model = grid_search.best_estimator_\n",
    "    best_model.fit(X_train, y_train)\n",
    "    \n",
    "    y_pred = best_model.predict(X_test)\n",
    "    r2 = r2_score(y_test, y_pred)\n",
    "    r2_scores.append(r2)\n",
    "\n",
    "    print(f\"Fold R^2: {r2:.4f}\")\n"
   ]
  },
  {
   "cell_type": "code",
   "execution_count": 47,
   "id": "773cc8c6",
   "metadata": {},
   "outputs": [
    {
     "name": "stdout",
     "output_type": "stream",
     "text": [
      "Fold R^2: 0.8784\n",
      "Fold R^2: 0.8190\n",
      "Fold R^2: 0.8860\n",
      "Fold R^2: 0.8688\n",
      "Fold R^2: 0.8415\n",
      "Average R^2: 0.8587\n"
     ]
    }
   ],
   "source": [
    "\n",
    "# Loop over each fold\n",
    "for train_index, test_index in kf.split(X):\n",
    "    X_train, X_test = X.iloc[train_index], X.iloc[test_index]\n",
    "    y_train, y_test = y.iloc[train_index], y.iloc[test_index]\n",
    "    \n",
    "    # Create a Linear Regression model\n",
    "    model = LinearRegression()\n",
    "    \n",
    "    # Fit the model on the training data\n",
    "    model.fit(X_train, y_train)\n",
    "    \n",
    "    # Make predictions on the test data\n",
    "    y_pred = model.predict(X_test)\n",
    "    \n",
    "    # Calculate R-squared for this fold\n",
    "    r2 = r2_score(y_test, y_pred)\n",
    "    r2_scores.append(r2)\n",
    "\n",
    "    print(f\"Fold R^2: {r2:.4f}\")\n",
    "    \n",
    "average_r2 = np.mean(r2_scores)\n",
    "print(f\"Average R^2: {average_r2:.4f}\")\n",
    "\n"
   ]
  },
  {
   "cell_type": "code",
   "execution_count": 48,
   "id": "505aa624",
   "metadata": {},
   "outputs": [
    {
     "name": "stdout",
     "output_type": "stream",
     "text": [
      "Mean Absolute Error (MAE): 21348.9824 +/- 538.7870\n",
      "Mean Squared Error (MSE): 950357983.6669 +/- 115521005.9409\n",
      "Root Mean Squared Error (RMSE): 30770.5824 +/- 1878.6274\n"
     ]
    }
   ],
   "source": [
    "import numpy as np\n",
    "from sklearn.model_selection import KFold\n",
    "from sklearn.linear_model import LinearRegression\n",
    "from sklearn.metrics import mean_absolute_error, mean_squared_error\n",
    "\n",
    "# Load your dataset and define X (features) and y (target variable)\n",
    "features = ['OverallQual', 'GrLivArea', 'TotalBsmtSF', '1stFlrSF', 'GarageArea', 'YearBuilt', \n",
    "            'FullBath', 'YearRemodAdd', 'MasVnrArea', 'Fireplaces']\n",
    "X = housing[features]\n",
    "y = housing['SalePrice']\n",
    "\n",
    "# Set up k-fold cross-validation\n",
    "kf = KFold(n_splits=5, shuffle=True, random_state=42)\n",
    "\n",
    "# Initialize lists to store evaluation results for each fold\n",
    "mae_scores = []\n",
    "mse_scores = []\n",
    "rmse_scores = []\n",
    "\n",
    "# Loop over each fold\n",
    "for train_index, test_index in kf.split(X):\n",
    "    X_train, X_test = X.iloc[train_index], X.iloc[test_index]\n",
    "    y_train, y_test = y.iloc[train_index], y.iloc[test_index]\n",
    "    \n",
    "    # Create a Linear Regression model\n",
    "    model = LinearRegression()\n",
    "    \n",
    "    # Fit the model on the training data\n",
    "    model.fit(X_train, y_train)\n",
    "    \n",
    "    # Make predictions on the test data\n",
    "    y_pred = model.predict(X_test)\n",
    "    \n",
    "    # Calculate MAE, MSE, and RMSE for this fold\n",
    "    mae = mean_absolute_error(y_test, y_pred)\n",
    "    mse = mean_squared_error(y_test, y_pred)\n",
    "    rmse = np.sqrt(mse)\n",
    "    \n",
    "    # Append the scores to the respective lists\n",
    "    mae_scores.append(mae)\n",
    "    mse_scores.append(mse)\n",
    "    rmse_scores.append(rmse)\n",
    "\n",
    "# Calculate the mean and standard deviation of the scores across folds\n",
    "mean_mae = np.mean(mae_scores)\n",
    "mean_mse = np.mean(mse_scores)\n",
    "mean_rmse = np.mean(rmse_scores)\n",
    "\n",
    "std_mae = np.std(mae_scores)\n",
    "std_mse = np.std(mse_scores)\n",
    "std_rmse = np.std(rmse_scores)\n",
    "\n",
    "# Print the results\n",
    "print(f\"Mean Absolute Error (MAE): {mean_mae:.4f} +/- {std_mae:.4f}\")\n",
    "print(f\"Mean Squared Error (MSE): {mean_mse:.4f} +/- {std_mse:.4f}\")\n",
    "print(f\"Root Mean Squared Error (RMSE): {mean_rmse:.4f} +/- {std_rmse:.4f}\")\n"
   ]
  },
  {
   "cell_type": "code",
   "execution_count": 49,
   "id": "b66140ec",
   "metadata": {},
   "outputs": [
    {
     "data": {
      "image/png": "[encoded data removed]",
      "text/plain": [
       "<Figure size 800x600 with 1 Axes>"
      ]
     },
     "metadata": {},
     "output_type": "display_data"
    }
   ],
   "source": [
    "import matplotlib.pyplot as plt\n",
    "\n",
    "# Mean error values\n",
    "error_metrics = ['MAE', 'MSE', 'RMSE']\n",
    "mean_errors = [21348.9824, 950357983.6669, 30770.5824]\n",
    "\n",
    "# Standard deviations\n",
    "std_dev = [538.7870, 115521005.9409, 1878.6274]\n",
    "\n",
    "# Create a bar plot\n",
    "plt.figure(figsize=(8, 6))\n",
    "plt.bar(error_metrics, mean_errors, yerr=std_dev, capsize=10, color='skyblue', alpha=0.7)\n",
    "plt.xlabel('Error Metric')\n",
    "plt.ylabel('Value')\n",
    "plt.title('Error Metrics with Standard Deviations')\n",
    "plt.show()"
   ]
  },
  {
   "cell_type": "code",
   "execution_count": 50,
   "id": "41960863",
   "metadata": {},
   "outputs": [
    {
     "data": {
      "image/png": "[encoded data removed]",
      "text/plain": [
       "<Figure size 800x600 with 1 Axes>"
      ]
     },
     "metadata": {},
     "output_type": "display_data"
    }
   ],
   "source": [
    "import matplotlib.pyplot as plt\n",
    "\n",
    "# Mean error values\n",
    "error_metrics = ['MAE', 'MSE', 'RMSE']\n",
    "mean_errors = [0.1025, 0.0211, 0.1445]\n",
    "\n",
    "# Standard deviations\n",
    "std_dev = [0.0015, 0.0042, 0.0137]\n",
    "\n",
    "# Create a bar plot\n",
    "plt.figure(figsize=(8, 6))\n",
    "plt.bar(error_metrics, mean_errors, yerr=std_dev, capsize=10, color='skyblue', alpha=0.7)\n",
    "plt.xlabel('Error Metric')\n",
    "plt.ylabel('Value')\n",
    "plt.title('Error Metrics with Standard Deviations')\n",
    "plt.show()\n"
   ]
  },
  {
   "cell_type": "code",
   "execution_count": 67,
   "id": "3edb7dc0",
   "metadata": {},
   "outputs": [
    {
     "data": {
      "text/plain": [
       "0    41.778207\n",
       "1    21.049467\n",
       "2    10.811683\n",
       "3     2.397206\n",
       "4    22.849588\n",
       "Name: VIF, dtype: float64"
      ]
     },
     "execution_count": 67,
     "metadata": {},
     "output_type": "execute_result"
    }
   ],
   "source": [
    "from statsmodels.stats.outliers_influence import variance_inflation_factor\n",
    "\n",
    "# Create a DataFrame with your features (X)\n",
    "X = housing[['OverallQual', 'TotalSF', 'GarageCars', 'Fireplaces', 'YearRemodAdd']]\n",
    "\n",
    "# Calculate VIF for each feature\n",
    "vif = pd.DataFrame()\n",
    "vif[\"Features\"] = X.columns\n",
    "vif[\"VIF\"] = [variance_inflation_factor(X.values, i) for i in range(X.shape[1])]\n",
    "vif[\"VIF\"]"
   ]
  },
  {
   "cell_type": "code",
   "execution_count": 68,
   "id": "16156f51",
   "metadata": {},
   "outputs": [
    {
     "data": {
      "text/plain": [
       "0    21.868821\n",
       "1    20.630049\n",
       "2    10.773760\n",
       "3     2.289568\n",
       "Name: VIF, dtype: float64"
      ]
     },
     "execution_count": 68,
     "metadata": {},
     "output_type": "execute_result"
    }
   ],
   "source": [
    "#High multicollinearity above. If YearRemodAdd is removed, it's improved\n",
    "\n",
    "from statsmodels.stats.outliers_influence import variance_inflation_factor\n",
    "\n",
    "# Create a DataFrame with your features (X)\n",
    "X = housing[['OverallQual', 'TotalSF', 'GarageCars', 'Fireplaces']]\n",
    "\n",
    "# Calculate VIF for each feature\n",
    "vif = pd.DataFrame()\n",
    "vif[\"Features\"] = X.columns\n",
    "vif[\"VIF\"] = [variance_inflation_factor(X.values, i) for i in range(X.shape[1])]\n",
    "vif[\"VIF\"]"
   ]
  },
  {
   "cell_type": "markdown",
   "id": "024b4b5e-25e6-4123-9374-29b543784b26",
   "metadata": {},
   "source": [
    "# RandomForestRegressor"
   ]
  },
  {
   "cell_type": "code",
   "execution_count": 69,
   "id": "fe1fecfd",
   "metadata": {},
   "outputs": [
    {
     "name": "stdout",
     "output_type": "stream",
     "text": [
      "R^2 Score: 0.9083379346632462\n",
      "RMSE: 23746.081163824503\n"
     ]
    }
   ],
   "source": [
    "import pandas as pd\n",
    "from sklearn.model_selection import train_test_split\n",
    "from sklearn.ensemble import RandomForestRegressor\n",
    "from sklearn.metrics import r2_score, mean_squared_error\n",
    "from sklearn.preprocessing import StandardScaler, OneHotEncoder\n",
    "from sklearn.compose import ColumnTransformer\n",
    "from sklearn.pipeline import Pipeline\n",
    "\n",
    "\n",
    "\n",
    "# Prepare target and features\n",
    "X = housing.drop(['SalePrice', 'LogSalePrice', 'LogGrLivArea'], axis=1)\n",
    "y = housing['SalePrice']\n",
    "\n",
    "# Split the data\n",
    "X_train, X_test, y_train, y_test = train_test_split(X, y, test_size=0.2, random_state=42)\n",
    "\n",
    "# Identify numeric and categorical columns\n",
    "numeric_features = X_train.select_dtypes(include=['int64', 'float64']).columns\n",
    "categorical_features = X_train.select_dtypes(include=['object']).columns\n",
    "\n",
    "# Create transformers\n",
    "numeric_transformer = Pipeline(steps=[\n",
    "    ('imputer', SimpleImputer(strategy='median')),\n",
    "    ('scaler', StandardScaler())])\n",
    "\n",
    "categorical_transformer = Pipeline(steps=[\n",
    "    ('imputer', SimpleImputer(strategy='constant', fill_value='missing')),\n",
    "    ('onehot', OneHotEncoder(handle_unknown='ignore'))])\n",
    "\n",
    "preprocessor = ColumnTransformer(\n",
    "    transformers=[\n",
    "        ('num', numeric_transformer, numeric_features),\n",
    "        ('cat', categorical_transformer, categorical_features)])\n",
    "\n",
    "# Append classifier to preprocessing pipeline.\n",
    "pipeline = Pipeline(steps=[('preprocessor', preprocessor),\n",
    "                           ('classifier', RandomForestRegressor(n_estimators=100, random_state=42))])\n",
    "\n",
    "# Preprocessing of training data and train model\n",
    "pipeline.fit(X_train, y_train)\n",
    "\n",
    "# Predict on test data\n",
    "y_pred = pipeline.predict(X_test)\n",
    "\n",
    "# Evaluate the model\n",
    "print(f'R^2 Score: {r2_score(y_test, y_pred)}')\n",
    "print(f'RMSE: {mean_squared_error(y_test, y_pred, squared=False)}')\n"
   ]
  },
  {
   "cell_type": "code",
   "execution_count": 70,
   "id": "9856c52d",
   "metadata": {},
   "outputs": [
    {
     "name": "stdout",
     "output_type": "stream",
     "text": [
      "R^2 Score for fold 1: 0.8602\n",
      "R^2 Score for fold 2: 0.8893\n",
      "R^2 Score for fold 3: 0.9132\n",
      "R^2 Score for fold 4: 0.9022\n",
      "R^2 Score for fold 5: 0.9096\n",
      "\n",
      "Average R^2 Score across the 5 folds: 0.8949\n"
     ]
    }
   ],
   "source": [
    "from sklearn.model_selection import cross_val_score\n",
    "\n",
    "# Compute the R^2 scores\n",
    "scores = cross_val_score(pipeline, X, y, cv=5, scoring='r2')\n",
    "\n",
    "# Print R^2 score for each fold\n",
    "for i, score in enumerate(scores, 1):\n",
    "    print(f\"R^2 Score for fold {i}: {score:.4f}\")\n",
    "\n",
    "# Print average R^2 score\n",
    "print(f\"\\nAverage R^2 Score across the 5 folds: {scores.mean():.4f}\")\n"
   ]
  },
  {
   "cell_type": "code",
   "execution_count": 71,
   "id": "3f6671bf",
   "metadata": {},
   "outputs": [
    {
     "name": "stdout",
     "output_type": "stream",
     "text": [
      "Functional_Sal: 0.0\n",
      "HeatingQC_Po: 0.0\n",
      "Condition2_RRAn: 0.0\n",
      "RoofMatl_Roll: 0.0\n",
      "Exterior2nd_PreCast: 0.0\n",
      "RoofMatl_Metal: 0.0\n",
      "MSZoning_I (all): 5.909015406716799e-09\n",
      "SaleType_VWD: 6.035655304815758e-09\n",
      "Condition2_Artery: 8.319919660946482e-09\n",
      "Condition2_RRNn: 1.1810563813034933e-08\n",
      "KitchenQual_Po: 1.2639096329656145e-08\n",
      "Utilities_AllPub: 1.8517706340779016e-08\n",
      "BsmtQual_Po: 2.9672205345946075e-08\n",
      "Exterior2nd_CBlock: 3.503729697543723e-08\n",
      "Exterior2nd_AsphShn: 1.2096050557539896e-07\n",
      "SaleCondition_Alloca: 1.220734569276314e-07\n",
      "GarageCond_Ex: 1.3703800447233543e-07\n",
      "Exterior1st_CBlock: 1.6084935428151296e-07\n",
      "Exterior1st_ImStucc: 1.6615536888462314e-07\n",
      "Heating_Wall: 2.188478883213964e-07\n",
      "ExterCond_Po: 2.2001277838877617e-07\n",
      "RoofStyle_Shed: 2.3313167200321595e-07\n",
      "BsmtCond_Po: 2.9012914818714976e-07\n",
      "Exterior1st_AsphShn: 3.443393336011248e-07\n",
      "Heating_Grav: 5.055495923283133e-07\n",
      "SaleCondition_AdjLand: 5.379655019974438e-07\n",
      "GarageQual_Ex: 5.562752879917192e-07\n",
      "Exterior2nd_Stone: 8.600994752195952e-07\n",
      "Street_Pave: 9.828094147817127e-07\n",
      "GarageCond_Gd: 1.0066890655539357e-06\n",
      "SaleType_ConLw: 1.2241617282682858e-06\n",
      "BsmtCond_Ex: 1.4374904667619097e-06\n",
      "Heating_OthW: 1.5222278420373309e-06\n",
      "Neighborhood_Greens: 1.7168254493923574e-06\n",
      "Exterior2nd_Brk Cmn: 2.1032761775943593e-06\n",
      "SaleType_ConLI: 2.2148674983832847e-06\n",
      "Condition2_Feedr: 2.2319903729926737e-06\n",
      "GarageCond_Po: 2.3251346697197792e-06\n",
      "RoofMatl_WdShake: 2.533877028796566e-06\n",
      "HouseStyle_1.5Unf: 2.6448496307714445e-06\n",
      "Foundation_Wood: 2.771731017994031e-06\n",
      "Condition1_RRNe: 2.9060957700872056e-06\n",
      "Exterior1st_BrkComm: 2.9982888071376152e-06\n",
      "SaleType_ConLD: 3.5888793149369516e-06\n",
      "GarageType_CarPort: 3.931602713114586e-06\n",
      "HouseStyle_2.5Fin: 4.673642925748516e-06\n",
      "GarageQual_Po: 5.275228728435846e-06\n",
      "Foundation_Stone: 5.623725788210178e-06\n",
      "FireplaceQu_Po: 6.06286885540736e-06\n",
      "Neighborhood_MeadowV: 6.246050978333615e-06\n",
      "Neighborhood_Blmngtn: 6.24994059660052e-06\n",
      "Neighborhood_Blueste: 6.360524866145015e-06\n",
      "MasVnrType_BrkCmn: 6.408591827653576e-06\n",
      "Neighborhood_NPkVill: 8.058829204585859e-06\n",
      "BsmtFinType2_BLQ: 8.36597101600474e-06\n",
      "Electrical_FuseP: 8.367520433733e-06\n",
      "HouseStyle_SFoyer: 8.41687762145551e-06\n",
      "GarageQual_Gd: 8.65752435782114e-06\n",
      "GarageType_Basment: 8.69519962936956e-06\n",
      "BsmtExposure_None: 9.008088340609954e-06\n",
      "Functional_Maj2: 9.048395300251924e-06\n",
      "Foundation_Slab: 9.377637698065272e-06\n",
      "BsmtQual_None: 9.82878265683154e-06\n",
      "Street_Grvl: 1.0209516890819075e-05\n",
      "Condition1_RRAe: 1.1466405528274228e-05\n",
      "Condition1_RRNn: 1.1576526943550554e-05\n",
      "SaleType_Con: 1.1866536247270734e-05\n",
      "Exterior1st_WdShing: 1.2314361403684312e-05\n",
      "Functional_Mod: 1.3614087442432918e-05\n",
      "Functional_Min1: 1.3664936547209468e-05\n",
      "Exterior1st_Stucco: 1.4181370156007327e-05\n",
      "LotConfig_FR3: 1.4858357424257994e-05\n",
      "Heating_GasW: 1.5247564270809226e-05\n",
      "Utilities_NoSewr: 1.551716794590593e-05\n",
      "GarageCond_None: 1.641973464105033e-05\n",
      "Condition1_RRAn: 1.7752757367104743e-05\n",
      "BsmtFinType2_GLQ: 1.8059210486374723e-05\n",
      "BldgType_Twnhs: 1.850953208153612e-05\n",
      "RoofStyle_Gambrel: 1.9228847728787514e-05\n",
      "Heating_GasA: 2.026344963477239e-05\n",
      "GarageType_None: 2.1358052048621833e-05\n",
      "ExterCond_Ex: 2.1404444089223637e-05\n",
      "RoofStyle_Flat: 2.1986403297200813e-05\n",
      "Neighborhood_BrDale: 2.2164769155347554e-05\n",
      "BsmtCond_None: 2.267019576680963e-05\n",
      "Exterior2nd_AsbShng: 2.4197225042784174e-05\n",
      "ExterQual_Fa: 2.5092134368034104e-05\n",
      "Exterior2nd_Stucco: 2.538593434802761e-05\n",
      "Exterior2nd_ImStucc: 2.5604843107889124e-05\n",
      "BsmtFinType2_LwQ: 2.5786579650778585e-05\n",
      "MSZoning_RH: 2.5989795305186665e-05\n",
      "BldgType_TwnhsE: 2.7082678606163032e-05\n",
      "Exterior1st_PreCast: 2.7399741675273117e-05\n",
      "GarageType_2Types: 3.0029248031644295e-05\n",
      "BsmtFinType2_Rec: 3.206363292205983e-05\n",
      "SaleType_CWD: 3.219469441084476e-05\n",
      "Neighborhood_Timber: 3.362157434894361e-05\n",
      "SaleType_COD: 3.3858454339321455e-05\n",
      "Neighborhood_Mitchel: 3.522051696958907e-05\n",
      "Neighborhood_SWISU: 3.59876443913264e-05\n",
      "Functional_Maj1: 3.620014672773362e-05\n",
      "Condition2_PosA: 3.6767148652997744e-05\n",
      "LotShape_IR2: 3.810438163092833e-05\n",
      "BsmtFinType1_None: 3.8458911317840164e-05\n",
      "GarageFinish_None: 4.091633435605436e-05\n",
      "GarageCond_Fa: 4.274778310881939e-05\n",
      "3SsnPorch: 4.2828685276547324e-05\n",
      "Functional_Min2: 4.524670767560532e-05\n",
      "BsmtFinType2_None: 4.729532455225347e-05\n",
      "LotConfig_FR2: 4.73167834451929e-05\n",
      "FireplaceQu_Fa: 4.7397996963646174e-05\n",
      "MSZoning_FV: 4.8238515817773275e-05\n",
      "GarageType_BuiltIn: 4.880072559560139e-05\n",
      "Electrical_FuseA: 4.8948839636719974e-05\n",
      "Exterior2nd_Wd Shng: 5.116913026029487e-05\n",
      "Neighborhood_Sawyer: 5.172180939303216e-05\n",
      "GarageQual_Fa: 5.1964599354841974e-05\n",
      "Neighborhood_SawyerW: 5.3415273803057995e-05\n",
      "Condition1_PosN: 5.3873218604420865e-05\n",
      "Neighborhood_StoneBr: 5.435957099223535e-05\n",
      "Electrical_FuseF: 5.5903110450405064e-05\n",
      "SaleCondition_Partial: 5.703247251028013e-05\n",
      "SaleType_New: 5.747511413108682e-05\n",
      "BsmtQual_Fa: 5.755232389484641e-05\n",
      "MSZoning_C (all): 5.7714893813746185e-05\n",
      "MiscVal: 5.8293763735532125e-05\n",
      "HeatingQC_Fa: 5.9491788228655716e-05\n",
      "RoofMatl_Tar&Grv: 6.035085627747648e-05\n",
      "Exterior2nd_MetalSd: 6.165866397926961e-05\n",
      "LotShape_IR3: 6.181811948933365e-05\n",
      "Exterior1st_CemntBd: 6.222450451791812e-05\n",
      "Neighborhood_IDOTRR: 6.592897751161257e-05\n",
      "Exterior1st_Plywood: 6.717563175477228e-05\n",
      "Neighborhood_BrkSide: 6.739530494862592e-05\n",
      "GarageQual_None: 6.744691276571016e-05\n",
      "KitchenQual_Fa: 6.825083066636126e-05\n",
      "LowQualFinSF: 7.023660930861547e-05\n",
      "BsmtFinType1_LwQ: 7.130162155379122e-05\n",
      "RoofMatl_WdShngl: 7.263166631852904e-05\n",
      "FireplaceQu_Ex: 7.3683247946393e-05\n",
      "Condition2_Norm: 7.437186772275771e-05\n",
      "SaleType_Oth: 7.481604743829026e-05\n",
      "BldgType_2fmCon: 7.85604336468641e-05\n",
      "PavedDrive_N: 7.956578898639406e-05\n",
      "BldgType_Duplex: 8.168001307696008e-05\n",
      "Neighborhood_ClearCr: 8.25686476194162e-05\n",
      "Neighborhood_NridgHt: 8.300214901892107e-05\n",
      "BsmtCond_Gd: 8.603731601662546e-05\n",
      "PavedDrive_P: 8.763497947896715e-05\n",
      "BsmtFinType2_Unf: 8.863490282121211e-05\n",
      "BsmtFinType1_BLQ: 8.922271387749802e-05\n",
      "Neighborhood_CollgCr: 9.037168134979549e-05\n",
      "Condition1_PosA: 9.059550667487976e-05\n",
      "BsmtCond_Fa: 9.226049807048767e-05\n",
      "Neighborhood_NAmes: 9.414210578589177e-05\n",
      "RoofStyle_Mansard: 9.481306855522737e-05\n",
      "MasVnrType_None: 0.00010038708830866314\n",
      "Condition1_Feedr: 0.00010060410625450216\n",
      "Exterior1st_AsbShng: 0.00010587708720999735\n",
      "BsmtFinType2_ALQ: 0.00010751136597688607\n",
      "BsmtCond_TA: 0.00010887458966372952\n",
      "PoolArea: 0.00010930239554991176\n",
      "LandContour_Low: 0.000115464496393544\n",
      "Exterior2nd_BrkFace: 0.00011708209875486044\n",
      "HouseStyle_2.5Unf: 0.00011803771343895855\n",
      "BsmtFinType1_Rec: 0.00011949954802279152\n",
      "Exterior2nd_Plywood: 0.00012508179117796784\n",
      "HouseStyle_1Story: 0.00012753193210794935\n",
      "LandSlope_Sev: 0.00012997624704668372\n",
      "Neighborhood_Gilbert: 0.00013093322266263685\n",
      "ExterCond_Fa: 0.00013469615258963303\n",
      "Exterior2nd_CmentBd: 0.0001351432728835965\n",
      "BsmtExposure_Mn: 0.0001353997676261799\n",
      "HouseStyle_1.5Fin: 0.0001394549236803634\n",
      "Exterior1st_HdBoard: 0.00014043982936830804\n",
      "SaleCondition_Abnorml: 0.00014153127100552593\n",
      "HouseStyle_SLvl: 0.00014170658601007493\n",
      "Neighborhood_NWAmes: 0.00014426513130462999\n",
      "Neighborhood_Veenker: 0.00014707380172029202\n",
      "Neighborhood_Somerst: 0.00014802300350003983\n",
      "Condition1_Artery: 0.00015092246390655925\n",
      "HeatingQC_Gd: 0.00015423843397178397\n",
      "Exterior1st_MetalSd: 0.00015599045309745615\n",
      "LotConfig_CulDSac: 0.00015883177588366516\n",
      "LandContour_Lvl: 0.0001645424047055324\n",
      "Foundation_BrkTil: 0.0001673786942854297\n",
      "GarageQual_TA: 0.00016779873904214688\n",
      "RoofStyle_Hip: 0.00016831709012354805\n",
      "LandSlope_Gtl: 0.00016899246760229805\n",
      "LandContour_HLS: 0.00017258198514001285\n",
      "SaleType_WD : 0.00017541649078402926\n",
      "BldgType_1Fam: 0.00017654935260509288\n",
      "Exterior1st_VinylSd: 0.00017769589629333215\n",
      "Exterior2nd_VinylSd: 0.00018179697591449965\n",
      "ExterCond_TA: 0.000183732470435055\n",
      "LotConfig_Corner: 0.00018514697421009594\n",
      "Electrical_SBrkr: 0.00018941412496661163\n",
      "Exterior1st_Wd Sdng: 0.0001906229122302937\n",
      "BsmtFinType1_Unf: 0.00020209736762389618\n",
      "Exterior1st_BrkFace: 0.00020230720161735477\n",
      "MasVnrType_BrkFace: 0.00020249336142927994\n",
      "Condition2_PosN: 0.00020375486276737908\n",
      "Exterior2nd_Wd Sdng: 0.00021045244798094858\n",
      "LotConfig_Inside: 0.00021401320008926337\n",
      "FireplaceQu_TA: 0.00021423254925229013\n",
      "Neighborhood_OldTown: 0.00022057418040560706\n",
      "ExterCond_Gd: 0.00022452356383456301\n",
      "Functional_Typ: 0.00022951565611631865\n",
      "LandSlope_Mod: 0.00023516802418784767\n",
      "BsmtExposure_Av: 0.00023577033256163874\n",
      "Foundation_PConc: 0.00024184251039751178\n",
      "Foundation_CBlock: 0.0002507162986994371\n",
      "BsmtFinSF2: 0.0002632012104600449\n",
      "Neighborhood_NoRidge: 0.00026463111262670373\n",
      "LandContour_Bnk: 0.0002659512422746728\n",
      "MasVnrType_Stone: 0.0002712659089326204\n",
      "GarageFinish_RFn: 0.0002840020598848271\n",
      "RoofStyle_Gable: 0.0002964846316974413\n",
      "BsmtFinType1_ALQ: 0.00030301586441480575\n",
      "Exterior2nd_HdBoard: 0.00030533188013570487\n",
      "PavedDrive_Y: 0.00030849539892780626\n",
      "GarageType_Detchd: 0.00032301009922104494\n",
      "RoofMatl_CompShg: 0.00033005627193416227\n",
      "Neighborhood_GrnHill: 0.00033639910812633956\n",
      "GarageFinish_Unf: 0.000353640862190707\n",
      "ExterQual_TA: 0.00035876817692447196\n",
      "LotShape_Reg: 0.0003725815464901241\n",
      "LotShape_IR1: 0.0003809058919152211\n",
      "GarageFinish_Fin: 0.00038980761736805055\n",
      "SaleCondition_Normal: 0.00039737008650466934\n",
      "HeatingQC_TA: 0.00041779712339027236\n",
      "MSZoning_RL: 0.00044698922704451796\n",
      "GarageCond_TA: 0.00045489617623486675\n",
      "Neighborhood_Edwards: 0.0004638176119725259\n",
      "EnclosedPorch: 0.0005385933886944434\n",
      "HouseStyle_2Story: 0.0005458071665056927\n",
      "HeatingQC_Ex: 0.0005493014211072011\n",
      "Condition1_Norm: 0.0005514566335248779\n",
      "CentralAir_N: 0.0005610070868674803\n",
      "BsmtExposure_No: 0.0005961196904324579\n",
      "HalfBath: 0.0006305451025287842\n",
      "KitchenAbvGr: 0.0006381012051787659\n",
      "FireplaceQu_Gd: 0.000639200064040701\n",
      "ExterQual_Ex: 0.0006694973099476338\n",
      "FireplaceQu_None: 0.0006913130561766848\n",
      "Neighborhood_Crawfor: 0.0006949531156402376\n",
      "SaleCondition_Family: 0.000717427807467757\n",
      "GarageType_Attchd: 0.0007641164738013959\n",
      "BsmtFinType1_GLQ: 0.0008207613050082784\n",
      "BedroomAbvGr: 0.0008231776885262622\n",
      "CentralAir_Y: 0.0008408644983675108\n",
      "ExterQual_Gd: 0.0008710298044648319\n",
      "YearsSinceRemod: 0.0009956358490455992\n",
      "BsmtQual_TA: 0.0010023390022526775\n",
      "BsmtExposure_Gd: 0.001009987448164947\n",
      "KitchenQual_Gd: 0.0011098732928428797\n",
      "YrSold: 0.0011172038206627675\n",
      "BsmtHalfBath: 0.001143900120316969\n",
      "KitchenQual_Ex: 0.0012169405135930794\n",
      "TotRmsAbvGrd: 0.0012710696059213668\n",
      "MSSubClass: 0.0014154147500306657\n",
      "MSZoning_RM: 0.0014957404260762955\n",
      "BsmtQual_Ex: 0.0015156181441845261\n",
      "BsmtFullBath: 0.001697391717872099\n",
      "BsmtQual_Gd: 0.002446127679224508\n",
      "FullBath: 0.0025896148941403937\n",
      "WoodDeckSF: 0.002708396435786505\n",
      "Fireplaces: 0.0028839854155664002\n",
      "GarageYrBlt: 0.0032888987518925553\n",
      "KitchenQual_TA: 0.003447912207238995\n",
      "GarageCars: 0.0034975820424159717\n",
      "OverallCond: 0.0035581753892883123\n",
      "MoSold: 0.0035661922506931157\n",
      "OpenPorchSF: 0.0036003460661818785\n",
      "LotFrontage: 0.0036245828403160723\n",
      "ScreenPorch: 0.004057294565939001\n",
      "PID: 0.005337607132961245\n",
      "TotalBsmtSF: 0.00587312919972671\n",
      "BsmtUnfSF: 0.006204560332900092\n",
      "BsmtFinSF1: 0.006820712610540416\n",
      "1stFlrSF: 0.007183442995154555\n",
      "YearRemodAdd: 0.008465211409141095\n",
      "MasVnrArea: 0.008663521733384074\n",
      "LotArea: 0.01065950562253037\n",
      "YearBuilt: 0.011165761405295502\n",
      "GarageArea: 0.013790874414030962\n",
      "2ndFlrSF: 0.017322408575292263\n",
      "GrLivArea: 0.03797860810399676\n",
      "TotalSF: 0.3070130993333307\n",
      "OverallQual: 0.46577938077835196\n"
     ]
    }
   ],
   "source": [
    "from sklearn.ensemble import RandomForestRegressor\n",
    "\n",
    "# Convert categorical columns to one-hot encoding\n",
    "X_train = pd.get_dummies(X_train)\n",
    "\n",
    "# Handle missing data by filling with the mean value of each column\n",
    "X_train.fillna(X_train.mean(), inplace=True)\n",
    "\n",
    "# Now, try training the model again\n",
    "model = RandomForestRegressor()\n",
    "model.fit(X_train, y_train)\n",
    "\n",
    "\n",
    "\n",
    "# Get feature importances\n",
    "importances = model.feature_importances_\n",
    "\n",
    "# To sort features by importance\n",
    "sorted_idx = importances.argsort()\n",
    "for idx in sorted_idx:\n",
    "    print(f\"{X_train.columns[idx]}: {importances[idx]}\")\n"
   ]
  },
  {
   "cell_type": "code",
   "execution_count": 72,
   "id": "b2a7593c",
   "metadata": {},
   "outputs": [
    {
     "data": {
      "image/png": "[encoded data removed]",
      "text/plain": [
       "<Figure size 1200x800 with 1 Axes>"
      ]
     },
     "metadata": {},
     "output_type": "display_data"
    }
   ],
   "source": [
    "import matplotlib.pyplot as plt\n",
    "\n",
    "# Extract feature importances\n",
    "importances = model.feature_importances_\n",
    "\n",
    "# Map importances to the column names\n",
    "feature_importances = pd.Series(importances, index=X_train.columns)\n",
    "\n",
    "# Sort and take top 10\n",
    "top_10 = feature_importances.sort_values(ascending=False).head(10)\n",
    "\n",
    "# Plot\n",
    "plt.figure(figsize=(12, 8))\n",
    "top_10.plot(kind='barh', color='skyblue')\n",
    "plt.title('Top 10 Most Important Features from RandomForestRegressor')\n",
    "plt.xlabel('Importance')\n",
    "plt.ylabel('Feature Name')\n",
    "plt.gca().invert_yaxis()  # to have the most important feature at the top\n",
    "plt.show()\n"
   ]
  },
  {
   "cell_type": "markdown",
   "id": "52053fde-74af-48f8-abee-4c6e1770644a",
   "metadata": {},
   "source": [
    "# XGBoost Regressor"
   ]
  },
  {
   "cell_type": "code",
   "execution_count": 73,
   "id": "f64a446d",
   "metadata": {
    "scrolled": true
   },
   "outputs": [
    {
     "name": "stdout",
     "output_type": "stream",
     "text": [
      "Fold 1: RMSE = 21993.0320, R2 = 0.9214\n",
      "Fold 2: RMSE = 30534.3195, R2 = 0.8484\n",
      "Fold 3: RMSE = 23516.4529, R2 = 0.9087\n",
      "Fold 4: RMSE = 21733.6950, R2 = 0.9078\n",
      "Fold 5: RMSE = 21729.4646, R2 = 0.8962\n",
      "Mean RMSE: 23901.3928\n",
      "Mean R2: 0.8965\n"
     ]
    }
   ],
   "source": [
    "import pandas as pd\n",
    "import xgboost as xgb\n",
    "from sklearn.model_selection import KFold\n",
    "from sklearn.metrics import mean_squared_error, r2_score\n",
    "import numpy as np\n",
    "\n",
    "# Load your housing dataset\n",
    "# Assuming you have a DataFrame named 'housing' containing your data\n",
    "\n",
    "# Identify categorical columns\n",
    "categorical_columns = housing.select_dtypes(include=['object']).columns\n",
    "\n",
    "# Create dummy variables for categorical columns\n",
    "housing = pd.get_dummies(housing, columns=categorical_columns, drop_first=True)\n",
    "\n",
    "# Define your feature matrix and target variable\n",
    "X = housing.drop(['SalePrice', 'LogSalePrice', 'LogGrLivArea'], axis=1)\n",
    "y = housing['SalePrice']\n",
    "\n",
    "# Initialize the KFold cross-validator\n",
    "kf = KFold(n_splits=5, shuffle=True, random_state=42)\n",
    "\n",
    "# Lists to store RMSE and R2 scores for each fold\n",
    "rmse_scores = []\n",
    "r2_scores = []\n",
    "\n",
    "# Perform k-fold cross-validation\n",
    "fold = 1\n",
    "for train_index, test_index in kf.split(X):\n",
    "    X_train, X_test = X.iloc[train_index], X.iloc[test_index]\n",
    "    y_train, y_test = y.iloc[train_index], y.iloc[test_index]\n",
    "    \n",
    "    # Create an XGBoost regressor model\n",
    "    model = xgb.XGBRegressor(objective=\"reg:squarederror\")\n",
    "    \n",
    "    # Fit the model on the training data\n",
    "    model.fit(X_train, y_train)\n",
    "    \n",
    "    # Make predictions on the test set\n",
    "    y_pred = model.predict(X_test)\n",
    "    \n",
    "    # Calculate RMSE for this fold\n",
    "    rmse = np.sqrt(mean_squared_error(y_test, y_pred))\n",
    "    rmse_scores.append(rmse)\n",
    "    \n",
    "    # Calculate R2 for this fold\n",
    "    r2 = r2_score(y_test, y_pred)\n",
    "    r2_scores.append(r2)\n",
    "    \n",
    "    # Display RMSE and R2 for this fold\n",
    "    print(f\"Fold {fold}: RMSE = {rmse:.4f}, R2 = {r2:.4f}\")\n",
    "    fold += 1\n",
    "\n",
    "# Calculate and print the mean RMSE and R2 across all folds\n",
    "mean_rmse = np.mean(rmse_scores)\n",
    "mean_r2 = np.mean(r2_scores)\n",
    "print(f\"Mean RMSE: {mean_rmse:.4f}\")\n",
    "print(f\"Mean R2: {mean_r2:.4f}\")\n"
   ]
  },
  {
   "cell_type": "code",
   "execution_count": 94,
   "id": "52469b6c",
   "metadata": {},
   "outputs": [
    {
     "name": "stdout",
     "output_type": "stream",
     "text": [
      "Fold 1: RMSE = 24618.2774, R2 = 0.9226\n",
      "Fold 2: RMSE = 24656.3211, R2 = 0.8913\n",
      "Fold 3: RMSE = 22131.6248, R2 = 0.8955\n",
      "Fold 4: RMSE = 20037.6961, R2 = 0.9292\n",
      "Fold 5: RMSE = 20289.0592, R2 = 0.9139\n",
      "Mean RMSE: 22346.5957\n",
      "Mean R2: 0.9105\n"
     ]
    }
   ],
   "source": [
    "import pandas as pd\n",
    "import xgboost as xgb\n",
    "from sklearn.model_selection import KFold\n",
    "from sklearn.metrics import mean_squared_error, r2_score\n",
    "import numpy as np\n",
    "\n",
    "# Load your housing dataset\n",
    "# Assuming you have a DataFrame named 'housing' containing your data\n",
    "\n",
    "# Identify categorical columns\n",
    "categorical_columns = housing_coordinates.select_dtypes(include=['object']).columns\n",
    "\n",
    "# Create dummy variables for categorical columns\n",
    "housing_coordinates = pd.get_dummies(housing_coordinates, columns=categorical_columns, drop_first=True)\n",
    "\n",
    "# Define your feature matrix and target variable\n",
    "X = housing_coordinates.drop(['SalePrice', 'LogSalePrice', 'LogGrLivArea'], axis=1)\n",
    "y = housing_coordinates['SalePrice']\n",
    "\n",
    "# Initialize the KFold cross-validator\n",
    "kf = KFold(n_splits=5, shuffle=True, random_state=42)\n",
    "\n",
    "# Lists to store RMSE and R2 scores for each fold\n",
    "rmse_scores = []\n",
    "r2_scores = []\n",
    "\n",
    "# Perform k-fold cross-validation\n",
    "fold = 1\n",
    "for train_index, test_index in kf.split(X):\n",
    "    X_train, X_test = X.iloc[train_index], X.iloc[test_index]\n",
    "    y_train, y_test = y.iloc[train_index], y.iloc[test_index]\n",
    "    \n",
    "    # Create an XGBoost regressor model\n",
    "    model = xgb.XGBRegressor(objective=\"reg:squarederror\")\n",
    "    \n",
    "    # Fit the model on the training data\n",
    "    model.fit(X_train, y_train)\n",
    "    \n",
    "    # Make predictions on the test set\n",
    "    y_pred = model.predict(X_test)\n",
    "    \n",
    "    # Calculate RMSE for this fold\n",
    "    rmse = np.sqrt(mean_squared_error(y_test, y_pred))\n",
    "    rmse_scores.append(rmse)\n",
    "    \n",
    "    # Calculate R2 for this fold\n",
    "    r2 = r2_score(y_test, y_pred)\n",
    "    r2_scores.append(r2)\n",
    "    \n",
    "    # Display RMSE and R2 for this fold\n",
    "    print(f\"Fold {fold}: RMSE = {rmse:.4f}, R2 = {r2:.4f}\")\n",
    "    fold += 1\n",
    "\n",
    "# Calculate and print the mean RMSE and R2 across all folds\n",
    "mean_rmse = np.mean(rmse_scores)\n",
    "mean_r2 = np.mean(r2_scores)\n",
    "print(f\"Mean RMSE: {mean_rmse:.4f}\")\n",
    "print(f\"Mean R2: {mean_r2:.4f}\")\n"
   ]
  },
  {
   "cell_type": "code",
   "execution_count": 95,
   "id": "c35096da",
   "metadata": {},
   "outputs": [
    {
     "name": "stdout",
     "output_type": "stream",
     "text": [
      "                          Feature  Importance\n",
      "5                     OverallQual    0.321348\n",
      "38                        TotalSF    0.144201\n",
      "157                  ExterQual_TA    0.105330\n",
      "168                   BsmtQual_Gd    0.025754\n",
      "15                       2ndFlrSF    0.022689\n",
      "221             GarageType_Attchd    0.021842\n",
      "207                KitchenQual_Gd    0.020836\n",
      "26                     GarageCars    0.018127\n",
      "202                  CentralAir_Y    0.016363\n",
      "239                 GarageCond_TA    0.016305\n",
      "209                KitchenQual_TA    0.011939\n",
      "1                       GrLivArea    0.011914\n",
      "24                     Fireplaces    0.009616\n",
      "1813  Prop_Addr_3313 STOCKBURY ST    0.009074\n",
      "7                       YearBuilt    0.008792\n"
     ]
    }
   ],
   "source": [
    "# Create an XGBoost regressor model (if you haven't already)\n",
    "model = xgb.XGBRegressor(objective=\"reg:squarederror\")\n",
    "    \n",
    "# Fit the model on the entire dataset\n",
    "model.fit(X, y)\n",
    "\n",
    "# Get feature importances\n",
    "feature_importances = model.feature_importances_\n",
    "\n",
    "# Create a DataFrame to display feature names and their importances\n",
    "feature_importance_df = pd.DataFrame({'Feature': X.columns, 'Importance': feature_importances})\n",
    "\n",
    "# Sort the features by importance in descending order\n",
    "feature_importance_df = feature_importance_df.sort_values(by='Importance', ascending=False)\n",
    "\n",
    "# Display the top N most important features (adjust N as needed)\n",
    "top_N = 15  # For example, to display the top 10 features\n",
    "print(feature_importance_df.head(top_N))\n"
   ]
  },
  {
   "cell_type": "code",
   "execution_count": 107,
   "id": "f65d5889",
   "metadata": {
    "scrolled": true
   },
   "outputs": [
    {
     "name": "stdout",
     "output_type": "stream",
     "text": [
      "XBG with negatively correlated neighborhods set to 0\n",
      "MSE for each fold: [119006348.07399593, 240176930.25097805, 148573369.38060457, 207340991.9758226, 128881195.3494363]\n",
      "R^2 for each fold: [0.9789268670844546, 0.9601354750350116, 0.9724910910695423, 0.968221400680643, 0.9750483206791408]\n"
     ]
    }
   ],
   "source": [
    "import xgboost as xgb\n",
    "from sklearn.model_selection import KFold\n",
    "from sklearn.metrics import mean_squared_error, r2_score\n",
    "\n",
    "# Set negatively correlated neighborhoods to zero\n",
    "negative_neighborhoods = [\n",
    "    'Neighborhood_OldTown', 'Neighborhood_NAmes', 'Neighborhood_Edwards',\n",
    "    'Neighborhood_IDOTRR', 'Neighborhood_BrkSide', 'Neighborhood_MeadowV',\n",
    "    'Neighborhood_Sawyer', 'Neighborhood_BrDale', 'Neighborhood_SWISU',\n",
    "    'Neighborhood_NPkVill', 'Neighborhood_Mitchel', 'Neighborhood_Landmrk'\n",
    "]\n",
    "for neighborhood in negative_neighborhoods:\n",
    "    housing_coordinates[neighborhood] = 0\n",
    "\n",
    "# Assuming the target is 'SalePrice' and other columns are features\n",
    "X = housing_coordinates.drop(['SalePrice', 'LogSalePrice', 'LogGrLivArea'], axis=1)\n",
    "y = housing_coordinates['SalePrice']\n",
    "\n",
    "# Drop non-numeric columns\n",
    "X = X.select_dtypes(include=['float64', 'int64'])\n",
    "\n",
    "\n",
    "# Initialize k-fold cross-validation\n",
    "kf = KFold(n_splits=5, shuffle=True, random_state=0)\n",
    "\n",
    "mse_scores = []\n",
    "r2_scores = []\n",
    "\n",
    "for train_index, test_index in kf.split(X):\n",
    "    X_train, X_test = X.iloc[train_index], X.iloc[test_index]\n",
    "    y_train, y_test = y.iloc[train_index], y.iloc[test_index]\n",
    "    \n",
    "    model = xgb.XGBRegressor(objective ='reg:squarederror')\n",
    "    model.fit(X_train, y_train)\n",
    "    y_pred = model.predict(X_test)\n",
    "    \n",
    "    mse_scores.append(mean_squared_error(y_test, y_pred))\n",
    "    r2_scores.append(r2_score(y_test, y_pred))\n",
    "\n",
    "print('XBG with negatively correlated neighborhods set to 0')    \n",
    "print(\"MSE for each fold:\", mse_scores)\n",
    "print(\"R^2 for each fold:\", r2_scores)\n"
   ]
  },
  {
   "cell_type": "code",
   "execution_count": 108,
   "id": "684c6aa2",
   "metadata": {},
   "outputs": [
    {
     "data": {
      "image/png": "[encoded data removed]",
      "text/plain": [
       "<Figure size 1000x500 with 1 Axes>"
      ]
     },
     "metadata": {},
     "output_type": "display_data"
    },
    {
     "data": {
      "image/png": "[encoded data removed]",
      "text/plain": [
       "<Figure size 1000x500 with 1 Axes>"
      ]
     },
     "metadata": {},
     "output_type": "display_data"
    }
   ],
   "source": [
    "import matplotlib.pyplot as plt\n",
    "\n",
    "# Given results\n",
    "mse_values = [130714298.66325526, 225462050.7319067, 154557075.00264412, 200189966.26593482, 127393680.68273637]\n",
    "r2_values = [0.9768536734865577, 0.9625778481693998, 0.9713831858392202, 0.9693174192662174, 0.9753363067491639]\n",
    "folds = [f\"Fold {i}\" for i in range(1, len(mse_values)+1)]\n",
    "\n",
    "# Bar plot for MSE values\n",
    "plt.figure(figsize=(10, 5))\n",
    "plt.bar(folds, mse_values, color='blue', alpha=0.7)\n",
    "plt.ylabel('MSE Value')\n",
    "plt.title('MSE Values Across Folds')\n",
    "plt.show()\n",
    "\n",
    "# Bar plot for R^2 values\n",
    "plt.figure(figsize=(10, 5))\n",
    "plt.bar(folds, r2_values, color='green', alpha=0.7)\n",
    "plt.ylabel('R^2 Value')\n",
    "plt.ylim(0.95, 1)  # To zoom into the range of R^2 values for better clarity\n",
    "plt.title('R^2 Values Across Folds')\n",
    "plt.show()\n"
   ]
  },
  {
   "cell_type": "code",
   "execution_count": 109,
   "id": "f50e0c79",
   "metadata": {},
   "outputs": [
    {
     "data": {
      "image/png": "[encoded data removed]",
      "text/plain": [
       "<Figure size 1000x600 with 1 Axes>"
      ]
     },
     "metadata": {},
     "output_type": "display_data"
    }
   ],
   "source": [
    "import numpy as np\n",
    "import matplotlib.pyplot as plt\n",
    "\n",
    "# Lists to store training and test MSE for each fold\n",
    "train_mse_scores = []\n",
    "test_mse_scores = []\n",
    "\n",
    "# Initialize k-fold cross-validation\n",
    "kf = KFold(n_splits=5, shuffle=True, random_state=0)\n",
    "\n",
    "for train_index, test_index in kf.split(X):\n",
    "    X_train, X_test = X.iloc[train_index], X.iloc[test_index]\n",
    "    y_train, y_test = y.iloc[train_index], y.iloc[test_index]\n",
    "    \n",
    "    model = xgb.XGBRegressor(objective ='reg:squarederror')\n",
    "    model.fit(X_train, y_train)\n",
    "    \n",
    "    train_pred = model.predict(X_train)\n",
    "    y_pred = model.predict(X_test)\n",
    "    \n",
    "    train_mse_scores.append(mean_squared_error(y_train, train_pred))\n",
    "    test_mse_scores.append(mean_squared_error(y_test, y_pred))\n",
    "\n",
    "# Plotting\n",
    "plt.figure(figsize=(10, 6))\n",
    "x_axis = np.arange(len(train_mse_scores))\n",
    "plt.plot(x_axis, train_mse_scores, label='Train MSE', marker='o')\n",
    "plt.plot(x_axis, test_mse_scores, label='Test MSE', marker='o')\n",
    "plt.legend()\n",
    "plt.xlabel('Fold')\n",
    "plt.ylabel('MSE')\n",
    "plt.title('Train vs. Test MSE for Each Fold')\n",
    "plt.xticks(x_axis)\n",
    "plt.grid(True)\n",
    "plt.show()\n"
   ]
  },
  {
   "cell_type": "code",
   "execution_count": 110,
   "id": "6b237679",
   "metadata": {},
   "outputs": [
    {
     "name": "stdout",
     "output_type": "stream",
     "text": [
      "Fitting 3 folds for each of 2916 candidates, totalling 8748 fits\n",
      "Best hyperparameters: {'alpha': 0, 'colsample_bytree': 1.0, 'gamma': 0.0, 'lambda': 1, 'max_depth': 3, 'min_child_weight': 5, 'subsample': 1.0}\n"
     ]
    }
   ],
   "source": [
    "from sklearn.model_selection import GridSearchCV\n",
    "\n",
    "param_grid = {\n",
    "    'max_depth': [3, 5, 7, 9],\n",
    "    'min_child_weight': [1, 3, 5],\n",
    "    'gamma': [0.0, 0.1, 0.2],\n",
    "    'subsample': [0.6, 0.8, 1.0],\n",
    "    'colsample_bytree': [0.6, 0.8, 1.0],\n",
    "    'lambda': [0, 0.5, 1],\n",
    "    'alpha': [0, 0.5, 1]\n",
    "}\n",
    "\n",
    "xgb_model = xgb.XGBRegressor(objective ='reg:squarederror')\n",
    "grid_search = GridSearchCV(xgb_model, param_grid, cv=3, scoring='neg_mean_squared_error', verbose=1, n_jobs=-1)\n",
    "grid_search.fit(X, y)\n",
    "print(f\"Best hyperparameters: {grid_search.best_params_}\")\n"
   ]
  },
  {
   "cell_type": "code",
   "execution_count": 111,
   "id": "6eeaeb3b",
   "metadata": {},
   "outputs": [
    {
     "name": "stdout",
     "output_type": "stream",
     "text": [
      "MSE for each fold: [98538806.58546123, 158349232.8779519, 75965519.71544346, 125438737.0540172, 90480362.40312581]\n",
      "R^2 for each fold: [0.9825511714112637, 0.9737172219636021, 0.9859347030196663, 0.9807743402499463, 0.9824828053355901]\n",
      "Average MSE: 109754531.72719991\n",
      "Average R^2: 0.9810920483960137\n"
     ]
    }
   ],
   "source": [
    "best_params = {\n",
    "    'alpha': 0,\n",
    "    'colsample_bytree': 1.0,\n",
    "    'gamma': 0.0,\n",
    "    'lambda': 1,\n",
    "    'max_depth': 3,\n",
    "    'min_child_weight': 5,\n",
    "    'subsample': 1.0,\n",
    "    'objective': 'reg:squarederror'  # This is the default for regression tasks in XGBoost\n",
    "}\n",
    "\n",
    "model = xgb.XGBRegressor(**best_params)\n",
    "\n",
    "kf = KFold(n_splits=5, shuffle=True, random_state=0)\n",
    "\n",
    "mse_scores = []\n",
    "r2_scores = []\n",
    "\n",
    "for train_index, test_index in kf.split(X):\n",
    "    X_train, X_test = X.iloc[train_index], X.iloc[test_index]\n",
    "    y_train, y_test = y.iloc[train_index], y.iloc[test_index]\n",
    "    \n",
    "    model.fit(X_train, y_train)\n",
    "    y_pred = model.predict(X_test)\n",
    "    \n",
    "    mse_scores.append(mean_squared_error(y_test, y_pred))\n",
    "    r2_scores.append(r2_score(y_test, y_pred))\n",
    "    \n",
    "\n",
    "print(\"MSE for each fold:\", mse_scores)\n",
    "print(\"R^2 for each fold:\", r2_scores)\n",
    "print(\"Average MSE:\", sum(mse_scores) / len(mse_scores))\n",
    "print(\"Average R^2:\", sum(r2_scores) / len(r2_scores))\n",
    "\n"
   ]
  },
  {
   "cell_type": "code",
   "execution_count": 112,
   "id": "d7bf4a1f",
   "metadata": {},
   "outputs": [
    {
     "data": {
      "image/png": "[encoded data removed]",
      "text/plain": [
       "<Figure size 1000x600 with 1 Axes>"
      ]
     },
     "metadata": {},
     "output_type": "display_data"
    }
   ],
   "source": [
    "import matplotlib.pyplot as plt\n",
    "import numpy as np\n",
    "\n",
    "# Number of folds\n",
    "n_folds = len(train_mse_scores)\n",
    "\n",
    "# Bar width for plotting\n",
    "bar_width = 0.35\n",
    "index = np.arange(n_folds)\n",
    "\n",
    "# Creating the bar chart\n",
    "plt.figure(figsize=(10, 6))\n",
    "bar1 = plt.bar(index, train_mse_scores, bar_width, label='Train MSE', color='b', alpha=0.7)\n",
    "bar2 = plt.bar(index + bar_width, test_mse_scores, bar_width, label='Test MSE', color='r', alpha=0.7)\n",
    "\n",
    "# Labeling and titling\n",
    "plt.xlabel('Fold Number')\n",
    "plt.ylabel('Mean Squared Error')\n",
    "plt.title('Train vs. Test MSE for Each Fold')\n",
    "plt.xticks(index + bar_width / 2, range(1, n_folds+1))  # X-axis labels: 1, 2, 3, ...\n",
    "plt.legend()\n",
    "\n",
    "# Displaying the chart\n",
    "plt.tight_layout()\n",
    "plt.show()\n"
   ]
  }
 ],
 "metadata": {
  "kernelspec": {
   "display_name": "Python 3 (ipykernel)",
   "language": "python",
   "name": "python3"
  },
  "language_info": {
   "codemirror_mode": {
    "name": "ipython",
    "version": 3
   },
   "file_extension": ".py",
   "mimetype": "text/x-python",
   "name": "python",
   "nbconvert_exporter": "python",
   "pygments_lexer": "ipython3",
   "version": "3.12.0"
  }
 },
 "nbformat": 4,
 "nbformat_minor": 5
}
