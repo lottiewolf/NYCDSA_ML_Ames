{
 "cells": [
  {
   "cell_type": "markdown",
   "id": "41aa43e4-8797-46a9-b2aa-d8454981bc21",
   "metadata": {},
   "source": [
    "# Ames Modeling"
   ]
  },
  {
   "cell_type": "markdown",
   "id": "11fe8f2d-f336-4e7b-8338-81e5638f1929",
   "metadata": {},
   "source": [
    "Load the dataset, begin modeling."
   ]
  },
  {
   "cell_type": "code",
   "execution_count": 1,
   "id": "b7bda3f3-afa2-4ba5-807a-81a69cd0f94a",
   "metadata": {},
   "outputs": [],
   "source": [
    "import pandas as pd\n",
    "import numpy as np\n",
    "import matplotlib.pyplot as plt\n",
    "import seaborn as sns\n",
    "from sklearn.feature_selection import f_regression\n",
    "from sklearn.linear_model import LinearRegression\n",
    "from sklearn.model_selection import train_test_split\n",
    "from sklearn.model_selection import KFold\n",
    "from sklearn.model_selection import cross_val_score\n",
    "from sklearn.metrics import mean_absolute_error, mean_squared_error, r2_score\n",
    "from sklearn.linear_model import Ridge, Lasso, ElasticNet\n",
    "from sklearn.model_selection import GridSearchCV\n",
    "from sklearn.ensemble import RandomForestRegressor, GradientBoostingRegressor\n",
    "from sklearn.preprocessing import StandardScaler, OneHotEncoder\n",
    "from sklearn.impute import SimpleImputer\n",
    "from sklearn.compose import ColumnTransformer\n",
    "from sklearn.pipeline import Pipeline\n",
    "import xgboost as xgb\n",
    "from itertools import combinations\n"
   ]
  },
  {
   "cell_type": "code",
   "execution_count": 2,
   "id": "d7abe5ee",
   "metadata": {
    "scrolled": true
   },
   "outputs": [],
   "source": [
    "#housing_nick = pd.read_csv('data/NH_DF.csv')\n",
    "#housing_cats = pd.read_csv('data/housing_with_cats.csv')\n",
    "housing = pd.read_csv('data/housing_numerical.csv')\n",
    "\n",
    "housing.drop('latitude',axis=1,inplace=True)\n",
    "housing.drop('longitude',axis=1,inplace=True)\n",
    "housing.drop('DateSold',axis=1,inplace=True)\n",
    "\n",
    "#housing.count()\n",
    "#housing.info()\n",
    "#housing.describe()\n"
   ]
  },
  {
   "cell_type": "code",
   "execution_count": 3,
   "id": "6bc0b70d-b9ee-4dd9-94eb-ef88bfcb5e0a",
   "metadata": {},
   "outputs": [],
   "source": [
    "# Fill NaN with 'None' for categorical columns, and fill NaN with 0 for numerical features.\n",
    "housing_na = housing.copy()\n",
    "# Loop through each feature and examine\n",
    "for i, feature in enumerate(housing.columns):\n",
    "    if housing[feature].dtype=='object':\n",
    "        housing[feature]=housing[feature].fillna('None')\n",
    "    else:\n",
    "        h_mean = housing[feature].mean()\n",
    "        housing[feature] = housing[feature].fillna(h_mean)\n"
   ]
  },
  {
   "cell_type": "markdown",
   "id": "0f6b3320-658f-4a60-b00c-4662c437fa0d",
   "metadata": {},
   "source": [
    "# Simple Linear Regression (SLR)"
   ]
  },
  {
   "cell_type": "code",
   "execution_count": 4,
   "id": "65bbe390-088c-4a07-a067-60bd81a035f6",
   "metadata": {},
   "outputs": [],
   "source": [
    "def SLR(X, y):\n",
    "    #Set up the model\n",
    "    lm = LinearRegression()\n",
    "    lm.fit(X, y)\n",
    "    score=lm.score(X, y)\n",
    "    return score\n"
   ]
  },
  {
   "cell_type": "markdown",
   "id": "4cdc99a1-261e-4901-a4dd-df9022c0e9ba",
   "metadata": {},
   "source": [
    "# Multiple Linear Regression (MLR)"
   ]
  },
  {
   "cell_type": "code",
   "execution_count": 5,
   "id": "73135282-b7e1-453d-8e4b-417d7f4c66d6",
   "metadata": {},
   "outputs": [],
   "source": [
    "def MLR(X, y):\n",
    "    # Split the dataset into a training set and a test set\n",
    "    X_train, X_test, y_train, y_test = train_test_split(X, y, test_size=0.2, random_state=42)  # 80% train, 20% test\n",
    "    lm = LinearRegression()\n",
    "    lm.fit(X_train, y_train)\n",
    "    y_pred = lm.predict(X_test) # Make predictions on the test set\n",
    "    r2_value_calculated = r2_score(y_test, y_pred)\n",
    "    coef = lm.coef_\n",
    "    return [r2_value_calculated, coef]\n"
   ]
  },
  {
   "cell_type": "markdown",
   "id": "bd799e53-a2fd-4916-87c3-d7c430b1c7b2",
   "metadata": {},
   "source": [
    "# Multiple Linear Regression (MLR) with k-fold CV"
   ]
  },
  {
   "cell_type": "code",
   "execution_count": 6,
   "id": "812ca9ba-d701-4e3d-b70b-da9e2aa536f1",
   "metadata": {},
   "outputs": [],
   "source": [
    "def MLR_kfold(X,y,k):\n",
    "    # Create an instance of KFold with the desired number of folds\n",
    "    kf = KFold(n_splits=k, shuffle=True, random_state=42)\n",
    "    \n",
    "    # Initialize lists to store RMSE and R-squared values for each fold\n",
    "    mae_scores = []\n",
    "    mse_scores = []\n",
    "    rmse_scores = []\n",
    "    r2_scores = []\n",
    "    \n",
    "    # Iterate over the folds\n",
    "    i=0\n",
    "    for train_index, test_index in kf.split(X):\n",
    "        X_train, X_test = X.iloc[train_index], X.iloc[test_index]\n",
    "        y_train, y_test = y.iloc[train_index], y.iloc[test_index]\n",
    "        \n",
    "        # 2. Modeling (MLR)\n",
    "        lm = LinearRegression()\n",
    "        lm.fit(X_train, y_train)\n",
    "        y_pred = lm.predict(X_test) # Make predictions on the test set\n",
    "        \n",
    "        # 3. Evaluation Calculate MAE, MSE, and RMSE for this fold\n",
    "        mae = mean_absolute_error(y_test, y_pred)\n",
    "        mse = mean_squared_error(y_test, y_pred)\n",
    "        rmse = np.sqrt(mse)\n",
    "        r2 = r2_score(y_test, y_pred)\n",
    "        \n",
    "        # Append the scores to the respective lists\n",
    "        mae_scores.append(mae)\n",
    "        mse_scores.append(mse)\n",
    "        rmse_scores.append(rmse)\n",
    "        r2_scores.append(r2)\n",
    "        print(i,\"R-squared:\", r2)\n",
    "        i=i+1\n",
    "\n",
    "    return [rmse_scores, r2_scores]\n"
   ]
  },
  {
   "cell_type": "markdown",
   "id": "9a4fa37c-4051-4a16-9867-f06d2ef1eea7",
   "metadata": {},
   "source": [
    "# Penalized Regression with k-fold CV"
   ]
  },
  {
   "cell_type": "code",
   "execution_count": 7,
   "id": "e4dfb7e7-4082-4b3c-9efc-378f97b8aa97",
   "metadata": {},
   "outputs": [],
   "source": [
    "# These functions do penalized regression on ridge, lasso, and elastic net\n",
    "# regression models with k-fold cross validation, and uses GridSearchCV to \n",
    "# determine the best alpha\n",
    "\n",
    "def grid_alpha(X,y,model):\n",
    "    # Do GridSearchCV to find best alpha\n",
    "    params = {'alpha': np.linspace(0, 1, 5)}\n",
    "    grid = GridSearchCV(model, params, scoring='neg_mean_squared_error', return_train_score=True)\n",
    "    gX_train, gX_test, gy_train, gy_test = train_test_split(X, y, test_size=0.2, random_state=42)\n",
    "\n",
    "    gX_train = StandardScaler().fit_transform(gX_train)\n",
    "    gX_train = pd.DataFrame(gX_train)\n",
    "    \n",
    "    grid.fit(gX_train, gy_train)\n",
    "    best_alpha = grid.best_params_['alpha']\n",
    "    print(\"best alpha for \",model,\": \",best_alpha)\n",
    "    return best_alpha\n",
    "    \n",
    "def penalized(X,y,k,ratio):\n",
    "    print(\"Ridge, Lasso, and Elastic Net with GridSearchCV for alpha\")\n",
    "    print(\"Features:\\n\", list(X.columns.values))\n",
    "\n",
    "    ridge_alpha = grid_alpha(X,y, Ridge())\n",
    "    lasso_alpha = grid_alpha(X,y, Lasso())\n",
    "    enet_alpha = grid_alpha(X,y, ElasticNet())\n",
    "       \n",
    "    # Create an instance of KFold with the desired number of folds, iterate\n",
    "    kf = KFold(n_splits=k, shuffle=True, random_state=42)\n",
    "    for train_index, test_index in kf.split(X):\n",
    "        X_train, X_test = X.iloc[train_index], X.iloc[test_index]\n",
    "        y_train, y_test = y.iloc[train_index], y.iloc[test_index]\n",
    "        scaler = StandardScaler().fit(X_train)\n",
    "        X_train_s = scaler.transform(X_train)\n",
    "        X_train_s = pd.DataFrame(X_train_s)\n",
    "\n",
    "        ############################ Create Models ###########################################     \n",
    "        ridge_model = Ridge(alpha=ridge_alpha) \n",
    "        lasso_model = Lasso(alpha=lasso_alpha)\n",
    "        elasticnet_model = ElasticNet(alpha=enet_alpha, l1_ratio=ratio) # Ratio mixing parameter controls balance between Ridge and Lasso\n",
    "    \n",
    "        # Fit the models on the training data\n",
    "        ridge_model.fit(X_train_s, y_train)\n",
    "        lasso_model.fit(X_train_s, y_train)\n",
    "        elasticnet_model.fit(X_train_s, y_train)\n",
    "    \n",
    "        ######################### Make predictions using models #############################\n",
    "        X_test_s = scaler.transform(X_test)\n",
    "        X_test_s = pd.DataFrame(X_test_s)\n",
    "        ridge_predictions = ridge_model.predict(X_test_s)\n",
    "        lasso_predictions = lasso_model.predict(X_test_s)\n",
    "        elasticnet_predictions = elasticnet_model.predict(X_test_s)\n",
    "    \n",
    "        ############################ Evaluate Models #########################################\n",
    "        # Calculate R-squared for the models\n",
    "        ridge_r2 = r2_score(y_test, ridge_predictions)\n",
    "        lasso_r2 = r2_score(y_test, lasso_predictions)\n",
    "        elasticnet_r2 = r2_score(y_test, elasticnet_predictions)\n",
    "    \n",
    "        print(\"R-squared for Ridge model:\", ridge_r2)\n",
    "        print(\"R-squared for Lasso model:\", lasso_r2)\n",
    "        print(\"R-squared for ElasticNet model:\", elasticnet_r2)\n",
    "    "
   ]
  },
  {
   "cell_type": "markdown",
   "id": "ab670454-25f5-464d-85e8-b31f700de192",
   "metadata": {},
   "source": [
    "# Running the models"
   ]
  },
  {
   "cell_type": "markdown",
   "id": "7d2a4f50-6df3-4bb6-82b6-c21c655d8aed",
   "metadata": {},
   "source": [
    "## Running Simple Linear Regression"
   ]
  },
  {
   "cell_type": "code",
   "execution_count": 8,
   "id": "e8e1e2d9-cff9-4a17-834a-6d8dd9d0dbd2",
   "metadata": {},
   "outputs": [
    {
     "name": "stdout",
     "output_type": "stream",
     "text": [
      "R2 for the top 10 Simple Linear Regression models: \n",
      "score, feature\n",
      " [[1.0, 'SalePrice'], [0.6798715958383224, 'TotalSF'], [0.6298616937506346, 'OverallQual'], [0.5204328184549516, 'GrLivArea'], [0.46774549979837465, 'ExterQual'], [0.43177063751011224, 'KitchenQual'], [0.4283448377541429, 'TotalBsmtSF'], [0.4154510111295472, 'BsmtQual'], [0.4154213603034195, '1stFlrSF'], [0.4120791972028769, 'GarageCars']]\n"
     ]
    }
   ],
   "source": [
    "# Run SLR for all of the variables (non-nominal)\n",
    "\n",
    "#remove categorical non numeric features\n",
    "housing_num = housing.select_dtypes(exclude=[object])\n",
    "features = list(housing_num.columns.values)\n",
    "\n",
    "results = []\n",
    "# Loop through each feature and examine the score\n",
    "for i, feature in enumerate(housing[features]):\n",
    "    X=housing[[features[i]]]\n",
    "    y=housing['SalePrice']\n",
    "    score=SLR(X,y)\n",
    "    results.append([score,feature])\n",
    "\n",
    "results.sort(reverse=True)\n",
    "print(\"R2 for the top 10 Simple Linear Regression models: \\nscore, feature\\n\", results[:10])"
   ]
  },
  {
   "cell_type": "markdown",
   "id": "d24f1b63-b037-4366-a6ab-f392a3b044b0",
   "metadata": {},
   "source": [
    "## Running Multiple Linear Regression"
   ]
  },
  {
   "cell_type": "code",
   "execution_count": 9,
   "id": "e350d80f-21e7-4632-9671-4e69dd36ce9f",
   "metadata": {},
   "outputs": [
    {
     "name": "stdout",
     "output_type": "stream",
     "text": [
      "['GrLivArea', 'MSSubClass', 'LotFrontage', 'LotArea', 'OverallQual', 'OverallCond', 'Age', 'YearRemodAdd', 'MasVnrArea', 'BsmtFinSF1', 'BsmtFinSF2', 'BsmtUnfSF', 'TotalBsmtSF', 'LowQualFinSF', 'BedroomAbvGr']\n",
      "R2 for Multiple Linear Regression model:  0.8649311612533718\n",
      "Coefficient: [ 6.83147292e+01 -9.36749703e+02  2.82851291e+01  7.10371974e-01\n",
      "  1.57501567e+04  4.90140681e+03 -3.30065923e+02  2.13539994e+02\n",
      "  3.76511543e+01  2.11208137e+01  1.13389184e+01 -3.25206899e+00\n",
      "  2.92076632e+01 -1.76731942e+01 -9.61122618e+03]\n"
     ]
    }
   ],
   "source": [
    "best15_features = ['GrLivArea', 'MSSubClass', 'LotFrontage', 'LotArea', 'OverallQual', 'OverallCond', \n",
    "            'Age', 'YearRemodAdd', 'MasVnrArea', 'BsmtFinSF1', 'BsmtFinSF2', 'BsmtUnfSF', 'TotalBsmtSF', \n",
    "            'LowQualFinSF', 'BedroomAbvGr'] #top 15 from one of the combinatorics run\n",
    "X = housing[best15_features]  # Features\n",
    "y = housing['SalePrice']  # Target variable\n",
    "\n",
    "r = MLR(X,y)\n",
    "print(best15_features)\n",
    "print(\"R2 for Multiple Linear Regression model: \", r[0])\n",
    "print(\"Coefficient:\", r[1])"
   ]
  },
  {
   "cell_type": "code",
   "execution_count": 10,
   "id": "4f83e780-fbff-4f6e-a750-d6f32b747dc2",
   "metadata": {},
   "outputs": [
    {
     "name": "stdout",
     "output_type": "stream",
     "text": [
      "MLR with k-fold Cross Validation\n",
      "Features:\n",
      " ['TotalSF', 'Age']\n",
      "0 R-squared: 0.748909898301216\n",
      "1 R-squared: 0.759749861919766\n",
      "2 R-squared: 0.7618708846412267\n",
      "3 R-squared: 0.754905357875141\n",
      "4 R-squared: 0.7065066069288354\n",
      "Average R-squared: 0.7463885219332369\n",
      "Standard deviation of R-squared: 0.020433746298346732\n"
     ]
    }
   ],
   "source": [
    "# Run MLR with K-fold CV\n",
    "\n",
    "# MLR with K-fold Cross Validation\n",
    "features = ['TotalSF','Age']\n",
    "X = housing[features]  # Features\n",
    "y = housing['SalePrice']  # Target variable\n",
    "\n",
    "print(\"MLR with k-fold Cross Validation\")\n",
    "print(\"Features:\\n\", features)\n",
    "\n",
    "r = MLR_kfold(X,y,k=5)\n",
    "\n",
    "#print(\"Average RMSE:\", avg_rmse)\n",
    "print(\"Average R-squared:\", np.mean(r[1]))\n",
    "print(\"Standard deviation of R-squared:\", np.std(r[1]))\n"
   ]
  },
  {
   "cell_type": "markdown",
   "id": "417f8e79-906c-419b-bd36-b66296ade1f3",
   "metadata": {},
   "source": [
    "## Running Ridge, Lasso, and Elastic Net"
   ]
  },
  {
   "cell_type": "code",
   "execution_count": 11,
   "id": "440d72fc-cda4-4ef8-9df6-ce104a0d9676",
   "metadata": {},
   "outputs": [
    {
     "name": "stdout",
     "output_type": "stream",
     "text": [
      "Ridge, Lasso, and Elastic Net with GridSearchCV for alpha\n",
      "Features:\n",
      " ['GrLivArea', 'MSSubClass', 'LotFrontage', 'LotArea', 'OverallQual', 'OverallCond', 'Age', 'YearRemodAdd', 'MasVnrArea', 'BsmtFinSF1', 'BsmtFinSF2', 'BsmtUnfSF', 'TotalBsmtSF', 'LowQualFinSF', 'BedroomAbvGr']\n",
      "best alpha for  Ridge() :  1.0\n"
     ]
    },
    {
     "name": "stderr",
     "output_type": "stream",
     "text": [
      "/home/cwolf/.local/lib/python3.12/site-packages/sklearn/linear_model/_ridge.py:200: LinAlgWarning: Ill-conditioned matrix (rcond=8.28093e-18): result may not be accurate.\n",
      "  return linalg.solve(A, Xy, assume_a=\"pos\", overwrite_a=True).T\n",
      "/home/cwolf/.local/lib/python3.12/site-packages/sklearn/linear_model/_ridge.py:200: LinAlgWarning: Ill-conditioned matrix (rcond=1.68039e-17): result may not be accurate.\n",
      "  return linalg.solve(A, Xy, assume_a=\"pos\", overwrite_a=True).T\n",
      "/home/cwolf/.local/lib/python3.12/site-packages/sklearn/linear_model/_ridge.py:200: LinAlgWarning: Ill-conditioned matrix (rcond=3.92546e-17): result may not be accurate.\n",
      "  return linalg.solve(A, Xy, assume_a=\"pos\", overwrite_a=True).T\n",
      "/home/cwolf/.local/lib/python3.12/site-packages/sklearn/base.py:1152: UserWarning: With alpha=0, this algorithm does not converge well. You are advised to use the LinearRegression estimator\n",
      "  return fit_method(estimator, *args, **kwargs)\n",
      "/home/cwolf/.local/lib/python3.12/site-packages/sklearn/linear_model/_coordinate_descent.py:628: UserWarning: Coordinate descent with no regularization may lead to unexpected results and is discouraged.\n",
      "  model = cd_fast.enet_coordinate_descent(\n",
      "/home/cwolf/.local/lib/python3.12/site-packages/sklearn/linear_model/_coordinate_descent.py:628: ConvergenceWarning: Objective did not converge. You might want to increase the number of iterations, check the scale of the features or consider increasing regularisation. Duality gap: 5.645e+11, tolerance: 8.720e+08 Linear regression models with null weight for the l1 regularization term are more efficiently fitted using one of the solvers implemented in sklearn.linear_model.Ridge/RidgeCV instead.\n",
      "  model = cd_fast.enet_coordinate_descent(\n",
      "/home/cwolf/.local/lib/python3.12/site-packages/sklearn/base.py:1152: UserWarning: With alpha=0, this algorithm does not converge well. You are advised to use the LinearRegression estimator\n",
      "  return fit_method(estimator, *args, **kwargs)\n",
      "/home/cwolf/.local/lib/python3.12/site-packages/sklearn/linear_model/_coordinate_descent.py:628: UserWarning: Coordinate descent with no regularization may lead to unexpected results and is discouraged.\n",
      "  model = cd_fast.enet_coordinate_descent(\n",
      "/home/cwolf/.local/lib/python3.12/site-packages/sklearn/linear_model/_coordinate_descent.py:628: ConvergenceWarning: Objective did not converge. You might want to increase the number of iterations, check the scale of the features or consider increasing regularisation. Duality gap: 5.804e+11, tolerance: 9.105e+08 Linear regression models with null weight for the l1 regularization term are more efficiently fitted using one of the solvers implemented in sklearn.linear_model.Ridge/RidgeCV instead.\n",
      "  model = cd_fast.enet_coordinate_descent(\n",
      "/home/cwolf/.local/lib/python3.12/site-packages/sklearn/base.py:1152: UserWarning: With alpha=0, this algorithm does not converge well. You are advised to use the LinearRegression estimator\n",
      "  return fit_method(estimator, *args, **kwargs)\n",
      "/home/cwolf/.local/lib/python3.12/site-packages/sklearn/linear_model/_coordinate_descent.py:628: UserWarning: Coordinate descent with no regularization may lead to unexpected results and is discouraged.\n",
      "  model = cd_fast.enet_coordinate_descent(\n",
      "/home/cwolf/.local/lib/python3.12/site-packages/sklearn/linear_model/_coordinate_descent.py:628: ConvergenceWarning: Objective did not converge. You might want to increase the number of iterations, check the scale of the features or consider increasing regularisation. Duality gap: 6.205e+11, tolerance: 9.075e+08 Linear regression models with null weight for the l1 regularization term are more efficiently fitted using one of the solvers implemented in sklearn.linear_model.Ridge/RidgeCV instead.\n",
      "  model = cd_fast.enet_coordinate_descent(\n",
      "/home/cwolf/.local/lib/python3.12/site-packages/sklearn/base.py:1152: UserWarning: With alpha=0, this algorithm does not converge well. You are advised to use the LinearRegression estimator\n",
      "  return fit_method(estimator, *args, **kwargs)\n",
      "/home/cwolf/.local/lib/python3.12/site-packages/sklearn/linear_model/_coordinate_descent.py:628: UserWarning: Coordinate descent with no regularization may lead to unexpected results and is discouraged.\n",
      "  model = cd_fast.enet_coordinate_descent(\n",
      "/home/cwolf/.local/lib/python3.12/site-packages/sklearn/linear_model/_coordinate_descent.py:628: ConvergenceWarning: Objective did not converge. You might want to increase the number of iterations, check the scale of the features or consider increasing regularisation. Duality gap: 5.915e+11, tolerance: 9.262e+08 Linear regression models with null weight for the l1 regularization term are more efficiently fitted using one of the solvers implemented in sklearn.linear_model.Ridge/RidgeCV instead.\n",
      "  model = cd_fast.enet_coordinate_descent(\n",
      "/home/cwolf/.local/lib/python3.12/site-packages/sklearn/base.py:1152: UserWarning: With alpha=0, this algorithm does not converge well. You are advised to use the LinearRegression estimator\n",
      "  return fit_method(estimator, *args, **kwargs)\n",
      "/home/cwolf/.local/lib/python3.12/site-packages/sklearn/linear_model/_coordinate_descent.py:628: UserWarning: Coordinate descent with no regularization may lead to unexpected results and is discouraged.\n",
      "  model = cd_fast.enet_coordinate_descent(\n",
      "/home/cwolf/.local/lib/python3.12/site-packages/sklearn/linear_model/_coordinate_descent.py:628: ConvergenceWarning: Objective did not converge. You might want to increase the number of iterations, check the scale of the features or consider increasing regularisation. Duality gap: 6.217e+11, tolerance: 9.347e+08 Linear regression models with null weight for the l1 regularization term are more efficiently fitted using one of the solvers implemented in sklearn.linear_model.Ridge/RidgeCV instead.\n",
      "  model = cd_fast.enet_coordinate_descent(\n",
      "/home/cwolf/.local/lib/python3.12/site-packages/sklearn/base.py:1152: UserWarning: With alpha=0, this algorithm does not converge well. You are advised to use the LinearRegression estimator\n",
      "  return fit_method(estimator, *args, **kwargs)\n",
      "/home/cwolf/.local/lib/python3.12/site-packages/sklearn/linear_model/_coordinate_descent.py:628: UserWarning: Coordinate descent with no regularization may lead to unexpected results and is discouraged.\n",
      "  model = cd_fast.enet_coordinate_descent(\n",
      "/home/cwolf/.local/lib/python3.12/site-packages/sklearn/linear_model/_coordinate_descent.py:628: ConvergenceWarning: Objective did not converge. You might want to increase the number of iterations, check the scale of the features or consider increasing regularisation. Duality gap: 5.645e+11, tolerance: 8.720e+08 Linear regression models with null weight for the l1 regularization term are more efficiently fitted using one of the solvers implemented in sklearn.linear_model.Ridge/RidgeCV instead.\n",
      "  model = cd_fast.enet_coordinate_descent(\n",
      "/home/cwolf/.local/lib/python3.12/site-packages/sklearn/base.py:1152: UserWarning: With alpha=0, this algorithm does not converge well. You are advised to use the LinearRegression estimator\n",
      "  return fit_method(estimator, *args, **kwargs)\n",
      "/home/cwolf/.local/lib/python3.12/site-packages/sklearn/linear_model/_coordinate_descent.py:628: UserWarning: Coordinate descent with no regularization may lead to unexpected results and is discouraged.\n",
      "  model = cd_fast.enet_coordinate_descent(\n"
     ]
    },
    {
     "name": "stdout",
     "output_type": "stream",
     "text": [
      "best alpha for  Lasso() :  1.0\n"
     ]
    },
    {
     "name": "stderr",
     "output_type": "stream",
     "text": [
      "/home/cwolf/.local/lib/python3.12/site-packages/sklearn/linear_model/_coordinate_descent.py:628: ConvergenceWarning: Objective did not converge. You might want to increase the number of iterations, check the scale of the features or consider increasing regularisation. Duality gap: 5.804e+11, tolerance: 9.105e+08 Linear regression models with null weight for the l1 regularization term are more efficiently fitted using one of the solvers implemented in sklearn.linear_model.Ridge/RidgeCV instead.\n",
      "  model = cd_fast.enet_coordinate_descent(\n",
      "/home/cwolf/.local/lib/python3.12/site-packages/sklearn/base.py:1152: UserWarning: With alpha=0, this algorithm does not converge well. You are advised to use the LinearRegression estimator\n",
      "  return fit_method(estimator, *args, **kwargs)\n",
      "/home/cwolf/.local/lib/python3.12/site-packages/sklearn/linear_model/_coordinate_descent.py:628: UserWarning: Coordinate descent with no regularization may lead to unexpected results and is discouraged.\n",
      "  model = cd_fast.enet_coordinate_descent(\n",
      "/home/cwolf/.local/lib/python3.12/site-packages/sklearn/linear_model/_coordinate_descent.py:628: ConvergenceWarning: Objective did not converge. You might want to increase the number of iterations, check the scale of the features or consider increasing regularisation. Duality gap: 6.205e+11, tolerance: 9.075e+08 Linear regression models with null weight for the l1 regularization term are more efficiently fitted using one of the solvers implemented in sklearn.linear_model.Ridge/RidgeCV instead.\n",
      "  model = cd_fast.enet_coordinate_descent(\n",
      "/home/cwolf/.local/lib/python3.12/site-packages/sklearn/base.py:1152: UserWarning: With alpha=0, this algorithm does not converge well. You are advised to use the LinearRegression estimator\n",
      "  return fit_method(estimator, *args, **kwargs)\n",
      "/home/cwolf/.local/lib/python3.12/site-packages/sklearn/linear_model/_coordinate_descent.py:628: UserWarning: Coordinate descent with no regularization may lead to unexpected results and is discouraged.\n",
      "  model = cd_fast.enet_coordinate_descent(\n",
      "/home/cwolf/.local/lib/python3.12/site-packages/sklearn/linear_model/_coordinate_descent.py:628: ConvergenceWarning: Objective did not converge. You might want to increase the number of iterations, check the scale of the features or consider increasing regularisation. Duality gap: 5.915e+11, tolerance: 9.262e+08 Linear regression models with null weight for the l1 regularization term are more efficiently fitted using one of the solvers implemented in sklearn.linear_model.Ridge/RidgeCV instead.\n",
      "  model = cd_fast.enet_coordinate_descent(\n",
      "/home/cwolf/.local/lib/python3.12/site-packages/sklearn/base.py:1152: UserWarning: With alpha=0, this algorithm does not converge well. You are advised to use the LinearRegression estimator\n",
      "  return fit_method(estimator, *args, **kwargs)\n",
      "/home/cwolf/.local/lib/python3.12/site-packages/sklearn/linear_model/_coordinate_descent.py:628: UserWarning: Coordinate descent with no regularization may lead to unexpected results and is discouraged.\n",
      "  model = cd_fast.enet_coordinate_descent(\n",
      "/home/cwolf/.local/lib/python3.12/site-packages/sklearn/linear_model/_coordinate_descent.py:628: ConvergenceWarning: Objective did not converge. You might want to increase the number of iterations, check the scale of the features or consider increasing regularisation. Duality gap: 6.217e+11, tolerance: 9.347e+08 Linear regression models with null weight for the l1 regularization term are more efficiently fitted using one of the solvers implemented in sklearn.linear_model.Ridge/RidgeCV instead.\n",
      "  model = cd_fast.enet_coordinate_descent(\n",
      "/home/cwolf/.local/lib/python3.12/site-packages/sklearn/base.py:1152: UserWarning: With alpha=0, this algorithm does not converge well. You are advised to use the LinearRegression estimator\n",
      "  return fit_method(estimator, *args, **kwargs)\n",
      "/home/cwolf/.local/lib/python3.12/site-packages/sklearn/linear_model/_coordinate_descent.py:628: UserWarning: Coordinate descent with no regularization may lead to unexpected results and is discouraged.\n",
      "  model = cd_fast.enet_coordinate_descent(\n",
      "/home/cwolf/.local/lib/python3.12/site-packages/sklearn/linear_model/_coordinate_descent.py:628: ConvergenceWarning: Objective did not converge. You might want to increase the number of iterations, check the scale of the features or consider increasing regularisation. Duality gap: 7.478e+11, tolerance: 1.138e+09 Linear regression models with null weight for the l1 regularization term are more efficiently fitted using one of the solvers implemented in sklearn.linear_model.Ridge/RidgeCV instead.\n",
      "  model = cd_fast.enet_coordinate_descent(\n"
     ]
    },
    {
     "name": "stdout",
     "output_type": "stream",
     "text": [
      "best alpha for  ElasticNet() :  0.0\n",
      "R-squared for Ridge model: 0.8649135069063798\n",
      "R-squared for Lasso model: 0.864930659918806\n",
      "R-squared for ElasticNet model: 0.8649311612533729\n",
      "R-squared for Ridge model: 0.85913503805854\n",
      "R-squared for Lasso model: 0.8591459351585524\n",
      "R-squared for ElasticNet model: 0.8591470005336064\n",
      "R-squared for Ridge model: 0.8643332384953831\n",
      "R-squared for Lasso model: 0.8643092226447522\n",
      "R-squared for ElasticNet model: 0.86430421668427\n",
      "R-squared for Ridge model: 0.8743256069421269\n",
      "R-squared for Lasso model: 0.8743209107455423\n",
      "R-squared for ElasticNet model: 0.8743188582203933\n",
      "R-squared for Ridge model: 0.8598856588949221\n",
      "R-squared for Lasso model: 0.8598727720636453\n",
      "R-squared for ElasticNet model: 0.8598759447119011\n"
     ]
    },
    {
     "name": "stderr",
     "output_type": "stream",
     "text": [
      "/home/cwolf/.local/lib/python3.12/site-packages/sklearn/base.py:1152: UserWarning: With alpha=0, this algorithm does not converge well. You are advised to use the LinearRegression estimator\n",
      "  return fit_method(estimator, *args, **kwargs)\n",
      "/home/cwolf/.local/lib/python3.12/site-packages/sklearn/linear_model/_coordinate_descent.py:628: UserWarning: Coordinate descent with no regularization may lead to unexpected results and is discouraged.\n",
      "  model = cd_fast.enet_coordinate_descent(\n",
      "/home/cwolf/.local/lib/python3.12/site-packages/sklearn/linear_model/_coordinate_descent.py:628: ConvergenceWarning: Objective did not converge. You might want to increase the number of iterations, check the scale of the features or consider increasing regularisation. Duality gap: 7.478e+11, tolerance: 1.138e+09 Linear regression models with null weight for the l1 regularization term are more efficiently fitted using one of the solvers implemented in sklearn.linear_model.Ridge/RidgeCV instead.\n",
      "  model = cd_fast.enet_coordinate_descent(\n",
      "/home/cwolf/.local/lib/python3.12/site-packages/sklearn/base.py:1152: UserWarning: With alpha=0, this algorithm does not converge well. You are advised to use the LinearRegression estimator\n",
      "  return fit_method(estimator, *args, **kwargs)\n",
      "/home/cwolf/.local/lib/python3.12/site-packages/sklearn/linear_model/_coordinate_descent.py:628: UserWarning: Coordinate descent with no regularization may lead to unexpected results and is discouraged.\n",
      "  model = cd_fast.enet_coordinate_descent(\n",
      "/home/cwolf/.local/lib/python3.12/site-packages/sklearn/linear_model/_coordinate_descent.py:628: ConvergenceWarning: Objective did not converge. You might want to increase the number of iterations, check the scale of the features or consider increasing regularisation. Duality gap: 6.977e+11, tolerance: 1.079e+09 Linear regression models with null weight for the l1 regularization term are more efficiently fitted using one of the solvers implemented in sklearn.linear_model.Ridge/RidgeCV instead.\n",
      "  model = cd_fast.enet_coordinate_descent(\n",
      "/home/cwolf/.local/lib/python3.12/site-packages/sklearn/base.py:1152: UserWarning: With alpha=0, this algorithm does not converge well. You are advised to use the LinearRegression estimator\n",
      "  return fit_method(estimator, *args, **kwargs)\n",
      "/home/cwolf/.local/lib/python3.12/site-packages/sklearn/linear_model/_coordinate_descent.py:628: UserWarning: Coordinate descent with no regularization may lead to unexpected results and is discouraged.\n",
      "  model = cd_fast.enet_coordinate_descent(\n",
      "/home/cwolf/.local/lib/python3.12/site-packages/sklearn/linear_model/_coordinate_descent.py:628: ConvergenceWarning: Objective did not converge. You might want to increase the number of iterations, check the scale of the features or consider increasing regularisation. Duality gap: 7.611e+11, tolerance: 1.150e+09 Linear regression models with null weight for the l1 regularization term are more efficiently fitted using one of the solvers implemented in sklearn.linear_model.Ridge/RidgeCV instead.\n",
      "  model = cd_fast.enet_coordinate_descent(\n",
      "/home/cwolf/.local/lib/python3.12/site-packages/sklearn/base.py:1152: UserWarning: With alpha=0, this algorithm does not converge well. You are advised to use the LinearRegression estimator\n",
      "  return fit_method(estimator, *args, **kwargs)\n",
      "/home/cwolf/.local/lib/python3.12/site-packages/sklearn/linear_model/_coordinate_descent.py:628: UserWarning: Coordinate descent with no regularization may lead to unexpected results and is discouraged.\n",
      "  model = cd_fast.enet_coordinate_descent(\n",
      "/home/cwolf/.local/lib/python3.12/site-packages/sklearn/linear_model/_coordinate_descent.py:628: ConvergenceWarning: Objective did not converge. You might want to increase the number of iterations, check the scale of the features or consider increasing regularisation. Duality gap: 7.599e+11, tolerance: 1.137e+09 Linear regression models with null weight for the l1 regularization term are more efficiently fitted using one of the solvers implemented in sklearn.linear_model.Ridge/RidgeCV instead.\n",
      "  model = cd_fast.enet_coordinate_descent(\n",
      "/home/cwolf/.local/lib/python3.12/site-packages/sklearn/base.py:1152: UserWarning: With alpha=0, this algorithm does not converge well. You are advised to use the LinearRegression estimator\n",
      "  return fit_method(estimator, *args, **kwargs)\n",
      "/home/cwolf/.local/lib/python3.12/site-packages/sklearn/linear_model/_coordinate_descent.py:628: UserWarning: Coordinate descent with no regularization may lead to unexpected results and is discouraged.\n",
      "  model = cd_fast.enet_coordinate_descent(\n",
      "/home/cwolf/.local/lib/python3.12/site-packages/sklearn/linear_model/_coordinate_descent.py:628: ConvergenceWarning: Objective did not converge. You might want to increase the number of iterations, check the scale of the features or consider increasing regularisation. Duality gap: 7.638e+11, tolerance: 1.171e+09 Linear regression models with null weight for the l1 regularization term are more efficiently fitted using one of the solvers implemented in sklearn.linear_model.Ridge/RidgeCV instead.\n",
      "  model = cd_fast.enet_coordinate_descent(\n"
     ]
    }
   ],
   "source": [
    "X = housing[best15_features]  # Features\n",
    "y = housing['SalePrice']  # Target variable\n",
    "\n",
    "penalized(X,y,k=5,ratio=0.5)"
   ]
  },
  {
   "cell_type": "markdown",
   "id": "bd734656-bb22-46ed-a5fd-d9fcdad68a67",
   "metadata": {},
   "source": [
    "## Running categorical features"
   ]
  },
  {
   "cell_type": "code",
   "execution_count": 12,
   "id": "f2aa1f92-b954-4628-9531-f4db3c4044fa",
   "metadata": {},
   "outputs": [
    {
     "name": "stdout",
     "output_type": "stream",
     "text": [
      "['TotalSF', 'Neighborhood']\n",
      "R2 for Multiple Linear Regression model:  0.7912020836411895\n",
      "Coefficient: [5.96965002e+01 1.80183691e+04 2.46125247e+03 6.10022937e+03\n",
      " 3.09357870e+04 4.39267752e+04 3.20400792e+04 1.13479667e+05\n",
      " 1.77133054e+04 5.17372451e+04 3.94660442e+04 7.77843590e+03\n",
      " 1.60107170e+04 5.07121232e+04 6.80960598e+04 7.65711865e+04\n",
      " 1.69979413e+04 1.02166957e+05 2.11279580e+04 5.09140860e+04\n",
      " 6.80456047e+04 4.86559995e+04 1.63450113e+05 1.11956439e+05\n",
      " 6.42902050e+04 2.26043553e+04 4.25261425e+04 3.13489049e+04]\n"
     ]
    }
   ],
   "source": [
    "\n",
    "#features = ['TotalSF','Age']\n",
    "#features = ['TotalSF','OverallQual']\n",
    "features = ['TotalSF','Neighborhood']\n",
    "X = housing[features]  # Features\n",
    "\n",
    "# Convert categorical columns to one-hot encoding\n",
    "X = pd.get_dummies(X, columns=['Neighborhood'], drop_first=True)\n",
    "y = housing['SalePrice']  # Target variable\n",
    "\n",
    "r = MLR(X,y)\n",
    "print(features)\n",
    "print(\"R2 for Multiple Linear Regression model: \", r[0])\n",
    "print(\"Coefficient:\", r[1])"
   ]
  },
  {
   "cell_type": "markdown",
   "id": "d096aa9d-d163-486b-bbed-07fe5070eeef",
   "metadata": {},
   "source": [
    "##  Multiple Linear Regression using Combinatorics for Feature Selection"
   ]
  },
  {
   "cell_type": "code",
   "execution_count": 110,
   "id": "e7ed548c-0eaa-4611-a74f-c7344c1d5e08",
   "metadata": {},
   "outputs": [
    {
     "name": "stdout",
     "output_type": "stream",
     "text": [
      "Total features: 81\n",
      "66 uncertain features\n",
      "Looking at using  65  of these features\n",
      "R2: 0.8844795924879507 Feature found to drop ['BldgType']\n",
      "Looking at using  64  of these features\n",
      "R2: 0.8812016615325675 Feature found to drop ['OverallCond']\n",
      "Looking at using  63  of these features\n",
      "R2: 0.8772305234981039 Feature found to drop ['Functional']\n",
      "Looking at using  62  of these features\n",
      "R2: 0.875224671058177 Feature found to drop ['ScreenPorch']\n",
      "Looking at using  61  of these features\n",
      "R2: 0.873164446142345 Feature found to drop ['MSZoning']\n",
      "Looking at using  60  of these features\n",
      "R2: 0.8711313542959633 Feature found to drop ['KitchenAbvGr']\n",
      "Looking at using  59  of these features\n",
      "R2: 0.8703694224502999 Feature found to drop ['Bath']\n",
      "Looking at using  58  of these features\n",
      "R2: 0.8696120501704416 Feature found to drop ['Exterior1st']\n",
      "Looking at using  57  of these features\n",
      "R2: 0.8689255795639927 Feature found to drop ['MSSubClass']\n",
      "Looking at using  56  of these features\n",
      "R2: 0.8675336145530899 Feature found to drop ['BedroomAbvGr']\n",
      "Looking at using  55  of these features\n",
      "R2: 0.8662214894048825 Feature found to drop ['MiscRmsAbvGrd']\n",
      "Looking at using  54  of these features\n",
      "R2: 0.8651478509575817 Feature found to drop ['Fireplaces']\n",
      "Looking at using  53  of these features\n",
      "R2: 0.8640742626528878 Feature found to drop ['MA_Zip1']\n",
      "Looking at using  52  of these features\n",
      "R2: 0.8629166554787191 Feature found to drop ['Condition1']\n",
      "Looking at using  51  of these features\n",
      "R2: 0.8622376031783027 Feature found to drop ['FireplaceQu']\n",
      "Looking at using  50  of these features\n",
      "R2: 0.8617345520669875 Feature found to drop ['RoofStyle']\n",
      "Looking at using  49  of these features\n",
      "R2: 0.861306198986589 Feature found to drop ['Alley']\n",
      "Looking at using  48  of these features\n",
      "R2: 0.8608520099254522 Feature found to drop ['WoodDeckSF']\n",
      "Looking at using  47  of these features\n",
      "R2: 0.8604645186625091 Feature found to drop ['ExterCond']\n",
      "Looking at using  46  of these features\n",
      "R2: 0.8600711433973287 Feature found to drop ['Condition2']\n",
      "Looking at using  45  of these features\n",
      "R2: 0.8597572260107742 Feature found to drop ['MasVnrType']\n",
      "Looking at using  44  of these features\n",
      "R2: 0.8594867955196249 Feature found to drop ['DistanceToISU']\n",
      "Looking at using  43  of these features\n",
      "R2: 0.8592333193297791 Feature found to drop ['GarageType']\n",
      "Looking at using  42  of these features\n",
      "R2: 0.8590438501034605 Feature found to drop ['HouseStyle']\n",
      "Looking at using  41  of these features\n",
      "R2: 0.8589256539171125 Feature found to drop ['HeatingQC']\n",
      "Looking at using  40  of these features\n",
      "R2: 0.8587341796767305 Feature found to drop ['BsmtFinType2']\n",
      "Looking at using  39  of these features\n",
      "R2: 0.8586553435308986 Feature found to drop ['MiscFeature']\n",
      "Looking at using  38  of these features\n",
      "R2: 0.8586086649339328 Feature found to drop ['GarageCond']\n",
      "Looking at using  37  of these features\n",
      "R2: 0.858541553253109 Feature found to drop ['Heating']\n",
      "Looking at using  36  of these features\n",
      "R2: 0.8585164641509653 Feature found to drop ['LotConfig']\n",
      "Looking at using  35  of these features\n",
      "R2: 0.8584951945408139 Feature found to drop ['Street']\n",
      "Looking at using  34  of these features\n",
      "R2: 0.858485987722653 Feature found to drop ['GarageQual']\n",
      "Looking at using  33  of these features\n",
      "R2: 0.8584854351361605 Feature found to drop ['BsmtCond']\n",
      "Looking at using  32  of these features\n",
      "R2: 0.8584854351361381 Feature found to drop ['TotalBsmtSF']\n",
      "Looking at using  31  of these features\n",
      "R2: 0.8584854351361495 Feature found to drop ['BsmtFinSF2']\n",
      "Looking at using  30  of these features\n",
      "R2: 0.8584854351361664 Feature found to drop ['LowQualFinSF']\n",
      "Looking at using  29  of these features\n",
      "R2: 0.8582384302608806 Feature found to drop ['2ndFlrSF']\n",
      "Looking at using  28  of these features\n",
      "R2: 0.8582275163554614 Feature found to drop ['Electrical']\n",
      "Looking at using  27  of these features\n",
      "R2: 0.8582275163554596 Feature found to drop ['YearsSinceRemod']\n",
      "Looking at using  26  of these features\n",
      "R2: 0.8582285048093742 Feature found to drop ['OpenPorchSF']\n",
      "Looking at using  25  of these features\n",
      "R2: 0.858233265566118 Feature found to drop ['MiscVal']\n",
      "Looking at using  24  of these features\n",
      "R2: 0.8582384794664067 Feature found to drop ['GarageFinish']\n",
      "Looking at using  23  of these features\n",
      "R2: 0.8582465444757736 Feature found to drop ['BsmtBath']\n",
      "Looking at using  22  of these features\n",
      "R2: 0.8582888260688322 Feature found to drop ['3SsnPorch']\n",
      "Looking at using  21  of these features\n",
      "R2: 0.8583656141437843 Feature found to drop ['Fence']\n",
      "Looking at using  20  of these features\n",
      "R2: 0.8584375238057779 Feature found to drop ['CentralAir']\n",
      "Looking at using  19  of these features\n",
      "R2: 0.858518855040968 Feature found to drop ['EnclosedPorch']\n",
      "Looking at using  18  of these features\n",
      "R2: 0.8586387655434946 Feature found to drop ['PavedDrive']\n",
      "Looking at using  17  of these features\n",
      "R2: 0.8587489441094371 Feature found to drop ['Foundation']\n",
      "Looking at using  16  of these features\n",
      "R2: 0.8588323315617146 Feature found to drop ['BsmtFinType1']\n",
      "Looking at using  15  of these features\n",
      "R2: 0.8589603635216236 Feature found to drop ['MoSold']\n",
      "Looking at using  14  of these features\n",
      "R2: 0.8590889373223554 Feature found to drop ['Exterior2nd']\n",
      "Looking at using  13  of these features\n",
      "R2: 0.8592885413802983 Feature found to drop ['GarageYrBlt']\n",
      "Looking at using  12  of these features\n",
      "R2: 0.8595271097702726 Feature found to drop ['DistanceCategory']\n",
      "Looking at using  11  of these features\n",
      "R2: 0.8597441834415396 Feature found to drop ['LandSlope']\n",
      "Looking at using  10  of these features\n",
      "R2: 0.8599910400907469 Feature found to drop ['LandContour']\n",
      "Looking at using  9  of these features\n",
      "R2: 0.8605714741836816 Feature found to drop ['BsmtExposure']\n",
      "Looking at using  8  of these features\n",
      "R2: 0.8610541884833879 Feature found to drop ['LotFrontage']\n",
      "Looking at using  7  of these features\n",
      "R2: 0.8616050459537831 Feature found to drop ['LotShape']\n",
      "Looking at using  6  of these features\n",
      "R2: 0.862270514059107 Feature found to drop ['SaleCondition']\n",
      "Looking at using  5  of these features\n",
      "R2: 0.86340310700179 Feature found to drop ['YrSold']\n",
      "Looking at using  4  of these features\n",
      "R2: 0.8650179431404084 Feature found to drop ['BsmtUnfSF']\n",
      "Looking at using  3  of these features\n",
      "R2: 0.8676165279251558 Feature found to drop ['RoofMatl']\n",
      "Looking at using  2  of these features\n",
      "R2: 0.8701149117283761 Feature found to drop ['SaleType']\n",
      "Looking at using  1  of these features\n",
      "R2: 0.874469889119818 Feature found to drop ['PoolQC']\n",
      "Last remaining feature ['GrLivArea', 'LotArea', 'Neighborhood', 'OverallQual', 'YearRemodAdd', 'MasVnrArea', 'ExterQual', 'BsmtQual', 'BsmtFinSF1', '1stFlrSF', 'KitchenQual', 'GarageCars', 'GarageArea', 'PoolArea', 'Age', 'TotalSF']\n"
     ]
    }
   ],
   "source": [
    "# Run MLR for all combinations of features to determine the best combi\n",
    "\n",
    "#remove categorical non numeric features\n",
    "housing_num = housing.select_dtypes(exclude=[object])\n",
    "features = list(housing_num.columns.values)\n",
    "features.remove('SalePrice')\n",
    "feature_list = features.copy()\n",
    "print(\"Total features:\",len(features))\n",
    "\n",
    "mutual_best = ['TotalSF', 'OverallQual', 'GrLivArea', 'ExterQual', 'GarageCars', \n",
    "               'Age','KitchenQual','GarageArea','BsmtFinSF1','1stFlrSF','BsmtQual',\n",
    "               'LotArea','MasVnrArea','YearRemodAdd','Neighborhood']\n",
    "features_unkwn = [ elem for elem in features if elem not in mutual_best]\n",
    "print(len(features_unkwn), \"uncertain features\")\n",
    "\n",
    "# Get all R2s of models with one fewer feature, find the best R2, remove lowest feature, repeat\n",
    "while len(features_unkwn)>1:\n",
    "    print(\"Looking at using \",len(features_unkwn)-1, \" of these features\")\n",
    "    comb = combinations(features_unkwn, len(features_unkwn)-1)\n",
    "    results = {}\n",
    "    #Get all r2 of all combinations of one fewer features\n",
    "    for c in comb:\n",
    "        mutual_best_plus = mutual_best.copy()\n",
    "        mutual_best_plus.extend(c)\n",
    "        X = housing[mutual_best_plus]  # Features\n",
    "        y = housing['SalePrice']  # Target variable\n",
    "        r = MLR(X, y)\n",
    "        results[r[0]] = mutual_best_plus\n",
    "\n",
    "    #Sort list of r2s, find best r2, find feature that was not included, drop that feature\n",
    "    r2s = list(results.keys())\n",
    "    r2s.sort()\n",
    "    best_features = results[r2s[0]]\n",
    "    feature_to_drop = [ elem for elem in feature_list if elem not in best_features]\n",
    "    print(\"R2:\",r2s[0],\"Feature found to drop\",feature_to_drop)\n",
    "    features_unkwn.remove(feature_to_drop[0])\n",
    "    feature_list.remove(feature_to_drop[0])\n",
    "print(\"Last remaining feature\",feature_list)    "
   ]
  },
  {
   "cell_type": "markdown",
   "id": "eed72c40-5239-4ca5-aa83-8d1b56b9b899",
   "metadata": {},
   "source": [
    "# LazyPredict Results"
   ]
  },
  {
   "cell_type": "code",
   "execution_count": 22,
   "id": "7755fde0-83c4-4430-9e2e-3a58e5456203",
   "metadata": {},
   "outputs": [
    {
     "name": "stderr",
     "output_type": "stream",
     "text": [
      "  5%|██                                          | 2/42 [00:00<00:05,  6.81it/s]"
     ]
    },
    {
     "name": "stdout",
     "output_type": "stream",
     "text": [
      "{'Model': 'AdaBoostRegressor', 'R-Squared': 0.8221848784876566, 'Adjusted R-Squared': 0.8168504248422863, 'RMSE': 31108.16551917727, 'Time taken': 0.179931640625}\n",
      "{'Model': 'BaggingRegressor', 'R-Squared': 0.8838160473707461, 'Adjusted R-Squared': 0.8803305287918686, 'RMSE': 25145.665222492247, 'Time taken': 0.12290430068969727}\n",
      "{'Model': 'BayesianRidge', 'R-Squared': 0.8648424226588634, 'Adjusted R-Squared': 0.8607876953386293, 'RMSE': 27121.2845291356, 'Time taken': 0.008426189422607422}\n",
      "{'Model': 'DecisionTreeRegressor', 'R-Squared': 0.7751534888595866, 'Adjusted R-Squared': 0.7684080935253742, 'RMSE': 34981.07343739264, 'Time taken': 0.0246126651763916}\n",
      "{'Model': 'DummyRegressor', 'R-Squared': -4.298010936176766e-05, 'Adjusted R-Squared': -0.030044269512642607, 'RMSE': 73773.33020994296, 'Time taken': 0.0053882598876953125}\n",
      "{'Model': 'ElasticNet', 'R-Squared': 0.8273110541205199, 'Adjusted R-Squared': 0.8221303857441354, 'RMSE': 30656.482648203473, 'Time taken': 0.006613016128540039}\n"
     ]
    },
    {
     "name": "stderr",
     "output_type": "stream",
     "text": [
      " 19%|████████▍                                   | 8/42 [00:00<00:01, 25.27it/s]"
     ]
    },
    {
     "name": "stdout",
     "output_type": "stream",
     "text": [
      "{'Model': 'ElasticNetCV', 'R-Squared': 0.08644121052193654, 'Adjusted R-Squared': 0.05903444683759462, 'RMSE': 70511.23247140569, 'Time taken': 0.05195450782775879}\n",
      "{'Model': 'ExtraTreeRegressor', 'R-Squared': 0.7898625743023164, 'Adjusted R-Squared': 0.7835584515313859, 'RMSE': 33817.52030214012, 'Time taken': 0.012024402618408203}\n",
      "{'Model': 'ExtraTreesRegressor', 'R-Squared': 0.8952214573763881, 'Adjusted R-Squared': 0.8920781010976798, 'RMSE': 23879.555165083184, 'Time taken': 0.5879745483398438}\n",
      "{'Model': 'GammaRegressor', 'R-Squared': 0.8062279375565906, 'Adjusted R-Squared': 0.8004147756832883, 'RMSE': 32473.988796096757, 'Time taken': 0.010301828384399414}\n"
     ]
    },
    {
     "name": "stderr",
     "output_type": "stream",
     "text": [
      " 26%|███████████▎                               | 11/42 [00:01<00:04,  6.96it/s]"
     ]
    },
    {
     "name": "stdout",
     "output_type": "stream",
     "text": [
      "{'Model': 'GaussianProcessRegressor', 'R-Squared': -0.3295026863126371, 'Adjusted R-Squared': -0.36938776690201625, 'RMSE': 85061.81891926589, 'Time taken': 0.3568763732910156}\n",
      "{'Model': 'GradientBoostingRegressor', 'R-Squared': 0.9176864307700451, 'Adjusted R-Squared': 0.9152170236931464, 'RMSE': 21165.365493490768, 'Time taken': 0.4823880195617676}\n"
     ]
    },
    {
     "name": "stderr",
     "output_type": "stream",
     "text": [
      " 38%|████████████████▍                          | 16/42 [00:02<00:03,  6.62it/s]"
     ]
    },
    {
     "name": "stdout",
     "output_type": "stream",
     "text": [
      "{'Model': 'HistGradientBoostingRegressor', 'R-Squared': 0.9146020290572757, 'Adjusted R-Squared': 0.912040089928994, 'RMSE': 21558.266266883504, 'Time taken': 0.2390899658203125}\n",
      "{'Model': 'HuberRegressor', 'R-Squared': 0.856578411031305, 'Adjusted R-Squared': 0.8522757633622442, 'RMSE': 27938.12914079551, 'Time taken': 0.02681112289428711}\n",
      "{'Model': 'KNeighborsRegressor', 'R-Squared': 0.855972635890937, 'Adjusted R-Squared': 0.8516518149676651, 'RMSE': 27997.068631687885, 'Time taken': 0.03458142280578613}\n",
      "{'Model': 'KernelRidge', 'R-Squared': -4.939760736564059, 'Adjusted R-Squared': -5.1179535586609815, 'RMSE': 179793.7253871519, 'Time taken': 0.1250474452972412}\n",
      "{'Model': 'Lars', 'R-Squared': 0.8649311612533728, 'Adjusted R-Squared': 0.860879096090974, 'RMSE': 27112.37973858692, 'Time taken': 0.013158321380615234}\n"
     ]
    },
    {
     "name": "stderr",
     "output_type": "stream",
     "text": [
      " 48%|████████████████████▍                      | 20/42 [00:02<00:02,  9.81it/s]"
     ]
    },
    {
     "name": "stdout",
     "output_type": "stream",
     "text": [
      "{'Model': 'LarsCV', 'R-Squared': 0.8646562498030567, 'Adjusted R-Squared': 0.8605959372971483, 'RMSE': 27139.95721296858, 'Time taken': 0.02683424949645996}\n",
      "{'Model': 'Lasso', 'R-Squared': 0.864930659918806, 'Adjusted R-Squared': 0.8608785797163702, 'RMSE': 27112.43005500581, 'Time taken': 0.010516166687011719}\n",
      "{'Model': 'LassoCV', 'R-Squared': 0.8644181724971434, 'Adjusted R-Squared': 0.8603507176720577, 'RMSE': 27163.817084176084, 'Time taken': 0.06986045837402344}\n",
      "{'Model': 'LassoLars', 'R-Squared': 0.8649299132111413, 'Adjusted R-Squared': 0.8608778106074756, 'RMSE': 27112.504998110362, 'Time taken': 0.011432886123657227}\n",
      "{'Model': 'LassoLarsCV', 'R-Squared': 0.8646562498030567, 'Adjusted R-Squared': 0.8605959372971483, 'RMSE': 27139.95721296858, 'Time taken': 0.020901203155517578}\n",
      "{'Model': 'LassoLarsIC', 'R-Squared': 0.8649311612533728, 'Adjusted R-Squared': 0.860879096090974, 'RMSE': 27112.37973858692, 'Time taken': 0.010213613510131836}\n",
      "{'Model': 'LinearRegression', 'R-Squared': 0.8651892474643518, 'Adjusted R-Squared': 0.8611449248882823, 'RMSE': 27086.46451934868, 'Time taken': 0.007407665252685547}\n",
      "{'Model': 'LinearSVR', 'R-Squared': -5.701626983869915, 'Adjusted R-Squared': -5.902675793386013, 'RMSE': 190976.61053131366, 'Time taken': 0.00742650032043457}\n"
     ]
    },
    {
     "name": "stderr",
     "output_type": "stream",
     "text": [
      " 67%|████████████████████████████▋              | 28/42 [00:03<00:01,  7.99it/s]"
     ]
    },
    {
     "name": "stdout",
     "output_type": "stream",
     "text": [
      "{'Model': 'MLPRegressor', 'R-Squared': -5.616165801876334, 'Adjusted R-Squared': -5.814650775932624, 'RMSE': 189755.00761236297, 'Time taken': 0.9452922344207764}\n",
      "{'Model': 'NuSVR', 'R-Squared': -0.010879873690596398, 'Adjusted R-Squared': -0.04120626990131426, 'RMSE': 74171.97283873353, 'Time taken': 0.17741656303405762}\n",
      "{'Model': 'OrthogonalMatchingPursuit', 'R-Squared': 0.6060347232801243, 'Adjusted R-Squared': 0.594215764978528, 'RMSE': 46304.055338959646, 'Time taken': 0.007635354995727539}\n"
     ]
    },
    {
     "name": "stderr",
     "output_type": "stream",
     "text": [
      " 79%|█████████████████████████████████▊         | 33/42 [00:03<00:00, 11.23it/s]"
     ]
    },
    {
     "name": "stdout",
     "output_type": "stream",
     "text": [
      "{'Model': 'OrthogonalMatchingPursuitCV', 'R-Squared': 0.8299457522370165, 'Adjusted R-Squared': 0.8248441248041269, 'RMSE': 30421.72232045697, 'Time taken': 0.014863967895507812}\n",
      "{'Model': 'PassiveAggressiveRegressor', 'R-Squared': 0.8541489325664607, 'Adjusted R-Squared': 0.8497734005434545, 'RMSE': 28173.76329993604, 'Time taken': 0.058077335357666016}\n",
      "{'Model': 'PoissonRegressor', 'R-Squared': 0.9127143685797549, 'Adjusted R-Squared': 0.9100957996371475, 'RMSE': 21795.228905986074, 'Time taken': 0.012113571166992188}\n",
      "QuantileRegressor model failed to execute\n",
      "Solver interior-point is not anymore available in SciPy >= 1.11.0.\n",
      "{'Model': 'RANSACRegressor', 'R-Squared': 0.8407023547452894, 'Adjusted R-Squared': 0.8359234253876481, 'RMSE': 29443.85929431575, 'Time taken': 0.07493710517883301}\n"
     ]
    },
    {
     "name": "stderr",
     "output_type": "stream",
     "text": [
      " 83%|███████████████████████████████████▊       | 35/42 [00:05<00:01,  4.97it/s]"
     ]
    },
    {
     "name": "stdout",
     "output_type": "stream",
     "text": [
      "{'Model': 'RandomForestRegressor', 'R-Squared': 0.8950705334588199, 'Adjusted R-Squared': 0.8919226494625845, 'RMSE': 23896.747135176443, 'Time taken': 1.3911314010620117}\n",
      "{'Model': 'Ridge', 'R-Squared': 0.8649135069063798, 'Adjusted R-Squared': 0.8608609121135712, 'RMSE': 27114.151559994767, 'Time taken': 0.008430242538452148}\n",
      "{'Model': 'RidgeCV', 'R-Squared': 0.8647442248640107, 'Adjusted R-Squared': 0.860686551609931, 'RMSE': 27131.135130266804, 'Time taken': 0.012911319732666016}\n",
      "{'Model': 'SGDRegressor', 'R-Squared': 0.8658374834723963, 'Adjusted R-Squared': 0.8618126079765682, 'RMSE': 27021.26356330245, 'Time taken': 0.01613783836364746}\n"
     ]
    },
    {
     "name": "stderr",
     "output_type": "stream",
     "text": [
      " 90%|██████████████████████████████████████▉    | 38/42 [00:05<00:00,  5.85it/s]"
     ]
    },
    {
     "name": "stdout",
     "output_type": "stream",
     "text": [
      "{'Model': 'SVR', 'R-Squared': -0.05935824312909177, 'Adjusted R-Squared': -0.09113899042296447, 'RMSE': 75929.66447285078, 'Time taken': 0.25032806396484375}\n",
      "{'Model': 'TransformedTargetRegressor', 'R-Squared': 0.8651892474643518, 'Adjusted R-Squared': 0.8611449248882823, 'RMSE': 27086.46451934868, 'Time taken': 0.010222673416137695}\n",
      "{'Model': 'TweedieRegressor', 'R-Squared': 0.7866930984251913, 'Adjusted R-Squared': 0.780293891377947, 'RMSE': 34071.59849416968, 'Time taken': 0.011931896209716797}\n"
     ]
    },
    {
     "name": "stderr",
     "output_type": "stream",
     "text": [
      "100%|███████████████████████████████████████████| 42/42 [00:06<00:00,  6.71it/s]"
     ]
    },
    {
     "name": "stdout",
     "output_type": "stream",
     "text": [
      "{'Model': 'XGBRegressor', 'R-Squared': 0.9120290735103294, 'Adjusted R-Squared': 0.9093899457156392, 'RMSE': 21880.62074291825, 'Time taken': 0.7242603302001953}\n",
      "[LightGBM] [Info] Auto-choosing col-wise multi-threading, the overhead of testing was 0.000172 seconds.\n",
      "You can set `force_col_wise=true` to remove the overhead.\n",
      "[LightGBM] [Info] Total Bins 1983\n",
      "[LightGBM] [Info] Number of data points in the train set: 2061, number of used features: 15\n",
      "[LightGBM] [Info] Start training from score 177730.119845\n",
      "{'Model': 'LGBMRegressor', 'R-Squared': 0.9135665320106376, 'Adjusted R-Squared': 0.9109735279709568, 'RMSE': 21688.575317407227, 'Time taken': 0.07747507095336914}\n"
     ]
    },
    {
     "name": "stderr",
     "output_type": "stream",
     "text": [
      "\n"
     ]
    },
    {
     "data": {
      "text/plain": [
       "([0,\n",
       "  1,\n",
       "  2,\n",
       "  3,\n",
       "  4,\n",
       "  5,\n",
       "  6,\n",
       "  7,\n",
       "  8,\n",
       "  9,\n",
       "  10,\n",
       "  11,\n",
       "  12,\n",
       "  13,\n",
       "  14,\n",
       "  15,\n",
       "  16,\n",
       "  17,\n",
       "  18,\n",
       "  19,\n",
       "  20,\n",
       "  21,\n",
       "  22,\n",
       "  23,\n",
       "  24,\n",
       "  25,\n",
       "  26,\n",
       "  27,\n",
       "  28,\n",
       "  29,\n",
       "  30,\n",
       "  31,\n",
       "  32,\n",
       "  33,\n",
       "  34,\n",
       "  35,\n",
       "  36,\n",
       "  37,\n",
       "  38,\n",
       "  39,\n",
       "  40],\n",
       " [Text(0, 0, 'GradientBoostingRegressor'),\n",
       "  Text(1, 0, 'HistGradientBoostingRegressor'),\n",
       "  Text(2, 0, 'LGBMRegressor'),\n",
       "  Text(3, 0, 'PoissonRegressor'),\n",
       "  Text(4, 0, 'XGBRegressor'),\n",
       "  Text(5, 0, 'ExtraTreesRegressor'),\n",
       "  Text(6, 0, 'RandomForestRegressor'),\n",
       "  Text(7, 0, 'BaggingRegressor'),\n",
       "  Text(8, 0, 'SGDRegressor'),\n",
       "  Text(9, 0, 'TransformedTargetRegressor'),\n",
       "  Text(10, 0, 'LinearRegression'),\n",
       "  Text(11, 0, 'Lars'),\n",
       "  Text(12, 0, 'LassoLarsIC'),\n",
       "  Text(13, 0, 'Lasso'),\n",
       "  Text(14, 0, 'LassoLars'),\n",
       "  Text(15, 0, 'Ridge'),\n",
       "  Text(16, 0, 'BayesianRidge'),\n",
       "  Text(17, 0, 'RidgeCV'),\n",
       "  Text(18, 0, 'LarsCV'),\n",
       "  Text(19, 0, 'LassoLarsCV'),\n",
       "  Text(20, 0, 'LassoCV'),\n",
       "  Text(21, 0, 'HuberRegressor'),\n",
       "  Text(22, 0, 'KNeighborsRegressor'),\n",
       "  Text(23, 0, 'PassiveAggressiveRegressor'),\n",
       "  Text(24, 0, 'RANSACRegressor'),\n",
       "  Text(25, 0, 'OrthogonalMatchingPursuitCV'),\n",
       "  Text(26, 0, 'ElasticNet'),\n",
       "  Text(27, 0, 'AdaBoostRegressor'),\n",
       "  Text(28, 0, 'GammaRegressor'),\n",
       "  Text(29, 0, 'ExtraTreeRegressor'),\n",
       "  Text(30, 0, 'TweedieRegressor'),\n",
       "  Text(31, 0, 'DecisionTreeRegressor'),\n",
       "  Text(32, 0, 'OrthogonalMatchingPursuit'),\n",
       "  Text(33, 0, 'ElasticNetCV'),\n",
       "  Text(34, 0, 'DummyRegressor'),\n",
       "  Text(35, 0, 'NuSVR'),\n",
       "  Text(36, 0, 'SVR'),\n",
       "  Text(37, 0, 'GaussianProcessRegressor'),\n",
       "  Text(38, 0, 'KernelRidge'),\n",
       "  Text(39, 0, 'MLPRegressor'),\n",
       "  Text(40, 0, 'LinearSVR')])"
      ]
     },
     "execution_count": 22,
     "metadata": {},
     "output_type": "execute_result"
    },
    {
     "data": {
      "image/png": "[encoded data removed]",
      "text/plain": [
       "<Figure size 1000x500 with 1 Axes>"
      ]
     },
     "metadata": {},
     "output_type": "display_data"
    }
   ],
   "source": [
    "from lazypredict.Supervised import LazyRegressor\n",
    "\n",
    "features = ['GrLivArea', 'MSSubClass', 'LotFrontage', 'LotArea', 'OverallQual', 'OverallCond', \n",
    "            'Age', 'YearRemodAdd', 'MasVnrArea', 'BsmtFinSF1', 'BsmtFinSF2', 'BsmtUnfSF', 'TotalBsmtSF', \n",
    "            'LowQualFinSF', 'BedroomAbvGr']\n",
    "X = housing[features]  # Features\n",
    "y = housing['SalePrice']  # Target variable\n",
    "\n",
    "X_train, X_test, y_train, y_test = train_test_split(X, y, test_size=0.2, random_state=42)  # 80% train, 20% test\n",
    "\n",
    "reg = LazyRegressor(verbose=1, ignore_warnings=False, custom_metric=None)\n",
    "models, predictions = reg.fit(X_train, X_test, y_train, y_test)\n",
    "\n",
    "#print(models)\n",
    "\n",
    "plt.figure(figsize=(10, 5))\n",
    "sns.set_theme(style=\"whitegrid\")\n",
    "ax = sns.barplot(x=models.index, y='R-Squared', data=models, palette=\"husl\")\n",
    "plt.xticks(rotation=90)"
   ]
  },
  {
   "cell_type": "markdown",
   "id": "024b4b5e-25e6-4123-9374-29b543784b26",
   "metadata": {},
   "source": [
    "# RandomForestRegressor"
   ]
  },
  {
   "cell_type": "code",
   "execution_count": 13,
   "id": "fe1fecfd",
   "metadata": {},
   "outputs": [
    {
     "name": "stdout",
     "output_type": "stream",
     "text": [
      "R^2 Score: 0.9093252003692234\n",
      "\n",
      "   R^2 Score for fold 1: 0.8927\n",
      "   R^2 Score for fold 2: 0.9178\n",
      "   R^2 Score for fold 3: 0.8967\n",
      "   R^2 Score for fold 4: 0.9080\n",
      "   R^2 Score for fold 5: 0.9143\n",
      "Average R^2 Score across the 5 folds: 0.9059\n"
     ]
    }
   ],
   "source": [
    "X = housing.drop(['SalePrice'],axis=1) # Features\n",
    "y = housing['SalePrice']  # Target variable\n",
    "\n",
    "# Run the model\n",
    "X_train, X_test, y_train, y_test = train_test_split(X, y, test_size=0.2, random_state=42)\n",
    "model = RandomForestRegressor(n_estimators=100, random_state=42)\n",
    "model.fit(X_train, y_train)\n",
    "y_pred = model.predict(X_test)\n",
    "\n",
    "# Evaluate the model\n",
    "print(f'R^2 Score: {r2_score(y_test, y_pred)}\\n')\n",
    "\n",
    "# Print R^2 score for each fold\n",
    "scores = cross_val_score(model, X_train, y_train, cv=5, scoring='r2')\n",
    "\n",
    "for i, score in enumerate(scores, 1):\n",
    "    print(f\"   R^2 Score for fold {i}: {score:.4f}\")\n",
    "print(f\"Average R^2 Score across the 5 folds: {scores.mean():.4f}\")\n"
   ]
  },
  {
   "cell_type": "code",
   "execution_count": 16,
   "id": "b2a7593c",
   "metadata": {},
   "outputs": [
    {
     "data": {
      "image/png": "[encoded data removed]",
      "text/plain": [
       "<Figure size 1200x800 with 1 Axes>"
      ]
     },
     "metadata": {},
     "output_type": "display_data"
    }
   ],
   "source": [
    "# Map importances to the column names\n",
    "importances = model.feature_importances_\n",
    "feature_importances = pd.Series(importances, index=X_train.columns)\n",
    "top_10 = feature_importances.sort_values(ascending=False).head(10)\n",
    "\n",
    "# Plot\n",
    "plt.figure(figsize=(12, 8))\n",
    "top_10.plot(kind='barh', color='skyblue')\n",
    "plt.title('Top 10 Most Important Features from RandomForestRegressor')\n",
    "plt.xlabel('Importance')\n",
    "plt.ylabel('Feature Name')\n",
    "plt.gca().invert_yaxis()  # to have the most important feature at the top\n",
    "plt.show()\n"
   ]
  },
  {
   "cell_type": "markdown",
   "id": "52053fde-74af-48f8-abee-4c6e1770644a",
   "metadata": {},
   "source": [
    "# XGBoost Regressor"
   ]
  },
  {
   "cell_type": "markdown",
   "id": "bad3cddc-9894-401a-b079-39403d02e52d",
   "metadata": {},
   "source": [
    "## Default tuning"
   ]
  },
  {
   "cell_type": "code",
   "execution_count": 34,
   "id": "60c2ec4f-c039-48de-b845-42c6dc013f18",
   "metadata": {},
   "outputs": [
    {
     "name": "stdout",
     "output_type": "stream",
     "text": [
      "Fold 1: R2 = 0.9102\n",
      "Fold 2: R2 = 0.9327\n",
      "Fold 3: R2 = 0.9072\n",
      "Fold 4: R2 = 0.9135\n",
      "Fold 5: R2 = 0.9052\n",
      "Mean R2: 0.9137\n"
     ]
    }
   ],
   "source": [
    "X = housing_na.drop('SalePrice',axis=1) # Features\n",
    "y = housing_na['SalePrice'] # Target variable\n",
    "\n",
    "# Initialize the KFold cross-validator\n",
    "kf = KFold(n_splits=5, shuffle=True, random_state=42)\n",
    "\n",
    "# Iterate over the folds\n",
    "r2_scores = []\n",
    "fold = 1\n",
    "for train_index, test_index in kf.split(X):\n",
    "    X_train, X_test = X.iloc[train_index], X.iloc[test_index]\n",
    "    y_train, y_test = y.iloc[train_index], y.iloc[test_index]\n",
    "    \n",
    "    model = xgb.XGBRegressor(objective=\"reg:squarederror\", n_estimators=100, random_state=42)\n",
    "    model.fit(X_train, y_train)\n",
    "    y_pred = model.predict(X_test)\n",
    "    r2_scores.append(r2_score(y_test, y_pred))\n",
    "    \n",
    "    print(f\"Fold {fold}: R2 = {r2_score(y_test, y_pred):.4f}\")\n",
    "    fold += 1\n",
    "\n",
    "mean_r2 = np.mean(r2_scores)\n",
    "print(f\"Mean R2: {mean_r2:.4f}\")\n"
   ]
  },
  {
   "cell_type": "markdown",
   "id": "1441630f-54db-4b3b-943a-0d4c8906f36e",
   "metadata": {},
   "source": [
    "## Hyperparameter tuning"
   ]
  },
  {
   "cell_type": "code",
   "execution_count": null,
   "id": "7d10e08c-370f-4567-80b1-aa0071cf9033",
   "metadata": {},
   "outputs": [],
   "source": [
    "xgb.set_config(verbosity=2)\n",
    "\n",
    "param_grid = {\n",
    "    'learning_rate': [0.03, 0.05, 0.07, 0.1],    #default=0.3, range from [0,1], best near 0.05-0.1\n",
    "    'n_estimators': [400],\n",
    "    'subsample': [0.001, 0.01, 0.04, 0.06, 0.1, 0.5, 0.6, 0.7],         #default=1, range: (0,1]\n",
    "    'tree_method': ['hist'],    #default='auto', hist good with reg:squarederror\n",
    "    'grow_policy': ['lossguide'], #default='depthwise', lossguide splits at nodes with highest loss change\n",
    "    'max_bin': [2, 5, 256, 600],             #default=256, only used with tree_method hist and approx, best larger than default \n",
    "    'gamma': [0, 0.1, 0.2, 1, 7, 15, 100],               #default=0, range: [0,inf]\n",
    "    'reg_alpha': [0, 1, 4, 20, 50, 75, 100, 200, 500, 1000],           #default=0, [0,inf]\n",
    "    'reg_lambda': [0, 0.5, 1, 4, 20, 50, 100],          #default=1, [0,inf]\n",
    "    'min_child_weight': [0, 1, 3, 5, 20, 100],  #default=1, range [0,inf]\n",
    "    'max_leaves': [0, 4, 7, 10],          #default=0, max num of nodes added\n",
    "    'max_depth': [2, 4, 5, 6, 7, 9]         #default=6, range: [0,inf]\n",
    "}\n",
    "\n",
    "xgb_model = xgb.XGBRegressor(objective=\"reg:squarederror\", random_state=42)\n",
    "grid_search = GridSearchCV(xgb_model, param_grid, cv=3, scoring='r2', verbose=1, n_jobs=-1)\n",
    "grid_search.fit(X, y)\n",
    "print(f\"Best hyperparameters: {grid_search.best_params_}\")"
   ]
  },
  {
   "cell_type": "code",
   "execution_count": 36,
   "id": "63d4a254-1791-4f8d-b02b-62c337de3228",
   "metadata": {},
   "outputs": [
    {
     "name": "stdout",
     "output_type": "stream",
     "text": [
      "MSE for each fold: [320461444.10797346, 235994588.26076543, 437284722.344268, 324813965.20246524, 437879740.35483813]\n",
      "R^2 for each fold: [0.9479369747977182, 0.9457013662875113, 0.9296813655318784, 0.9413183456495426, 0.9158380875841782]\n",
      "Average MSE: 351286892.05406207\n",
      "Average R^2: 0.9360952279701659\n"
     ]
    }
   ],
   "source": [
    "best_params = {\n",
    "   'learning_rate': 0.05, #[0.03, 0.05, 0.07, 0.1]\n",
    "    'n_estimators': 650,   #default reduces R2, 4000 reduces, 400 good, 600 better, 700 goes down\n",
    "    'subsample': 0.5,         #[0.001, 0.01, 0.04, 0.06, 0.1, 0.5, 0.6, 0.7]\n",
    "    'tree_method': 'hist',    #default='auto', hist good with reg:squarederror\n",
    "    'grow_policy': 'lossguide', #default='depthwise', lossguide splits at nodes with highest loss change\n",
    "    'max_bin': 600,             # [2, 5, 256, 600]\n",
    "    'gamma': 0,               #[0, 0.1, 0.2, 1, 7, 15, 100]\n",
    "    'reg_alpha': 100,           #[0, 1, 4, 20, 50, 75, 100, 200, 500, 1000]\n",
    "    'reg_lambda': 1,          #[0, 0.5, 1, 4, 20, 50, 100]\n",
    "    'min_child_weight': 5,  #[0, 1, 3, 5, 20, 100]\n",
    "    'max_leaves': 0,          #[0, 4, 7, 10]\n",
    "    'max_depth': 5         #[2, 4, 5, 6, 7, 9]\n",
    "}\n",
    "\n",
    "#grid_search.best_params_\n",
    "model = xgb.XGBRegressor(**best_params, objective=\"reg:squarederror\", random_state=42)\n",
    "\n",
    "kf = KFold(n_splits=5, shuffle=True, random_state=0)\n",
    "mse_scores = []\n",
    "r2_scores = []\n",
    "for train_index, test_index in kf.split(X):\n",
    "    X_train, X_test = X.iloc[train_index], X.iloc[test_index]\n",
    "    y_train, y_test = y.iloc[train_index], y.iloc[test_index]\n",
    "    \n",
    "    model.fit(X_train, y_train)\n",
    "    y_pred = model.predict(X_test)\n",
    "    \n",
    "    mse_scores.append(mean_squared_error(y_test, y_pred))\n",
    "    r2_scores.append(r2_score(y_test, y_pred))\n",
    "    \n",
    "\n",
    "print(\"MSE for each fold:\", mse_scores)\n",
    "print(\"R^2 for each fold:\", r2_scores)\n",
    "print(\"Average MSE:\", sum(mse_scores) / len(mse_scores))\n",
    "print(\"Average R^2:\", sum(r2_scores) / len(r2_scores))\n",
    "\n"
   ]
  },
  {
   "cell_type": "markdown",
   "id": "37fb1741-c6d4-418e-8de3-75c78269521a",
   "metadata": {},
   "source": [
    "## Feature Importance"
   ]
  },
  {
   "cell_type": "code",
   "execution_count": 38,
   "id": "c35096da",
   "metadata": {},
   "outputs": [
    {
     "data": {
      "image/png": "[encoded data removed]",
      "text/plain": [
       "<Figure size 1200x800 with 1 Axes>"
      ]
     },
     "metadata": {},
     "output_type": "display_data"
    }
   ],
   "source": [
    "# Map importances to the column names\n",
    "model.fit(X, y)\n",
    "importances = model.feature_importances_\n",
    "feature_importances = pd.Series(importances, index=X_train.columns)\n",
    "top_10 = feature_importances.sort_values(ascending=False).head(10)\n",
    "\n",
    "# Plot\n",
    "plt.figure(figsize=(12, 8))\n",
    "top_10.plot(kind='barh', color='skyblue')\n",
    "plt.title('Top 10 Most Important Features from XGBoost Regressor')\n",
    "plt.xlabel('Importance')\n",
    "plt.ylabel('Feature Name')\n",
    "plt.gca().invert_yaxis()  # to have the most important feature at the top\n",
    "plt.show()\n"
   ]
  },
  {
   "cell_type": "markdown",
   "id": "00791d53-9945-4861-b4ce-cf874da4efcc",
   "metadata": {},
   "source": [
    "# Gradient Boosting Regressor"
   ]
  },
  {
   "cell_type": "markdown",
   "id": "42680b5c-dcb7-4a8f-bc64-f60a7dbd5ab1",
   "metadata": {},
   "source": [
    "## First run with no tuning"
   ]
  },
  {
   "cell_type": "code",
   "execution_count": 39,
   "id": "b8e43354-dc2c-464f-8c9e-97ab7bfed7f0",
   "metadata": {},
   "outputs": [
    {
     "name": "stdout",
     "output_type": "stream",
     "text": [
      "\n",
      "Average R^2 Score across the 5 folds: 0.9245\n"
     ]
    }
   ],
   "source": [
    "X = housing.drop('SalePrice',axis=1) # Features\n",
    "y = housing['SalePrice'] # Target variable\n",
    "\n",
    "# Split the data\n",
    "X_train, X_test, y_train, y_test = train_test_split(X, y, test_size=0.2, random_state=42)\n",
    "\n",
    "model = GradientBoostingRegressor(n_estimators=100, random_state=42)\n",
    "model.fit(X_train, y_train)\n",
    "y_pred = model.predict(X_test)\n",
    "\n",
    "scores = cross_val_score(model, X_train, y_train, cv=5, scoring='r2')\n",
    "# Print average R^2 score\n",
    "print(f\"\\nAverage R^2 Score across the 5 folds: {scores.mean():.4f}\")"
   ]
  },
  {
   "cell_type": "markdown",
   "id": "bd1cd56a-3070-4768-a2fa-af919aab4792",
   "metadata": {},
   "source": [
    "## Hyperparameter tuning"
   ]
  },
  {
   "cell_type": "code",
   "execution_count": null,
   "id": "88ca7dd8-b054-475a-8ff4-f8efb312869d",
   "metadata": {},
   "outputs": [],
   "source": [
    "param_grid = {\n",
    "    'learning_rate': [0.1, 0.05, 0.01, 0.001],\n",
    "    'n_estimators': [100, 200, 300, 400, 500, 600],\n",
    "    'subsample': [0.3, 0.7, 0.8, 0.9],   \n",
    "    'min_samples_split': [2, 5, 10],\n",
    "    'min_samples_leaf': [1, 2, 4],\n",
    "    'min_weight_fraction_leaf': [0, 0.25, 0.5],    \n",
    "    'max_depth': [3, 5, 6, 7],\n",
    "    'max_leaf_nodes': [5, 10, 50]\n",
    "}\n",
    "\n",
    "X = housing.drop('SalePrice',axis=1) # Features\n",
    "y = housing['SalePrice'] # Target variable\n",
    "\n",
    "model = GradientBoostingRegressor(random_state=42, max_features=0.4)\n",
    "grid_search = GridSearchCV(model, param_grid, cv=3, scoring='r2', verbose=1, n_jobs=-1)\n",
    "grid_search.fit(X, y)\n",
    "print(f\"Best hyperparameters: {grid_search.best_params_}\")\n"
   ]
  },
  {
   "cell_type": "code",
   "execution_count": 40,
   "id": "2a2999e0-c566-4ef3-8bbd-da77f7056d17",
   "metadata": {},
   "outputs": [
    {
     "name": "stdout",
     "output_type": "stream",
     "text": [
      "\n",
      "Average R^2 Score across the 5 folds: 0.9407\n"
     ]
    }
   ],
   "source": [
    "test_param = {\n",
    "    'learning_rate': 0.008,\n",
    "    'n_estimators': 7000,\n",
    "    'subsample': 0.3,   \n",
    "    'min_samples_split': 4,\n",
    "    'min_samples_leaf': 1,   \n",
    "    'max_depth': 5,\n",
    "    'max_leaf_nodes': 5,\n",
    "    'max_features': 0.9,\n",
    "    'random_state': 42\n",
    "}\n",
    "\n",
    "best_paramGRIDresult = {\n",
    "    'learning_rate': 0.011,\n",
    "    'n_estimators': 4000,\n",
    "    'subsample': 0.3,\n",
    "    'min_samples_split': 5,\n",
    "    'max_depth': 3,\n",
    "    'max_features': 0.2,\n",
    "    'random_state': 42\n",
    "}\n",
    "\n",
    "X = housing.drop('SalePrice',axis=1) # Features\n",
    "y = housing['SalePrice'] # Target variable\n",
    "X_train, X_test, y_train, y_test = train_test_split(X, y, test_size=0.2, random_state=42)\n",
    "\n",
    "model = GradientBoostingRegressor(**best_paramGRIDresult)\n",
    "model.fit(X_train, y_train)\n",
    "scores = cross_val_score(model, X_train, y_train, cv=5, scoring='r2')\n",
    "print(f\"\\nAverage R^2 Score across the 5 folds: {scores.mean():.4f}\")"
   ]
  },
  {
   "cell_type": "code",
   "execution_count": 70,
   "id": "3aadd12a-26f1-4596-a4dc-42d025783291",
   "metadata": {},
   "outputs": [
    {
     "name": "stdout",
     "output_type": "stream",
     "text": [
      "          Feature  Importance\n",
      "77        TotalSF        0.36\n",
      "16    OverallQual        0.26\n",
      "76            Age        0.03\n",
      "0       GrLivArea        0.02\n",
      "28       BsmtQual        0.02\n",
      "32     BsmtFinSF1        0.02\n",
      "46    KitchenQual        0.02\n",
      "4         LotArea        0.02\n",
      "18   YearRemodAdd        0.02\n",
      "24     MasVnrArea        0.02\n",
      "54     GarageArea        0.02\n",
      "53     GarageCars        0.01\n",
      "11   Neighborhood        0.01\n",
      "36    TotalBsmtSF        0.01\n",
      "35      BsmtUnfSF        0.01\n",
      "71  SaleCondition        0.01\n",
      "17    OverallCond        0.01\n",
      "48     Fireplaces        0.01\n",
      "41       1stFlrSF        0.01\n",
      "25      ExterQual        0.01\n",
      "3     LotFrontage        0.01\n",
      "51    GarageYrBlt        0.01\n",
      "42       2ndFlrSF        0.01\n",
      "62    ScreenPorch        0.01\n",
      "73  DistanceToISU        0.00\n"
     ]
    }
   ],
   "source": [
    "feature_importances = model.feature_importances_\n",
    "\n",
    "# Create a DataFrame to display feature names and their importances\n",
    "feature_importance_df = pd.DataFrame({'Feature': X.columns, 'Importance': feature_importances})\n",
    "\n",
    "# Sort the features by importance in descending order\n",
    "feature_importance_df = feature_importance_df.sort_values(by='Importance', ascending=False)\n",
    "print(feature_importance_df.head(25))"
   ]
  },
  {
   "cell_type": "code",
   "execution_count": null,
   "id": "1c0d16f7-4f27-4b2a-a25b-1f22c1adaaf0",
   "metadata": {},
   "outputs": [],
   "source": [
    "feature_importances = model.feature_importances_\n",
    "\n",
    "# Create a DataFrame to display feature names and their importances\n",
    "feature_importance_df = pd.DataFrame({'Feature': X.columns, 'Importance': feature_importances})\n",
    "\n",
    "# Sort the features by importance in descending order\n",
    "feature_importance_df = feature_importance_df.sort_values(by='Importance', ascending=False)\n",
    "print(feature_importance_df.head(25))"
   ]
  }
 ],
 "metadata": {
  "kernelspec": {
   "display_name": "Python 3 (ipykernel)",
   "language": "python",
   "name": "python3"
  },
  "language_info": {
   "codemirror_mode": {
    "name": "ipython",
    "version": 3
   },
   "file_extension": ".py",
   "mimetype": "text/x-python",
   "name": "python",
   "nbconvert_exporter": "python",
   "pygments_lexer": "ipython3",
   "version": "3.12.0"
  }
 },
 "nbformat": 4,
 "nbformat_minor": 5
}
