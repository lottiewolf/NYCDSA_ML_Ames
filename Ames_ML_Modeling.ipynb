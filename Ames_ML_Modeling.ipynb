{
 "cells": [
  {
   "cell_type": "markdown",
   "id": "41aa43e4-8797-46a9-b2aa-d8454981bc21",
   "metadata": {},
   "source": [
    "# Ames Modeling"
   ]
  },
  {
   "cell_type": "markdown",
   "id": "11fe8f2d-f336-4e7b-8338-81e5638f1929",
   "metadata": {},
   "source": [
    "Load the dataset, begin modeling."
   ]
  },
  {
   "cell_type": "code",
   "execution_count": 217,
   "id": "b7bda3f3-afa2-4ba5-807a-81a69cd0f94a",
   "metadata": {},
   "outputs": [],
   "source": [
    "import pandas as pd\n",
    "import numpy as np\n",
    "import matplotlib.pyplot as plt\n",
    "import seaborn as sns\n",
    "from sklearn.feature_selection import f_regression\n",
    "from sklearn.linear_model import LinearRegression\n",
    "from sklearn.model_selection import train_test_split\n",
    "from sklearn.model_selection import KFold\n",
    "from sklearn.model_selection import cross_val_score\n",
    "from sklearn.metrics import mean_absolute_error, mean_squared_error, r2_score\n",
    "from sklearn.linear_model import Ridge, Lasso, ElasticNet\n",
    "from sklearn.model_selection import GridSearchCV\n",
    "from sklearn.ensemble import RandomForestRegressor, GradientBoostingRegressor\n",
    "from sklearn.preprocessing import StandardScaler, OneHotEncoder\n",
    "from sklearn.impute import SimpleImputer\n",
    "from sklearn.compose import ColumnTransformer\n",
    "from sklearn.pipeline import Pipeline\n",
    "import xgboost as xgb\n",
    "from itertools import combinations"
   ]
  },
  {
   "cell_type": "code",
   "execution_count": 255,
   "id": "d7abe5ee",
   "metadata": {
    "scrolled": true
   },
   "outputs": [],
   "source": [
    "housing = pd.read_csv('data/housing_final.csv')\n",
    "housing2 = pd.read_csv('data/NH_DF.csv')\n",
    "\n",
    "#housing.count()\n",
    "#housing.info()\n",
    "#housing.describe()"
   ]
  },
  {
   "cell_type": "markdown",
   "id": "0f6b3320-658f-4a60-b00c-4662c437fa0d",
   "metadata": {},
   "source": [
    "# Simple Linear Regression (SLR)"
   ]
  },
  {
   "cell_type": "code",
   "execution_count": 219,
   "id": "65bbe390-088c-4a07-a067-60bd81a035f6",
   "metadata": {},
   "outputs": [],
   "source": [
    "def SLR(X, y):\n",
    "    #Set up the model\n",
    "    lm = LinearRegression()\n",
    "    lm.fit(X, y)\n",
    "    score=lm.score(X, y)\n",
    "    return score\n"
   ]
  },
  {
   "cell_type": "markdown",
   "id": "4cdc99a1-261e-4901-a4dd-df9022c0e9ba",
   "metadata": {},
   "source": [
    "# Multiple Linear Regression (MLR)"
   ]
  },
  {
   "cell_type": "code",
   "execution_count": 220,
   "id": "73135282-b7e1-453d-8e4b-417d7f4c66d6",
   "metadata": {},
   "outputs": [],
   "source": [
    "def MLR(X, y):\n",
    "    # Split the dataset into a training set and a test set\n",
    "    X_train, X_test, y_train, y_test = train_test_split(X, y, test_size=0.2, random_state=42)  # 80% train, 20% test\n",
    "    lm = LinearRegression()\n",
    "    lm.fit(X_train, y_train)\n",
    "    y_pred = lm.predict(X_test) # Make predictions on the test set\n",
    "    r2_value_calculated = r2_score(y_test, y_pred)\n",
    "    coef = lm.coef_\n",
    "    return [r2_value_calculated, coef]\n"
   ]
  },
  {
   "cell_type": "markdown",
   "id": "bd799e53-a2fd-4916-87c3-d7c430b1c7b2",
   "metadata": {},
   "source": [
    "# Multiple Linear Regression (MLR) with k-fold CV"
   ]
  },
  {
   "cell_type": "code",
   "execution_count": 221,
   "id": "812ca9ba-d701-4e3d-b70b-da9e2aa536f1",
   "metadata": {},
   "outputs": [],
   "source": [
    "def MLR_kfold(X,y,k):\n",
    "    # Create an instance of KFold with the desired number of folds\n",
    "    kf = KFold(n_splits=k, shuffle=True, random_state=42)\n",
    "    \n",
    "    # Initialize lists to store RMSE and R-squared values for each fold\n",
    "    mae_scores = []\n",
    "    mse_scores = []\n",
    "    rmse_scores = []\n",
    "    r2_scores = []\n",
    "    \n",
    "    # Iterate over the folds\n",
    "    i=0\n",
    "    for train_index, test_index in kf.split(X):\n",
    "        X_train, X_test = X.iloc[train_index], X.iloc[test_index]\n",
    "        y_train, y_test = y.iloc[train_index], y.iloc[test_index]\n",
    "        \n",
    "        # 2. Modeling (MLR)\n",
    "        lm = LinearRegression()\n",
    "        lm.fit(X_train, y_train)\n",
    "        y_pred = lm.predict(X_test) # Make predictions on the test set\n",
    "        \n",
    "        # 3. Evaluation Calculate MAE, MSE, and RMSE for this fold\n",
    "        mae = mean_absolute_error(y_test, y_pred)\n",
    "        mse = mean_squared_error(y_test, y_pred)\n",
    "        rmse = np.sqrt(mse)\n",
    "        r2 = r2_score(y_test, y_pred)\n",
    "        \n",
    "        # Append the scores to the respective lists\n",
    "        mae_scores.append(mae)\n",
    "        mse_scores.append(mse)\n",
    "        rmse_scores.append(rmse)\n",
    "        r2_scores.append(r2)\n",
    "        print(i,\"R-squared:\", r2)\n",
    "        i=i+1\n",
    "\n",
    "    return [rmse_scores, r2_scores]\n"
   ]
  },
  {
   "cell_type": "markdown",
   "id": "9a4fa37c-4051-4a16-9867-f06d2ef1eea7",
   "metadata": {},
   "source": [
    "# Penalized Regression with k-fold CV"
   ]
  },
  {
   "cell_type": "code",
   "execution_count": 222,
   "id": "e4dfb7e7-4082-4b3c-9efc-378f97b8aa97",
   "metadata": {},
   "outputs": [],
   "source": [
    "# These functions do penalized regression on ridge, lasso, and elastic net\n",
    "# regression models with k-fold cross validation, and uses GridSearchCV to \n",
    "# determine the best alpha\n",
    "\n",
    "def grid_alpha(X,y,model):\n",
    "    # Do GridSearchCV to find best alpha\n",
    "    params = {'alpha': np.linspace(0, 1, 5)}\n",
    "    grid = GridSearchCV(model, params, scoring='neg_mean_squared_error', return_train_score=True)\n",
    "    gX_train, gX_test, gy_train, gy_test = train_test_split(X, y, test_size=0.2, random_state=42)\n",
    "\n",
    "    gX_train = StandardScaler().fit_transform(gX_train)\n",
    "    gX_train = pd.DataFrame(gX_train)\n",
    "    \n",
    "    grid.fit(gX_train, gy_train)\n",
    "    best_alpha = grid.best_params_['alpha']\n",
    "    print(\"best alpha for \",model,\": \",best_alpha)\n",
    "    return best_alpha\n",
    "    \n",
    "def penalized(X,y,k,ratio):\n",
    "    print(\"Ridge, Lasso, and Elastic Net with GridSearchCV for alpha\")\n",
    "    print(\"Features:\\n\", list(X.columns.values))\n",
    "\n",
    "    ridge_alpha = grid_alpha(X,y, Ridge())\n",
    "    lasso_alpha = grid_alpha(X,y, Lasso())\n",
    "    enet_alpha = grid_alpha(X,y, ElasticNet())\n",
    "       \n",
    "    # Create an instance of KFold with the desired number of folds, iterate\n",
    "    kf = KFold(n_splits=k, shuffle=True, random_state=42)\n",
    "    for train_index, test_index in kf.split(X):\n",
    "        X_train, X_test = X.iloc[train_index], X.iloc[test_index]\n",
    "        y_train, y_test = y.iloc[train_index], y.iloc[test_index]\n",
    "        X_train = StandardScaler().fit_transform(X_train)\n",
    "        X_train = pd.DataFrame(X_train)\n",
    "\n",
    "        ############################ Create Models ###########################################     \n",
    "        ridge_model = Ridge(alpha=ridge_alpha) \n",
    "        lasso_model = Lasso(alpha=lasso_alpha)\n",
    "        elasticnet_model = ElasticNet(alpha=enet_alpha, l1_ratio=ratio) # Ratio mixing parameter controls balance between Ridge and Lasso\n",
    "    \n",
    "        # Fit the models on the training data\n",
    "        ridge_model.fit(X_train, y_train)\n",
    "        lasso_model.fit(X_train, y_train)\n",
    "        elasticnet_model.fit(X_train, y_train)\n",
    "    \n",
    "        ######################### Make predictions using models #############################\n",
    "        X_test = StandardScaler().fit_transform(X_test)\n",
    "        X_test = pd.DataFrame(X_test)\n",
    "        ridge_predictions = ridge_model.predict(X_test)\n",
    "        lasso_predictions = lasso_model.predict(X_test)\n",
    "        elasticnet_predictions = elasticnet_model.predict(X_test)\n",
    "    \n",
    "        ############################ Evaluate Models #########################################\n",
    "        # Calculate R-squared for the models\n",
    "        ridge_r2 = r2_score(y_test, ridge_predictions)\n",
    "        lasso_r2 = r2_score(y_test, lasso_predictions)\n",
    "        elasticnet_r2 = r2_score(y_test, elasticnet_predictions)\n",
    "    \n",
    "        print(\"R-squared for Ridge model:\", ridge_r2)\n",
    "        print(\"R-squared for Lasso model:\", lasso_r2)\n",
    "        print(\"R-squared for ElasticNet model:\", elasticnet_r2)\n",
    "    "
   ]
  },
  {
   "cell_type": "markdown",
   "id": "7922c85c-0085-4488-90dc-3acfded733a3",
   "metadata": {},
   "source": [
    "# Feature Selection"
   ]
  },
  {
   "cell_type": "code",
   "execution_count": 242,
   "id": "a76adb06-83c5-4fb3-9567-07402ddbdf15",
   "metadata": {},
   "outputs": [
    {
     "name": "stdout",
     "output_type": "stream",
     "text": [
      "Number of numerical feat:  26\n",
      "Number of ord feat:  23\n",
      "Number of nom feat:  34\n"
     ]
    }
   ],
   "source": [
    "numerical_features=['GrLivArea','LotFrontage','LotArea','YearBuilt','YearRemodAdd','MasVnrArea',\n",
    " 'BsmtFinSF1','BsmtFinSF2','BsmtUnfSF','TotalBsmtSF','1stFlrSF','2ndFlrSF','LowQualFinSF',\n",
    " 'GarageYrBlt','GarageArea','WoodDeckSF','OpenPorchSF','EnclosedPorch','3SsnPorch','YrSold', \n",
    " 'ScreenPorch','PoolArea','MiscVal','DistanceToISU','YearsSinceRemod','TotalSF'] #'DateSold'\n",
    "cat_ord_features=['LandSlope','OverallQual','OverallCond','ExterQual','ExterCond','BsmtQual',\n",
    " 'BsmtCond','HeatingQC','BsmtFullBath','BsmtHalfBath','FullBath','HalfBath','BedroomAbvGr',\n",
    " 'KitchenAbvGr','KitchenQual','TotRmsAbvGrd','Fireplaces','FireplaceQu','GarageCars',\n",
    " 'GarageQual','GarageCond','PoolQC','DistanceCategory']\n",
    "cat_nom_features=['MSSubClass','MSZoning','Street','Alley','LotShape','LandContour','Utilities',\n",
    " 'LotConfig','Neighborhood','Condition1','Condition2','BldgType','HouseStyle','RoofStyle',\n",
    " 'RoofMatl','Exterior1st','Exterior2nd','MasVnrType','Foundation','BsmtExposure','BsmtFinType1',\n",
    " 'BsmtFinType2','Heating','CentralAir','Electrical','Functional','GarageType','GarageFinish',\n",
    " 'PavedDrive','Fence','MiscFeature','MoSold','SaleType','SaleCondition']\n",
    "all_features = numerical_features + cat_ord_features + cat_nom_features\n",
    "best_features = ['GrLivArea', 'MSSubClass', 'LotFrontage', 'LotArea', 'OverallQual', 'OverallCond', \n",
    "            'YearBuilt', 'YearRemodAdd', 'MasVnrArea', 'BsmtFinSF1', 'BsmtFinSF2', 'BsmtUnfSF', 'TotalBsmtSF', \n",
    "            'LowQualFinSF', 'BedroomAbvGr'] #top 15 from one of the combinatorics run\n",
    "print(\"Number of numerical feat: \",len(numerical_features))\n",
    "print(\"Number of ord feat: \",len(cat_ord_features))\n",
    "print(\"Number of nom feat: \",len(cat_nom_features))"
   ]
  },
  {
   "cell_type": "markdown",
   "id": "ab670454-25f5-464d-85e8-b31f700de192",
   "metadata": {},
   "source": [
    "# Running the models"
   ]
  },
  {
   "cell_type": "markdown",
   "id": "7d2a4f50-6df3-4bb6-82b6-c21c655d8aed",
   "metadata": {},
   "source": [
    "## Running Simple Linear Regression"
   ]
  },
  {
   "cell_type": "code",
   "execution_count": 224,
   "id": "e8e1e2d9-cff9-4a17-834a-6d8dd9d0dbd2",
   "metadata": {},
   "outputs": [
    {
     "name": "stdout",
     "output_type": "stream",
     "text": [
      "R2 for Simple Linear Regression models: \n",
      "score, feature\n",
      " [[1.0, 'SalePrice'], [0.6711961597441903, 'TotalSF'], [0.6251450369427116, 'OverallQual'], [0.5183711142112821, 'GrLivArea'], [0.46592758029312764, 'ExterQual'], [0.42936092301546336, 'KitchenQual'], [0.4258083391417201, 'TotalBsmtSF'], [0.4129649523918614, '1stFlrSF'], [0.4078606795911094, 'GarageCars'], [0.4028516501885737, 'GarageArea']]\n"
     ]
    }
   ],
   "source": [
    "# Run SLR for all of the variables (non-nominal)\n",
    "\n",
    "#remove categorical non numeric features\n",
    "housing_num = housing.select_dtypes(exclude=[object])\n",
    "features = list(housing_num.columns.values)\n",
    "\n",
    "results = []\n",
    "# Loop through each feature and examine the score\n",
    "for i, feature in enumerate(housing[features]):\n",
    "    X=housing[[features[i]]]\n",
    "    y=housing['SalePrice']\n",
    "    score=SLR(X,y)\n",
    "    results.append([score,feature])\n",
    "\n",
    "results.sort(reverse=True)\n",
    "print(\"R2 for Simple Linear Regression models: \\nscore, feature\\n\", results[:10])"
   ]
  },
  {
   "cell_type": "markdown",
   "id": "d24f1b63-b037-4366-a6ab-f392a3b044b0",
   "metadata": {},
   "source": [
    "## Running Multiple Linear Regression"
   ]
  },
  {
   "cell_type": "code",
   "execution_count": 225,
   "id": "e350d80f-21e7-4632-9671-4e69dd36ce9f",
   "metadata": {},
   "outputs": [
    {
     "name": "stdout",
     "output_type": "stream",
     "text": [
      "['GrLivArea', 'SalePrice', 'MSSubClass', 'LotFrontage', 'LotArea', 'LandSlope', 'OverallQual', 'OverallCond', 'YearBuilt', 'YearRemodAdd', 'MasVnrArea', 'ExterQual', 'ExterCond', 'BsmtQual', 'BsmtCond', 'BsmtFinSF1', 'BsmtFinSF2', 'BsmtUnfSF', 'TotalBsmtSF', 'HeatingQC', '1stFlrSF', '2ndFlrSF', 'LowQualFinSF', 'BsmtFullBath', 'BsmtHalfBath', 'FullBath', 'HalfBath', 'BedroomAbvGr', 'KitchenAbvGr', 'KitchenQual', 'TotRmsAbvGrd', 'Fireplaces', 'FireplaceQu', 'GarageYrBlt', 'GarageCars', 'GarageArea', 'GarageQual', 'GarageCond', 'WoodDeckSF', 'OpenPorchSF', 'EnclosedPorch', '3SsnPorch', 'ScreenPorch', 'PoolArea', 'PoolQC', 'MiscVal', 'MoSold', 'YrSold', 'MA_Zip1', 'latitude', 'longitude', 'DistanceToISU', 'DistanceCategory', 'YearsSinceRemod', 'TotalSF']\n",
      "R2 for Multiple Linear Regression model:  0.8675827335780187\n",
      "Coefficient: [ 6.89649435e+01 -1.50239866e+02  8.28546737e+01  5.75939225e-01\n",
      "  1.65225554e+04  4.54307944e+03  3.72728780e+02  2.20015128e+02\n",
      "  3.52409699e+01  1.91118792e+01  7.97754814e+00 -4.44300555e+00\n",
      "  2.26464218e+01 -1.63317460e+01 -1.01051159e+04]\n"
     ]
    }
   ],
   "source": [
    "X = housing[best_features]  # Features\n",
    "y = housing['SalePrice']  # Target variable\n",
    "\n",
    "r = MLR(X,y)\n",
    "print(features)\n",
    "print(\"R2 for Multiple Linear Regression model: \", r[0])\n",
    "print(\"Coefficient:\", r[1])"
   ]
  },
  {
   "cell_type": "code",
   "execution_count": 226,
   "id": "4f83e780-fbff-4f6e-a750-d6f32b747dc2",
   "metadata": {},
   "outputs": [
    {
     "name": "stdout",
     "output_type": "stream",
     "text": [
      "MLR with k-fold Cross Validation\n",
      "Features:\n",
      " ['TotalSF', 'YearBuilt']\n",
      "0 R-squared: 0.7380489512100098\n",
      "1 R-squared: 0.6996575186312735\n",
      "2 R-squared: 0.774637078425608\n",
      "3 R-squared: 0.7603262975781899\n",
      "4 R-squared: 0.7071450170454274\n",
      "Average R-squared: 0.7359629725781016\n",
      "Standard deviation of R-squared: 0.029127890148053233\n"
     ]
    }
   ],
   "source": [
    "# Run MLR with K-fold CV\n",
    "\n",
    "# MLR with K-fold Cross Validation\n",
    "features = ['TotalSF','YearBuilt']\n",
    "X = housing[features]  # Features\n",
    "y = housing['SalePrice']  # Target variable\n",
    "\n",
    "print(\"MLR with k-fold Cross Validation\")\n",
    "print(\"Features:\\n\", features)\n",
    "\n",
    "r = MLR_kfold(X,y,k=5)\n",
    "\n",
    "#print(\"Average RMSE:\", avg_rmse)\n",
    "print(\"Average R-squared:\", np.mean(r[1]))\n",
    "print(\"Standard deviation of R-squared:\", np.std(r[1]))\n"
   ]
  },
  {
   "cell_type": "markdown",
   "id": "417f8e79-906c-419b-bd36-b66296ade1f3",
   "metadata": {},
   "source": [
    "## Running Ridge, Lasso, and Elastic Net"
   ]
  },
  {
   "cell_type": "code",
   "execution_count": 227,
   "id": "440d72fc-cda4-4ef8-9df6-ce104a0d9676",
   "metadata": {},
   "outputs": [
    {
     "name": "stdout",
     "output_type": "stream",
     "text": [
      "Ridge, Lasso, and Elastic Net with GridSearchCV for alpha\n",
      "Features:\n",
      " ['GrLivArea', 'MSSubClass', 'LotFrontage', 'LotArea', 'OverallQual', 'OverallCond', 'YearBuilt', 'YearRemodAdd', 'MasVnrArea', 'BsmtFinSF1', 'BsmtFinSF2', 'BsmtUnfSF', 'TotalBsmtSF', 'LowQualFinSF', 'BedroomAbvGr']\n",
      "best alpha for  Ridge() :  1.0\n",
      "best alpha for  Lasso() :  1.0\n",
      "best alpha for  ElasticNet() :  0.0\n",
      "R-squared for Ridge model: 0.8634672647469678\n",
      "R-squared for Lasso model: 0.8626984054582573\n",
      "R-squared for ElasticNet model: 0.8626983311811577\n",
      "R-squared for Ridge model: 0.8078525889431117\n",
      "R-squared for Lasso model: 0.8077947348898475\n",
      "R-squared for ElasticNet model: 0.8077908412003998\n",
      "R-squared for Ridge model: 0.871864644093898\n",
      "R-squared for Lasso model: 0.872147636530772\n",
      "R-squared for ElasticNet model: 0.8721513407928876\n",
      "R-squared for Ridge model: 0.857964937332202\n",
      "R-squared for Lasso model: 0.8580185970351515\n",
      "R-squared for ElasticNet model: 0.8580178665710935\n",
      "R-squared for Ridge model: 0.8503479415388738\n",
      "R-squared for Lasso model: 0.8510612021742731\n",
      "R-squared for ElasticNet model: 0.8510617140660365\n"
     ]
    }
   ],
   "source": [
    "X = housing[best_features]  # Features\n",
    "y = housing['SalePrice']  # Target variable\n",
    "\n",
    "penalized(X,y,k=5,ratio=0.5)"
   ]
  },
  {
   "cell_type": "markdown",
   "id": "bd734656-bb22-46ed-a5fd-d9fcdad68a67",
   "metadata": {},
   "source": [
    "## Running categorical var for Vinod"
   ]
  },
  {
   "cell_type": "code",
   "execution_count": 228,
   "id": "f2aa1f92-b954-4628-9531-f4db3c4044fa",
   "metadata": {},
   "outputs": [
    {
     "name": "stdout",
     "output_type": "stream",
     "text": [
      "['TotalSF', 'Neighborhood']\n",
      "R2 for Multiple Linear Regression model:  0.7763283731202626\n",
      "Coefficient: [ 5.76623354e+01  2.68750483e+02 -2.85742151e+04 -2.78161496e+04\n",
      "  1.90025477e+03  7.70519275e+03  5.10878279e+03 -2.92278115e+04\n",
      "  8.79227650e+03  2.77956451e+04  1.16860989e+05 -4.16703597e+04\n",
      "  1.89174898e-10 -3.95377614e+04 -1.27867761e+04 -2.77101493e+04\n",
      " -2.14230997e+04 -1.45867474e+04  6.30438067e+04  7.09462910e+04\n",
      " -3.97147689e+04 -4.62714763e+04 -2.09358025e+04 -2.02819054e+03\n",
      "  3.05764242e+04  6.71063401e+04  2.21616463e+04  1.89668790e+04]\n"
     ]
    }
   ],
   "source": [
    "# Run MLR for Vinod's question about categorical variables\n",
    "\n",
    "#features = ['TotalSF','YearBuilt']\n",
    "#features = ['TotalSF','OverallQual']\n",
    "features = ['TotalSF','Neighborhood']\n",
    "X = housing[features]  # Features\n",
    "\n",
    "# Convert categorical columns to one-hot encoding\n",
    "X = pd.get_dummies(X, columns=['Neighborhood'], drop_first=True)\n",
    "y = housing['SalePrice']  # Target variable\n",
    "\n",
    "r = MLR(X,y)\n",
    "print(features)\n",
    "print(\"R2 for Multiple Linear Regression model: \", r[0])\n",
    "print(\"Coefficient:\", r[1])"
   ]
  },
  {
   "cell_type": "markdown",
   "id": "a06ec060-bb22-4ecf-b349-ec079d8145bc",
   "metadata": {},
   "source": [
    "## Results for Vinod's Question Regarding Categorical Variables\n",
    "3. \n",
    "\n",
    "    A) using 2 numerical features.\n",
    "   \n",
    "    MLR with k-fold Cross Validation\n",
    "    Features:\n",
    "     ['TotalSF', 'YearBuilt']\n",
    "    0 R-squared: 0.7416625031183677\n",
    "    1 R-squared: 0.7217569726901124\n",
    "    2 R-squared: 0.7396252336514776\n",
    "    3 R-squared: 0.7284613561793205\n",
    "    4 R-squared: 0.7450915795474258\n",
    "    Average R-squared: 0.7353195290373409\n",
    "    Standard deviation of R-squared: 0.008777731520280862\n",
    "\n",
    "    ['TotalSF', 'YearBuilt']\n",
    "    R2 for Multiple Linear Regression model:  0.7416625031183677\n",
    "    Coefficient: [ 70.20861997 706.57551685]\n",
    "\n",
    "    B) One using 1 numerical + 1 ordinal (categorial)\n",
    "\n",
    "    MLR with k-fold Cross Validation\n",
    "    Features:\n",
    "     ['TotalSF', 'OverallQual']\n",
    "    0 R-squared: 0.792774534309626\n",
    "    1 R-squared: 0.7624705587335859\n",
    "    2 R-squared: 0.7877980662360704\n",
    "    3 R-squared: 0.7687533574218369\n",
    "    4 R-squared: 0.8070790469236628\n",
    "    Average R-squared: 0.7837751127249565\n",
    "    Standard deviation of R-squared: 0.01624674888158771\n",
    "\n",
    "    ['TotalSF', 'OverallQual']\n",
    "    R2 for Multiple Linear Regression model:  0.792774534309626\n",
    "    Coefficient: [   51.60485606 24634.19345553]\n",
    "\n",
    "    C) One using 1 numerical + 1 nominal (categorical)\n",
    "\n",
    "    ['TotalSF', 'Neighborhood']\n",
    "    R2 for Multiple Linear Regression model:  0.7752658566982651\n",
    "    Coefficient: [ 5.85357913e+01 -1.44534936e+04 -3.07217621e+04 -2.92747827e+04\n",
    "     -4.59607469e+03  6.31958875e+03  1.76623599e+03 -3.17566089e+04\n",
    "      4.64969094e+03  2.13902795e+04  1.15656923e+05 -4.11100342e+04\n",
    "     -1.56651870e+04 -3.97234514e+04 -1.44459331e+04 -2.93749044e+04\n",
    "     -2.54999577e+04 -1.80343378e+04  6.29015223e+04  6.86566889e+04\n",
    "     -4.12164036e+04 -4.47433094e+04 -2.49892035e+04 -4.02619715e+03\n",
    "      2.83089424e+04  6.73020370e+04  2.10537330e+04  1.83914854e+04]\n",
    "\n",
    "    MLR with k-fold Cross Validation\n",
    "    Features:\n",
    "     ['TotalSF', 'Neighborhood']\n",
    "    0 R-squared: 0.775265856698265\n",
    "    1 R-squared: 0.7993892323818912\n",
    "    2 R-squared: 0.7863056427419447\n",
    "    3 R-squared: 0.7871833976141214\n",
    "    4 R-squared: 0.7807599813736235\n",
    "    Average R-squared: 0.7857808221619691\n",
    "    Standard deviation of R-squared: 0.008039960499637195\n",
    "\n"
   ]
  },
  {
   "cell_type": "markdown",
   "id": "d096aa9d-d163-486b-bbed-07fe5070eeef",
   "metadata": {},
   "source": [
    "##  Multiple Linear Regression using Combinatorics for Feature Selection"
   ]
  },
  {
   "cell_type": "code",
   "execution_count": 66,
   "id": "e7ed548c-0eaa-4611-a74f-c7344c1d5e08",
   "metadata": {},
   "outputs": [
    {
     "name": "stdout",
     "output_type": "stream",
     "text": [
      "['GrLivArea', 'MSSubClass', 'LotFrontage', 'LotArea', 'LandSlope', 'OverallQual', 'OverallCond', 'YearBuilt', 'MasVnrArea', 'ExterQual', 'ExterCond', 'BsmtQual', 'BsmtCond', 'TotalBsmtSF', 'HeatingQC', 'BsmtFullBath', 'BsmtHalfBath', 'FullBath', 'HalfBath', 'BedroomAbvGr', 'KitchenAbvGr', 'KitchenQual', 'TotRmsAbvGrd', 'Fireplaces', 'FireplaceQu', 'GarageYrBlt', 'GarageCars', 'GarageArea', 'GarageQual', 'GarageCond', 'WoodDeckSF', 'OpenPorchSF', 'EnclosedPorch', '3SsnPorch', 'ScreenPorch', 'PoolArea', 'PoolQC', 'MiscVal', 'MoSold', 'YrSold', 'DistanceToISU', 'DistanceCategory', 'YearsSinceRemod', 'TotalSF']\n",
      "Total num features: 44\n",
      "10 features\n",
      "R2 for Multiple Linear Regression models: score, features []\n"
     ]
    }
   ],
   "source": [
    "# Run MLR for all combinations of features to determine the best combi\n",
    "\n",
    "#remove categorical non numeric features\n",
    "housing_num = housing.select_dtypes(exclude=[object])\n",
    "features = list(housing_num.columns.values)\n",
    "features.remove('SalePrice')\n",
    "features.remove('BsmtFinSF1')\n",
    "features.remove('BsmtFinSF2')\n",
    "features.remove('BsmtUnfSF')\n",
    "features.remove('1stFlrSF')\n",
    "features.remove('2ndFlrSF')\n",
    "features.remove('LowQualFinSF')\n",
    "features.remove('MA_Zip1')\n",
    "features.remove('latitude')\n",
    "features.remove('longitude')\n",
    "features.remove('YearRemodAdd')\n",
    "#['GrLivArea', 'MSSubClass', 'LotFrontage', 'LotArea', 'OverallQual', 'OverallCond', \n",
    "#            'YearBuilt', 'YearRemodAdd', 'MasVnrArea', 'BsmtFinSF1', 'BsmtFinSF2', 'BsmtUnfSF', 'TotalBsmtSF', \n",
    "#            'LowQualFinSF', 'BedroomAbvGr']\n",
    "\n",
    "print(features)\n",
    "n = len(features)\n",
    "print(\"Total num features:\",n)\n",
    "\n",
    "# Get all combinations\n",
    "results = []\n",
    "for i in range(10,10+1,1):\n",
    "    print(i, \"features\")\n",
    "    #comb = combinations(features, i)\n",
    "    #2481256778\n",
    "    #print(sum(1 for _ in comb))\n",
    "    #for c in comb:\n",
    "        #take contents of this for loop and make a function for it where c is the only arg\n",
    "        #time.sleep(.01)\n",
    "        #X = housing[list(c)]  # Features\n",
    "        #y = housing['SalePrice']  # Target variable\n",
    "        #r = MLR(X, y)\n",
    "        #if r[0] > 0.8: \n",
    "            #results.append([r[0],list(c)])\n",
    "            #print(r[0])\n",
    "\n",
    "#results.sort(reverse=True)\n",
    "print(\"R2 for Multiple Linear Regression models: score, features\", results[:20])\n",
    "#results.sort(reverse=True)\n",
    "    #calculate tolerance (the R2 between features)\n",
    "\n",
    "#print(\"R2 for Multiple Linear Regression model: \", r[0])\n"
   ]
  },
  {
   "cell_type": "markdown",
   "id": "eed72c40-5239-4ca5-aa83-8d1b56b9b899",
   "metadata": {},
   "source": [
    "# LazyPredict Results"
   ]
  },
  {
   "cell_type": "code",
   "execution_count": 229,
   "id": "7755fde0-83c4-4430-9e2e-3a58e5456203",
   "metadata": {},
   "outputs": [
    {
     "name": "stderr",
     "output_type": "stream",
     "text": [
      "  5%|██                                          | 2/42 [00:00<00:04,  8.61it/s]"
     ]
    },
    {
     "name": "stdout",
     "output_type": "stream",
     "text": [
      "{'Model': 'AdaBoostRegressor', 'R-Squared': 0.8205310585523525, 'Adjusted R-Squared': 0.8151469903089231, 'RMSE': 33088.7213838237, 'Time taken': 0.1367032527923584}\n",
      "{'Model': 'BaggingRegressor', 'R-Squared': 0.8799442607341706, 'Adjusted R-Squared': 0.8763425885561957, 'RMSE': 27063.053619644244, 'Time taken': 0.10142660140991211}\n",
      "{'Model': 'BayesianRidge', 'R-Squared': 0.8674139185648957, 'Adjusted R-Squared': 0.8634363361218426, 'RMSE': 28440.30846561372, 'Time taken': 0.006885528564453125}\n",
      "{'Model': 'DecisionTreeRegressor', 'R-Squared': 0.758240199815496, 'Adjusted R-Squared': 0.7509874058099608, 'RMSE': 38404.08116291699, 'Time taken': 0.019566059112548828}\n",
      "{'Model': 'DummyRegressor', 'R-Squared': -0.004594622264182835, 'Adjusted R-Squared': -0.034732460932108244, 'RMSE': 78285.39718401998, 'Time taken': 0.004118919372558594}\n",
      "{'Model': 'ElasticNet', 'R-Squared': 0.8234190427850925, 'Adjusted R-Squared': 0.8181216140686453, 'RMSE': 32821.41256106356, 'Time taken': 0.0050089359283447266}\n",
      "{'Model': 'ElasticNetCV', 'R-Squared': 0.07856090147936512, 'Adjusted R-Squared': 0.0509177285237461, 'RMSE': 74975.37609769405, 'Time taken': 0.038147926330566406}\n",
      "{'Model': 'ExtraTreeRegressor', 'R-Squared': 0.7739769965960444, 'Adjusted R-Squared': 0.7671963064939257, 'RMSE': 37133.13834404511, 'Time taken': 0.008959770202636719}\n"
     ]
    },
    {
     "name": "stderr",
     "output_type": "stream",
     "text": [
      " 21%|█████████▍                                  | 9/42 [00:00<00:02, 13.04it/s]"
     ]
    },
    {
     "name": "stdout",
     "output_type": "stream",
     "text": [
      "{'Model': 'ExtraTreesRegressor', 'R-Squared': 0.8932526059955371, 'Adjusted R-Squared': 0.8900501841754033, 'RMSE': 25519.01901936324, 'Time taken': 0.40674757957458496}\n",
      "{'Model': 'GammaRegressor', 'R-Squared': 0.8100462727123632, 'Adjusted R-Squared': 0.8043476608937341, 'RMSE': 34041.54359477288, 'Time taken': 0.007683515548706055}\n"
     ]
    },
    {
     "name": "stderr",
     "output_type": "stream",
     "text": [
      " 26%|███████████▎                               | 11/42 [00:01<00:03,  9.88it/s]"
     ]
    },
    {
     "name": "stdout",
     "output_type": "stream",
     "text": [
      "{'Model': 'GaussianProcessRegressor', 'R-Squared': -0.3505677012846462, 'Adjusted R-Squared': -0.39108473232318564, 'RMSE': 90770.24643510651, 'Time taken': 0.3346066474914551}\n"
     ]
    },
    {
     "name": "stderr",
     "output_type": "stream",
     "text": [
      " 31%|█████████████▎                             | 13/42 [00:01<00:04,  6.96it/s]"
     ]
    },
    {
     "name": "stdout",
     "output_type": "stream",
     "text": [
      "{'Model': 'GradientBoostingRegressor', 'R-Squared': 0.9068348509966664, 'Adjusted R-Squared': 0.9040398965265664, 'RMSE': 23840.31976893871, 'Time taken': 0.31296730041503906}\n",
      "{'Model': 'HistGradientBoostingRegressor', 'R-Squared': 0.8996214336450276, 'Adjusted R-Squared': 0.8966100766543784, 'RMSE': 24746.046755185303, 'Time taken': 0.18484163284301758}\n",
      "{'Model': 'HuberRegressor', 'R-Squared': 0.8582798315903399, 'Adjusted R-Squared': 0.8540282265380501, 'RMSE': 29403.64459218172, 'Time taken': 0.01530909538269043}\n"
     ]
    },
    {
     "name": "stderr",
     "output_type": "stream",
     "text": [
      " 38%|████████████████▍                          | 16/42 [00:01<00:02,  8.81it/s]"
     ]
    },
    {
     "name": "stdout",
     "output_type": "stream",
     "text": [
      "{'Model': 'KNeighborsRegressor', 'R-Squared': 0.856598617932631, 'Adjusted R-Squared': 0.85229657647061, 'RMSE': 29577.536796151133, 'Time taken': 0.022526264190673828}\n",
      "{'Model': 'KernelRidge', 'R-Squared': -4.269998364765882, 'Adjusted R-Squared': -4.4280983157088585, 'RMSE': 179304.2464536739, 'Time taken': 0.18683457374572754}\n",
      "{'Model': 'Lars', 'R-Squared': 0.867582733578021, 'Adjusted R-Squared': 0.8636102155853616, 'RMSE': 28422.196910339302, 'Time taken': 0.010738849639892578}\n"
     ]
    },
    {
     "name": "stderr",
     "output_type": "stream",
     "text": [
      " 57%|████████████████████████▌                  | 24/42 [00:01<00:00, 19.72it/s]"
     ]
    },
    {
     "name": "stdout",
     "output_type": "stream",
     "text": [
      "{'Model': 'LarsCV', 'R-Squared': 0.8670434790252511, 'Adjusted R-Squared': 0.8630547833960087, 'RMSE': 28480.011223456266, 'Time taken': 0.01596546173095703}\n",
      "{'Model': 'Lasso', 'R-Squared': 0.8675802717315007, 'Adjusted R-Squared': 0.8636076798834457, 'RMSE': 28422.46111591928, 'Time taken': 0.005704402923583984}\n",
      "{'Model': 'LassoCV', 'R-Squared': 0.8672826860556669, 'Adjusted R-Squared': 0.8633011666373369, 'RMSE': 28454.379965095646, 'Time taken': 0.0413668155670166}\n",
      "{'Model': 'LassoLars', 'R-Squared': 0.8675780849857149, 'Adjusted R-Squared': 0.8636054275352864, 'RMSE': 28422.695795605177, 'Time taken': 0.006058216094970703}\n",
      "{'Model': 'LassoLarsCV', 'R-Squared': 0.8670434790252511, 'Adjusted R-Squared': 0.8630547833960087, 'RMSE': 28480.011223456266, 'Time taken': 0.012880563735961914}\n",
      "{'Model': 'LassoLarsIC', 'R-Squared': 0.867582733578021, 'Adjusted R-Squared': 0.8636102155853616, 'RMSE': 28422.196910339302, 'Time taken': 0.006649971008300781}\n",
      "{'Model': 'LinearRegression', 'R-Squared': 0.867582733578021, 'Adjusted R-Squared': 0.8636102155853616, 'RMSE': 28422.196910339306, 'Time taken': 0.004906415939331055}\n",
      "{'Model': 'LinearSVR', 'R-Squared': -5.324290614214017, 'Adjusted R-Squared': -5.514019332640437, 'RMSE': 196422.5044133675, 'Time taken': 0.005610942840576172}\n"
     ]
    },
    {
     "name": "stderr",
     "output_type": "stream",
     "text": [
      " 67%|████████████████████████████▋              | 28/42 [00:02<00:01, 11.55it/s]"
     ]
    },
    {
     "name": "stdout",
     "output_type": "stream",
     "text": [
      "{'Model': 'MLPRegressor', 'R-Squared': -5.239175641512125, 'Adjusted R-Squared': -5.426350910757488, 'RMSE': 195096.2585141027, 'Time taken': 0.5444719791412354}\n",
      "{'Model': 'NuSVR', 'R-Squared': -0.030689214240415152, 'Adjusted R-Squared': -0.061609890667627676, 'RMSE': 79295.62024903082, 'Time taken': 0.11081600189208984}\n",
      "{'Model': 'OrthogonalMatchingPursuit', 'R-Squared': 0.6201582397185916, 'Adjusted R-Squared': 0.6087629869101494, 'RMSE': 48137.85005332148, 'Time taken': 0.0059661865234375}\n",
      "{'Model': 'OrthogonalMatchingPursuitCV', 'R-Squared': 0.8297941610295614, 'Adjusted R-Squared': 0.8246879858604482, 'RMSE': 32223.48901911773, 'Time taken': 0.00817108154296875}\n",
      "{'Model': 'PassiveAggressiveRegressor', 'R-Squared': 0.8550732192609536, 'Adjusted R-Squared': 0.8507254158387823, 'RMSE': 29734.432729828448, 'Time taken': 0.037697553634643555}\n",
      "{'Model': 'PoissonRegressor', 'R-Squared': 0.9105024147523184, 'Adjusted R-Squared': 0.907817487194888, 'RMSE': 23366.356244195755, 'Time taken': 0.007998943328857422}\n",
      "QuantileRegressor model failed to execute\n",
      "Solver interior-point is not anymore available in SciPy >= 1.11.0.\n"
     ]
    },
    {
     "name": "stderr",
     "output_type": "stream",
     "text": [
      " 79%|█████████████████████████████████▊         | 33/42 [00:02<00:00, 15.73it/s]"
     ]
    },
    {
     "name": "stdout",
     "output_type": "stream",
     "text": [
      "{'Model': 'RANSACRegressor', 'R-Squared': 0.7831966532569323, 'Adjusted R-Squared': 0.7766925528546402, 'RMSE': 36367.908510473026, 'Time taken': 0.051082611083984375}\n"
     ]
    },
    {
     "name": "stderr",
     "output_type": "stream",
     "text": [
      " 93%|███████████████████████████████████████▉   | 39/42 [00:03<00:00,  9.56it/s]"
     ]
    },
    {
     "name": "stdout",
     "output_type": "stream",
     "text": [
      "{'Model': 'RandomForestRegressor', 'R-Squared': 0.8961800839920554, 'Adjusted R-Squared': 0.893065486511817, 'RMSE': 25166.665190007374, 'Time taken': 0.9089891910552979}\n",
      "{'Model': 'Ridge', 'R-Squared': 0.8675490978903028, 'Adjusted R-Squared': 0.8635755708270119, 'RMSE': 28425.806482806696, 'Time taken': 0.004996061325073242}\n",
      "{'Model': 'RidgeCV', 'R-Squared': 0.8672415818798355, 'Adjusted R-Squared': 0.8632588293362305, 'RMSE': 28458.78595877177, 'Time taken': 0.0055751800537109375}\n",
      "{'Model': 'SGDRegressor', 'R-Squared': 0.8577676788180216, 'Adjusted R-Squared': 0.8535007091825623, 'RMSE': 29456.7265828301, 'Time taken': 0.0073735713958740234}\n",
      "{'Model': 'SVR', 'R-Squared': -0.08647908703320017, 'Adjusted R-Squared': -0.11907345964419624, 'RMSE': 81413.42404498698, 'Time taken': 0.15787625312805176}\n",
      "{'Model': 'TransformedTargetRegressor', 'R-Squared': 0.867582733578021, 'Adjusted R-Squared': 0.8636102155853616, 'RMSE': 28422.196910339306, 'Time taken': 0.005678892135620117}\n",
      "{'Model': 'TweedieRegressor', 'R-Squared': 0.7785728750487237, 'Adjusted R-Squared': 0.7719300613001855, 'RMSE': 36753.67285874725, 'Time taken': 0.012110233306884766}\n"
     ]
    },
    {
     "name": "stderr",
     "output_type": "stream",
     "text": [
      "100%|███████████████████████████████████████████| 42/42 [00:03<00:00, 10.70it/s]"
     ]
    },
    {
     "name": "stdout",
     "output_type": "stream",
     "text": [
      "{'Model': 'XGBRegressor', 'R-Squared': 0.9006768056671969, 'Adjusted R-Squared': 0.8976971098372127, 'RMSE': 24615.61405557824, 'Time taken': 0.08706164360046387}\n",
      "[LightGBM] [Info] Auto-choosing col-wise multi-threading, the overhead of testing was 0.000151 seconds.\n",
      "You can set `force_col_wise=true` to remove the overhead.\n",
      "[LightGBM] [Info] Total Bins 1935\n",
      "[LightGBM] [Info] Number of data points in the train set: 2063, number of used features: 15\n",
      "[LightGBM] [Info] Start training from score 176994.167717\n",
      "{'Model': 'LGBMRegressor', 'R-Squared': 0.9023093016364713, 'Adjusted R-Squared': 0.8993785806855654, 'RMSE': 24412.48233080444, 'Time taken': 0.056641340255737305}\n",
      "                               Adjusted R-Squared  R-Squared      RMSE  \\\n",
      "Model                                                                    \n",
      "PoissonRegressor                             0.91       0.91  23366.36   \n",
      "GradientBoostingRegressor                    0.90       0.91  23840.32   \n",
      "LGBMRegressor                                0.90       0.90  24412.48   \n",
      "XGBRegressor                                 0.90       0.90  24615.61   \n",
      "HistGradientBoostingRegressor                0.90       0.90  24746.05   \n",
      "RandomForestRegressor                        0.89       0.90  25166.67   \n",
      "ExtraTreesRegressor                          0.89       0.89  25519.02   \n",
      "BaggingRegressor                             0.88       0.88  27063.05   \n",
      "Lars                                         0.86       0.87  28422.20   \n",
      "TransformedTargetRegressor                   0.86       0.87  28422.20   \n",
      "LinearRegression                             0.86       0.87  28422.20   \n",
      "LassoLarsIC                                  0.86       0.87  28422.20   \n",
      "Lasso                                        0.86       0.87  28422.46   \n",
      "LassoLars                                    0.86       0.87  28422.70   \n",
      "Ridge                                        0.86       0.87  28425.81   \n",
      "BayesianRidge                                0.86       0.87  28440.31   \n",
      "LassoCV                                      0.86       0.87  28454.38   \n",
      "RidgeCV                                      0.86       0.87  28458.79   \n",
      "LarsCV                                       0.86       0.87  28480.01   \n",
      "LassoLarsCV                                  0.86       0.87  28480.01   \n",
      "HuberRegressor                               0.85       0.86  29403.64   \n",
      "SGDRegressor                                 0.85       0.86  29456.73   \n",
      "KNeighborsRegressor                          0.85       0.86  29577.54   \n",
      "PassiveAggressiveRegressor                   0.85       0.86  29734.43   \n",
      "OrthogonalMatchingPursuitCV                  0.82       0.83  32223.49   \n",
      "ElasticNet                                   0.82       0.82  32821.41   \n",
      "AdaBoostRegressor                            0.82       0.82  33088.72   \n",
      "GammaRegressor                               0.80       0.81  34041.54   \n",
      "RANSACRegressor                              0.78       0.78  36367.91   \n",
      "TweedieRegressor                             0.77       0.78  36753.67   \n",
      "ExtraTreeRegressor                           0.77       0.77  37133.14   \n",
      "DecisionTreeRegressor                        0.75       0.76  38404.08   \n",
      "OrthogonalMatchingPursuit                    0.61       0.62  48137.85   \n",
      "ElasticNetCV                                 0.05       0.08  74975.38   \n",
      "DummyRegressor                              -0.03      -0.00  78285.40   \n",
      "NuSVR                                       -0.06      -0.03  79295.62   \n",
      "SVR                                         -0.12      -0.09  81413.42   \n",
      "GaussianProcessRegressor                    -0.39      -0.35  90770.25   \n",
      "KernelRidge                                 -4.43      -4.27 179304.25   \n",
      "MLPRegressor                                -5.43      -5.24 195096.26   \n",
      "LinearSVR                                   -5.51      -5.32 196422.50   \n",
      "\n",
      "                               Time Taken  \n",
      "Model                                      \n",
      "PoissonRegressor                     0.01  \n",
      "GradientBoostingRegressor            0.31  \n",
      "LGBMRegressor                        0.06  \n",
      "XGBRegressor                         0.09  \n",
      "HistGradientBoostingRegressor        0.18  \n",
      "RandomForestRegressor                0.91  \n",
      "ExtraTreesRegressor                  0.41  \n",
      "BaggingRegressor                     0.10  \n",
      "Lars                                 0.01  \n",
      "TransformedTargetRegressor           0.01  \n",
      "LinearRegression                     0.00  \n",
      "LassoLarsIC                          0.01  \n",
      "Lasso                                0.01  \n",
      "LassoLars                            0.01  \n",
      "Ridge                                0.00  \n",
      "BayesianRidge                        0.01  \n",
      "LassoCV                              0.04  \n",
      "RidgeCV                              0.01  \n",
      "LarsCV                               0.02  \n",
      "LassoLarsCV                          0.01  \n",
      "HuberRegressor                       0.02  \n",
      "SGDRegressor                         0.01  \n",
      "KNeighborsRegressor                  0.02  \n",
      "PassiveAggressiveRegressor           0.04  \n",
      "OrthogonalMatchingPursuitCV          0.01  \n",
      "ElasticNet                           0.01  \n",
      "AdaBoostRegressor                    0.14  \n",
      "GammaRegressor                       0.01  \n",
      "RANSACRegressor                      0.05  \n",
      "TweedieRegressor                     0.01  \n",
      "ExtraTreeRegressor                   0.01  \n",
      "DecisionTreeRegressor                0.02  \n",
      "OrthogonalMatchingPursuit            0.01  \n",
      "ElasticNetCV                         0.04  \n",
      "DummyRegressor                       0.00  \n",
      "NuSVR                                0.11  \n",
      "SVR                                  0.16  \n",
      "GaussianProcessRegressor             0.33  \n",
      "KernelRidge                          0.19  \n",
      "MLPRegressor                         0.54  \n",
      "LinearSVR                            0.01  \n"
     ]
    },
    {
     "name": "stderr",
     "output_type": "stream",
     "text": [
      "\n"
     ]
    }
   ],
   "source": [
    "from lazypredict.Supervised import LazyRegressor\n",
    "\n",
    "features = ['GrLivArea', 'MSSubClass', 'LotFrontage', 'LotArea', 'OverallQual', 'OverallCond', \n",
    "            'YearBuilt', 'YearRemodAdd', 'MasVnrArea', 'BsmtFinSF1', 'BsmtFinSF2', 'BsmtUnfSF', 'TotalBsmtSF', \n",
    "            'LowQualFinSF', 'BedroomAbvGr']\n",
    "X = housing[features]  # Features\n",
    "y = housing['SalePrice']  # Target variable\n",
    "\n",
    "X_train, X_test, y_train, y_test = train_test_split(X, y, test_size=0.2, random_state=42)  # 80% train, 20% test\n",
    "\n",
    "reg = LazyRegressor(verbose=1, ignore_warnings=False, custom_metric=None)\n",
    "models, predictions = reg.fit(X_train, X_test, y_train, y_test)\n",
    "\n",
    "print(models)\n"
   ]
  },
  {
   "cell_type": "markdown",
   "id": "1b825dfe-ff16-405c-8c25-f172ef297647",
   "metadata": {},
   "source": [
    "# VIF"
   ]
  },
  {
   "cell_type": "code",
   "execution_count": 67,
   "id": "3edb7dc0",
   "metadata": {},
   "outputs": [
    {
     "data": {
      "text/plain": [
       "0    41.778207\n",
       "1    21.049467\n",
       "2    10.811683\n",
       "3     2.397206\n",
       "4    22.849588\n",
       "Name: VIF, dtype: float64"
      ]
     },
     "execution_count": 67,
     "metadata": {},
     "output_type": "execute_result"
    }
   ],
   "source": [
    "from statsmodels.stats.outliers_influence import variance_inflation_factor\n",
    "\n",
    "# Create a DataFrame with your features (X)\n",
    "X = housing[['OverallQual', 'TotalSF', 'GarageCars', 'Fireplaces', 'YearRemodAdd']]\n",
    "\n",
    "# Calculate VIF for each feature\n",
    "vif = pd.DataFrame()\n",
    "vif[\"Features\"] = X.columns\n",
    "vif[\"VIF\"] = [variance_inflation_factor(X.values, i) for i in range(X.shape[1])]\n",
    "vif[\"VIF\"]"
   ]
  },
  {
   "cell_type": "code",
   "execution_count": 68,
   "id": "16156f51",
   "metadata": {},
   "outputs": [
    {
     "data": {
      "text/plain": [
       "0    21.868821\n",
       "1    20.630049\n",
       "2    10.773760\n",
       "3     2.289568\n",
       "Name: VIF, dtype: float64"
      ]
     },
     "execution_count": 68,
     "metadata": {},
     "output_type": "execute_result"
    }
   ],
   "source": [
    "#High multicollinearity above. If YearRemodAdd is removed, it's improved\n",
    "\n",
    "from statsmodels.stats.outliers_influence import variance_inflation_factor\n",
    "\n",
    "# Create a DataFrame with your features (X)\n",
    "X = housing[['OverallQual', 'TotalSF', 'GarageCars', 'Fireplaces']]\n",
    "\n",
    "# Calculate VIF for each feature\n",
    "vif = pd.DataFrame()\n",
    "vif[\"Features\"] = X.columns\n",
    "vif[\"VIF\"] = [variance_inflation_factor(X.values, i) for i in range(X.shape[1])]\n",
    "vif[\"VIF\"]"
   ]
  },
  {
   "cell_type": "markdown",
   "id": "024b4b5e-25e6-4123-9374-29b543784b26",
   "metadata": {},
   "source": [
    "# RandomForestRegressor"
   ]
  },
  {
   "cell_type": "code",
   "execution_count": 245,
   "id": "fe1fecfd",
   "metadata": {},
   "outputs": [
    {
     "name": "stdout",
     "output_type": "stream",
     "text": [
      "R^2 Score: 0.8878546237165814\n",
      "RMSE: 26156.28260652973\n"
     ]
    }
   ],
   "source": [
    "X = housing[all_features] # Features\n",
    "y = housing['SalePrice']  # Target variable\n",
    "\n",
    "# Split the data\n",
    "X_train, X_test, y_train, y_test = train_test_split(X, y, test_size=0.2, random_state=42)\n",
    "\n",
    "# Create transformers\n",
    "numeric_transformer = Pipeline(steps=[\n",
    "    ('imputer', SimpleImputer(strategy='median')),\n",
    "    ('scaler', StandardScaler())])\n",
    "\n",
    "categorical_transformer = Pipeline(steps=[\n",
    "    ('imputer', SimpleImputer(strategy='constant', fill_value='missing')),\n",
    "    ('onehot', OneHotEncoder(handle_unknown='ignore'))])\n",
    "\n",
    "preprocessor = ColumnTransformer(\n",
    "    transformers=[\n",
    "        ('num', numeric_transformer, numerical_features),\n",
    "        ('cat', categorical_transformer, cat_nom_features)])\n",
    "\n",
    "# Append classifier to preprocessing pipeline.\n",
    "pipeline = Pipeline(steps=[('preprocessor', preprocessor),\n",
    "                           ('classifier', RandomForestRegressor(n_estimators=100, random_state=42))])\n",
    "\n",
    "# Preprocessing of training data and train model\n",
    "pipeline.fit(X_train, y_train)\n",
    "\n",
    "# Predict on test data\n",
    "y_pred = pipeline.predict(X_test)\n",
    "\n",
    "# Evaluate the model\n",
    "print(f'R^2 Score: {r2_score(y_test, y_pred)}')\n",
    "print(f'RMSE: {mean_squared_error(y_test, y_pred, squared=False)}')\n"
   ]
  },
  {
   "cell_type": "code",
   "execution_count": 246,
   "id": "9856c52d",
   "metadata": {},
   "outputs": [
    {
     "name": "stdout",
     "output_type": "stream",
     "text": [
      "R^2 Score for fold 1: 0.8286\n",
      "R^2 Score for fold 2: 0.8851\n",
      "R^2 Score for fold 3: 0.8522\n",
      "R^2 Score for fold 4: 0.8748\n",
      "R^2 Score for fold 5: 0.8474\n",
      "\n",
      "Average R^2 Score across the 5 folds: 0.8576\n"
     ]
    }
   ],
   "source": [
    "# Compute the R^2 scores\n",
    "scores = cross_val_score(pipeline, X_train, y_train, cv=5, scoring='r2')\n",
    "\n",
    "# Print R^2 score for each fold\n",
    "for i, score in enumerate(scores, 1):\n",
    "    print(f\"R^2 Score for fold {i}: {score:.4f}\")\n",
    "\n",
    "# Print average R^2 score\n",
    "print(f\"\\nAverage R^2 Score across the 5 folds: {scores.mean():.4f}\")\n"
   ]
  },
  {
   "cell_type": "code",
   "execution_count": 232,
   "id": "3f6671bf",
   "metadata": {},
   "outputs": [
    {
     "name": "stdout",
     "output_type": "stream",
     "text": [
      "RoofMatl_Roll: 0.0\n",
      "MiscFeature_TenC: 0.0\n",
      "Exterior1st_ImStucc: 6.516845348220786e-10\n",
      "RoofStyle_Shed: 2.4530308859494837e-09\n",
      "SaleType_VWD: 8.874364654950598e-09\n",
      "Condition2_PosA: 1.362926385819624e-08\n",
      "Utilities_AllPub: 1.9795548124302848e-08\n",
      "Exterior1st_AsphShn: 3.004548675890518e-08\n",
      "Exterior1st_CBlock: 4.251077258915533e-08\n",
      "Exterior2nd_CBlock: 5.172542905579538e-08\n",
      "Condition2_Artery: 8.155829135309487e-08\n",
      "Heating_Grav: 2.0400547596103234e-07\n",
      "Condition1_RRNe: 2.2020232412704783e-07\n",
      "Condition2_RRAn: 2.7920067404218205e-07\n",
      "SaleCondition_Alloca: 3.057234134283305e-07\n",
      "Condition2_RRNn: 4.674079805989428e-07\n",
      "MiscFeature_Othr: 4.7385554646302794e-07\n",
      "MSZoning_I (all): 5.6419092427713e-07\n",
      "SaleCondition_AdjLand: 6.05368908455553e-07\n",
      "Condition1_RRNn: 7.686516104657002e-07\n",
      "Fence_MnWw: 8.300870780495864e-07\n",
      "Heating_Wall: 8.940412510029913e-07\n",
      "Exterior1st_PreCast: 1.1544170936746691e-06\n",
      "MiscFeature_Gar2: 1.1906507287364908e-06\n",
      "RoofMatl_WdShake: 1.269678567160348e-06\n",
      "Street_Grvl: 1.3097156578975655e-06\n",
      "RoofMatl_Metal: 1.5326670695280162e-06\n",
      "Exterior2nd_AsphShn: 1.932709361263333e-06\n",
      "Neighborhood_MeadowV: 2.076436853088351e-06\n",
      "Exterior1st_BrkComm: 2.1596325644390697e-06\n",
      "Neighborhood_Greens: 2.3093951210847756e-06\n",
      "Functional_Sal: 2.3249492762624303e-06\n",
      "GarageType_CarPort: 2.3516748646171695e-06\n",
      "Neighborhood_NPkVill: 2.6678814899035084e-06\n",
      "HouseStyle_1.5Unf: 2.98365741038672e-06\n",
      "Exterior2nd_Brk Cmn: 3.1998620793155878e-06\n",
      "SaleType_ConLI: 3.3277516263027992e-06\n",
      "GarageType_Basment: 3.5009486981997355e-06\n",
      "Exterior2nd_Stone: 3.581322168938776e-06\n",
      "BsmtFinType2_None: 3.731278411004593e-06\n",
      "Condition2_Feedr: 3.927785775096213e-06\n",
      "Neighborhood_Blueste: 4.3065173622066806e-06\n",
      "Foundation_Wood: 4.3159919916827485e-06\n",
      "Electrical_FuseP: 4.655581975009543e-06\n",
      "Condition2_PosN: 5.210642882850399e-06\n",
      "MasVnrType_BrkCmn: 6.300602637763887e-06\n",
      "BsmtFinType1_None: 6.604473548019336e-06\n",
      "Heating_GasW: 7.059324547531256e-06\n",
      "SaleType_Con: 8.862968599262951e-06\n",
      "Foundation_Slab: 9.088427200606894e-06\n",
      "Neighborhood_Blmngtn: 9.781301704387962e-06\n",
      "GarageType_2Types: 1.1151289808285758e-05\n",
      "SaleType_ConLD: 1.1224776046422595e-05\n",
      "Utilities_NoSewr: 1.1663212790862325e-05\n",
      "RoofMatl_WdShngl: 1.2379940813714248e-05\n",
      "Heating_OthW: 1.342917825135048e-05\n",
      "SaleType_ConLw: 1.3602493319600632e-05\n",
      "Neighborhood_SWISU: 1.3731960468707859e-05\n",
      "Foundation_Stone: 1.3851506611995366e-05\n",
      "Condition1_RRAe: 1.5071422416405723e-05\n",
      "Neighborhood_BrDale: 1.511735378481325e-05\n",
      "Street_Pave: 1.5136353574743249e-05\n",
      "Condition2_Norm: 1.618475204352201e-05\n",
      "PoolQC: 1.7311712441359665e-05\n",
      "BsmtFinType2_BLQ: 2.1189938324509844e-05\n",
      "HouseStyle_2.5Fin: 2.1505884392542745e-05\n",
      "Exterior1st_Stucco: 2.1745981449509824e-05\n",
      "GarageType_None: 2.1930750507251793e-05\n",
      "RoofStyle_Gambrel: 2.263961564533514e-05\n",
      "MSZoning_RH: 2.270259195867966e-05\n",
      "Exterior2nd_Stucco: 2.34115209507951e-05\n",
      "Functional_Maj2: 2.401580446747371e-05\n",
      "MiscFeature_Shed: 2.4094098053775277e-05\n",
      "Functional_Mod: 2.410053532682397e-05\n",
      "Exterior1st_WdShing: 2.4492454454761507e-05\n",
      "SaleType_COD: 2.4512237377599112e-05\n",
      "BldgType_Twnhs: 2.475809843413094e-05\n",
      "Exterior1st_AsbShng: 2.501468682132244e-05\n",
      "SaleType_CWD: 2.577863678147355e-05\n",
      "Condition1_RRAn: 2.6322034603503002e-05\n",
      "Electrical_FuseF: 2.690885573924148e-05\n",
      "Alley_Pave: 2.6986306095112343e-05\n",
      "MiscFeature_None: 2.713710637015749e-05\n",
      "Neighborhood_Mitchel: 2.7596617207343683e-05\n",
      "Exterior2nd_ImStucc: 2.8296293710695818e-05\n",
      "Exterior2nd_PreCast: 2.896374150134781e-05\n",
      "BldgType_2fmCon: 3.031856149816863e-05\n",
      "Exterior2nd_AsbShng: 3.103943406328416e-05\n",
      "BsmtFinType2_LwQ: 3.221356363208342e-05\n",
      "HouseStyle_SFoyer: 3.308316856682563e-05\n",
      "3SsnPorch: 3.3527878025217005e-05\n",
      "BsmtFinType2_Rec: 3.37914640695217e-05\n",
      "RoofMatl_Tar&Grv: 3.452007211141684e-05\n",
      "Neighborhood_BrkSide: 3.5333016258325166e-05\n",
      "SaleType_Oth: 3.550269014639752e-05\n",
      "RoofStyle_Flat: 3.565369334404493e-05\n",
      "Condition1_PosA: 3.962453341894027e-05\n",
      "Functional_Min1: 4.138627566490237e-05\n",
      "Functional_Min2: 4.1470455719271253e-05\n",
      "BldgType_Duplex: 4.2533689908178506e-05\n",
      "Heating_GasA: 4.271610876534735e-05\n",
      "LotShape_IR3: 4.293849277452759e-05\n",
      "MiscVal: 4.295840788944683e-05\n",
      "SaleCondition_Partial: 4.3558062509344955e-05\n",
      "Functional_Maj1: 4.561678906416871e-05\n",
      "BldgType_TwnhsE: 4.6079771904785415e-05\n",
      "BsmtFinType2_GLQ: 4.7322676452072625e-05\n",
      "Neighborhood_Sawyer: 4.7473675786817366e-05\n",
      "LowQualFinSF: 5.0519910545657565e-05\n",
      "MSZoning_FV: 5.062876250186831e-05\n",
      "GarageType_BuiltIn: 5.0789557133144094e-05\n",
      "Neighborhood_StoneBr: 5.130584396469602e-05\n",
      "Alley_Grvl: 5.1456179484082954e-05\n",
      "LotConfig_FR2: 5.1560733310645626e-05\n",
      "Fence_GdWo: 5.197225633177318e-05\n",
      "BsmtExposure_None: 5.3466537976573004e-05\n",
      "Condition1_Feedr: 5.4948242190007845e-05\n",
      "Exterior2nd_Wd Shng: 5.5683912985894854e-05\n",
      "Electrical_SBrkr: 5.6363930769043554e-05\n",
      "BsmtFinType2_ALQ: 5.7127502590993214e-05\n",
      "LotConfig_FR3: 5.7287100936712766e-05\n",
      "Neighborhood_SawyerW: 5.7613729482811477e-05\n",
      "PavedDrive_P: 6.13853939982992e-05\n",
      "Neighborhood_ClearCr: 6.193263244089824e-05\n",
      "LotShape_IR2: 7.235871892613226e-05\n",
      "LandContour_Low: 7.289794664013805e-05\n",
      "Neighborhood_Timber: 7.30066026716665e-05\n",
      "HouseStyle_SLvl: 7.468218476557861e-05\n",
      "Exterior1st_Plywood: 7.5777640919146e-05\n",
      "Neighborhood_IDOTRR: 7.746604582195377e-05\n",
      "PoolArea: 7.781182021194321e-05\n",
      "MSZoning_C (all): 8.077177608329321e-05\n",
      "PavedDrive_N: 8.157816073092844e-05\n",
      "Electrical_FuseA: 8.227518085467632e-05\n",
      "BsmtExposure_Mn: 8.339359253586558e-05\n",
      "Exterior2nd_Plywood: 9.06829658833793e-05\n",
      "Fence_MnPrv: 9.09178364214861e-05\n",
      "Neighborhood_CollgCr: 9.319798936005528e-05\n",
      "Fence_GdPrv: 9.589279647563569e-05\n",
      "SaleType_New: 0.00010156174326683798\n",
      "GarageFinish_None: 0.00010218696244779507\n",
      "LandContour_Bnk: 0.0001022491526075574\n",
      "Neighborhood_Gilbert: 0.00010388070171362372\n",
      "MasVnrType_Stone: 0.0001075583165018787\n",
      "BsmtFinType1_LwQ: 0.00010904521801324884\n",
      "Exterior1st_MetalSd: 0.00011325292825982242\n",
      "MasVnrType_None: 0.00011704266962658675\n",
      "BsmtFinType1_BLQ: 0.00011824064434287893\n",
      "Exterior2nd_CmentBd: 0.00012040057259225531\n",
      "Neighborhood_NAmes: 0.00012463332218748182\n",
      "Exterior2nd_BrkFace: 0.00012551646688908533\n",
      "RoofMatl_CompShg: 0.00013076350179682837\n",
      "RoofStyle_Mansard: 0.00013134626179377805\n",
      "Exterior2nd_MetalSd: 0.00013412771175898267\n",
      "Neighborhood_OldTown: 0.00013797586538825986\n",
      "Exterior2nd_HdBoard: 0.00013836909066666976\n",
      "Alley_None: 0.00014316590131849312\n",
      "BsmtFinType2_Unf: 0.00014731581625211762\n",
      "HouseStyle_1Story: 0.00015095366583766292\n",
      "BldgType_1Fam: 0.00015337618144409102\n",
      "Neighborhood_NridgHt: 0.00015424589001887957\n",
      "Fence_None: 0.00015809819628910386\n",
      "Neighborhood_Somerst: 0.0001614528285312005\n",
      "LotConfig_CulDSac: 0.00016718847635293984\n",
      "BsmtExposure_Av: 0.00016751423683400023\n",
      "Condition1_Artery: 0.00017015497035453942\n",
      "HouseStyle_1.5Fin: 0.00017506434187386405\n",
      "Neighborhood_Veenker: 0.00018821560328730096\n",
      "BsmtFinType1_Rec: 0.00018872476464101953\n",
      "Neighborhood_NWAmes: 0.00018927023766370657\n",
      "Foundation_BrkTil: 0.00018944379655308407\n",
      "Foundation_PConc: 0.00019882464134968495\n",
      "SaleType_WD : 0.00020539737970609812\n",
      "Foundation_CBlock: 0.00021021919690211182\n",
      "Neighborhood_GrnHill: 0.00021744511340345278\n",
      "BsmtFinType1_Unf: 0.0002182042753647793\n",
      "Exterior1st_VinylSd: 0.00022025488712928162\n",
      "GarageQual: 0.0002229678467395936\n",
      "Exterior2nd_Wd Sdng: 0.0002367260700393257\n",
      "Condition1_PosN: 0.00024302327771920113\n",
      "SaleCondition_Abnorml: 0.0002481727337590108\n",
      "Neighborhood_NoRidge: 0.0002490221243033322\n",
      "MasVnrType_BrkFace: 0.00025097328574268357\n",
      "RoofStyle_Gable: 0.0002531590360213206\n",
      "LandContour_Lvl: 0.00025869245014884543\n",
      "GarageCond: 0.0002720171570030868\n",
      "GarageFinish_Fin: 0.00027725712782280545\n",
      "LotConfig_Corner: 0.0002778017940055481\n",
      "HouseStyle_2Story: 0.0002782573250279903\n",
      "LotConfig_Inside: 0.0002943100898225629\n",
      "Exterior1st_CemntBd: 0.00029847635207157366\n",
      "GarageFinish_Unf: 0.0003038215414728518\n",
      "Exterior1st_BrkFace: 0.00030675057140530643\n",
      "Exterior1st_Wd Sdng: 0.00030749353294674825\n",
      "LotShape_Reg: 0.000308822699482816\n",
      "BsmtFinType1_ALQ: 0.0003103901619450854\n",
      "GarageFinish_RFn: 0.00031435433518011455\n",
      "HouseStyle_2.5Unf: 0.00031679711717183176\n",
      "Exterior2nd_VinylSd: 0.00032227155802079944\n",
      "Neighborhood_Edwards: 0.00032289658848258106\n",
      "PavedDrive_Y: 0.0003265637102205605\n",
      "BsmtCond: 0.00033503437977001687\n",
      "Exterior1st_HdBoard: 0.0003581077872975005\n",
      "Condition1_Norm: 0.00036757512697658303\n",
      "CentralAir_Y: 0.00040237472501760107\n",
      "Functional_Typ: 0.0004070046773654193\n",
      "DistanceCategory: 0.00041523187410178467\n",
      "LandSlope: 0.0004270851738413971\n",
      "BsmtHalfBath: 0.0004312055890146995\n",
      "BsmtFinSF2: 0.0004369816899658732\n",
      "RoofStyle_Hip: 0.00044420130972498456\n",
      "BsmtExposure_Gd: 0.0004734529078811557\n",
      "ExterCond: 0.00047429800336595894\n",
      "BsmtExposure_No: 0.00047432917777237495\n",
      "LotShape_IR1: 0.00048723183785256627\n",
      "GarageType_Detchd: 0.0005272215158869584\n",
      "MSZoning_RL: 0.0006132177414694848\n",
      "LandContour_HLS: 0.00062333341274804\n",
      "SaleCondition_Family: 0.0006247897886464088\n",
      "SaleCondition_Normal: 0.0006259212044087337\n",
      "BsmtFinType1_GLQ: 0.0006488521703285257\n",
      "HalfBath: 0.0006542519039787776\n",
      "CentralAir_N: 0.0006859298846790335\n",
      "EnclosedPorch: 0.0007104318633516384\n",
      "BedroomAbvGr: 0.000732663982269259\n",
      "Neighborhood_Crawfor: 0.00085233970345427\n",
      "HeatingQC: 0.000856201860553533\n",
      "KitchenAbvGr: 0.0008604747507528242\n",
      "GarageType_Attchd: 0.000873778622884894\n",
      "YrSold: 0.00105389619149809\n",
      "TotRmsAbvGrd: 0.0011380557941102114\n",
      "YearsSinceRemod: 0.0013390388559739318\n",
      "MSZoning_RM: 0.0013667786058492225\n",
      "MSSubClass: 0.0014382559446301764\n",
      "BsmtFullBath: 0.0018497018078034403\n",
      "FullBath: 0.001930761382015377\n",
      "FireplaceQu: 0.0025689145296450087\n",
      "ExterQual: 0.0026222335337132896\n",
      "WoodDeckSF: 0.002916494951000316\n",
      "ScreenPorch: 0.0029920559658977992\n",
      "OpenPorchSF: 0.0031622907068770104\n",
      "MoSold: 0.0032308333480511276\n",
      "GarageCars: 0.003273078547034836\n",
      "LotFrontage: 0.00378974987938806\n",
      "GarageYrBlt: 0.00400289138331783\n",
      "Fireplaces: 0.004754902331045654\n",
      "OverallCond: 0.005160173263601814\n",
      "DistanceToISU: 0.005665528825255754\n",
      "MasVnrArea: 0.005798066599671873\n",
      "KitchenQual: 0.00683390441918179\n",
      "TotalBsmtSF: 0.006942541115298386\n",
      "BsmtQual: 0.006959869327691958\n",
      "2ndFlrSF: 0.00700584404321572\n",
      "BsmtFinSF1: 0.007059593139319126\n",
      "1stFlrSF: 0.007145031185498567\n",
      "BsmtUnfSF: 0.007646765818517363\n",
      "GarageArea: 0.008948490248817506\n",
      "YearRemodAdd: 0.011262190628807874\n",
      "LotArea: 0.011528807783099055\n",
      "GrLivArea: 0.012510832886126312\n",
      "YearBuilt: 0.028132414220157945\n",
      "OverallQual: 0.3750190642350746\n",
      "TotalSF: 0.4107357678845481\n"
     ]
    }
   ],
   "source": [
    "# Convert categorical columns to one-hot encoding\n",
    "X_train = pd.get_dummies(X_train)\n",
    "\n",
    "# Handle missing data by filling with the mean value of each column\n",
    "X_train.fillna(X_train.mean(), inplace=True)\n",
    "\n",
    "# Now, try training the model again\n",
    "model = RandomForestRegressor()\n",
    "model.fit(X_train, y_train)\n",
    "\n",
    "# Get feature importances\n",
    "importances = model.feature_importances_\n",
    "\n",
    "# To sort features by importance\n",
    "sorted_idx = importances.argsort()\n",
    "for idx in sorted_idx:\n",
    "    print(f\"{X_train.columns[idx]}: {importances[idx]}\")\n"
   ]
  },
  {
   "cell_type": "code",
   "execution_count": 233,
   "id": "b2a7593c",
   "metadata": {},
   "outputs": [
    {
     "data": {
      "image/png": "[encoded data removed]",
      "text/plain": [
       "<Figure size 1200x800 with 1 Axes>"
      ]
     },
     "metadata": {},
     "output_type": "display_data"
    }
   ],
   "source": [
    "# Map importances to the column names\n",
    "feature_importances = pd.Series(importances, index=X_train.columns)\n",
    "top_10 = feature_importances.sort_values(ascending=False).head(10)\n",
    "\n",
    "# Plot\n",
    "plt.figure(figsize=(12, 8))\n",
    "top_10.plot(kind='barh', color='skyblue')\n",
    "plt.title('Top 10 Most Important Features from RandomForestRegressor')\n",
    "plt.xlabel('Importance')\n",
    "plt.ylabel('Feature Name')\n",
    "plt.gca().invert_yaxis()  # to have the most important feature at the top\n",
    "plt.show()\n"
   ]
  },
  {
   "cell_type": "markdown",
   "id": "52053fde-74af-48f8-abee-4c6e1770644a",
   "metadata": {},
   "source": [
    "# XGBoost Regressor"
   ]
  },
  {
   "cell_type": "code",
   "execution_count": 234,
   "id": "f64a446d",
   "metadata": {
    "scrolled": true
   },
   "outputs": [
    {
     "name": "stdout",
     "output_type": "stream",
     "text": [
      "Fold 1: RMSE = 22576.2231, R2 = 0.9165\n",
      "Fold 2: RMSE = 30804.9728, R2 = 0.8481\n",
      "Fold 3: RMSE = 24263.3972, R2 = 0.9080\n",
      "Fold 4: RMSE = 21934.4533, R2 = 0.9072\n",
      "Fold 5: RMSE = 20828.5308, R2 = 0.8948\n",
      "Mean RMSE: 24081.5154\n",
      "Mean R2: 0.8949\n"
     ]
    }
   ],
   "source": [
    "# Define your feature matrix and target variable, with dummy variables for categorical columns\n",
    "X = pd.get_dummies(housing[all_features], columns=cat_nom_features, drop_first=True)\n",
    "y = housing['SalePrice']\n",
    "\n",
    "# Initialize the KFold cross-validator\n",
    "kf = KFold(n_splits=5, shuffle=True, random_state=42)\n",
    "\n",
    "# Lists to store RMSE and R2 scores for each fold\n",
    "rmse_scores = []\n",
    "r2_scores = []\n",
    "\n",
    "# Perform k-fold cross-validation\n",
    "fold = 1\n",
    "for train_index, test_index in kf.split(X):\n",
    "    X_train, X_test = X.iloc[train_index], X.iloc[test_index]\n",
    "    y_train, y_test = y.iloc[train_index], y.iloc[test_index]\n",
    "    \n",
    "    # Create an XGBoost regressor model\n",
    "    model = xgb.XGBRegressor(objective=\"reg:squarederror\")\n",
    "    model.fit(X_train, y_train)\n",
    "    y_pred = model.predict(X_test)\n",
    "    \n",
    "    # Calculate RMSE for this fold\n",
    "    rmse = np.sqrt(mean_squared_error(y_test, y_pred))\n",
    "    rmse_scores.append(rmse)\n",
    "    \n",
    "    # Calculate R2 for this fold\n",
    "    r2 = r2_score(y_test, y_pred)\n",
    "    r2_scores.append(r2)\n",
    "    \n",
    "    # Display RMSE and R2 for this fold\n",
    "    print(f\"Fold {fold}: RMSE = {rmse:.4f}, R2 = {r2:.4f}\")\n",
    "    fold += 1\n",
    "\n",
    "# Calculate and print the mean RMSE and R2 across all folds\n",
    "mean_rmse = np.mean(rmse_scores)\n",
    "mean_r2 = np.mean(r2_scores)\n",
    "print(f\"Mean RMSE: {mean_rmse:.4f}\")\n",
    "print(f\"Mean R2: {mean_r2:.4f}\")\n"
   ]
  },
  {
   "cell_type": "code",
   "execution_count": 165,
   "id": "e27527d0-8832-452f-9629-839f859d5de8",
   "metadata": {},
   "outputs": [
    {
     "name": "stdout",
     "output_type": "stream",
     "text": [
      "Fitting 3 folds for each of 2916 candidates, totalling 8748 fits\n",
      "Best hyperparameters: {'alpha': 1, 'colsample_bytree': 1.0, 'gamma': 0.0, 'lambda': 0, 'max_depth': 3, 'min_child_weight': 3, 'subsample': 1.0}\n"
     ]
    }
   ],
   "source": [
    "param_grid = {\n",
    "    'max_depth': [3, 5, 7, 9],\n",
    "    'min_child_weight': [1, 3, 5],\n",
    "    'gamma': [0.0, 0.1, 0.2],\n",
    "    'subsample': [0.6, 0.8, 1.0],\n",
    "    'colsample_bytree': [0.6, 0.8, 1.0],\n",
    "    'lambda': [0, 0.5, 1],\n",
    "    'alpha': [0, 0.5, 1]\n",
    "}\n",
    "\n",
    "xgb_model = xgb.XGBRegressor(objective ='reg:squarederror')\n",
    "grid_search = GridSearchCV(xgb_model, param_grid, cv=3, scoring='neg_mean_squared_error', verbose=1, n_jobs=-1)\n",
    "grid_search.fit(X, y)\n",
    "print(f\"Best hyperparameters: {grid_search.best_params_}\")"
   ]
  },
  {
   "cell_type": "code",
   "execution_count": 235,
   "id": "c35096da",
   "metadata": {},
   "outputs": [
    {
     "name": "stdout",
     "output_type": "stream",
     "text": [
      "                  Feature  Importance\n",
      "27            OverallQual        0.34\n",
      "25                TotalSF        0.13\n",
      "152   Exterior1st_CemntBd        0.05\n",
      "44             GarageCars        0.05\n",
      "40            KitchenQual        0.03\n",
      "31               BsmtQual        0.03\n",
      "69            MSZoning_RM        0.03\n",
      "29              ExterQual        0.03\n",
      "206          CentralAir_Y        0.02\n",
      "166   Exterior2nd_CmentBd        0.02\n",
      "39           KitchenAbvGr        0.02\n",
      "219    GarageType_BuiltIn        0.02\n",
      "68            MSZoning_RL        0.01\n",
      "46             GarageCond        0.01\n",
      "43            FireplaceQu        0.01\n",
      "89   Neighborhood_Crawfor        0.01\n",
      "42             Fireplaces        0.01\n",
      "3               YearBuilt        0.01\n",
      "34           BsmtFullBath        0.01\n",
      "53          MSSubClass_60        0.01\n",
      "12           LowQualFinSF        0.01\n",
      "252          SaleType_New        0.01\n",
      "28            OverallCond        0.01\n",
      "4            YearRemodAdd        0.01\n",
      "226          PavedDrive_P        0.00\n"
     ]
    }
   ],
   "source": [
    "# Create an XGBoost regressor model (if you haven't already)\n",
    "model = xgb.XGBRegressor(objective=\"reg:squarederror\")\n",
    "model.fit(X, y)\n",
    "feature_importances = model.feature_importances_\n",
    "\n",
    "# Create a DataFrame to display feature names and their importances\n",
    "feature_importance_df = pd.DataFrame({'Feature': X.columns, 'Importance': feature_importances})\n",
    "\n",
    "# Sort the features by importance in descending order\n",
    "feature_importance_df = feature_importance_df.sort_values(by='Importance', ascending=False)\n",
    "print(feature_importance_df.head(25))\n"
   ]
  },
  {
   "cell_type": "code",
   "execution_count": 107,
   "id": "f65d5889",
   "metadata": {
    "scrolled": true
   },
   "outputs": [
    {
     "name": "stdout",
     "output_type": "stream",
     "text": [
      "XBG with negatively correlated neighborhods set to 0\n",
      "MSE for each fold: [119006348.07399593, 240176930.25097805, 148573369.38060457, 207340991.9758226, 128881195.3494363]\n",
      "R^2 for each fold: [0.9789268670844546, 0.9601354750350116, 0.9724910910695423, 0.968221400680643, 0.9750483206791408]\n"
     ]
    }
   ],
   "source": [
    "\n",
    "\n",
    "# Set negatively correlated neighborhoods to zero\n",
    "negative_neighborhoods = [\n",
    "    'Neighborhood_OldTown', 'Neighborhood_NAmes', 'Neighborhood_Edwards',\n",
    "    'Neighborhood_IDOTRR', 'Neighborhood_BrkSide', 'Neighborhood_MeadowV',\n",
    "    'Neighborhood_Sawyer', 'Neighborhood_BrDale', 'Neighborhood_SWISU',\n",
    "    'Neighborhood_NPkVill', 'Neighborhood_Mitchel', 'Neighborhood_Landmrk'\n",
    "]\n",
    "for neighborhood in negative_neighborhoods:\n",
    "    housing_coordinates[neighborhood] = 0\n",
    "\n",
    "# Assuming the target is 'SalePrice' and other columns are features\n",
    "X = housing_coordinates.drop(['SalePrice', 'LogSalePrice', 'LogGrLivArea'], axis=1)\n",
    "y = housing_coordinates['SalePrice']\n",
    "\n",
    "# Drop non-numeric columns\n",
    "X = X.select_dtypes(include=['float64', 'int64'])\n"
   ]
  },
  {
   "cell_type": "code",
   "execution_count": 110,
   "id": "6b237679",
   "metadata": {},
   "outputs": [
    {
     "name": "stdout",
     "output_type": "stream",
     "text": [
      "Fitting 3 folds for each of 2916 candidates, totalling 8748 fits\n",
      "Best hyperparameters: {'alpha': 0, 'colsample_bytree': 1.0, 'gamma': 0.0, 'lambda': 1, 'max_depth': 3, 'min_child_weight': 5, 'subsample': 1.0}\n"
     ]
    }
   ],
   "source": [
    "param_grid = {\n",
    "    'max_depth': [3, 5, 7, 9],\n",
    "    'min_child_weight': [1, 3, 5],\n",
    "    'gamma': [0.0, 0.1, 0.2],\n",
    "    'subsample': [0.6, 0.8, 1.0],\n",
    "    'colsample_bytree': [0.6, 0.8, 1.0],\n",
    "    'lambda': [0, 0.5, 1],\n",
    "    'alpha': [0, 0.5, 1]\n",
    "}\n",
    "\n",
    "xgb_model = xgb.XGBRegressor(objective ='reg:squarederror')\n",
    "grid_search = GridSearchCV(xgb_model, param_grid, cv=3, scoring='neg_mean_squared_error', verbose=1, n_jobs=-1)\n",
    "grid_search.fit(X, y)\n",
    "print(f\"Best hyperparameters: {grid_search.best_params_}\")\n"
   ]
  },
  {
   "cell_type": "code",
   "execution_count": 236,
   "id": "6eeaeb3b",
   "metadata": {},
   "outputs": [
    {
     "name": "stdout",
     "output_type": "stream",
     "text": [
      "MSE for each fold: [364865391.4415655, 664446329.5914719, 287231368.79745317, 318828947.8644199, 582845089.3647461]\n",
      "R^2 for each fold: [0.9403088625519419, 0.8554917769027186, 0.952272338507846, 0.9344897616134662, 0.9108649702632537]\n",
      "Average MSE: 443643425.41193134\n",
      "Average R^2: 0.9186855419678454\n"
     ]
    }
   ],
   "source": [
    "best_params = {\n",
    "    'alpha': 0,\n",
    "    'colsample_bytree': 1.0,\n",
    "    'gamma': 0.0,\n",
    "    'lambda': 1,\n",
    "    'max_depth': 3,\n",
    "    'min_child_weight': 5,\n",
    "    'subsample': 1.0,\n",
    "    'objective': 'reg:squarederror'  # This is the default for regression tasks in XGBoost\n",
    "}\n",
    "#grid_search.best_params_\n",
    "model = xgb.XGBRegressor(**grid_search.best_params_)\n",
    "\n",
    "kf = KFold(n_splits=5, shuffle=True, random_state=0)\n",
    "\n",
    "mse_scores = []\n",
    "r2_scores = []\n",
    "\n",
    "for train_index, test_index in kf.split(X):\n",
    "    X_train, X_test = X.iloc[train_index], X.iloc[test_index]\n",
    "    y_train, y_test = y.iloc[train_index], y.iloc[test_index]\n",
    "    \n",
    "    model.fit(X_train, y_train)\n",
    "    y_pred = model.predict(X_test)\n",
    "    \n",
    "    mse_scores.append(mean_squared_error(y_test, y_pred))\n",
    "    r2_scores.append(r2_score(y_test, y_pred))\n",
    "    \n",
    "\n",
    "print(\"MSE for each fold:\", mse_scores)\n",
    "print(\"R^2 for each fold:\", r2_scores)\n",
    "print(\"Average MSE:\", sum(mse_scores) / len(mse_scores))\n",
    "print(\"Average R^2:\", sum(r2_scores) / len(r2_scores))\n",
    "\n"
   ]
  },
  {
   "cell_type": "markdown",
   "id": "00791d53-9945-4861-b4ce-cf874da4efcc",
   "metadata": {},
   "source": [
    "# Gradient Boosting Regressor"
   ]
  },
  {
   "cell_type": "markdown",
   "id": "42680b5c-dcb7-4a8f-bc64-f60a7dbd5ab1",
   "metadata": {},
   "source": [
    "## First run with no tuning"
   ]
  },
  {
   "cell_type": "code",
   "execution_count": 247,
   "id": "b8e43354-dc2c-464f-8c9e-97ab7bfed7f0",
   "metadata": {},
   "outputs": [
    {
     "name": "stdout",
     "output_type": "stream",
     "text": [
      "\n",
      "Average R^2 Score across the 5 folds: 0.8677\n"
     ]
    }
   ],
   "source": [
    "X = housing[all_features]\n",
    "y = housing['SalePrice']\n",
    "\n",
    "# Split the data\n",
    "X_train, X_test, y_train, y_test = train_test_split(X, y, test_size=0.2, random_state=42)\n",
    "\n",
    "# Create transformers\n",
    "numeric_transformer = Pipeline(steps=[\n",
    "    ('imputer', SimpleImputer(strategy='median')),\n",
    "    ('scaler', StandardScaler())])\n",
    "\n",
    "categorical_transformer = Pipeline(steps=[\n",
    "    ('imputer', SimpleImputer(strategy='constant', fill_value='missing')),\n",
    "    ('onehot', OneHotEncoder(handle_unknown='ignore'))])\n",
    "\n",
    "preprocessor = ColumnTransformer(\n",
    "    transformers=[\n",
    "        ('num', numeric_transformer, numerical_features),\n",
    "        ('cat', categorical_transformer, cat_nom_features)])\n",
    "\n",
    "# Append classifier to preprocessing pipeline.\n",
    "pipeline = Pipeline(steps=[('preprocessor', preprocessor),\n",
    "                           ('classifier', GradientBoostingRegressor(random_state=42))])\n",
    "\n",
    "# Preprocessing of training data and train model\n",
    "pipeline.fit(X_train, y_train)\n",
    "# Predict on test data\n",
    "y_pred = pipeline.predict(X_test)\n",
    "   \n",
    "# Calculate RMSE for this fold\n",
    "rmse = np.sqrt(mean_squared_error(y_test, y_pred))\n",
    "r2 = r2_score(y_test, y_pred)\n",
    "\n",
    "#print(r2)\n",
    "# Compute the R^2 scores\n",
    "scores = cross_val_score(pipeline, X_train, y_train, cv=5, scoring='r2')\n",
    "# Print average R^2 score\n",
    "print(f\"\\nAverage R^2 Score across the 5 folds: {scores.mean():.4f}\")"
   ]
  },
  {
   "cell_type": "code",
   "execution_count": 207,
   "id": "7042259e-c7b6-435d-aeb6-c518bb2264c4",
   "metadata": {},
   "outputs": [
    {
     "name": "stdout",
     "output_type": "stream",
     "text": [
      "Fitting 3 folds for each of 23328 candidates, totalling 69984 fits\n",
      "Best hyperparameters: {'alpha': 0.5, 'learning_rate': 0.05, 'max_depth': 3, 'min_samples_leaf': 1, 'min_samples_split': 10, 'min_weight_fraction_leaf': 0, 'n_estimators': 600, 'subsample': 0.7}\n"
     ]
    }
   ],
   "source": [
    "param_grid = {\n",
    "    'max_depth': [3, 5, 6, 7],\n",
    "    'min_weight_fraction_leaf': [0, 0.25, 0.5],\n",
    "    'n_estimators': [100, 200, 300, 400, 500, 600],\n",
    "    'min_samples_split': [2, 5, 10],\n",
    "    'min_samples_leaf': [1, 2, 4],\n",
    "    'learning_rate': [0.1, 0.05, 0.01, 0.001],\n",
    "    'subsample': [0.7, 0.8, 0.9],\n",
    "    'alpha': [0, 0.5, 0.9]\n",
    "}\n",
    "#['alpha', 'ccp_alpha', 'criterion', 'init', 'learning_rate', 'loss', 'max_depth', 'max_features', \n",
    "# 'max_leaf_nodes', 'min_impurity_decrease', 'min_samples_leaf', 'min_samples_split', \n",
    "# 'min_weight_fraction_leaf', 'n_estimators', 'n_iter_no_change', 'random_state', 'subsample', \n",
    "# 'tol', 'validation_fraction', 'verbose', 'warm_start']\n",
    "\n",
    "# Define your feature matrix and target variable, with dummy variables for categorical columns\n",
    "X = pd.get_dummies(housing[all_features], columns=cat_nom_features, drop_first=False)\n",
    "y = housing['SalePrice']\n",
    "\n",
    "model = GradientBoostingRegressor(random_state=42)\n",
    "grid_search = GridSearchCV(model, param_grid, cv=3, scoring='r2', verbose=1, n_jobs=-1)\n",
    "grid_search.fit(X, y)\n",
    "print(f\"Best hyperparameters: {grid_search.best_params_}\")\n",
    "\n"
   ]
  },
  {
   "cell_type": "code",
   "execution_count": 254,
   "id": "b4b6b95b-7f6d-4774-a908-754af5404f2b",
   "metadata": {},
   "outputs": [],
   "source": [
    "#X.to_csv('data/CharlotteX.csv', index=False)\n",
    "#y.to_csv('data/y.csv', index=False)"
   ]
  },
  {
   "cell_type": "code",
   "execution_count": 257,
   "id": "1d595a45-6f84-44dd-96f8-041fb4bd3feb",
   "metadata": {},
   "outputs": [
    {
     "name": "stdout",
     "output_type": "stream",
     "text": [
      "0.9482111693987879\n",
      "\n",
      "Average R^2 Score across the 5 folds: 0.9410\n"
     ]
    }
   ],
   "source": [
    "#My best hyperparameters: {'alpha': 0.5, 'max_depth': 5, 'min_weight_fraction_leaf': 0, 'subsample': 0.8}\n",
    "#0.9219231402135216\n",
    "#Best hyperparameters: {'alpha': 0.5, 'learning_rate': 0.05, 'max_depth': 3, 'min_samples_leaf': 1, \n",
    "#'min_samples_split': 10, 'min_weight_fraction_leaf': 0, 'n_estimators': 600, 'subsample': 0.7}\n",
    "#0.9279361418087255\n",
    "new_param = {\n",
    "    'max_depth': 3,\n",
    "    'min_weight_fraction_leaf': 0,\n",
    "    'n_estimators': 4000,\n",
    "    'min_samples_split': 10,\n",
    "    'min_samples_leaf': 1,\n",
    "    'learning_rate': 0.05,\n",
    "    'subsample': 0.7,\n",
    "    'alpha': 0.5\n",
    "}\n",
    "\n",
    "nick_param = {\n",
    "    'max_depth': 3,\n",
    "    'n_estimators': 6000,\n",
    "    'min_samples_split': 5,\n",
    "    'learning_rate': 0.008,\n",
    "    'subsample': 0.3\n",
    "}\n",
    "#Nicks 1st: n_estimators=10100, max_depth=4, learning_rate=0.01,min_samples_leaf=1, subsample=0.5, random_state=42\n",
    "#Nicks best: learning_rate=0.008, max_depth=3, min_samples_split=5, n_estimators=6000, subsample=0.3\n",
    "\n",
    "# Define your feature matrix and target variable, with dummy variables for categorical columns\n",
    "X = housing2.drop('SalePrice', axis=1)\n",
    "y = housing2['SalePrice']\n",
    "\n",
    "#X = pd.get_dummies(housing[all_features], columns=cat_nom_features, drop_first=True)\n",
    "#y = housing['SalePrice']\n",
    "\n",
    "# Split the data\n",
    "X_train, X_test, y_train, y_test = train_test_split(X, y, test_size=0.2, random_state=42)\n",
    "\n",
    "#model = GradientBoostingRegressor(**grid_search.best_params_)\n",
    "model = GradientBoostingRegressor(**nick_param)\n",
    "model.fit(X_train, y_train)\n",
    "y_pred = model.predict(X_test)\n",
    "\n",
    "r2 = r2_score(y_test, y_pred)\n",
    "\n",
    "print(r2)\n",
    "# Compute the R^2 scores\n",
    "scores = cross_val_score(GradientBoostingRegressor(**nick_param, random_state=42), X_train, y_train, cv=5, scoring='r2')\n",
    "# Print average R^2 score\n",
    "print(f\"\\nAverage R^2 Score across the 5 folds: {scores.mean():.4f}\")"
   ]
  },
  {
   "cell_type": "code",
   "execution_count": 258,
   "id": "3aadd12a-26f1-4596-a4dc-42d025783291",
   "metadata": {},
   "outputs": [
    {
     "name": "stdout",
     "output_type": "stream",
     "text": [
      "                  Feature  Importance\n",
      "36                TotalSF        0.35\n",
      "3             OverallQual        0.26\n",
      "35                    Age        0.03\n",
      "0               GrLivArea        0.02\n",
      "7              BsmtFinSF1        0.02\n",
      "2                 LotArea        0.02\n",
      "6              MasVnrArea        0.02\n",
      "45          KitchenQual_n        0.02\n",
      "38             BsmtQual_n        0.02\n",
      "19             GarageArea        0.02\n",
      "5            YearRemodAdd        0.02\n",
      "18             GarageCars        0.01\n",
      "9               BsmtUnfSF        0.01\n",
      "11               1stFlrSF        0.01\n",
      "41          FireplaceQu_n        0.01\n",
      "4             OverallCond        0.01\n",
      "10            TotalBsmtSF        0.01\n",
      "240  SaleCondition_Family        0.01\n",
      "1             LotFrontage        0.01\n",
      "40            ExterQual_n        0.01\n",
      "29               latitude        0.01\n",
      "46         BsmtExposure_n        0.01\n",
      "12               2ndFlrSF        0.01\n",
      "24            ScreenPorch        0.00\n",
      "50         GarageFinish_n        0.00\n"
     ]
    }
   ],
   "source": [
    "feature_importances = model.feature_importances_\n",
    "\n",
    "# Create a DataFrame to display feature names and their importances\n",
    "feature_importance_df = pd.DataFrame({'Feature': X.columns, 'Importance': feature_importances})\n",
    "\n",
    "# Sort the features by importance in descending order\n",
    "feature_importance_df = feature_importance_df.sort_values(by='Importance', ascending=False)\n",
    "print(feature_importance_df.head(25))"
   ]
  },
  {
   "cell_type": "markdown",
   "id": "afd5fc88-8e1d-4ddb-87aa-5740784d4ae9",
   "metadata": {},
   "source": [
    "Checklist\n",
    "\n",
    "    which missing values to fill, which to leave\n",
    "    how to fill missing\n",
    "    how to do the fold - stratified kfold\n",
    "    to leave dummies/convert to numerical"
   ]
  },
  {
   "cell_type": "code",
   "execution_count": null,
   "id": "fee13340-2f6f-449a-8fd2-79c1301b9dcc",
   "metadata": {},
   "outputs": [],
   "source": []
  }
 ],
 "metadata": {
  "kernelspec": {
   "display_name": "Python 3 (ipykernel)",
   "language": "python",
   "name": "python3"
  },
  "language_info": {
   "codemirror_mode": {
    "name": "ipython",
    "version": 3
   },
   "file_extension": ".py",
   "mimetype": "text/x-python",
   "name": "python",
   "nbconvert_exporter": "python",
   "pygments_lexer": "ipython3",
   "version": "3.12.0"
  }
 },
 "nbformat": 4,
 "nbformat_minor": 5
}
