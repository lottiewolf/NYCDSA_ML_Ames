{
 "cells": [
  {
   "cell_type": "markdown",
   "id": "b8e3a137-63e3-431d-aedd-725570e49b14",
   "metadata": {},
   "source": [
    "# The Ames Housing Dataset"
   ]
  },
  {
   "cell_type": "markdown",
   "id": "d4a9623d-5ac7-4590-90a1-1a230bca98fb",
   "metadata": {},
   "source": [
    "The Ames Housing Dataset(the file Ames_HousePrice) has data for 2580 house sales, there are 81 descriptive variables for each house. We have already (in the Ames_ML_RealEstate_Preprocessing notebook) created the 'ames final' file, which merges Ames_HousePrice with the Real Estate file, gaining the 7 new variables GeoRefNo, lat, long, prop_addr, MAzip1, distance to ISU, and distance category. We have already dropped PID and GeoRefNo, so in the ames_final file there are 86 features.  "
   ]
  },
  {
   "cell_type": "code",
   "execution_count": 1,
   "id": "e453b943-c982-4fa1-9631-8da80f3e3fa6",
   "metadata": {},
   "outputs": [],
   "source": [
    "import pandas as pd\n",
    "from datetime import date"
   ]
  },
  {
   "cell_type": "code",
   "execution_count": 2,
   "id": "69360b54-537c-4e8c-9992-a7b3f5353d11",
   "metadata": {},
   "outputs": [],
   "source": [
    "housing = pd.read_csv('data/ames_final.csv')"
   ]
  },
  {
   "cell_type": "code",
   "execution_count": 3,
   "id": "92ce1abd-1fdb-428b-b049-540fcd387300",
   "metadata": {},
   "outputs": [
    {
     "name": "stdout",
     "output_type": "stream",
     "text": [
      "Number of houses:  2579\n",
      "Number of features in dataset:  87\n"
     ]
    }
   ],
   "source": [
    "print(\"Number of houses: \", housing['SalePrice'].count())\n",
    "print(\"Number of features in dataset: \", len(housing.columns))\n",
    "#print(\"Columns in dataset: \", housing.columns)"
   ]
  },
  {
   "cell_type": "markdown",
   "id": "5710a892-3251-4f2c-b19f-086d79089a72",
   "metadata": {},
   "source": [
    "# Missing Data"
   ]
  },
  {
   "cell_type": "code",
   "execution_count": 4,
   "id": "cd1b88d8-6a3e-4b54-91cd-c03abb1df8a7",
   "metadata": {},
   "outputs": [],
   "source": [
    "# Handling these duplicates is no longer necessary, \n",
    "#   its done in the real estate preprocessing\n",
    "\n",
    "#drop these duplicates\n",
    "#print(len(housing.PID.unique()))\n",
    "#print(len(housing))\n",
    "\n",
    "#duplicates = housing.duplicated()\n",
    "#print(\"Number of duplicates: \", len(housing[duplicates]))\n",
    "#housing = housing.drop_duplicates()\n",
    "\n",
    "#print(len(housing))"
   ]
  },
  {
   "cell_type": "code",
   "execution_count": 5,
   "id": "f008381e-fe0e-4676-b50f-33a648e177d2",
   "metadata": {},
   "outputs": [
    {
     "data": {
      "text/plain": [
       "PoolQC          2570\n",
       "MiscFeature     2482\n",
       "Alley           2411\n",
       "Fence           2054\n",
       "FireplaceQu     1241\n",
       "LotFrontage      462\n",
       "GarageCond       129\n",
       "GarageQual       129\n",
       "GarageFinish     129\n",
       "GarageYrBlt      129\n",
       "GarageType       127\n",
       "BsmtExposure      71\n",
       "BsmtFinType2      70\n",
       "BsmtQual          69\n",
       "BsmtCond          69\n",
       "BsmtFinType1      69\n",
       "MA_Zip1           22\n",
       "Prop_Addr         20\n",
       "MasVnrArea        14\n",
       "MasVnrType        14\n",
       "BsmtHalfBath       2\n",
       "BsmtFullBath       2\n",
       "Electrical         1\n",
       "TotalBsmtSF        1\n",
       "GarageCars         1\n",
       "GarageArea         1\n",
       "BsmtUnfSF          1\n",
       "BsmtFinSF2         1\n",
       "BsmtFinSF1         1\n",
       "dtype: int64"
      ]
     },
     "execution_count": 5,
     "metadata": {},
     "output_type": "execute_result"
    }
   ],
   "source": [
    "# Here we look at variables that need to be removed because of missing values.\n",
    "# For now, we will leave all of these in, to see if they add value to the model\n",
    "\n",
    "missing_values=housing.isna().sum()\n",
    "missing_values_features=missing_values[missing_values>0].sort_values(ascending=False)\n",
    "missing_values_features\n",
    "#missing_values_features.plot(kind='bar', figsize=(10,6))"
   ]
  },
  {
   "cell_type": "code",
   "execution_count": 6,
   "id": "66bf1e55-ccd8-4cc1-8f9d-cabe1158e571",
   "metadata": {},
   "outputs": [],
   "source": [
    "#Here we see that PoolQC, MiscFeature, Alley, and Fence \n",
    "#  all have mostly missing values, so drop them from the housing dataset. Now there are 77  features.\n",
    "#For now, we leave them in to explore the model. \n",
    "#housing=housing.drop(columns=['PoolQC', 'MiscFeature', 'Alley', 'Fence'])"
   ]
  },
  {
   "cell_type": "code",
   "execution_count": 7,
   "id": "3f0b926c-cd2f-4009-88c0-96c868cb3caf",
   "metadata": {},
   "outputs": [],
   "source": [
    "#housing.info()\n",
    "#housing.describe()\n",
    "#housing.head()\n",
    "#housing.columns"
   ]
  },
  {
   "cell_type": "markdown",
   "id": "503cf6a7-7bcb-4c8e-a6b1-efd30d49a88e",
   "metadata": {},
   "source": [
    "# Data Cleaning"
   ]
  },
  {
   "cell_type": "code",
   "execution_count": 8,
   "id": "1d0c709d-0fcf-4f36-836f-826df174b88c",
   "metadata": {},
   "outputs": [],
   "source": [
    "#housing[housing['MSZoning'].isin(['I (all)'])]"
   ]
  },
  {
   "cell_type": "code",
   "execution_count": 9,
   "id": "93804e59-708d-4d22-b95a-68b845c00483",
   "metadata": {},
   "outputs": [],
   "source": [
    "# Drop I, C, A (industrial, commercial, agri)\n",
    "# Found 1 row with A, 17 with C, 2 with I\n",
    "# https://www.zoneomics.com/zoning-maps/iowa/ames\n",
    "#    Commented out because these houses are still residential, just in A,C,I zones\n",
    "\n",
    "#print(housing.groupby('MSZoning').count())\n",
    "\n",
    "#housing = housing[housing['MSZoning'].isin(['FV','RH','RL','RM'])]\n",
    "\n",
    "#print(housing['MSZoning'].unique())\n",
    "#print(housing['MSZoning'].count())"
   ]
  },
  {
   "cell_type": "code",
   "execution_count": 10,
   "id": "bac323fd-2791-4a6c-b31c-ad69ce9b84e5",
   "metadata": {},
   "outputs": [],
   "source": [
    "# 2 rows with gps info but missing zip:\n",
    "specified_addresses = ['2010 KILDEE ST', '1310 WOODSTOCK AVE']\n",
    "# Update 'Zipcode' to 50014 where 'Address' is in the specified list\n",
    "housing.loc[housing['Prop_Addr'].isin(specified_addresses), 'MA_Zip1'] = 50014\n",
    "    \n",
    "# 'Prop_Addr' column useful for EDA and data cleaning but not for modeling\n",
    "housing.drop('Prop_Addr',axis=1,inplace=True)\n",
    "\n",
    "# Reset index after dropping rows so flitering by iloc works smoothly\n",
    "housing.reset_index(drop=True,inplace=True)\n",
    "\n",
    "# Delete utilities column, it has 2496/2497 with same value\n",
    "    # housing.Utilities.value_counts() # <-- No N/As here\n",
    "housing.drop('Utilities',axis=1,inplace=True)\n",
    "\n",
    "# Fix Row with Missing Values in Basement Categories\n",
    "housing.loc[housing.PID==903230120,[\n",
    "    'BsmtFinSF1','BsmtFinSF2','BsmtUnfSF','TotalBsmtSF',\n",
    "    'BsmtFullBath','BsmtHalfBath']] = housing.loc[housing.PID==903230120,[\n",
    "    'BsmtFinSF1','BsmtFinSF2','BsmtUnfSF','TotalBsmtSF','BsmtFullBath','BsmtHalfBath']].fillna(0)\n",
    "\n",
    "# Masonry Veneer (Type/Area)\n",
    "    # If Type = 'None' but Area != 0, Type updated to mode\n",
    "    # N/As updated to None for Type and 0 for Area\n",
    "idx = (housing['MasVnrArea'].isna()) & (housing['MasVnrType'].isna())\n",
    "housing.loc[idx, 'MasVnrArea'] = housing.loc[idx, 'MasVnrArea'].fillna(0)\n",
    "housing.loc[idx, 'MasVnrType'] = housing.loc[idx, 'MasVnrType'].fillna('None')\n",
    "mode_MasVnrType = housing.loc[housing.MasVnrType!='None'].MasVnrType.mode()[0]\n",
    "idx2 = (housing['MasVnrArea']!=0) & (housing['MasVnrType']== 'None')\n",
    "housing.loc[idx2, 'MasVnrType'] = housing.loc[idx2, 'MasVnrType'].fillna(mode_MasVnrType)\n",
    "\n",
    "# Fix Row with Missing Values in GarageCars & GarageArea Categories\n",
    "idx3 = (housing['GarageArea']!=0) & (housing['GarageType']=='Detchd')\n",
    "mean_GarageArea = round(housing.loc[idx3, 'GarageArea'].mean())\n",
    "housing.loc[housing.PID==910201180,'GarageArea'] = mean_GarageArea\n",
    "idx4 = housing['GarageType']=='Detchd'\n",
    "mode_GarageCars = housing.loc[idx4, 'GarageCars'].mode()[0]\n",
    "housing.loc[housing.PID==910201180,'GarageCars'] = mode_GarageCars\n",
    "\n",
    "# Fill GarageYrBlt to match Year House Was Built\n",
    "housing['GarageYrBlt'] = housing['GarageYrBlt'].fillna(housing['YearBuilt']) # 129 N/A\n",
    "\n",
    "# Fix Row where Year Remodeled occured before Year Built\n",
    "housing.loc[housing.PID==907194160,'YearRemodAdd'] = \\\n",
    "housing.loc[housing.PID==907194160,'YearBuilt']\n",
    "\n",
    "# Fill with Most Common (Categorical) Value:\n",
    "mode_Electrical = housing['Electrical'].mode()[0] # 1 N/A\n",
    "housing['Electrical'].fillna(mode_Electrical, inplace=True)\n",
    "\n",
    "# 451 N/A values for Lot Frontage\n",
    "    # The average ratio of LotFrontage/LotArea was calculated for each\n",
    "    # LotType & LotShape and this percentage factor was used to calculate\n",
    "    # The missing LotFrontage Values (since LotArea was not missing)\n",
    "lot_df = housing.loc[housing['LotFrontage'].notna()][[\n",
    "    'LotFrontage','LotArea','LotConfig','LotShape']]\n",
    "lot_df2 = lot_df.groupby(['LotConfig','LotShape']).agg({'LotFrontage':'mean','LotArea':'mean'})\n",
    "lot_df2['PCT_Frontage']=lot_df2['LotFrontage']/lot_df2['LotArea']\n",
    "percentage_factor_mapping = lot_df2['PCT_Frontage'].to_dict()\n",
    "\n",
    "# Update the NaN values in 'LotFrontage' using the mapping and LotArea\n",
    "housing['LotFrontage'] = housing.apply(\n",
    "    lambda row: round(row['LotArea'] * percentage_factor_mapping.get(\n",
    "        (row['LotConfig'], row['LotShape']), 1.0)), axis=1)\n",
    "\n"
   ]
  },
  {
   "cell_type": "code",
   "execution_count": 11,
   "id": "3c2c2d00-9df8-4d26-9683-22946cea91d0",
   "metadata": {},
   "outputs": [],
   "source": [
    "# Remove outliers 528351010 has too high sale price, 908154205, has too much area\n",
    "housing = housing[~housing['PID'].isin([528351010, 908154205])]\n",
    "\n",
    "# Drop PID, only needed for merging\n",
    "housing.drop(['PID'],axis=1,inplace=True)\n",
    "\n",
    "# Replace MSSubClass numerical values with letter values since it is categorical\n",
    "MSSubClass_mapping_dict = {20:'A', 30:'B', 40:'C', 45:'D', 50:'E', 60:'F', 70:'G', 75:'H', \n",
    "                           80:'I', 85:'J', 90:'K', 120:'L', 150:'M', 160:'N', 180:'O', 190:'P'}\n",
    "housing['MSSubClass'] = housing['MSSubClass'].replace(MSSubClass_mapping_dict)\n",
    "\n",
    "# Update Zip Code Column.  There are only a few zips listed actually in Ames. The rest are\n",
    "    # changed to 'other' rather than search the address and update to the appropriate one.\n",
    "    # The column is also treated as a categorical variable\n",
    "housing['MA_Zip1'].fillna(99, inplace=True)\n",
    "housing['MA_Zip1'] = housing['MA_Zip1'].astype(int)\n",
    "housing['MA_Zip1'] = housing['MA_Zip1'].astype(str)\n",
    "zip_update = ~housing['MA_Zip1'].isin(['50010', '50011', '50012', '50013', '50014'])\n",
    "housing.loc[zip_update, 'MA_Zip1'] = 'other'\n"
   ]
  },
  {
   "cell_type": "markdown",
   "id": "e38d42b9-140d-4726-b0f5-edad176c89fa",
   "metadata": {},
   "source": [
    "# Adding Features"
   ]
  },
  {
   "cell_type": "code",
   "execution_count": 12,
   "id": "d20b0b72-3b48-4d91-a88c-0ae0959490be",
   "metadata": {},
   "outputs": [
    {
     "name": "stdout",
     "output_type": "stream",
     "text": [
      "Shape of DataFrame: (2577, 85)\n"
     ]
    }
   ],
   "source": [
    "# Calculate the YearsSinceRemod column\n",
    "housing['YearsSinceRemod'] = housing['YearRemodAdd'] - housing['YearBuilt']\n",
    "# Change YearBuilt to Age so it works better as a numerical variable\n",
    "housing['Age'] = housing['YrSold'] - housing['YearBuilt']\n",
    "housing.drop('YearBuilt',axis=1,inplace=True)\n",
    "\n",
    "# Create the 'TotalSF' feature\n",
    "housing['TotalSF'] = housing.GrLivArea + housing.TotalBsmtSF\n",
    "\n",
    "#This feature causes data leakage if included in the modeling step\n",
    "#housing['PricePerSF'] = housing['SalePrice'] / housing['GrLivArea']\n",
    "\n",
    "date_sold = list(zip(housing['YrSold'], housing['MoSold']))\n",
    "housing['DateSold'] = [date(y,m,15) for y,m in date_sold]\n",
    "\n",
    "# Combine Full and Half Bathroom Categories\n",
    "housing['BsmtBath']=housing['BsmtFullBath']+0.5*housing['BsmtHalfBath']\n",
    "housing['Bath']=housing['FullBath']+0.5*housing['HalfBath']\n",
    "housing.drop(['BsmtFullBath', 'BsmtHalfBath', 'FullBath', 'HalfBath'],axis=1,inplace=True)\n",
    "mean_BsmtBath = round(housing.BsmtBath.mean()*2)/2 # Round to nearest 0.5\n",
    "housing['BsmtBath'].fillna(mean_BsmtBath, inplace=True)\n",
    "\n",
    "# Replace TotRmsAbvGrd with MiscRmsAbvGrd to avoid multicollinearity?\n",
    "    # These are not bedroom, kitchen, nor bathroom\n",
    "housing['MiscRmsAbvGrd'] = housing.TotRmsAbvGrd - housing.BedroomAbvGr - housing.KitchenAbvGr\n",
    "housing.drop('TotRmsAbvGrd',axis=1,inplace=True)\n",
    "\n",
    "print(f'Shape of DataFrame: {housing.shape}')"
   ]
  },
  {
   "cell_type": "markdown",
   "id": "9197e4c9-2ec4-4052-9061-c4dd61ef3d5f",
   "metadata": {},
   "source": [
    "# Mapping Data for Ordinal Categorical Values"
   ]
  },
  {
   "cell_type": "code",
   "execution_count": 13,
   "id": "9910e5f4-d14c-4162-ab8d-b29be2cf764f",
   "metadata": {},
   "outputs": [],
   "source": [
    "dict_map5 = {'Po': 1, 'Fa': 2, 'TA': 3, 'Gd': 4, 'Ex': 5}\n",
    "dict_map05 = {'None': 0, 'Po': 1, 'Fa': 2, 'TA': 3, 'Gd': 4, 'Ex': 5}\n",
    "dict_map04 = {'None': 0, 'Fa': 1, 'TA': 2, 'Gd': 3, 'Ex': 4}\n",
    "dict_map_slope = {'Sev': 1, 'Mod': 2, 'Gtl': 3}\n",
    "housing['ExterQual']=housing['ExterQual'].map(dict_map5)\n",
    "housing['ExterCond']=housing['ExterCond'].map(dict_map5)\n",
    "housing['BsmtQual']=housing['BsmtQual'].map(dict_map05)\n",
    "housing['BsmtCond']=housing['BsmtCond'].map(dict_map05)\n",
    "housing['HeatingQC']=housing['HeatingQC'].map(dict_map5)\n",
    "housing['KitchenQual']=housing['KitchenQual'].map(dict_map5)\n",
    "housing['FireplaceQu']=housing['FireplaceQu'].map(dict_map05)\n",
    "housing['GarageQual']=housing['GarageQual'].map(dict_map05)\n",
    "housing['GarageCond']=housing['GarageCond'].map(dict_map05)\n",
    "housing['PoolQC']=housing['PoolQC'].map(dict_map04)\n",
    "housing['LandSlope']=housing['LandSlope'].map(dict_map_slope)"
   ]
  },
  {
   "cell_type": "markdown",
   "id": "93c12321-4a00-4327-ad11-b0d55e4454a3",
   "metadata": {},
   "source": [
    "# Sorting Features Into Numerical/Categorical"
   ]
  },
  {
   "cell_type": "code",
   "execution_count": 14,
   "id": "c255581b-b7b0-41e2-8773-b2ef4ae180d3",
   "metadata": {},
   "outputs": [
    {
     "name": "stdout",
     "output_type": "stream",
     "text": [
      "Number of numerical features:  30\n",
      "Numerical\t GrLivArea \t Number of unique values:  1211\n",
      "Numerical\t SalePrice \t Number of unique values:  868\n",
      "Numerical\t LotFrontage \t Number of unique values:  184\n",
      "Numerical\t LotArea \t Number of unique values:  1751\n",
      "Numerical\t YearRemodAdd \t Number of unique values:  61\n",
      "Numerical\t MasVnrArea \t Number of unique values:  414\n",
      "Numerical\t BsmtFinSF1 \t Number of unique values:  925\n",
      "Numerical\t BsmtFinSF2 \t Number of unique values:  264\n",
      "Numerical\t BsmtUnfSF \t Number of unique values:  1059\n",
      "Numerical\t TotalBsmtSF \t Number of unique values:  987\n",
      "Numerical\t 1stFlrSF \t Number of unique values:  1024\n",
      "Numerical\t 2ndFlrSF \t Number of unique values:  590\n",
      "Numerical\t LowQualFinSF \t Number of unique values:  30\n",
      "Numerical\t GarageYrBlt \t Number of unique values:  107\n",
      "Numerical\t GarageArea \t Number of unique values:  572\n",
      "Numerical\t WoodDeckSF \t Number of unique values:  372\n",
      "Numerical\t OpenPorchSF \t Number of unique values:  238\n",
      "Numerical\t EnclosedPorch \t Number of unique values:  170\n",
      "Numerical\t 3SsnPorch \t Number of unique values:  29\n",
      "Numerical\t ScreenPorch \t Number of unique values:  113\n",
      "Numerical\t PoolArea \t Number of unique values:  10\n",
      "Numerical\t MiscVal \t Number of unique values:  34\n",
      "Numerical\t YrSold \t Number of unique values:  5\n",
      "Numerical\t latitude \t Number of unique values:  2455\n",
      "Numerical\t longitude \t Number of unique values:  2440\n",
      "Numerical\t DistanceToISU \t Number of unique values:  2458\n",
      "Numerical\t YearsSinceRemod \t Number of unique values:  115\n",
      "Numerical\t Age \t Number of unique values:  127\n",
      "Numerical\t TotalSF \t Number of unique values:  1386\n",
      "Numerical\t DateSold \t Number of unique values:  55\n",
      "Number of ordinal features:  21\n",
      "Categorical, ordinal\t\t LandSlope [3 2 1]\n",
      "Categorical, ordinal\t\t OverallQual [ 6  5  4  8  7  3 10  9  2  1]\n",
      "Categorical, ordinal\t\t OverallCond [6 5 9 8 4 3 7 1 2]\n",
      "Categorical, ordinal\t\t ExterQual [3 4 2 5]\n",
      "Categorical, ordinal\t\t ExterCond [3 4 2 5 1]\n",
      "Categorical, ordinal\t\t BsmtQual [ 3.  4.  2. nan  5.  1.]\n",
      "Categorical, ordinal\t\t BsmtCond [ 3. nan  2.  4.  5.  1.]\n",
      "Categorical, ordinal\t\t HeatingQC [3 5 4 2 1]\n",
      "Categorical, ordinal\t\t BedroomAbvGr [2 3 4 1 6 5 0]\n",
      "Categorical, ordinal\t\t KitchenAbvGr [1 2 0 3]\n",
      "Categorical, ordinal\t\t KitchenQual [3 4 5 2 1]\n",
      "Categorical, ordinal\t\t Fireplaces [1 0 2 3 4]\n",
      "Categorical, ordinal\t\t FireplaceQu [ 4. nan  5.  3.  2.  1.]\n",
      "Categorical, ordinal\t\t GarageCars [2. 1. 0. 4. 3. 5.]\n",
      "Categorical, ordinal\t\t GarageQual [ 3. nan  2.  4.  1.  5.]\n",
      "Categorical, ordinal\t\t GarageCond [ 3.  1. nan  2.  4.  5.]\n",
      "Categorical, ordinal\t\t PoolQC [nan  4.  3.  1.  2.]\n",
      "Categorical, ordinal\t\t DistanceCategory [1 2 3 4]\n",
      "Categorical, ordinal\t\t BsmtBath [1.  0.  0.5 2.  3.  1.5]\n",
      "Categorical, ordinal\t\t Bath [1.  2.  2.5 3.  1.5 3.5 0.5 5.  0. ]\n",
      "Categorical, ordinal\t\t MiscRmsAbvGrd [1 2 3 4 0 5 6 8 7]\n",
      "Number of nominal features:  34\n",
      "Categorical, nom\t\t MSSubClass ['B' 'L' 'G' 'F' 'J' 'A' 'O' 'I' 'N' 'E' 'K' 'H' 'D' 'P' 'C' 'M']\n",
      "Categorical, nom\t\t MSZoning ['RL' 'C (all)' 'RM' 'FV' 'RH' 'I (all)' 'A (agr)']\n",
      "Categorical, nom\t\t Street ['Pave' 'Grvl']\n",
      "Categorical, nom\t\t Alley [nan 'Pave' 'Grvl']\n",
      "Categorical, nom\t\t LotShape ['Reg' 'IR1' 'IR3' 'IR2']\n",
      "Categorical, nom\t\t LandContour ['Lvl' 'Bnk' 'HLS' 'Low']\n",
      "Categorical, nom\t\t LotConfig ['Corner' 'Inside' 'FR2' 'CulDSac' 'FR3']\n",
      "Categorical, nom\t\t Neighborhood ['SWISU' 'Edwards' 'IDOTRR' 'OldTown' 'NWAmes' 'Blmngtn' 'Mitchel'\n",
      " 'NridgHt' 'NAmes' 'CollgCr' 'SawyerW' 'MeadowV' 'BrDale' 'Gilbert'\n",
      " 'Timber' 'Somerst' 'BrkSide' 'NoRidge' 'Sawyer' 'Crawfor' 'Greens'\n",
      " 'ClearCr' 'GrnHill' 'StoneBr' 'Veenker' 'NPkVill' 'Blueste' 'Landmrk']\n",
      "Categorical, nom\t\t Condition1 ['Norm' 'RRAn' 'PosN' 'Artery' 'RRAe' 'Feedr' 'PosA' 'RRNn' 'RRNe']\n",
      "Categorical, nom\t\t Condition2 ['Norm' 'PosN' 'Feedr' 'Artery' 'PosA' 'RRNn' 'RRAn' 'RRAe']\n",
      "Categorical, nom\t\t BldgType ['1Fam' 'TwnhsE' '2fmCon' 'Twnhs' 'Duplex']\n",
      "Categorical, nom\t\t HouseStyle ['1Story' '2Story' 'SFoyer' 'SLvl' '1.5Fin' '2.5Unf' '1.5Unf' '2.5Fin']\n",
      "Categorical, nom\t\t RoofStyle ['Gable' 'Hip' 'Mansard' 'Gambrel' 'Flat' 'Shed']\n",
      "Categorical, nom\t\t RoofMatl ['CompShg' 'Tar&Grv' 'WdShake' 'WdShngl' 'Metal' 'Roll' 'Membran']\n",
      "Categorical, nom\t\t Exterior1st ['Wd Sdng' 'HdBoard' 'MetalSd' 'VinylSd' 'WdShing' 'Plywood' 'Stucco'\n",
      " 'CemntBd' 'BrkFace' 'AsbShng' 'BrkComm' 'ImStucc' 'AsphShn' 'CBlock'\n",
      " 'PreCast']\n",
      "Categorical, nom\t\t Exterior2nd ['Wd Sdng' 'HdBoard' 'MetalSd' 'VinylSd' 'Wd Shng' 'Plywood' 'Stucco'\n",
      " 'CmentBd' 'AsbShng' 'ImStucc' 'BrkFace' 'Brk Cmn' 'CBlock' 'AsphShn'\n",
      " 'Stone' 'PreCast']\n",
      "Categorical, nom\t\t MasVnrType ['None' 'BrkFace' 'Stone' 'BrkCmn']\n",
      "Categorical, nom\t\t Foundation ['CBlock' 'BrkTil' 'PConc' 'Slab' 'Stone' 'Wood']\n",
      "Categorical, nom\t\t BsmtExposure ['No' 'Mn' nan 'Gd' 'Av']\n",
      "Categorical, nom\t\t BsmtFinType1 ['Rec' 'GLQ' 'ALQ' 'Unf' nan 'BLQ' 'LwQ']\n",
      "Categorical, nom\t\t BsmtFinType2 ['Unf' 'ALQ' nan 'GLQ' 'BLQ' 'LwQ' 'Rec']\n",
      "Categorical, nom\t\t Heating ['GasA' 'GasW' 'Grav' 'Wall' 'OthW' 'Floor']\n",
      "Categorical, nom\t\t CentralAir ['Y' 'N']\n",
      "Categorical, nom\t\t Electrical ['SBrkr' 'FuseF' 'FuseA' 'FuseP']\n",
      "Categorical, nom\t\t Functional ['Typ' 'Min2' 'Min1' 'Mod' 'Sal' 'Maj1' 'Maj2']\n",
      "Categorical, nom\t\t GarageType ['Detchd' 'Attchd' 'BuiltIn' 'Basment' nan '2Types' 'CarPort']\n",
      "Categorical, nom\t\t GarageFinish ['Unf' 'Fin' 'RFn' nan]\n",
      "Categorical, nom\t\t PavedDrive ['Y' 'N' 'P']\n",
      "Categorical, nom\t\t Fence [nan 'GdWo' 'MnPrv' 'GdPrv' 'MnWw']\n",
      "Categorical, nom\t\t MiscFeature [nan 'Shed' 'Othr' 'Gar2' 'TenC']\n",
      "Categorical, nom\t\t MoSold [ 3  2 11  5  7  4 12 10  1  9  8  6]\n",
      "Categorical, nom\t\t SaleType ['WD ' 'ConLD' 'New' 'Oth' 'ConLw' 'COD' 'CWD' 'Con' 'ConLI' 'VWD']\n",
      "Categorical, nom\t\t SaleCondition ['Normal' 'Partial' 'AdjLand' 'Abnorml' 'Alloca' 'Family']\n",
      "Categorical, nom\t\t MA_Zip1 ['50010' '50014' 'other']\n",
      "Total number of features:  85\n"
     ]
    }
   ],
   "source": [
    "# Loop through each feature and examine datatype\n",
    "numerical_features = []\n",
    "cat_ord_features = [] #ordinal features, can be ranked from hi to lo\n",
    "cat_nom_features = [] #nominal features, cannot be ranked\n",
    "\n",
    "for i, feature in enumerate(housing.columns):\n",
    "    if feature=='PoolArea' or feature=='DateSold' or feature=='YrSold':\n",
    "        numerical_features.append(feature)\n",
    "    elif feature=='MSSubClass' or feature=='MoSold':\n",
    "        cat_nom_features.append(feature)\n",
    "    elif feature=='LandSlope':\n",
    "        cat_ord_features.append(feature)\n",
    "    elif housing[feature].dtype=='object':\n",
    "        cat_nom_features.append(feature)\n",
    "    else:\n",
    "        if len(housing[feature].unique()) < 20:\n",
    "            cat_ord_features.append(feature)\n",
    "        else:\n",
    "            numerical_features.append(feature)\n",
    "\n",
    "print(\"Number of numerical features: \", len(numerical_features))\n",
    "for i, feature in enumerate(housing[numerical_features].columns):\n",
    "    print(\"Numerical\\t\", feature, \"\\t Number of unique values: \", len(housing[feature].unique()))\n",
    "\n",
    "print(\"Number of ordinal features: \", len(cat_ord_features))\n",
    "for i, feature in enumerate(housing[cat_ord_features].columns):\n",
    "    print(\"Categorical, ordinal\\t\\t\", feature, housing[feature].unique())\n",
    "\n",
    "print(\"Number of nominal features: \", len(cat_nom_features))\n",
    "for i, feature in enumerate(housing[cat_nom_features].columns):\n",
    "    print(\"Categorical, nom\\t\\t\", feature, housing[feature].unique())\n",
    "\n",
    "tot=len(numerical_features)+len(cat_ord_features)+len(cat_nom_features)\n",
    "print(\"Total number of features: \", tot)"
   ]
  },
  {
   "cell_type": "code",
   "execution_count": 15,
   "id": "9d6282e0-23cb-4796-81eb-c7bb795c86dd",
   "metadata": {},
   "outputs": [],
   "source": [
    "#numerical_features\n",
    "#cat_ord_features\n",
    "#cat_nom_features"
   ]
  },
  {
   "cell_type": "code",
   "execution_count": 16,
   "id": "88642940-ad70-493b-8784-cfd777b537d5",
   "metadata": {},
   "outputs": [],
   "source": [
    "housing.to_csv('data/housing_with_cats.csv', index=False)"
   ]
  },
  {
   "cell_type": "code",
   "execution_count": 17,
   "id": "10698aa5-0159-4cb2-a20c-b232f36988c6",
   "metadata": {},
   "outputs": [],
   "source": [
    "# this is manual label encoding, there is a function in sklearn to do this\n",
    "# LabelEncoder()\n",
    "df_numerical = housing.copy()\n",
    "for feature in cat_nom_features:\n",
    "    col_map = {}\n",
    "    for i in range(len(df_numerical[feature].unique())):\n",
    "        col_map[list(df_numerical[feature].unique())[i]] = i+1\n",
    "    df_numerical[feature] = df_numerical[feature].map(col_map)\n"
   ]
  },
  {
   "cell_type": "code",
   "execution_count": 18,
   "id": "9ea37c39-b52d-45e5-9396-e78f26eba3cb",
   "metadata": {},
   "outputs": [],
   "source": [
    "df_numerical.to_csv('data/housing_numerical.csv', index=False)"
   ]
  },
  {
   "cell_type": "code",
   "execution_count": null,
   "id": "dbca6dce-11c7-4988-bf56-a71d013779b7",
   "metadata": {},
   "outputs": [],
   "source": []
  }
 ],
 "metadata": {
  "kernelspec": {
   "display_name": "Python 3 (ipykernel)",
   "language": "python",
   "name": "python3"
  },
  "language_info": {
   "codemirror_mode": {
    "name": "ipython",
    "version": 3
   },
   "file_extension": ".py",
   "mimetype": "text/x-python",
   "name": "python",
   "nbconvert_exporter": "python",
   "pygments_lexer": "ipython3",
   "version": "3.12.0"
  }
 },
 "nbformat": 4,
 "nbformat_minor": 5
}
