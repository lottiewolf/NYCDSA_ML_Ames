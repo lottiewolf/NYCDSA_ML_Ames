{
 "cells": [
  {
   "cell_type": "markdown",
   "id": "b8e3a137-63e3-431d-aedd-725570e49b14",
   "metadata": {},
   "source": [
    "# The Ames Housing Dataset"
   ]
  },
  {
   "cell_type": "markdown",
   "id": "d4a9623d-5ac7-4590-90a1-1a230bca98fb",
   "metadata": {},
   "source": [
    "The Ames Housing Dataset has data for 2580 house sales, there are 81 descriptive variables for each house. "
   ]
  },
  {
   "cell_type": "code",
   "execution_count": 55,
   "id": "e453b943-c982-4fa1-9631-8da80f3e3fa6",
   "metadata": {},
   "outputs": [],
   "source": [
    "import pandas as pd\n",
    "from datetime import date"
   ]
  },
  {
   "cell_type": "code",
   "execution_count": 56,
   "id": "69360b54-537c-4e8c-9992-a7b3f5353d11",
   "metadata": {},
   "outputs": [],
   "source": [
    "housing = pd.read_csv('data/Ames_HousePrice.csv', index_col=0)"
   ]
  },
  {
   "cell_type": "code",
   "execution_count": 57,
   "id": "92ce1abd-1fdb-428b-b049-540fcd387300",
   "metadata": {},
   "outputs": [
    {
     "data": {
      "text/plain": [
       "Index(['PID', 'GrLivArea', 'SalePrice', 'MSSubClass', 'MSZoning',\n",
       "       'LotFrontage', 'LotArea', 'Street', 'Alley', 'LotShape', 'LandContour',\n",
       "       'Utilities', 'LotConfig', 'LandSlope', 'Neighborhood', 'Condition1',\n",
       "       'Condition2', 'BldgType', 'HouseStyle', 'OverallQual', 'OverallCond',\n",
       "       'YearBuilt', 'YearRemodAdd', 'RoofStyle', 'RoofMatl', 'Exterior1st',\n",
       "       'Exterior2nd', 'MasVnrType', 'MasVnrArea', 'ExterQual', 'ExterCond',\n",
       "       'Foundation', 'BsmtQual', 'BsmtCond', 'BsmtExposure', 'BsmtFinType1',\n",
       "       'BsmtFinSF1', 'BsmtFinType2', 'BsmtFinSF2', 'BsmtUnfSF', 'TotalBsmtSF',\n",
       "       'Heating', 'HeatingQC', 'CentralAir', 'Electrical', '1stFlrSF',\n",
       "       '2ndFlrSF', 'LowQualFinSF', 'BsmtFullBath', 'BsmtHalfBath', 'FullBath',\n",
       "       'HalfBath', 'BedroomAbvGr', 'KitchenAbvGr', 'KitchenQual',\n",
       "       'TotRmsAbvGrd', 'Functional', 'Fireplaces', 'FireplaceQu', 'GarageType',\n",
       "       'GarageYrBlt', 'GarageFinish', 'GarageCars', 'GarageArea', 'GarageQual',\n",
       "       'GarageCond', 'PavedDrive', 'WoodDeckSF', 'OpenPorchSF',\n",
       "       'EnclosedPorch', '3SsnPorch', 'ScreenPorch', 'PoolArea', 'PoolQC',\n",
       "       'Fence', 'MiscFeature', 'MiscVal', 'MoSold', 'YrSold', 'SaleType',\n",
       "       'SaleCondition'],\n",
       "      dtype='object')"
      ]
     },
     "execution_count": 57,
     "metadata": {},
     "output_type": "execute_result"
    }
   ],
   "source": [
    "#housing.count()\n",
    "housing.columns"
   ]
  },
  {
   "cell_type": "code",
   "execution_count": 58,
   "id": "3f0b926c-cd2f-4009-88c0-96c868cb3caf",
   "metadata": {},
   "outputs": [],
   "source": [
    "#housing.info()\n",
    "#housing.describe()\n",
    "#housing.head()"
   ]
  },
  {
   "cell_type": "markdown",
   "id": "cba9a88e-c194-411c-ba52-5131472c34f0",
   "metadata": {},
   "source": [
    "# Handling Missing or Duplicate Data"
   ]
  },
  {
   "cell_type": "code",
   "execution_count": 59,
   "id": "cd1b88d8-6a3e-4b54-91cd-c03abb1df8a7",
   "metadata": {},
   "outputs": [
    {
     "name": "stdout",
     "output_type": "stream",
     "text": [
      "2579\n",
      "2580\n",
      "         PID  GrLivArea  SalePrice  MSSubClass MSZoning  LotFrontage  LotArea  \\\n",
      "1  909276070       1717     194000          50       RL         80.0    12400   \n",
      "\n",
      "  Street Alley LotShape  ... ScreenPorch PoolArea PoolQC Fence MiscFeature  \\\n",
      "1   Pave   NaN      Reg  ...         113        0    NaN   NaN         NaN   \n",
      "\n",
      "  MiscVal MoSold YrSold SaleType  SaleCondition  \n",
      "1       0      2   2006      WD          Normal  \n",
      "\n",
      "[1 rows x 81 columns]\n",
      "2579\n"
     ]
    }
   ],
   "source": [
    "#drop this duplicate\n",
    "print(len(housing.PID.unique()))\n",
    "print(len(housing))\n",
    "\n",
    "duplicates = housing.duplicated()\n",
    "print(housing[duplicates])\n",
    "housing = housing.drop_duplicates()\n",
    "\n",
    "print(len(housing))"
   ]
  },
  {
   "cell_type": "markdown",
   "id": "5710a892-3251-4f2c-b19f-086d79089a72",
   "metadata": {},
   "source": [
    "Here we look at variables that need to be removed because of missing values."
   ]
  },
  {
   "cell_type": "code",
   "execution_count": 60,
   "id": "f008381e-fe0e-4676-b50f-33a648e177d2",
   "metadata": {},
   "outputs": [
    {
     "data": {
      "text/plain": [
       "PoolQC          2570\n",
       "MiscFeature     2482\n",
       "Alley           2411\n",
       "Fence           2054\n",
       "FireplaceQu     1241\n",
       "LotFrontage      462\n",
       "GarageCond       129\n",
       "GarageQual       129\n",
       "GarageFinish     129\n",
       "GarageYrBlt      129\n",
       "GarageType       127\n",
       "BsmtExposure      71\n",
       "BsmtFinType2      70\n",
       "BsmtFinType1      69\n",
       "BsmtQual          69\n",
       "BsmtCond          69\n",
       "MasVnrArea        14\n",
       "MasVnrType        14\n",
       "BsmtHalfBath       2\n",
       "BsmtFullBath       2\n",
       "TotalBsmtSF        1\n",
       "BsmtUnfSF          1\n",
       "GarageCars         1\n",
       "GarageArea         1\n",
       "BsmtFinSF2         1\n",
       "BsmtFinSF1         1\n",
       "Electrical         1\n",
       "dtype: int64"
      ]
     },
     "execution_count": 60,
     "metadata": {},
     "output_type": "execute_result"
    }
   ],
   "source": [
    "missing_values=housing.isna().sum()\n",
    "missing_values_features=missing_values[missing_values>0].sort_values(ascending=False)\n",
    "missing_values_features\n",
    "#missing_values_features.plot(kind='bar', figsize=(10,6))"
   ]
  },
  {
   "cell_type": "markdown",
   "id": "3e0bb9f7-07ec-48c3-a739-1f38e7880921",
   "metadata": {},
   "source": [
    "Here we see that PoolQC, MiscFeature, Alley, and Fence all have mostly missing values, so drop them from the housing dataset. Now there are 77  features."
   ]
  },
  {
   "cell_type": "code",
   "execution_count": 61,
   "id": "66bf1e55-ccd8-4cc1-8f9d-cabe1158e571",
   "metadata": {},
   "outputs": [],
   "source": [
    "housing=housing.drop(columns=['PoolQC', 'MiscFeature', 'Alley', 'Fence'])"
   ]
  },
  {
   "cell_type": "markdown",
   "id": "e38d42b9-140d-4726-b0f5-edad176c89fa",
   "metadata": {},
   "source": [
    "# Adding Features"
   ]
  },
  {
   "cell_type": "code",
   "execution_count": 62,
   "id": "d20b0b72-3b48-4d91-a88c-0ae0959490be",
   "metadata": {},
   "outputs": [],
   "source": [
    "# Calculate the YearsSinceRemod column\n",
    "housing['YearsSinceRemod'] = housing['YearRemodAdd'] - housing['YearBuilt']"
   ]
  },
  {
   "cell_type": "code",
   "execution_count": 63,
   "id": "222b1502-cbfb-46e6-b4a4-23cd304e5c36",
   "metadata": {},
   "outputs": [],
   "source": [
    "# Create the 'TotalSF' column by summing the values in the SF columns\n",
    "sf_columns = [col for col in housing.columns if 'SF' in col]\n",
    "housing['TotalSF'] = housing[sf_columns].sum(axis=1)"
   ]
  },
  {
   "cell_type": "code",
   "execution_count": 64,
   "id": "363c603c-8930-4fe7-b38d-cea1de57ef40",
   "metadata": {},
   "outputs": [],
   "source": [
    "housing['PricePerSF'] = housing['SalePrice'] / housing['GrLivArea']"
   ]
  },
  {
   "cell_type": "code",
   "execution_count": 67,
   "id": "7d27fba1-4301-4016-8c90-a8640bb796ec",
   "metadata": {},
   "outputs": [],
   "source": [
    "date_sold = list(zip(housing['YrSold'], housing['MoSold']))\n",
    "housing['DateSold'] = [date(y,m,15) for y,m in date_sold]"
   ]
  },
  {
   "cell_type": "markdown",
   "id": "503cf6a7-7bcb-4c8e-a6b1-efd30d49a88e",
   "metadata": {},
   "source": [
    "# Filling Missing Data"
   ]
  },
  {
   "cell_type": "markdown",
   "id": "5a02a0a2-4afe-4404-a53d-324973c4ae1d",
   "metadata": {},
   "source": [
    "Fill NaN with 'None' for categorical columns, and fill NaN with 0 for numerical features."
   ]
  },
  {
   "cell_type": "code",
   "execution_count": 68,
   "id": "da39e443-3c21-4682-9a1f-e328c9a6b930",
   "metadata": {},
   "outputs": [],
   "source": [
    "# Loop through each feature and examine\n",
    "for i, feature in enumerate(housing.columns):\n",
    "    if housing[feature].dtype=='object':\n",
    "        housing[feature]=housing[feature].fillna('None')\n",
    "        #print(i,feature,housing[feature].unique())\n",
    "        #print(i)\n",
    "    else:\n",
    "        housing[feature] = housing[feature].fillna(0)\n",
    "        #print(housing[feature].describe())\n",
    "        #print(i)\n"
   ]
  },
  {
   "cell_type": "markdown",
   "id": "b2c67fd9-b644-46bd-8cfd-06a36d9b43b1",
   "metadata": {},
   "source": [
    "Notes on Categorical variables"
   ]
  },
  {
   "cell_type": "code",
   "execution_count": 69,
   "id": "93804e59-708d-4d22-b95a-68b845c00483",
   "metadata": {},
   "outputs": [],
   "source": [
    "#The first \"object\" encountered was MSZoning\n",
    "# possibly drop I, C, A (industrial, commercial, agri)\n",
    "# https://www.zoneomics.com/zoning-maps/iowa/ames\n",
    "\n",
    "#Condition1 and Condition2 have the same type data, are they identical for all houses?\n",
    "#Same with: Exterior1st, Exterior2nd + ExterQual, ExterCond + BsmtQual, BsmtCond + BsmtFinType1, BsmtFinType2 + GarageQual,Cond\n"
   ]
  },
  {
   "cell_type": "code",
   "execution_count": 70,
   "id": "9ea37c39-b52d-45e5-9396-e78f26eba3cb",
   "metadata": {},
   "outputs": [],
   "source": [
    "housing.to_csv('data/housing_final.csv', index=False)"
   ]
  },
  {
   "cell_type": "code",
   "execution_count": null,
   "id": "6a513e5c-99a7-422f-857c-446b2168bdcb",
   "metadata": {},
   "outputs": [],
   "source": []
  }
 ],
 "metadata": {
  "kernelspec": {
   "display_name": "Python 3 (ipykernel)",
   "language": "python",
   "name": "python3"
  },
  "language_info": {
   "codemirror_mode": {
    "name": "ipython",
    "version": 3
   },
   "file_extension": ".py",
   "mimetype": "text/x-python",
   "name": "python",
   "nbconvert_exporter": "python",
   "pygments_lexer": "ipython3",
   "version": "3.12.0"
  }
 },
 "nbformat": 4,
 "nbformat_minor": 5
}
