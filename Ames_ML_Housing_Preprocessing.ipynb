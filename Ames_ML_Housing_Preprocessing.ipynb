{
 "cells": [
  {
   "cell_type": "markdown",
   "id": "b8e3a137-63e3-431d-aedd-725570e49b14",
   "metadata": {},
   "source": [
    "# The Ames Housing Dataset"
   ]
  },
  {
   "cell_type": "markdown",
   "id": "d4a9623d-5ac7-4590-90a1-1a230bca98fb",
   "metadata": {},
   "source": [
    "The Ames Housing Dataset(the file Ames_HousePrice) has data for 2580 house sales, there are 81 descriptive variables for each house. We load the 'ames final' file, which is merged with the Real Estate file, gaining 7 new variables for lat, long, distance, etc."
   ]
  },
  {
   "cell_type": "code",
   "execution_count": 35,
   "id": "e453b943-c982-4fa1-9631-8da80f3e3fa6",
   "metadata": {},
   "outputs": [],
   "source": [
    "import pandas as pd\n",
    "from datetime import date"
   ]
  },
  {
   "cell_type": "code",
   "execution_count": 36,
   "id": "69360b54-537c-4e8c-9992-a7b3f5353d11",
   "metadata": {},
   "outputs": [],
   "source": [
    "housing = pd.read_csv('data/ames_final.csv')"
   ]
  },
  {
   "cell_type": "code",
   "execution_count": 37,
   "id": "92ce1abd-1fdb-428b-b049-540fcd387300",
   "metadata": {},
   "outputs": [
    {
     "name": "stdout",
     "output_type": "stream",
     "text": [
      "Number of houses:  2579\n",
      "Number of features in dataset:  86\n"
     ]
    }
   ],
   "source": [
    "print(\"Number of houses: \", housing['SalePrice'].count())\n",
    "print(\"Number of features in dataset: \", len(housing.columns))\n",
    "#print(\"Columns in dataset: \", housing.columns)"
   ]
  },
  {
   "cell_type": "markdown",
   "id": "5710a892-3251-4f2c-b19f-086d79089a72",
   "metadata": {},
   "source": [
    "# Handling Missing Data"
   ]
  },
  {
   "cell_type": "code",
   "execution_count": 38,
   "id": "cd1b88d8-6a3e-4b54-91cd-c03abb1df8a7",
   "metadata": {},
   "outputs": [],
   "source": [
    "# Handling these duplicates is no longer necessary, \n",
    "#   its done in the real estate preprocessing\n",
    "\n",
    "#drop these duplicates\n",
    "#print(len(housing.PID.unique()))\n",
    "#print(len(housing))\n",
    "\n",
    "#duplicates = housing.duplicated()\n",
    "#print(\"Number of duplicates: \", len(housing[duplicates]))\n",
    "#housing = housing.drop_duplicates()\n",
    "\n",
    "#print(len(housing))"
   ]
  },
  {
   "cell_type": "code",
   "execution_count": 39,
   "id": "f008381e-fe0e-4676-b50f-33a648e177d2",
   "metadata": {},
   "outputs": [
    {
     "data": {
      "text/plain": [
       "PoolQC           2570\n",
       "MiscFeature      2482\n",
       "Alley            2411\n",
       "Fence            2054\n",
       "FireplaceQu      1241\n",
       "LotFrontage       462\n",
       "GarageFinish      129\n",
       "GarageCond        129\n",
       "GarageQual        129\n",
       "GarageYrBlt       129\n",
       "GarageType        127\n",
       "longitude          82\n",
       "latitude           82\n",
       "DistanceToISU      82\n",
       "BsmtExposure       71\n",
       "BsmtFinType2       70\n",
       "BsmtQual           69\n",
       "BsmtCond           69\n",
       "BsmtFinType1       69\n",
       "MA_Zip1            22\n",
       "Prop_Addr          20\n",
       "MasVnrType         14\n",
       "MasVnrArea         14\n",
       "BsmtFullBath        2\n",
       "BsmtHalfBath        2\n",
       "BsmtUnfSF           1\n",
       "GarageArea          1\n",
       "GarageCars          1\n",
       "TotalBsmtSF         1\n",
       "Electrical          1\n",
       "BsmtFinSF1          1\n",
       "BsmtFinSF2          1\n",
       "dtype: int64"
      ]
     },
     "execution_count": 39,
     "metadata": {},
     "output_type": "execute_result"
    }
   ],
   "source": [
    "# Here we look at variables that need to be removed because of missing values.\n",
    "# For now, we will leave all of these in, to see if they add value to the model\n",
    "\n",
    "missing_values=housing.isna().sum()\n",
    "missing_values_features=missing_values[missing_values>0].sort_values(ascending=False)\n",
    "missing_values_features\n",
    "#missing_values_features.plot(kind='bar', figsize=(10,6))"
   ]
  },
  {
   "cell_type": "code",
   "execution_count": 40,
   "id": "66bf1e55-ccd8-4cc1-8f9d-cabe1158e571",
   "metadata": {},
   "outputs": [],
   "source": [
    "#Here we see that PoolQC, MiscFeature, Alley, and Fence \n",
    "#  all have mostly missing values, so drop them from the housing dataset. Now there are 77  features.\n",
    "#For now, we leave them in to explore the model. \n",
    "#housing=housing.drop(columns=['PoolQC', 'MiscFeature', 'Alley', 'Fence'])"
   ]
  },
  {
   "cell_type": "code",
   "execution_count": 41,
   "id": "3f0b926c-cd2f-4009-88c0-96c868cb3caf",
   "metadata": {},
   "outputs": [],
   "source": [
    "#housing.info()\n",
    "#housing.describe()\n",
    "#housing.head()"
   ]
  },
  {
   "cell_type": "markdown",
   "id": "503cf6a7-7bcb-4c8e-a6b1-efd30d49a88e",
   "metadata": {},
   "source": [
    "# Filling Missing Data"
   ]
  },
  {
   "cell_type": "code",
   "execution_count": 42,
   "id": "da39e443-3c21-4682-9a1f-e328c9a6b930",
   "metadata": {},
   "outputs": [],
   "source": [
    "# Fill NaN with 'None' for categorical columns, and fill NaN with 0 for numerical features.\n",
    "# Loop through each feature and examine\n",
    "for i, feature in enumerate(housing.columns):\n",
    "    if housing[feature].dtype=='object':\n",
    "        housing[feature]=housing[feature].fillna('None')\n",
    "        #print(i,feature,housing[feature].unique())\n",
    "        #print(i)\n",
    "    else:\n",
    "        housing[feature] = housing[feature].fillna(0)\n",
    "        #print(housing[feature].describe())\n",
    "        #print(i)\n"
   ]
  },
  {
   "cell_type": "code",
   "execution_count": 43,
   "id": "93804e59-708d-4d22-b95a-68b845c00483",
   "metadata": {},
   "outputs": [
    {
     "name": "stdout",
     "output_type": "stream",
     "text": [
      "['RL' 'RM' 'FV' 'RH']\n",
      "2559\n"
     ]
    }
   ],
   "source": [
    "# Drop I, C, A (industrial, commercial, agri)\n",
    "# Found 1 row with A, 17 with C, 2 with I\n",
    "# https://www.zoneomics.com/zoning-maps/iowa/ames\n",
    "\n",
    "#print(housing.groupby('MSZoning').count())\n",
    "\n",
    "housing = housing[housing['MSZoning'].isin(['FV','RH','RL','RM'])]\n",
    "\n",
    "print(housing['MSZoning'].unique())\n",
    "print(housing['MSZoning'].count())"
   ]
  },
  {
   "cell_type": "markdown",
   "id": "e38d42b9-140d-4726-b0f5-edad176c89fa",
   "metadata": {},
   "source": [
    "# Adding Features"
   ]
  },
  {
   "cell_type": "code",
   "execution_count": 44,
   "id": "d20b0b72-3b48-4d91-a88c-0ae0959490be",
   "metadata": {},
   "outputs": [],
   "source": [
    "# Calculate the YearsSinceRemod column\n",
    "housing['YearsSinceRemod'] = housing['YearRemodAdd'] - housing['YearBuilt']\n",
    "\n",
    "# Create the 'TotalSF' column by summing the values in the SF columns\n",
    "#sf_columns = [col for col in housing.columns if 'SF' in col]\n",
    "sf_columns = ['TotalBsmtSF', '1stFlrSF', '2ndFlrSF', 'LowQualFinSF']\n",
    "housing['TotalSF'] = housing[sf_columns].sum(axis=1)\n",
    "\n",
    "#This feature causes data leakage if included in the modeling step\n",
    "#housing['PricePerSF'] = housing['SalePrice'] / housing['GrLivArea']\n",
    "\n",
    "date_sold = list(zip(housing['YrSold'], housing['MoSold']))\n",
    "housing['DateSold'] = [date(y,m,15) for y,m in date_sold]"
   ]
  },
  {
   "cell_type": "markdown",
   "id": "9197e4c9-2ec4-4052-9061-c4dd61ef3d5f",
   "metadata": {},
   "source": [
    "# Mapping Data for Ordinal Categorical Values"
   ]
  },
  {
   "cell_type": "code",
   "execution_count": 45,
   "id": "9910e5f4-d14c-4162-ab8d-b29be2cf764f",
   "metadata": {},
   "outputs": [],
   "source": [
    "dict_map5 = {'Po': 1, 'Fa': 2, 'TA': 3, 'Gd': 4, 'Ex': 5}\n",
    "dict_map05 = {'None': 0, 'Po': 1, 'Fa': 2, 'TA': 3, 'Gd': 4, 'Ex': 5}\n",
    "dict_map04 = {'None': 0, 'Fa': 1, 'TA': 2, 'Gd': 3, 'Ex': 4}\n",
    "dict_map_slope = {'Sev': 1, 'Mod': 2, 'Gtl': 3}\n",
    "housing['ExterQual']=housing['ExterQual'].map(dict_map5)\n",
    "housing['ExterCond']=housing['ExterCond'].map(dict_map5)\n",
    "housing['BsmtQual']=housing['BsmtQual'].map(dict_map05)\n",
    "housing['BsmtCond']=housing['BsmtCond'].map(dict_map05)\n",
    "housing['HeatingQC']=housing['HeatingQC'].map(dict_map5)\n",
    "housing['KitchenQual']=housing['KitchenQual'].map(dict_map5)\n",
    "housing['FireplaceQu']=housing['FireplaceQu'].map(dict_map05)\n",
    "housing['GarageQual']=housing['GarageQual'].map(dict_map05)\n",
    "housing['GarageCond']=housing['GarageCond'].map(dict_map05)\n",
    "housing['PoolQC']=housing['PoolQC'].map(dict_map04)\n",
    "housing['LandSlope']=housing['LandSlope'].map(dict_map_slope)"
   ]
  },
  {
   "cell_type": "markdown",
   "id": "93c12321-4a00-4327-ad11-b0d55e4454a3",
   "metadata": {},
   "source": [
    "# Sorting Features Into Numerical/Categorical"
   ]
  },
  {
   "cell_type": "code",
   "execution_count": 46,
   "id": "c255581b-b7b0-41e2-8773-b2ef4ae180d3",
   "metadata": {},
   "outputs": [
    {
     "name": "stdout",
     "output_type": "stream",
     "text": [
      "Number of numerical features:  27\n",
      "Numerical\t GrLivArea \t Number of unique values:  1209\n",
      "Numerical\t SalePrice \t Number of unique values:  861\n",
      "Numerical\t LotFrontage \t Number of unique values:  127\n",
      "Numerical\t LotArea \t Number of unique values:  1744\n",
      "Numerical\t YearBuilt \t Number of unique values:  114\n",
      "Numerical\t YearRemodAdd \t Number of unique values:  61\n",
      "Numerical\t MasVnrArea \t Number of unique values:  416\n",
      "Numerical\t BsmtFinSF1 \t Number of unique values:  926\n",
      "Numerical\t BsmtFinSF2 \t Number of unique values:  264\n",
      "Numerical\t BsmtUnfSF \t Number of unique values:  1058\n",
      "Numerical\t TotalBsmtSF \t Number of unique values:  985\n",
      "Numerical\t 1stFlrSF \t Number of unique values:  1022\n",
      "Numerical\t 2ndFlrSF \t Number of unique values:  588\n",
      "Numerical\t LowQualFinSF \t Number of unique values:  30\n",
      "Numerical\t GarageYrBlt \t Number of unique values:  100\n",
      "Numerical\t GarageArea \t Number of unique values:  571\n",
      "Numerical\t WoodDeckSF \t Number of unique values:  371\n",
      "Numerical\t OpenPorchSF \t Number of unique values:  238\n",
      "Numerical\t EnclosedPorch \t Number of unique values:  167\n",
      "Numerical\t 3SsnPorch \t Number of unique values:  28\n",
      "Numerical\t ScreenPorch \t Number of unique values:  112\n",
      "Numerical\t PoolArea \t Number of unique values:  10\n",
      "Numerical\t MiscVal \t Number of unique values:  33\n",
      "Numerical\t DistanceToISU \t Number of unique values:  2443\n",
      "Numerical\t YearsSinceRemod \t Number of unique values:  116\n",
      "Numerical\t TotalSF \t Number of unique values:  1378\n",
      "Numerical\t DateSold \t Number of unique values:  55\n",
      "Number of ordinal features:  23\n",
      "Categorical, ordinal\t\t LandSlope [3 2 1]\n",
      "Categorical, ordinal\t\t OverallQual [ 6  5  4  8  7  3 10  9  2  1]\n",
      "Categorical, ordinal\t\t OverallCond [6 5 8 4 3 7 9 1 2]\n",
      "Categorical, ordinal\t\t ExterQual [3 4 2 5]\n",
      "Categorical, ordinal\t\t ExterCond [3 4 2 5 1]\n",
      "Categorical, ordinal\t\t BsmtQual [3 4 2 0 5]\n",
      "Categorical, ordinal\t\t BsmtCond [3 0 2 4 5 1]\n",
      "Categorical, ordinal\t\t HeatingQC [3 4 5 2 1]\n",
      "Categorical, ordinal\t\t BsmtFullBath [1. 0. 2. 3.]\n",
      "Categorical, ordinal\t\t BsmtHalfBath [0. 1. 2.]\n",
      "Categorical, ordinal\t\t FullBath [1 2 3 0 4]\n",
      "Categorical, ordinal\t\t HalfBath [0 1 2]\n",
      "Categorical, ordinal\t\t BedroomAbvGr [2 3 4 1 6 5 0]\n",
      "Categorical, ordinal\t\t KitchenAbvGr [1 2 0 3]\n",
      "Categorical, ordinal\t\t KitchenQual [3 4 5 2 1]\n",
      "Categorical, ordinal\t\t TotRmsAbvGrd [ 4  5  6  7  8  3  9 12 10 11 13  2]\n",
      "Categorical, ordinal\t\t Fireplaces [1 0 2 3 4]\n",
      "Categorical, ordinal\t\t FireplaceQu [4 0 5 3 2 1]\n",
      "Categorical, ordinal\t\t GarageCars [2. 1. 0. 4. 3. 5.]\n",
      "Categorical, ordinal\t\t GarageQual [3 0 2 4 1 5]\n",
      "Categorical, ordinal\t\t GarageCond [3 0 2 4 1 5]\n",
      "Categorical, ordinal\t\t PoolQC [0 4 3 1 2]\n",
      "Categorical, ordinal\t\t DistanceCategory [1 3 2 4]\n",
      "Number of nominal features:  35\n",
      "Categorical, nom\t\t MSSubClass [ 30 120  70  60  85  20 180  80 160  50  90  75  45  40 190 150]\n",
      "Categorical, nom\t\t MSZoning ['RL' 'RM' 'FV' 'RH']\n",
      "Categorical, nom\t\t Street ['Pave' 'Grvl']\n",
      "Categorical, nom\t\t Alley ['None' 'Pave' 'Grvl']\n",
      "Categorical, nom\t\t LotShape ['Reg' 'IR1' 'IR3' 'IR2']\n",
      "Categorical, nom\t\t LandContour ['Lvl' 'Bnk' 'HLS' 'Low']\n",
      "Categorical, nom\t\t Utilities ['AllPub' 'NoSewr']\n",
      "Categorical, nom\t\t LotConfig ['Corner' 'Inside' 'FR2' 'CulDSac' 'FR3']\n",
      "Categorical, nom\t\t Neighborhood ['SWISU' 'Edwards' 'OldTown' 'NWAmes' 'Blmngtn' 'Mitchel' 'NridgHt'\n",
      " 'NAmes' 'CollgCr' 'SawyerW' 'MeadowV' 'BrDale' 'Gilbert' 'Timber'\n",
      " 'Somerst' 'BrkSide' 'NoRidge' 'Sawyer' 'IDOTRR' 'Crawfor' 'Greens'\n",
      " 'ClearCr' 'GrnHill' 'StoneBr' 'Veenker' 'NPkVill' 'Blueste' 'Landmrk']\n",
      "Categorical, nom\t\t Condition1 ['Norm' 'RRAn' 'PosN' 'Artery' 'RRAe' 'Feedr' 'PosA' 'RRNn' 'RRNe']\n",
      "Categorical, nom\t\t Condition2 ['Norm' 'PosN' 'Feedr' 'Artery' 'PosA' 'RRNn' 'RRAn' 'RRAe']\n",
      "Categorical, nom\t\t BldgType ['1Fam' 'TwnhsE' '2fmCon' 'Twnhs' 'Duplex']\n",
      "Categorical, nom\t\t HouseStyle ['1Story' '2Story' 'SFoyer' 'SLvl' '1.5Fin' '2.5Unf' '1.5Unf' '2.5Fin']\n",
      "Categorical, nom\t\t RoofStyle ['Gable' 'Hip' 'Mansard' 'Gambrel' 'Flat' 'Shed']\n",
      "Categorical, nom\t\t RoofMatl ['CompShg' 'Tar&Grv' 'WdShake' 'WdShngl' 'Metal' 'Roll' 'Membran']\n",
      "Categorical, nom\t\t Exterior1st ['Wd Sdng' 'HdBoard' 'MetalSd' 'VinylSd' 'WdShing' 'Plywood' 'Stucco'\n",
      " 'CemntBd' 'BrkFace' 'AsbShng' 'BrkComm' 'ImStucc' 'AsphShn' 'CBlock'\n",
      " 'PreCast']\n",
      "Categorical, nom\t\t Exterior2nd ['Wd Sdng' 'HdBoard' 'MetalSd' 'VinylSd' 'Wd Shng' 'Plywood' 'Stucco'\n",
      " 'CmentBd' 'AsbShng' 'ImStucc' 'BrkFace' 'Brk Cmn' 'CBlock' 'AsphShn'\n",
      " 'Stone' 'PreCast']\n",
      "Categorical, nom\t\t MasVnrType ['None' 'BrkFace' 'Stone' 'BrkCmn']\n",
      "Categorical, nom\t\t Foundation ['CBlock' 'BrkTil' 'PConc' 'Slab' 'Stone' 'Wood']\n",
      "Categorical, nom\t\t BsmtExposure ['No' 'Mn' 'None' 'Gd' 'Av']\n",
      "Categorical, nom\t\t BsmtFinType1 ['Rec' 'GLQ' 'Unf' 'None' 'ALQ' 'BLQ' 'LwQ']\n",
      "Categorical, nom\t\t BsmtFinType2 ['Unf' 'ALQ' 'None' 'GLQ' 'BLQ' 'LwQ' 'Rec']\n",
      "Categorical, nom\t\t Heating ['GasA' 'GasW' 'Grav' 'Wall' 'OthW' 'Floor']\n",
      "Categorical, nom\t\t CentralAir ['Y' 'N']\n",
      "Categorical, nom\t\t Electrical ['SBrkr' 'FuseF' 'FuseA' 'FuseP' 'None']\n",
      "Categorical, nom\t\t Functional ['Typ' 'Min2' 'Min1' 'Mod' 'Sal' 'Maj1' 'Maj2']\n",
      "Categorical, nom\t\t GarageType ['Detchd' 'Attchd' 'BuiltIn' 'Basment' 'None' '2Types' 'CarPort']\n",
      "Categorical, nom\t\t GarageFinish ['Unf' 'Fin' 'RFn' 'None']\n",
      "Categorical, nom\t\t PavedDrive ['Y' 'N' 'P']\n",
      "Categorical, nom\t\t Fence ['None' 'GdWo' 'MnPrv' 'GdPrv' 'MnWw']\n",
      "Categorical, nom\t\t MiscFeature ['None' 'Shed' 'Othr' 'Gar2' 'TenC']\n",
      "Categorical, nom\t\t MoSold [ 3  2  5 11  7  4 12 10  1  9  8  6]\n",
      "Categorical, nom\t\t YrSold [2010 2009 2008 2007 2006]\n",
      "Categorical, nom\t\t SaleType ['WD ' 'ConLD' 'New' 'Oth' 'ConLw' 'COD' 'CWD' 'Con' 'ConLI' 'VWD']\n",
      "Categorical, nom\t\t SaleCondition ['Normal' 'Partial' 'AdjLand' 'Abnorml' 'Alloca' 'Family']\n",
      "Total number of features:  85\n"
     ]
    }
   ],
   "source": [
    "# Loop through each feature and examine datatype\n",
    "numerical_features = []\n",
    "cat_ord_features = [] #ordinal features, can be ranked from hi to lo\n",
    "cat_nom_features = [] #nominal features, cannot be ranked\n",
    "\n",
    "for i, feature in enumerate(housing.columns):\n",
    "    if feature=='PoolArea' or feature=='DateSold':\n",
    "        numerical_features.append(feature)\n",
    "    elif feature=='MSSubClass' or feature=='MoSold' or feature=='YrSold':\n",
    "        cat_nom_features.append(feature)\n",
    "    elif feature=='LandSlope':\n",
    "        cat_ord_features.append(feature)\n",
    "    elif feature=='MA_Zip1' or feature=='latitude' or feature=='longitude'  or feature=='Prop_Addr':\n",
    "        #do not add to features lists\n",
    "        continue\n",
    "    elif housing[feature].dtype=='object':\n",
    "        cat_nom_features.append(feature)\n",
    "    else:\n",
    "        if len(housing[feature].unique()) < 20:\n",
    "            cat_ord_features.append(feature)\n",
    "        else:\n",
    "            numerical_features.append(feature)\n",
    "\n",
    "print(\"Number of numerical features: \", len(numerical_features))\n",
    "for i, feature in enumerate(housing[numerical_features].columns):\n",
    "    print(\"Numerical\\t\", feature, \"\\t Number of unique values: \", len(housing[feature].unique()))\n",
    "\n",
    "print(\"Number of ordinal features: \", len(cat_ord_features))\n",
    "for i, feature in enumerate(housing[cat_ord_features].columns):\n",
    "    print(\"Categorical, ordinal\\t\\t\", feature, housing[feature].unique())\n",
    "\n",
    "print(\"Number of nominal features: \", len(cat_nom_features))\n",
    "for i, feature in enumerate(housing[cat_nom_features].columns):\n",
    "    print(\"Categorical, nom\\t\\t\", feature, housing[feature].unique())\n",
    "\n",
    "tot=len(numerical_features)+len(cat_ord_features)+len(cat_nom_features)\n",
    "print(\"Total number of features: \", tot)"
   ]
  },
  {
   "cell_type": "code",
   "execution_count": 51,
   "id": "9d6282e0-23cb-4796-81eb-c7bb795c86dd",
   "metadata": {},
   "outputs": [],
   "source": [
    "#numerical_features\n",
    "#cat_ord_features\n",
    "#cat_nom_features"
   ]
  },
  {
   "cell_type": "code",
   "execution_count": 48,
   "id": "9ea37c39-b52d-45e5-9396-e78f26eba3cb",
   "metadata": {},
   "outputs": [],
   "source": [
    "housing.to_csv('data/housing_final.csv', index=False)"
   ]
  },
  {
   "cell_type": "code",
   "execution_count": null,
   "id": "dbca6dce-11c7-4988-bf56-a71d013779b7",
   "metadata": {},
   "outputs": [],
   "source": []
  }
 ],
 "metadata": {
  "kernelspec": {
   "display_name": "Python 3 (ipykernel)",
   "language": "python",
   "name": "python3"
  },
  "language_info": {
   "codemirror_mode": {
    "name": "ipython",
    "version": 3
   },
   "file_extension": ".py",
   "mimetype": "text/x-python",
   "name": "python",
   "nbconvert_exporter": "python",
   "pygments_lexer": "ipython3",
   "version": "3.12.0"
  }
 },
 "nbformat": 4,
 "nbformat_minor": 5
}
